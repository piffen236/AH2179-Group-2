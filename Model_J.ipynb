{
 "cells": [
  {
   "cell_type": "code",
   "execution_count": 1,
   "metadata": {
    "executionInfo": {
     "elapsed": 8,
     "status": "ok",
     "timestamp": 1695900166887,
     "user": {
      "displayName": "Jesper Helen",
      "userId": "11519166014603589782"
     },
     "user_tz": -120
    },
    "id": "l5qgmoH4jl8x"
   },
   "outputs": [
    {
     "name": "stderr",
     "output_type": "stream",
     "text": [
      "/Users/jesperhelen/opt/anaconda3/lib/python3.9/site-packages/scipy/__init__.py:146: UserWarning: A NumPy version >=1.16.5 and <1.23.0 is required for this version of SciPy (detected version 1.24.3\n",
      "  warnings.warn(f\"A NumPy version >={np_minversion} and <{np_maxversion}\"\n"
     ]
    }
   ],
   "source": [
    "import pandas as pd\n",
    "\n",
    "#Plot\n",
    "import numpy as np\n",
    "import matplotlib.pyplot as plt\n",
    "import matplotlib.colors as mcolors\n",
    "import seaborn as sns\n",
    "import calendar\n",
    "import calplot # actually used\n",
    "\n",
    "# Score model\n",
    "from sklearn.metrics import mean_squared_error, mean_absolute_error, r2_score\n",
    "\n",
    "# Model\n",
    "from sklearn.model_selection import train_test_split, cross_val_score,GridSearchCV\n",
    "from sklearn.linear_model import Ridge, LinearRegression\n",
    "from sklearn.feature_selection import RFECV\n",
    "from sklearn.preprocessing import StandardScaler\n",
    "from sklearn.tree import DecisionTreeRegressor\n",
    "from sklearn.ensemble import RandomForestRegressor, GradientBoostingRegressor\n",
    "\n",
    "from xgboost import XGBRegressor\n",
    "\n"
   ]
  },
  {
   "cell_type": "code",
   "execution_count": 2,
   "metadata": {
    "executionInfo": {
     "elapsed": 2397,
     "status": "ok",
     "timestamp": 1695900169277,
     "user": {
      "displayName": "Jesper Helen",
      "userId": "11519166014603589782"
     },
     "user_tz": -120
    },
    "id": "c9f0URlwj--y"
   },
   "outputs": [],
   "source": [
    "url = \"https://raw.githubusercontent.com/zhenliangma/Applied-AI-in-Transportation/main/ProjectAssignmentData/Dataset-PT.csv\"\n",
    "df = pd.read_csv(url,header=1)\n",
    "df['Date'] = pd.to_datetime(df['Calendar_date'], format='%Y%m%d')\n"
   ]
  },
  {
   "cell_type": "code",
   "execution_count": 3,
   "metadata": {
    "colab": {
     "base_uri": "https://localhost:8080/",
     "height": 273
    },
    "executionInfo": {
     "elapsed": 52,
     "status": "ok",
     "timestamp": 1695900169283,
     "user": {
      "displayName": "Jesper Helen",
      "userId": "11519166014603589782"
     },
     "user_tz": -120
    },
    "id": "_EX97hRnkipl",
    "outputId": "febb06f8-e6b4-4f3f-cd73-a37e1eac20d0"
   },
   "outputs": [
    {
     "ename": "NameError",
     "evalue": "name 's' is not defined",
     "output_type": "error",
     "traceback": [
      "\u001b[0;31m---------------------------------------------------------------------------\u001b[0m",
      "\u001b[0;31mNameError\u001b[0m                                 Traceback (most recent call last)",
      "\u001b[0;32m/var/folders/vv/61p1g2195ln_91592fly3yk40000gn/T/ipykernel_25819/2662989991.py\u001b[0m in \u001b[0;36m<module>\u001b[0;34m\u001b[0m\n\u001b[1;32m      3\u001b[0m \u001b[0mdf\u001b[0m\u001b[0;34m.\u001b[0m\u001b[0mhead\u001b[0m\u001b[0;34m(\u001b[0m\u001b[0;36m10\u001b[0m\u001b[0;34m)\u001b[0m\u001b[0;34m\u001b[0m\u001b[0;34m\u001b[0m\u001b[0m\n\u001b[1;32m      4\u001b[0m \u001b[0;34m\u001b[0m\u001b[0m\n\u001b[0;32m----> 5\u001b[0;31m \u001b[0ms\u001b[0m\u001b[0;34m\u001b[0m\u001b[0;34m\u001b[0m\u001b[0m\n\u001b[0m",
      "\u001b[0;31mNameError\u001b[0m: name 's' is not defined"
     ]
    }
   ],
   "source": [
    "pd.set_option('display.max_columns', None)\n",
    "pd.set_option('display.max_rows', None)\n",
    "df.head(10)\n",
    "\n",
    "s"
   ]
  },
  {
   "cell_type": "code",
   "execution_count": null,
   "metadata": {},
   "outputs": [],
   "source": []
  },
  {
   "cell_type": "code",
   "execution_count": null,
   "metadata": {
    "colab": {
     "base_uri": "https://localhost:8080/"
    },
    "executionInfo": {
     "elapsed": 54,
     "status": "ok",
     "timestamp": 1695900169289,
     "user": {
      "displayName": "Jesper Helen",
      "userId": "11519166014603589782"
     },
     "user_tz": -120
    },
    "id": "_EvIoLxmeS5o",
    "outputId": "0c9b2021-5a30-4f0d-a4c6-fe54058d2d0a"
   },
   "outputs": [],
   "source": [
    "# Use the nunique() function to count the number of unique values in the column\n",
    "unique_count = df['bus_id'].nunique()\n",
    "\n",
    "# Print the result\n",
    "print(f\"Number of different numbers in the column: {unique_count}\")\n"
   ]
  },
  {
   "cell_type": "code",
   "execution_count": null,
   "metadata": {
    "colab": {
     "base_uri": "https://localhost:8080/"
    },
    "executionInfo": {
     "elapsed": 53,
     "status": "ok",
     "timestamp": 1695900169293,
     "user": {
      "displayName": "Jesper Helen",
      "userId": "11519166014603589782"
     },
     "user_tz": -120
    },
    "id": "uezHC5XBStC0",
    "outputId": "e0dc62a8-044f-4e12-a172-8706f3f4bfb7"
   },
   "outputs": [],
   "source": [
    "max_delay_row = df[df['arrival_delay'] == df['arrival_delay'].max()]\n",
    "print(max_delay_row)"
   ]
  },
  {
   "cell_type": "code",
   "execution_count": null,
   "metadata": {
    "colab": {
     "base_uri": "https://localhost:8080/"
    },
    "executionInfo": {
     "elapsed": 719,
     "status": "ok",
     "timestamp": 1695900169965,
     "user": {
      "displayName": "Jesper Helen",
      "userId": "11519166014603589782"
     },
     "user_tz": -120
    },
    "id": "uQ3OZDCeWG9v",
    "outputId": "11a2cb01-16ba-48dd-f77a-fab06b0ef060"
   },
   "outputs": [],
   "source": [
    "df.info()"
   ]
  },
  {
   "cell_type": "code",
   "execution_count": null,
   "metadata": {},
   "outputs": [],
   "source": [
    "avg_delays = df.groupby('stop_sequence')['arrival_delay'].mean()\n",
    "\n",
    "# Plotting\n",
    "plt.figure(figsize=(10,6))\n",
    "avg_delays.plot(kind='bar', color=plt.cm.Pastel1.colors, zorder=2)  # using Pastel1 colormap for colors\n",
    "\n",
    "plt.title('Average Arrival Delay by Stop Sequence')\n",
    "plt.xlabel('Stop Sequence')\n",
    "plt.ylabel('Average Arrival Delay (minutes)')\n",
    "plt.xticks(rotation=0)\n",
    "plt.grid(axis='y')\n",
    "\n",
    "plt.tight_layout()\n",
    "plt.show()\n"
   ]
  },
  {
   "cell_type": "code",
   "execution_count": null,
   "metadata": {
    "colab": {
     "base_uri": "https://localhost:8080/",
     "height": 685
    },
    "executionInfo": {
     "elapsed": 3228,
     "status": "ok",
     "timestamp": 1695900173191,
     "user": {
      "displayName": "Jesper Helen",
      "userId": "11519166014603589782"
     },
     "user_tz": -120
    },
    "id": "7zO6rNCgFprg",
    "outputId": "ee138d86-8ff4-4297-dbe7-38d7d69564fd"
   },
   "outputs": [],
   "source": [
    "# Filter the data\n",
    "df_filtered = df[df['arrival_delay'].between(-200, 1000)]\n",
    "\n",
    "plt.figure(figsize=(12, 6))\n",
    "\n",
    "# Violin plot\n",
    "sns.violinplot(data=df_filtered, x='time_of_day', y='arrival_delay', hue='day_of_week', order=['OP', 'MP', 'AP'], hue_order=['weekday', 'weekend'], split=True, inner=None, palette=\"pastel\")\n",
    "\n",
    "# Point plot to indicate means\n",
    "sns.pointplot(data=df_filtered, x='time_of_day', y='arrival_delay', hue='day_of_week', order=['OP', 'MP', 'AP'], hue_order=['weekday', 'weekend'], dodge=0.532, join=False, palette=\"dark\", markers=\"D\", scale=0.75, ci=None)\n",
    "\n",
    "plt.title('Arrival Delay Distribution by Time of Day and Day of Week with Mean')\n",
    "plt.legend(title='Day of Week')\n",
    "plt.show()\n"
   ]
  },
  {
   "cell_type": "code",
   "execution_count": null,
   "metadata": {
    "colab": {
     "base_uri": "https://localhost:8080/"
    },
    "executionInfo": {
     "elapsed": 21,
     "status": "ok",
     "timestamp": 1695900173195,
     "user": {
      "displayName": "Jesper Helen",
      "userId": "11519166014603589782"
     },
     "user_tz": -120
    },
    "id": "FxbRc09zhOdJ",
    "outputId": "a0a8b5e7-c8db-4326-a7ff-f6d3957e6d9b"
   },
   "outputs": [],
   "source": [
    "print(df[\"weather\"].unique())\n",
    "print(df[\"temperature\"].unique())\n",
    "\n",
    "df = df.drop(columns='temperature')  # Remove it since we have them already\n",
    "df = df.drop(columns='weather')  # Remove it since we have them already\n"
   ]
  },
  {
   "cell_type": "code",
   "execution_count": null,
   "metadata": {
    "colab": {
     "base_uri": "https://localhost:8080/"
    },
    "executionInfo": {
     "elapsed": 276,
     "status": "ok",
     "timestamp": 1695900173452,
     "user": {
      "displayName": "Jesper Helen",
      "userId": "11519166014603589782"
     },
     "user_tz": -120
    },
    "id": "SuEZgoNVkwF3",
    "outputId": "686fad6c-646e-4bb5-8437-1511a41e2b18"
   },
   "outputs": [],
   "source": [
    "print(\"routeid\",df[\"route_id\"].unique())\n",
    "print(\"bus id\",df[\"bus_id\"].unique())\n",
    "\n",
    "print(\"time of day\",df[\"time_of_day\"].unique())\n",
    "print(\"day of week\",df[\"day_of_week\"].unique())\n",
    "\n",
    "df = df.drop(columns='time_of_day')  # Remove it since we have them already\n",
    "df = df.drop(columns='day_of_week')  # Remove it since we have them already\n",
    "\n"
   ]
  },
  {
   "cell_type": "code",
   "execution_count": null,
   "metadata": {
    "colab": {
     "base_uri": "https://localhost:8080/"
    },
    "executionInfo": {
     "elapsed": 11,
     "status": "ok",
     "timestamp": 1695900173453,
     "user": {
      "displayName": "Jesper Helen",
      "userId": "11519166014603589782"
     },
     "user_tz": -120
    },
    "id": "cxdIduD9YII7",
    "outputId": "f52f60da-2c46-4f80-8e9f-977d1114fb01"
   },
   "outputs": [],
   "source": [
    "column_titles_list = df.columns.tolist()\n",
    "print(column_titles_list)"
   ]
  },
  {
   "cell_type": "code",
   "execution_count": null,
   "metadata": {
    "id": "Y7hlSgBopElu"
   },
   "outputs": [],
   "source": []
  },
  {
   "cell_type": "code",
   "execution_count": null,
   "metadata": {
    "colab": {
     "base_uri": "https://localhost:8080/",
     "height": 342
    },
    "executionInfo": {
     "elapsed": 8574,
     "status": "ok",
     "timestamp": 1695900182022,
     "user": {
      "displayName": "Jesper Helen",
      "userId": "11519166014603589782"
     },
     "user_tz": -120
    },
    "id": "hYTIgvYej-yj",
    "outputId": "9bb63e57-fd7e-4b57-ff48-e1d62e951c7b"
   },
   "outputs": [],
   "source": [
    "# Set a theme for seaborn\n",
    "sns.set_theme()\n",
    "filtered_df = df[(df['arrival_delay'] >= -1000) & (df['arrival_delay'] <= 1000)]\n",
    "# Plot the enhanced histogram\n",
    "plt.figure(figsize=(5,3))\n",
    "sns.histplot(filtered_df['arrival_delay'], bins=30, kde=True, color=\"#ff5722\")\n",
    "plt.title('Arrival Delay Histogram')\n",
    "plt.xlabel('Arrival Delay')\n",
    "plt.ylabel('Frequency')\n",
    "plt.show()\n"
   ]
  },
  {
   "cell_type": "code",
   "execution_count": null,
   "metadata": {
    "colab": {
     "base_uri": "https://localhost:8080/"
    },
    "executionInfo": {
     "elapsed": 28,
     "status": "ok",
     "timestamp": 1695900182023,
     "user": {
      "displayName": "Jesper Helen",
      "userId": "11519166014603589782"
     },
     "user_tz": -120
    },
    "id": "2kWpUENrp8kF",
    "outputId": "4ba91e46-5ed2-4821-fffb-e89f81c70ca3"
   },
   "outputs": [],
   "source": [
    "snow_days_count = df['factor(weather)Snow'].sum()\n",
    "\n",
    "print(f\"Number of snow days: {snow_days_count}\")"
   ]
  },
  {
   "cell_type": "code",
   "execution_count": null,
   "metadata": {
    "colab": {
     "base_uri": "https://localhost:8080/",
     "height": 273
    },
    "executionInfo": {
     "elapsed": 29,
     "status": "ok",
     "timestamp": 1695900182027,
     "user": {
      "displayName": "Jesper Helen",
      "userId": "11519166014603589782"
     },
     "user_tz": -120
    },
    "id": "5VMDiiYDIwFt",
    "outputId": "94fa4686-ba51-4d39-9707-7d8488b87308"
   },
   "outputs": [],
   "source": [
    "df.head()"
   ]
  },
  {
   "cell_type": "code",
   "execution_count": null,
   "metadata": {},
   "outputs": [],
   "source": [
    "# Group by 'Calendar_date' and 'bus_id' to get the average delay\n",
    "avg_delays = df.groupby(['Date', 'bus_id']).arrival_delay.mean().reset_index()\n",
    "\n",
    "# Plot\n",
    "plt.figure(figsize=(12, 6))\n",
    "sns.lineplot(data=avg_delays, x='Date', y='arrival_delay', hue='bus_id', marker=\"o\")\n",
    "plt.title('Average Arrival Delay by Bus over Time')\n",
    "plt.ylabel('Average Arrival Delay')\n",
    "plt.xlabel('Date')\n",
    "plt.xticks(rotation=45)\n",
    "plt.legend(title='Bus ID')\n",
    "plt.tight_layout()\n",
    "plt.show()"
   ]
  },
  {
   "cell_type": "code",
   "execution_count": null,
   "metadata": {},
   "outputs": [],
   "source": [
    "df['factor(day_of_week)weekend_map'] = df['factor(day_of_week)weekend'].map({0: 'weekday', 1: 'weekend'})\n",
    "\n",
    "# Group by 'Date' and 'factor(day_of_week)weekend' to get the average delay\n",
    "avg_delays = df.groupby(['Date', 'factor(day_of_week)weekend_map']).arrival_delay.mean().reset_index()\n",
    "\n",
    "# Plot\n",
    "plt.figure(figsize=(12, 6))\n",
    "sns.lineplot(data=avg_delays, x='Date', y='arrival_delay', hue='factor(day_of_week)weekend_map', marker=\"o\")\n",
    "plt.title('Average Arrival Delay by Day of Week over Time')\n",
    "plt.ylabel('Average Arrival Delay')\n",
    "plt.xlabel('Date')\n",
    "plt.xticks(rotation=45)\n",
    "plt.legend(title='Day of Week')\n",
    "plt.tight_layout()\n",
    "plt.show()\n",
    "\n",
    "df = df.drop(columns='factor(day_of_week)weekend_map')  # Remove it since we have them already\n"
   ]
  },
  {
   "cell_type": "code",
   "execution_count": null,
   "metadata": {
    "colab": {
     "base_uri": "https://localhost:8080/",
     "height": 324
    },
    "executionInfo": {
     "elapsed": 964,
     "status": "ok",
     "timestamp": 1695900182965,
     "user": {
      "displayName": "Jesper Helen",
      "userId": "11519166014603589782"
     },
     "user_tz": -120
    },
    "id": "V4SJnnshHImF",
    "outputId": "b4112c93-650b-4745-f528-55e783fa7c9b"
   },
   "outputs": [],
   "source": [
    "# Convert 'Date' column to pandas datetime format\n",
    "# Set the 'Date' column as the index\n",
    "df.set_index('Date', inplace=True)\n",
    "\n",
    "# Plot using calplot\n",
    "calplot.calplot(df['factor(temperature)Cold'], cmap='Blues', edgecolor='lightgray', suptitle=\"Cold Days\", linewidth=1)\n"
   ]
  },
  {
   "cell_type": "code",
   "execution_count": null,
   "metadata": {
    "colab": {
     "base_uri": "https://localhost:8080/",
     "height": 163
    },
    "executionInfo": {
     "elapsed": 1153,
     "status": "ok",
     "timestamp": 1695900184107,
     "user": {
      "displayName": "Jesper Helen",
      "userId": "11519166014603589782"
     },
     "user_tz": -120
    },
    "id": "qv94t8tpLpaP",
    "outputId": "c96f2111-9333-4eb9-d3da-12d9f860e7a3"
   },
   "outputs": [],
   "source": [
    "# Group by 'Date' and take the mean of the 'arrival_delay'\n",
    "avg_delay_per_day = df.groupby('Date')['arrival_delay'].mean()\n",
    "\n",
    "# Plot the average delay in the calendar\n",
    "calplot.calplot(avg_delay_per_day, cmap='Reds', edgecolor='lightgray', suptitle=\"Average Daily Delay\", linewidth=1)"
   ]
  },
  {
   "cell_type": "code",
   "execution_count": null,
   "metadata": {},
   "outputs": [],
   "source": [
    "#WHAAAAT!!! BAD DATA?!\n",
    "# Group by 'Date' and take the max of the 'factor(weather)Snow' column\n",
    "did_it_snow = df.groupby('Date')['factor(weather)Snow'].max()\n",
    "\n",
    "# Plot the binary calendar heatmap\n",
    "calplot.calplot(did_it_snow, cmap='Blues', edgecolor='lightgray', suptitle=\"Snow Days\", linewidth=1)"
   ]
  },
  {
   "cell_type": "markdown",
   "metadata": {
    "id": "CXtRUZh4TJwZ"
   },
   "source": [
    "# Create a base line model (Mean)"
   ]
  },
  {
   "cell_type": "code",
   "execution_count": null,
   "metadata": {
    "colab": {
     "base_uri": "https://localhost:8080/"
    },
    "executionInfo": {
     "elapsed": 34,
     "status": "ok",
     "timestamp": 1695899512520,
     "user": {
      "displayName": "Jesper Helen",
      "userId": "11519166014603589782"
     },
     "user_tz": -120
    },
    "id": "1TyoMGWEKobU",
    "outputId": "d7492027-c6cf-4f3c-830e-52e3ef3d1e88"
   },
   "outputs": [],
   "source": [
    "\n",
    "# Assuming df is your DataFrame\n",
    "# 1. Calculate the mean of the actual delays\n",
    "mean_delay = df['arrival_delay'].mean()\n",
    "\n",
    "# 2. Create a new column with the mean delay as prediction\n",
    "df['predicted_delay'] = mean_delay\n",
    "\n",
    "# 3. Calculate MSE\n",
    "mse = mean_squared_error(df['arrival_delay'], df['predicted_delay'])\n",
    "print(f\"Mean Squared Error (MSE): {mse}\")\n",
    "\n",
    "# Calculate other metrics if required:\n",
    "# Mean Absolute Error (MAE)\n",
    "mae = mean_absolute_error(df['arrival_delay'], df['predicted_delay'])\n",
    "print(f\"Mean Absolute Error (MAE): {mae}\")\n",
    "\n",
    "# R^2 Score (not very meaningful in this context, but can be used)\n",
    "r2 = r2_score(df['arrival_delay'], df['predicted_delay'])\n",
    "print(f\"R^2 Score: {r2}\")\n",
    "df = df.drop(columns='predicted_delay')\n",
    "# COMMENT FOR REPORT\n",
    "# Since r^2 = 1- ssres / sstot\n",
    "# ssres is actual - pred -> since predis mean denominator and numerator is the same\n",
    "# sstot is actual - mean\n"
   ]
  },
  {
   "cell_type": "code",
   "execution_count": null,
   "metadata": {
    "id": "CczUX1FUUMXD"
   },
   "outputs": [],
   "source": []
  },
  {
   "cell_type": "markdown",
   "metadata": {
    "id": "LioMkba6-DCV"
   },
   "source": [
    "# Feature engineering"
   ]
  },
  {
   "cell_type": "code",
   "execution_count": null,
   "metadata": {
    "id": "YJ6zrYgp-GyM"
   },
   "outputs": [],
   "source": [
    "#df['mean_bus_delay'] = df.groupby('bus_id')['arrival_delay'].transform('mean')"
   ]
  },
  {
   "cell_type": "markdown",
   "metadata": {
    "id": "M4HhSr2DdN2W"
   },
   "source": [
    "# Regression"
   ]
  },
  {
   "cell_type": "code",
   "execution_count": null,
   "metadata": {
    "colab": {
     "base_uri": "https://localhost:8080/"
    },
    "executionInfo": {
     "elapsed": 33531,
     "status": "ok",
     "timestamp": 1695899546027,
     "user": {
      "displayName": "Jesper Helen",
      "userId": "11519166014603589782"
     },
     "user_tz": -120
    },
    "id": "eXoinvqedQdn",
    "outputId": "f07d1bd8-34d5-43d4-edf0-3130f25fb0c4"
   },
   "outputs": [],
   "source": [
    "# Split the data into training and test sets (30% held out for testing)\n",
    "X = df.drop('arrival_delay', axis=1)\n",
    "y = df['arrival_delay']\n",
    "\n",
    "X_train, X_test, y_train, y_test = train_test_split(X, y, test_size=0.3, random_state=0)\n",
    "\n",
    "# Define Ridge regression model\n",
    "ridge = Ridge(alpha=1.0)  # Change alpha as needed\n",
    "\n",
    "model = LinearRegression()\n",
    "\n",
    "# Recursive feature elimination with cross-validation\n",
    "selector = RFECV(estimator=ridge, step=1, cv=5)\n",
    "selector = selector.fit(X_train, y_train)\n",
    "\n",
    "\n",
    "# Select the important features based on RFECV\n",
    "X_train_selected = selector.transform(X_train)\n",
    "\n",
    "print(\"Number of best features: \", selector.n_features_)\n",
    "print(\"Best features: \", X_train.columns[selector.support_])\n"
   ]
  },
  {
   "cell_type": "code",
   "execution_count": null,
   "metadata": {
    "colab": {
     "base_uri": "https://localhost:8080/"
    },
    "executionInfo": {
     "elapsed": 367,
     "status": "ok",
     "timestamp": 1695899546362,
     "user": {
      "displayName": "Jesper Helen",
      "userId": "11519166014603589782"
     },
     "user_tz": -120
    },
    "id": "S6iIiFgedcES",
    "outputId": "dc0bcd4c-35f9-4183-80a6-c37baf7502f0"
   },
   "outputs": [],
   "source": [
    "\n",
    "ridge.fit(X_train, y_train)\n",
    "predictions = ridge.predict(X_test)\n",
    "\n",
    "mse = mean_squared_error(y_test, predictions)\n",
    "r2 = r2_score(y_test, predictions)\n",
    "\n",
    "# Calculate adjusted R^2\n",
    "n = len(y_test)\n",
    "k = X_test.shape[1]\n",
    "adjusted_r2 = 1 - (1 - r2) * (n - 1) / (n - k - 1)\n",
    "mae = mean_absolute_error(y_test,predictions)\n",
    "print(f'Mean Squared Error (MSE): {mse}')\n",
    "print(f'R-squared (R2 ): {r2}')\n",
    "print(f'Adjusted R-squared: {adjusted_r2}')\n"
   ]
  },
  {
   "cell_type": "markdown",
   "metadata": {
    "id": "NLcy1uoDBwoU"
   },
   "source": [
    "# DecisionTreeRegresson"
   ]
  },
  {
   "cell_type": "code",
   "execution_count": null,
   "metadata": {
    "colab": {
     "base_uri": "https://localhost:8080/"
    },
    "executionInfo": {
     "elapsed": 10165,
     "status": "ok",
     "timestamp": 1695899556518,
     "user": {
      "displayName": "Jesper Helen",
      "userId": "11519166014603589782"
     },
     "user_tz": -120
    },
    "id": "uaXVjMs2B113",
    "outputId": "d9225172-69f6-4850-d136-cc387a4d7db6"
   },
   "outputs": [],
   "source": [
    "regressor = DecisionTreeRegressor(random_state=42)\n",
    "regressor.fit(X_train, y_train)\n",
    "y_pred = regressor.predict(X_test)\n",
    "\n",
    "mse = mean_squared_error(y_test, y_pred)\n",
    "print(f\"Mean Squared Error: {mse}\")\n",
    "\n",
    "r2 = r2_score(y_test, y_pred)\n",
    "print(f\"R^2 Score: {r2}\")\n"
   ]
  },
  {
   "cell_type": "markdown",
   "metadata": {
    "id": "na2cyLGFJpnU"
   },
   "source": [
    "# Split weekend & weekday"
   ]
  },
  {
   "cell_type": "code",
   "execution_count": null,
   "metadata": {
    "id": "1ULSDqOJJtB5"
   },
   "outputs": [],
   "source": [
    "# Splitting the DataFrame into weekend and weekday DataFrames\n",
    "\n",
    "# For weekend\n",
    "df_weekend = df[df['factor(day_of_week)weekend'] == 1].copy()\n",
    "df_weekend.drop(columns=['factor(day_of_week)weekend', 'factor(day_of_week)weekday'], inplace=True)\n",
    "\n",
    "# For weekday\n",
    "df_weekday = df[df['factor(day_of_week)weekday'] == 1].copy()\n",
    "df_weekday.drop(columns=['factor(day_of_week)weekend', 'factor(day_of_week)weekday'], inplace=True)\n"
   ]
  },
  {
   "cell_type": "code",
   "execution_count": null,
   "metadata": {
    "colab": {
     "base_uri": "https://localhost:8080/"
    },
    "executionInfo": {
     "elapsed": 10,
     "status": "ok",
     "timestamp": 1695899556521,
     "user": {
      "displayName": "Jesper Helen",
      "userId": "11519166014603589782"
     },
     "user_tz": -120
    },
    "id": "cU2_wpgqbgnj",
    "outputId": "2c7b60a7-b8fa-4a18-d5ef-0bf7c6331acd"
   },
   "outputs": [],
   "source": [
    "print(df_weekend.columns)"
   ]
  },
  {
   "cell_type": "code",
   "execution_count": null,
   "metadata": {
    "id": "BZman2g3cjz6"
   },
   "outputs": [],
   "source": [
    "X = df_weekday.drop('arrival_delay', axis=1)\n",
    "y = df_weekday['arrival_delay']\n",
    "\n",
    "X_train, X_test, y_train, y_test = train_test_split(X, y, test_size=0.2, random_state=0)\n",
    "\n"
   ]
  },
  {
   "cell_type": "code",
   "execution_count": null,
   "metadata": {
    "colab": {
     "base_uri": "https://localhost:8080/",
     "height": 572
    },
    "executionInfo": {
     "elapsed": 98847,
     "status": "error",
     "timestamp": 1695900160768,
     "user": {
      "displayName": "Jesper Helen",
      "userId": "11519166014603589782"
     },
     "user_tz": -120
    },
    "id": "N-wHsbaHfdn6",
    "outputId": "8a376582-e37a-4f1e-803f-642589d0fa7e"
   },
   "outputs": [],
   "source": [
    "models = [\n",
    "    (\"Decision Tree\", DecisionTreeRegressor(), {'max_depth': [3, 5, 7, 9], 'min_samples_split': [2, 5, 10]}),\n",
    "    #(\"Random Forest\", RandomForestRegressor(), {'n_estimators': [100, 300, 500], 'max_depth': [3, 5, 7]}),\n",
    "    #(\"Gradient Boosting\", GradientBoostingRegressor(n_iter_no_change=10, validation_fraction=0.1),\n",
    "     #{'n_estimators': [100, 300, 500], 'learning_rate': [0.01, 0.05, 0.1], 'max_depth': [3, 5, 7]}),\n",
    "    (\"Linear Regression\", LinearRegression(), {})\n",
    "    #(\"XGBoost\", XGBRegressor(), {'learning_rate': [0.01, 0.05, 0.1], 'n_estimators': [100, 300, 500], 'max_depth': [3, 5, 7]})\n",
    "]\n",
    "# Define a DataFrame to hold results\n",
    "results_df = pd.DataFrame(columns=['Model', 'MSE', 'R2 Score', 'Cross-validated MSE', 'Best Params'])\n",
    "\n",
    "# A set of pastel colors\n",
    "colors = ['#A8E6CF', '#DCEDC1', '#FFD3B6', '#FFAAA5', '#FF8B94']\n",
    "\n",
    "plt.figure(figsize=(12, 8))\n",
    "\n",
    "# Loop through the models\n",
    "for idx, (model_name, model, params) in enumerate(models):\n",
    "    print(f\"Evaluating {model_name}...\")\n",
    "\n",
    "    grid_search = GridSearchCV(estimator=model, param_grid=params,\n",
    "                               scoring='neg_mean_squared_error', cv=3, verbose=1, n_jobs=-1)\n",
    "    grid_search.fit(X_train, y_train)\n",
    "    best_model = grid_search.best_estimator_\n",
    "\n",
    "    # Predictions\n",
    "    y_pred = best_model.predict(X_test)\n",
    "\n",
    "    # Evaluation\n",
    "    mse = mean_squared_error(y_test, y_pred)\n",
    "    r2 = r2_score(y_test, y_pred)\n",
    "\n",
    "    # Cross-validation\n",
    "    cv_scores = cross_val_score(best_model, X, y, cv=5, scoring='neg_mean_squared_error')\n",
    "\n",
    "    # Append results to the results DataFrame\n",
    "    results_df.loc[idx] = [model_name, mse, r2, -cv_scores.mean(), grid_search.best_params_]\n",
    "    \n",
    "    # Plot\n",
    "    plt.scatter(y_test, y_pred, color=colors[idx], alpha=0.5, label=model_name)\n",
    "\n",
    "    print(\"-------------------------------------------------------\")\n",
    "\n",
    "plt.xlabel('Actual Values')\n",
    "plt.ylabel('Predictions')\n",
    "plt.title('Model Predictions vs Actual Values')\n",
    "plt.legend()\n",
    "plt.show()\n",
    "\n",
    "print(results_df)\n"
   ]
  },
  {
   "cell_type": "code",
   "execution_count": null,
   "metadata": {},
   "outputs": [],
   "source": [
    "X = df_weekday.drop('arrival_delay', axis=1)\n",
    "y = df_weekday['arrival_delay']\n",
    "\n",
    "X_train, X_test, y_train, y_test = train_test_split(X, y, test_size=0.2, random_state=0)"
   ]
  },
  {
   "cell_type": "code",
   "execution_count": null,
   "metadata": {},
   "outputs": [],
   "source": [
    "for col in X.columns:\n",
    "    print(col)"
   ]
  },
  {
   "cell_type": "code",
   "execution_count": null,
   "metadata": {},
   "outputs": [],
   "source": [
    "\n",
    "\n",
    "import pandas as pd\n",
    "from tensorflow.keras.models import Sequential\n",
    "from tensorflow.keras.layers import Dense, Dropout\n",
    "from sklearn.model_selection import train_test_split\n",
    "from tensorflow.keras.callbacks import EarlyStopping, ReduceLROnPlateau, ModelCheckpoint\n",
    "from keras.models import load_model\n",
    "from sklearn.linear_model import LinearRegression\n",
    "from sklearn.metrics import mean_absolute_error, mean_squared_error, r2_score\n",
    "filepath=\"\"\n",
    "%matplotlib inline\n",
    "\n",
    "# network construction\n",
    "def construct_network_model():\n",
    "  model_weekday_NN = Sequential()\n",
    "  model_weekday_NN.add(Dense(32, activation='linear', input_dim=24))\n",
    "  model_weekday_NN.add(Dropout(rate=0.01))\n",
    "  model_weekday_NN.add(Dense(64, activation='linear'))\n",
    "  model_weekday_NN.add(Dense(1))\n",
    "  return model_weekday_NN\n",
    "\n",
    "model_weekday_NN = construct_network_model()\n",
    "model_weekday_NN.compile(optimizer='adam', loss='mae', metrics=['mae']) # default 'optimizer'\n",
    "model_weekday_NN.summary()"
   ]
  },
  {
   "cell_type": "code",
   "execution_count": null,
   "metadata": {},
   "outputs": [],
   "source": [
    "# model training -- choose to use callback function\n",
    "\n",
    "early_stop = EarlyStopping(monitor='val_mae', patience=5, restore_best_weights=True)\n",
    "reduce_lr = ReduceLROnPlateau(monitor='val_mae', factor=0.5, patience=3)\n",
    "filepath = \"weights.best.h5\"\n",
    "checkpoint = ModelCheckpoint(filepath, monitor='val_mae', verbose=1, save_best_only=True, mode='min')\n",
    "hist = model_weekday_NN.fit(X_train, y_train, validation_split=0.2, epochs=400, batch_size=64, callbacks=[early_stop, reduce_lr,checkpoint],verbose=0)\n",
    "\n",
    "# model evaluation and plot\n",
    "sns.set()\n",
    "err = hist.history['mae']\n",
    "val_err = hist.history['val_mae']\n",
    "epochs = range(1, len(err) + 1)\n",
    "\n",
    "plt.plot(epochs, err, '-', label='Training MAE')\n",
    "plt.plot(epochs, val_err, ':', label='Validation MAE')\n",
    "plt.title('Training and Validation MAE')\n",
    "plt.xlabel('Epoch')\n",
    "plt.ylabel('Mean Absolute Error')\n",
    "plt.legend(loc='upper right')\n",
    "plt.plot()\n",
    "\n",
    "y_pred = model_weekday_NN.predict(X_test)\n",
    "\n",
    "mae_M1_NN = mean_absolute_error(y_test, y_pred)\n",
    "mse_M1_NN = mean_squared_error(y_test, y_pred)\n",
    "r2_M1_NN = r2_score(y_test, y_pred)\n",
    "\n",
    "print('This is result of the trained model: ')\n",
    "# Print the evaluation metrics.\n",
    "print(f\"Mean Absolute Error: {mae_M1_NN}\")\n",
    "print(f\"Mean Squared Error: {mse_M1_NN}\")\n",
    "print(f\"R-squared: {r2_M1_NN}\")\n",
    "\n",
    "# Load model and evaluation\n",
    "if not filepath ==\"\":\n",
    "  model_1 = load_model(filepath)\n",
    "  y_pred = model_weekday_NN.predict(X_test)\n",
    "  mae = mean_absolute_error(y_test, y_pred)\n",
    "  mse = mean_squared_error(y_test, y_pred)\n",
    "  r2 = r2_score(y_test, y_pred)\n",
    "\n",
    "  print('This is result of the model loaded from the local path: ')\n",
    "\n",
    "  # Print the calculated metrics.\n",
    "  print(f\"Mean Absolute Error: {mae_M1_NN}\")\n",
    "  print(f\"Mean Squared Error: {mse_M1_NN}\")\n",
    "  print(f\"R-squared: {r2_M1_NN}\")"
   ]
  },
  {
   "cell_type": "code",
   "execution_count": null,
   "metadata": {},
   "outputs": [],
   "source": [
    "  print(f\"Mean Absolute Error: {mae_M1_NN}\")\n",
    "  print(f\"Mean Squared Error: {mse_M1_NN}\")\n",
    "  print(f\"R-squared: {r2_M1_NN}\")"
   ]
  },
  {
   "cell_type": "code",
   "execution_count": null,
   "metadata": {},
   "outputs": [],
   "source": [
    "X = df_weekend.drop('arrival_delay', axis=1)\n",
    "y = df_weekend['arrival_delay']\n",
    "\n",
    "X_train, X_test, y_train, y_test = train_test_split(X, y, test_size=0.2, random_state=0)"
   ]
  },
  {
   "cell_type": "code",
   "execution_count": null,
   "metadata": {},
   "outputs": [],
   "source": [
    "models = [\n",
    "    (\"Decision Tree\", DecisionTreeRegressor(), {'max_depth': [3, 5, 7, 9], 'min_samples_split': [2, 5, 10]}),\n",
    "    #(\"Random Forest\", RandomForestRegressor(), {'n_estimators': [100, 300, 500], 'max_depth': [3, 5, 7]}),\n",
    "    #(\"Gradient Boosting\", GradientBoostingRegressor(n_iter_no_change=10, validation_fraction=0.1),\n",
    "     #{'n_estimators': [100, 300, 500], 'learning_rate': [0.01, 0.05, 0.1], 'max_depth': [3, 5, 7]}),\n",
    "    (\"Linear Regression\", LinearRegression(), {}),\n",
    "    #(\"XGBoost\", XGBRegressor(), {'learning_rate': [0.01, 0.05, 0.1], 'n_estimators': [100, 300, 500], 'max_depth': [3, 5, 7]})\n",
    "]\n",
    "# Define a DataFrame to hold results\n",
    "results_df = pd.DataFrame(columns=['Model', 'MSE', 'R2 Score', 'Cross-validated MSE', 'Best Params'])\n",
    "\n",
    "# A set of pastel colors\n",
    "colors = ['#A8E6CF', '#DCEDC1', '#FFD3B6', '#FFAAA5', '#FF8B94']\n",
    "\n",
    "plt.figure(figsize=(12, 8))\n",
    "\n",
    "# Loop through the models\n",
    "for idx, (model_name, model, params) in enumerate(models):\n",
    "    print(f\"Evaluating {model_name}...\")\n",
    "\n",
    "    grid_search = GridSearchCV(estimator=model, param_grid=params,\n",
    "                               scoring='neg_mean_squared_error', cv=3, verbose=1, n_jobs=-1)\n",
    "    grid_search.fit(X_train, y_train)\n",
    "    best_model = grid_search.best_estimator_\n",
    "\n",
    "    # Predictions\n",
    "    y_pred = best_model.predict(X_test)\n",
    "\n",
    "    # Evaluation\n",
    "    mse = mean_squared_error(y_test, y_pred)\n",
    "    r2 = r2_score(y_test, y_pred)\n",
    "\n",
    "    # Cross-validation\n",
    "    cv_scores = cross_val_score(best_model, X, y, cv=5, scoring='neg_mean_squared_error')\n",
    "\n",
    "    # Append results to the results DataFrame\n",
    "    results_df.loc[idx] = [model_name, mse, r2, -cv_scores.mean(), grid_search.best_params_]\n",
    "    \n",
    "    # Plot\n",
    "    plt.scatter(y_test, y_pred, color=colors[idx], alpha=0.5, label=model_name)\n",
    "\n",
    "    print(\"-------------------------------------------------------\")\n",
    "\n",
    "plt.xlabel('Actual Values')\n",
    "plt.ylabel('Predictions')\n",
    "plt.title('Model Predictions vs Actual Values')\n",
    "plt.legend()\n",
    "plt.show()\n",
    "\n",
    "print(results_df)\n"
   ]
  }
 ],
 "metadata": {
  "colab": {
   "provenance": []
  },
  "kernelspec": {
   "display_name": "Python 3 (ipykernel)",
   "language": "python",
   "name": "python3"
  },
  "language_info": {
   "codemirror_mode": {
    "name": "ipython",
    "version": 3
   },
   "file_extension": ".py",
   "mimetype": "text/x-python",
   "name": "python",
   "nbconvert_exporter": "python",
   "pygments_lexer": "ipython3",
   "version": "3.9.7"
  }
 },
 "nbformat": 4,
 "nbformat_minor": 1
}
