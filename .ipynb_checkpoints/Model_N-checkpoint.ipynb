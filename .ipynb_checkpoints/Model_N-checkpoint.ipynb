{
 "cells": [
  {
   "cell_type": "code",
   "execution_count": 1,
   "metadata": {
    "id": "M7mgUaMcoEFp"
   },
   "outputs": [
    {
     "name": "stdout",
     "output_type": "stream",
     "text": [
      "Requirement already satisfied: calplot in /Users/nuttapear/opt/anaconda3/lib/python3.9/site-packages (0.1.7.5)\n",
      "Requirement already satisfied: pandas in /Users/nuttapear/opt/anaconda3/lib/python3.9/site-packages (1.4.2)\n",
      "Requirement already satisfied: matplotlib in /Users/nuttapear/opt/anaconda3/lib/python3.9/site-packages (from calplot) (3.5.1)\n",
      "Requirement already satisfied: numpy in /Users/nuttapear/opt/anaconda3/lib/python3.9/site-packages (from calplot) (1.23.0)\n",
      "Requirement already satisfied: python-dateutil>=2.8.1 in /Users/nuttapear/opt/anaconda3/lib/python3.9/site-packages (from pandas) (2.8.2)\n",
      "Requirement already satisfied: pytz>=2020.1 in /Users/nuttapear/opt/anaconda3/lib/python3.9/site-packages (from pandas) (2021.3)\n",
      "Requirement already satisfied: six>=1.5 in /Users/nuttapear/opt/anaconda3/lib/python3.9/site-packages (from python-dateutil>=2.8.1->pandas) (1.16.0)\n",
      "Requirement already satisfied: cycler>=0.10 in /Users/nuttapear/opt/anaconda3/lib/python3.9/site-packages (from matplotlib->calplot) (0.11.0)\n",
      "Requirement already satisfied: fonttools>=4.22.0 in /Users/nuttapear/opt/anaconda3/lib/python3.9/site-packages (from matplotlib->calplot) (4.25.0)\n",
      "Requirement already satisfied: kiwisolver>=1.0.1 in /Users/nuttapear/opt/anaconda3/lib/python3.9/site-packages (from matplotlib->calplot) (1.3.2)\n",
      "Requirement already satisfied: packaging>=20.0 in /Users/nuttapear/opt/anaconda3/lib/python3.9/site-packages (from matplotlib->calplot) (21.3)\n",
      "Requirement already satisfied: pillow>=6.2.0 in /Users/nuttapear/opt/anaconda3/lib/python3.9/site-packages (from matplotlib->calplot) (9.0.1)\n",
      "Requirement already satisfied: pyparsing>=2.2.1 in /Users/nuttapear/opt/anaconda3/lib/python3.9/site-packages (from matplotlib->calplot) (3.0.4)\n"
     ]
    }
   ],
   "source": [
    "!pip install calplot pandas"
   ]
  },
  {
   "cell_type": "code",
   "execution_count": 2,
   "metadata": {
    "id": "l5qgmoH4jl8x"
   },
   "outputs": [
    {
     "name": "stderr",
     "output_type": "stream",
     "text": [
      "/Users/nuttapear/opt/anaconda3/lib/python3.9/site-packages/scipy/__init__.py:146: UserWarning: A NumPy version >=1.16.5 and <1.23.0 is required for this version of SciPy (detected version 1.23.0\n",
      "  warnings.warn(f\"A NumPy version >={np_minversion} and <{np_maxversion}\"\n"
     ]
    }
   ],
   "source": [
    "import pandas as pd\n",
    "\n",
    "#Plot\n",
    "import numpy as np\n",
    "import matplotlib.pyplot as plt\n",
    "import matplotlib.colors as mcolors\n",
    "import seaborn as sns\n",
    "import calendar\n",
    "import calplot # actually used\n",
    "\n",
    "# Score model\n",
    "from sklearn.metrics import mean_squared_error, mean_absolute_error, r2_score\n",
    "\n",
    "# Model\n",
    "from sklearn.model_selection import train_test_split, cross_val_score\n",
    "from sklearn.linear_model import Ridge, LinearRegression\n",
    "from sklearn.feature_selection import RFECV\n",
    "from sklearn.preprocessing import StandardScaler\n",
    "from sklearn.tree import DecisionTreeRegressor\n",
    "from sklearn.ensemble import RandomForestRegressor, GradientBoostingRegressor\n"
   ]
  },
  {
   "cell_type": "markdown",
   "metadata": {
    "id": "2VYM8CrJfhmg"
   },
   "source": [
    "# **Load and visualize data**"
   ]
  },
  {
   "cell_type": "code",
   "execution_count": 3,
   "metadata": {
    "id": "c9f0URlwj--y"
   },
   "outputs": [],
   "source": [
    "url = \"https://raw.githubusercontent.com/zhenliangma/Applied-AI-in-Transportation/main/ProjectAssignmentData/Dataset-PT.csv\"\n",
    "df = pd.read_csv(url,header=1)"
   ]
  },
  {
   "cell_type": "code",
   "execution_count": 4,
   "metadata": {
    "id": "_EX97hRnkipl"
   },
   "outputs": [
    {
     "data": {
      "text/html": [
       "<div>\n",
       "<style scoped>\n",
       "    .dataframe tbody tr th:only-of-type {\n",
       "        vertical-align: middle;\n",
       "    }\n",
       "\n",
       "    .dataframe tbody tr th {\n",
       "        vertical-align: top;\n",
       "    }\n",
       "\n",
       "    .dataframe thead th {\n",
       "        text-align: right;\n",
       "    }\n",
       "</style>\n",
       "<table border=\"1\" class=\"dataframe\">\n",
       "  <thead>\n",
       "    <tr style=\"text-align: right;\">\n",
       "      <th></th>\n",
       "      <th>Calendar_date</th>\n",
       "      <th>route_id</th>\n",
       "      <th>bus_id</th>\n",
       "      <th>stop_sequence</th>\n",
       "      <th>arrival_delay</th>\n",
       "      <th>dwell_time</th>\n",
       "      <th>travel_time_for_previous_section</th>\n",
       "      <th>scheduled_travel_time</th>\n",
       "      <th>upstream_stop_delay</th>\n",
       "      <th>origin_delay</th>\n",
       "      <th>...</th>\n",
       "      <th>factor(weather)Rain</th>\n",
       "      <th>factor(weather)Snow</th>\n",
       "      <th>factor(temperature)Cold</th>\n",
       "      <th>factor(temperature)Extra_cold</th>\n",
       "      <th>factor(temperature)Normal</th>\n",
       "      <th>factor(day_of_week)weekday</th>\n",
       "      <th>factor(day_of_week)weekend</th>\n",
       "      <th>factor(time_of_day)Afternoon_peak</th>\n",
       "      <th>factor(time_of_day)Morning_peak</th>\n",
       "      <th>factor(time_of_day)Off-peak</th>\n",
       "    </tr>\n",
       "  </thead>\n",
       "  <tbody>\n",
       "    <tr>\n",
       "      <th>0</th>\n",
       "      <td>20220108</td>\n",
       "      <td>4</td>\n",
       "      <td>41344</td>\n",
       "      <td>1</td>\n",
       "      <td>151</td>\n",
       "      <td>0</td>\n",
       "      <td>0</td>\n",
       "      <td>120</td>\n",
       "      <td>100</td>\n",
       "      <td>100</td>\n",
       "      <td>...</td>\n",
       "      <td>0</td>\n",
       "      <td>0</td>\n",
       "      <td>0</td>\n",
       "      <td>0</td>\n",
       "      <td>1</td>\n",
       "      <td>0</td>\n",
       "      <td>1</td>\n",
       "      <td>0</td>\n",
       "      <td>0</td>\n",
       "      <td>1</td>\n",
       "    </tr>\n",
       "    <tr>\n",
       "      <th>1</th>\n",
       "      <td>20220108</td>\n",
       "      <td>4</td>\n",
       "      <td>41344</td>\n",
       "      <td>2</td>\n",
       "      <td>185</td>\n",
       "      <td>24</td>\n",
       "      <td>171</td>\n",
       "      <td>45</td>\n",
       "      <td>151</td>\n",
       "      <td>100</td>\n",
       "      <td>...</td>\n",
       "      <td>0</td>\n",
       "      <td>0</td>\n",
       "      <td>0</td>\n",
       "      <td>0</td>\n",
       "      <td>1</td>\n",
       "      <td>0</td>\n",
       "      <td>1</td>\n",
       "      <td>0</td>\n",
       "      <td>0</td>\n",
       "      <td>1</td>\n",
       "    </tr>\n",
       "    <tr>\n",
       "      <th>2</th>\n",
       "      <td>20220108</td>\n",
       "      <td>4</td>\n",
       "      <td>41344</td>\n",
       "      <td>3</td>\n",
       "      <td>186</td>\n",
       "      <td>0</td>\n",
       "      <td>55</td>\n",
       "      <td>41</td>\n",
       "      <td>185</td>\n",
       "      <td>100</td>\n",
       "      <td>...</td>\n",
       "      <td>0</td>\n",
       "      <td>0</td>\n",
       "      <td>0</td>\n",
       "      <td>0</td>\n",
       "      <td>1</td>\n",
       "      <td>0</td>\n",
       "      <td>1</td>\n",
       "      <td>0</td>\n",
       "      <td>0</td>\n",
       "      <td>1</td>\n",
       "    </tr>\n",
       "    <tr>\n",
       "      <th>3</th>\n",
       "      <td>20220108</td>\n",
       "      <td>4</td>\n",
       "      <td>41344</td>\n",
       "      <td>4</td>\n",
       "      <td>202</td>\n",
       "      <td>12</td>\n",
       "      <td>42</td>\n",
       "      <td>94</td>\n",
       "      <td>186</td>\n",
       "      <td>100</td>\n",
       "      <td>...</td>\n",
       "      <td>0</td>\n",
       "      <td>0</td>\n",
       "      <td>0</td>\n",
       "      <td>0</td>\n",
       "      <td>1</td>\n",
       "      <td>0</td>\n",
       "      <td>1</td>\n",
       "      <td>0</td>\n",
       "      <td>0</td>\n",
       "      <td>1</td>\n",
       "    </tr>\n",
       "    <tr>\n",
       "      <th>4</th>\n",
       "      <td>20220108</td>\n",
       "      <td>4</td>\n",
       "      <td>41344</td>\n",
       "      <td>5</td>\n",
       "      <td>242</td>\n",
       "      <td>21</td>\n",
       "      <td>98</td>\n",
       "      <td>86</td>\n",
       "      <td>202</td>\n",
       "      <td>100</td>\n",
       "      <td>...</td>\n",
       "      <td>0</td>\n",
       "      <td>0</td>\n",
       "      <td>0</td>\n",
       "      <td>0</td>\n",
       "      <td>1</td>\n",
       "      <td>0</td>\n",
       "      <td>1</td>\n",
       "      <td>0</td>\n",
       "      <td>0</td>\n",
       "      <td>1</td>\n",
       "    </tr>\n",
       "  </tbody>\n",
       "</table>\n",
       "<p>5 rows × 31 columns</p>\n",
       "</div>"
      ],
      "text/plain": [
       "   Calendar_date  route_id  bus_id  stop_sequence  arrival_delay  dwell_time  \\\n",
       "0       20220108         4   41344              1            151           0   \n",
       "1       20220108         4   41344              2            185          24   \n",
       "2       20220108         4   41344              3            186           0   \n",
       "3       20220108         4   41344              4            202          12   \n",
       "4       20220108         4   41344              5            242          21   \n",
       "\n",
       "   travel_time_for_previous_section  scheduled_travel_time  \\\n",
       "0                                 0                    120   \n",
       "1                               171                     45   \n",
       "2                                55                     41   \n",
       "3                                42                     94   \n",
       "4                                98                     86   \n",
       "\n",
       "   upstream_stop_delay  origin_delay  ...  factor(weather)Rain  \\\n",
       "0                  100           100  ...                    0   \n",
       "1                  151           100  ...                    0   \n",
       "2                  185           100  ...                    0   \n",
       "3                  186           100  ...                    0   \n",
       "4                  202           100  ...                    0   \n",
       "\n",
       "   factor(weather)Snow  factor(temperature)Cold  \\\n",
       "0                    0                        0   \n",
       "1                    0                        0   \n",
       "2                    0                        0   \n",
       "3                    0                        0   \n",
       "4                    0                        0   \n",
       "\n",
       "   factor(temperature)Extra_cold factor(temperature)Normal  \\\n",
       "0                              0                         1   \n",
       "1                              0                         1   \n",
       "2                              0                         1   \n",
       "3                              0                         1   \n",
       "4                              0                         1   \n",
       "\n",
       "  factor(day_of_week)weekday factor(day_of_week)weekend  \\\n",
       "0                          0                          1   \n",
       "1                          0                          1   \n",
       "2                          0                          1   \n",
       "3                          0                          1   \n",
       "4                          0                          1   \n",
       "\n",
       "  factor(time_of_day)Afternoon_peak  factor(time_of_day)Morning_peak  \\\n",
       "0                                 0                                0   \n",
       "1                                 0                                0   \n",
       "2                                 0                                0   \n",
       "3                                 0                                0   \n",
       "4                                 0                                0   \n",
       "\n",
       "   factor(time_of_day)Off-peak  \n",
       "0                            1  \n",
       "1                            1  \n",
       "2                            1  \n",
       "3                            1  \n",
       "4                            1  \n",
       "\n",
       "[5 rows x 31 columns]"
      ]
     },
     "execution_count": 4,
     "metadata": {},
     "output_type": "execute_result"
    }
   ],
   "source": [
    "df.head(5)\n",
    "# df.size 545104 rows\n",
    "# from Jan 8\n",
    "# June 30"
   ]
  },
  {
   "cell_type": "code",
   "execution_count": 5,
   "metadata": {
    "id": "_EvIoLxmeS5o"
   },
   "outputs": [
    {
     "name": "stdout",
     "output_type": "stream",
     "text": [
      "Number of different numbers in the column: 152\n"
     ]
    }
   ],
   "source": [
    "# Use the nunique() function to count the number of unique values in the column\n",
    "unique_count = df['bus_id'].nunique()\n",
    "\n",
    "# Print the result\n",
    "print(f\"Number of different numbers in the column: {unique_count}\")"
   ]
  },
  {
   "cell_type": "code",
   "execution_count": 6,
   "metadata": {
    "id": "uezHC5XBStC0"
   },
   "outputs": [
    {
     "name": "stdout",
     "output_type": "stream",
     "text": [
      "        Calendar_date  route_id  bus_id  stop_sequence  arrival_delay  \\\n",
      "490068       20220609         4   44063             19           2257   \n",
      "\n",
      "        dwell_time  travel_time_for_previous_section  scheduled_travel_time  \\\n",
      "490068          26                                41                     57   \n",
      "\n",
      "        upstream_stop_delay  origin_delay  ...  factor(weather)Rain  \\\n",
      "490068                 2231          1285  ...                    0   \n",
      "\n",
      "        factor(weather)Snow  factor(temperature)Cold  \\\n",
      "490068                    0                        0   \n",
      "\n",
      "        factor(temperature)Extra_cold factor(temperature)Normal  \\\n",
      "490068                              0                         1   \n",
      "\n",
      "       factor(day_of_week)weekday factor(day_of_week)weekend  \\\n",
      "490068                          1                          0   \n",
      "\n",
      "       factor(time_of_day)Afternoon_peak  factor(time_of_day)Morning_peak  \\\n",
      "490068                                 0                                0   \n",
      "\n",
      "        factor(time_of_day)Off-peak  \n",
      "490068                            1  \n",
      "\n",
      "[1 rows x 31 columns]\n"
     ]
    }
   ],
   "source": [
    "max_delay_row = df[df['arrival_delay'] == df['arrival_delay'].max()]\n",
    "print(max_delay_row)"
   ]
  },
  {
   "cell_type": "code",
   "execution_count": 7,
   "metadata": {
    "id": "uQ3OZDCeWG9v"
   },
   "outputs": [
    {
     "name": "stdout",
     "output_type": "stream",
     "text": [
      "<class 'pandas.core.frame.DataFrame'>\n",
      "RangeIndex: 545103 entries, 0 to 545102\n",
      "Data columns (total 31 columns):\n",
      " #   Column                             Non-Null Count   Dtype  \n",
      "---  ------                             --------------   -----  \n",
      " 0   Calendar_date                      545103 non-null  int64  \n",
      " 1   route_id                           545103 non-null  int64  \n",
      " 2   bus_id                             545103 non-null  int64  \n",
      " 3   stop_sequence                      545103 non-null  int64  \n",
      " 4   arrival_delay                      545103 non-null  int64  \n",
      " 5   dwell_time                         545103 non-null  int64  \n",
      " 6   travel_time_for_previous_section   545103 non-null  int64  \n",
      " 7   scheduled_travel_time              545103 non-null  int64  \n",
      " 8   upstream_stop_delay                545103 non-null  int64  \n",
      " 9   origin_delay                       545103 non-null  int64  \n",
      " 10  previous_bus_delay                 545103 non-null  int64  \n",
      " 11  previous_trip_travel_time          545103 non-null  int64  \n",
      " 12  traffic_condition                  545103 non-null  float64\n",
      " 13  recurrent_delay                    545103 non-null  float64\n",
      " 14  weather                            545103 non-null  object \n",
      " 15  temperature                        545103 non-null  object \n",
      " 16  day_of_week                        545103 non-null  object \n",
      " 17  time_of_day                        545103 non-null  object \n",
      " 18  factor(weather)Light_Rain          545103 non-null  int64  \n",
      " 19  factor(weather)Light_Snow          545103 non-null  int64  \n",
      " 20  factor(weather)Normal              545103 non-null  int64  \n",
      " 21  factor(weather)Rain                545103 non-null  int64  \n",
      " 22  factor(weather)Snow                545103 non-null  int64  \n",
      " 23  factor(temperature)Cold            545103 non-null  int64  \n",
      " 24  factor(temperature)Extra_cold      545103 non-null  int64  \n",
      " 25  factor(temperature)Normal          545103 non-null  int64  \n",
      " 26  factor(day_of_week)weekday         545103 non-null  int64  \n",
      " 27  factor(day_of_week)weekend         545103 non-null  int64  \n",
      " 28  factor(time_of_day)Afternoon_peak  545103 non-null  int64  \n",
      " 29  factor(time_of_day)Morning_peak    545103 non-null  int64  \n",
      " 30  factor(time_of_day)Off-peak        545103 non-null  int64  \n",
      "dtypes: float64(2), int64(25), object(4)\n",
      "memory usage: 128.9+ MB\n"
     ]
    }
   ],
   "source": [
    "df.info()"
   ]
  },
  {
   "cell_type": "code",
   "execution_count": 8,
   "metadata": {
    "id": "7zO6rNCgFprg"
   },
   "outputs": [
    {
     "data": {
      "image/png": "[encoded data removed]",
      "text/plain": [
       "<Figure size 864x432 with 1 Axes>"
      ]
     },
     "metadata": {
      "needs_background": "light"
     },
     "output_type": "display_data"
    }
   ],
   "source": [
    "# Filter the data\n",
    "df_filtered = df[df['arrival_delay'].between(-200, 1000)]\n",
    "plt.figure(figsize=(12, 6))\n",
    "\n",
    "# Violin plot\n",
    "sns.violinplot(data=df_filtered, x='time_of_day', y='arrival_delay', hue='day_of_week', order=['OP', 'MP', 'AP'], hue_order=['weekday', 'weekend'], split=True, inner=None, palette=\"pastel\")\n",
    "\n",
    "# Point plot to indicate means\n",
    "sns.pointplot(data=df_filtered, x='time_of_day', y='arrival_delay', hue='day_of_week', order=['OP', 'MP', 'AP'], hue_order=['weekday', 'weekend'], dodge=0.532, join=False, palette=\"dark\", markers=\"D\", scale=0.75, ci=None)\n",
    "\n",
    "plt.title('Arrival Delay Distribution by Time of Day and Day of Week with Mean')\n",
    "plt.legend(title='Day of Week')\n",
    "plt.show()"
   ]
  },
  {
   "cell_type": "code",
   "execution_count": 9,
   "metadata": {
    "id": "FxbRc09zhOdJ"
   },
   "outputs": [
    {
     "name": "stdout",
     "output_type": "stream",
     "text": [
      "['Light Snow' 'Normal' 'Light Rain' 'Rain' 'Snow']\n",
      "['Normal' 'Cold' 'Extra cold']\n"
     ]
    }
   ],
   "source": [
    "print(df[\"weather\"].unique())\n",
    "print(df[\"temperature\"].unique())\n",
    "\n",
    "df = df.drop(columns='temperature')  # Remove it since we have them already\n",
    "df = df.drop(columns='weather')  # Remove it since we have them already"
   ]
  },
  {
   "cell_type": "code",
   "execution_count": 10,
   "metadata": {
    "id": "SuEZgoNVkwF3"
   },
   "outputs": [
    {
     "name": "stdout",
     "output_type": "stream",
     "text": [
      "routeid [4]\n",
      "bus id [41344 41732 44417 45537 41370 41358 41369 41353 44416 41360 44066 41362\n",
      " 44068 41359 44418 45536 44060 41352 41363 44069 45535 44057 41379 44058\n",
      " 41728 44410 44413 45544 45538 41345 41361 41924 41365 41376 41372 45540\n",
      " 41366 41351 45532 41356 41725 44062 41346 45529 44063 45703 44086 41378\n",
      " 44065 45541 44064 45531 41374 41729 41348 45543 44067 41364 41355 41357\n",
      " 44415 44059 45545 41733 41367 41354 41349 45542 44061 41343 45534 44411\n",
      " 44412 41731 44056 41371 41730 41724 44074 45530 45533 41734 45539 44414\n",
      " 41727 41373 44092 44091 44082 44079 44073 45189 44090 41395 44083 41398\n",
      " 44070 41881 41892 41350 41726 41375 41377 41877 44571 44093 45709 45716\n",
      " 41930 41394 44071 44055 45792 41886 41911 41397 41864 44054 41347 41859\n",
      " 41396 41368 44081 44076 41875 44077 45778 41720 41915 41918 45807 41908\n",
      " 45707 41929 45780 44088 44582 41865 41879 41383 45702 45808 41912 41923\n",
      " 45211 45723 41721 44419 41860 44573 45722 45711]\n",
      "time of day ['OP' 'MP' 'AP']\n",
      "day of week ['weekend' 'weekday']\n"
     ]
    }
   ],
   "source": [
    "print(\"routeid\",df[\"route_id\"].unique())\n",
    "print(\"bus id\",df[\"bus_id\"].unique())\n",
    "\n",
    "print(\"time of day\",df[\"time_of_day\"].unique())\n",
    "print(\"day of week\",df[\"day_of_week\"].unique())\n",
    "\n",
    "df = df.drop(columns='time_of_day')  # Remove it since we have them already\n",
    "df = df.drop(columns='day_of_week')  # Remove it since we have them already"
   ]
  },
  {
   "cell_type": "code",
   "execution_count": 11,
   "metadata": {
    "id": "cxdIduD9YII7"
   },
   "outputs": [
    {
     "name": "stdout",
     "output_type": "stream",
     "text": [
      "['Calendar_date', 'route_id', 'bus_id', 'stop_sequence', 'arrival_delay', 'dwell_time', 'travel_time_for_previous_section', 'scheduled_travel_time', 'upstream_stop_delay', 'origin_delay', 'previous_bus_delay', 'previous_trip_travel_time', 'traffic_condition', 'recurrent_delay', 'factor(weather)Light_Rain', 'factor(weather)Light_Snow', 'factor(weather)Normal', 'factor(weather)Rain', 'factor(weather)Snow', 'factor(temperature)Cold', 'factor(temperature)Extra_cold', 'factor(temperature)Normal', 'factor(day_of_week)weekday', 'factor(day_of_week)weekend', 'factor(time_of_day)Afternoon_peak', 'factor(time_of_day)Morning_peak', 'factor(time_of_day)Off-peak']\n"
     ]
    }
   ],
   "source": [
    "column_titles_list = df.columns.tolist()\n",
    "print(column_titles_list)"
   ]
  },
  {
   "cell_type": "code",
   "execution_count": 12,
   "metadata": {
    "id": "hYTIgvYej-yj"
   },
   "outputs": [
    {
     "data": {
      "image/png": "[encoded data removed]",
      "text/plain": [
       "<Figure size 360x216 with 1 Axes>"
      ]
     },
     "metadata": {},
     "output_type": "display_data"
    }
   ],
   "source": [
    "# Set a theme for seaborn\n",
    "sns.set_theme()\n",
    "filtered_df = df[(df['arrival_delay'] >= -1000) & (df['arrival_delay'] <= 1000)]\n",
    "# Plot the enhanced histogram\n",
    "plt.figure(figsize=(5,3))\n",
    "sns.histplot(filtered_df['arrival_delay'], bins=30, kde=True, color=\"#ff5722\")\n",
    "plt.title('Arrival Delay Histogram')\n",
    "plt.xlabel('Arrival Delay')\n",
    "plt.ylabel('Frequency')\n",
    "plt.show()"
   ]
  },
  {
   "cell_type": "code",
   "execution_count": 13,
   "metadata": {
    "id": "2kWpUENrp8kF"
   },
   "outputs": [
    {
     "name": "stdout",
     "output_type": "stream",
     "text": [
      "Number of snow days: 3699\n"
     ]
    }
   ],
   "source": [
    "snow_days_count = df['factor(weather)Snow'].sum()\n",
    "print(f\"Number of snow days: {snow_days_count}\")"
   ]
  },
  {
   "cell_type": "code",
   "execution_count": 14,
   "metadata": {
    "id": "5VMDiiYDIwFt"
   },
   "outputs": [
    {
     "data": {
      "text/html": [
       "<div>\n",
       "<style scoped>\n",
       "    .dataframe tbody tr th:only-of-type {\n",
       "        vertical-align: middle;\n",
       "    }\n",
       "\n",
       "    .dataframe tbody tr th {\n",
       "        vertical-align: top;\n",
       "    }\n",
       "\n",
       "    .dataframe thead th {\n",
       "        text-align: right;\n",
       "    }\n",
       "</style>\n",
       "<table border=\"1\" class=\"dataframe\">\n",
       "  <thead>\n",
       "    <tr style=\"text-align: right;\">\n",
       "      <th></th>\n",
       "      <th>Calendar_date</th>\n",
       "      <th>route_id</th>\n",
       "      <th>bus_id</th>\n",
       "      <th>stop_sequence</th>\n",
       "      <th>arrival_delay</th>\n",
       "      <th>dwell_time</th>\n",
       "      <th>travel_time_for_previous_section</th>\n",
       "      <th>scheduled_travel_time</th>\n",
       "      <th>upstream_stop_delay</th>\n",
       "      <th>origin_delay</th>\n",
       "      <th>...</th>\n",
       "      <th>factor(weather)Rain</th>\n",
       "      <th>factor(weather)Snow</th>\n",
       "      <th>factor(temperature)Cold</th>\n",
       "      <th>factor(temperature)Extra_cold</th>\n",
       "      <th>factor(temperature)Normal</th>\n",
       "      <th>factor(day_of_week)weekday</th>\n",
       "      <th>factor(day_of_week)weekend</th>\n",
       "      <th>factor(time_of_day)Afternoon_peak</th>\n",
       "      <th>factor(time_of_day)Morning_peak</th>\n",
       "      <th>factor(time_of_day)Off-peak</th>\n",
       "    </tr>\n",
       "  </thead>\n",
       "  <tbody>\n",
       "    <tr>\n",
       "      <th>0</th>\n",
       "      <td>20220108</td>\n",
       "      <td>4</td>\n",
       "      <td>41344</td>\n",
       "      <td>1</td>\n",
       "      <td>151</td>\n",
       "      <td>0</td>\n",
       "      <td>0</td>\n",
       "      <td>120</td>\n",
       "      <td>100</td>\n",
       "      <td>100</td>\n",
       "      <td>...</td>\n",
       "      <td>0</td>\n",
       "      <td>0</td>\n",
       "      <td>0</td>\n",
       "      <td>0</td>\n",
       "      <td>1</td>\n",
       "      <td>0</td>\n",
       "      <td>1</td>\n",
       "      <td>0</td>\n",
       "      <td>0</td>\n",
       "      <td>1</td>\n",
       "    </tr>\n",
       "    <tr>\n",
       "      <th>1</th>\n",
       "      <td>20220108</td>\n",
       "      <td>4</td>\n",
       "      <td>41344</td>\n",
       "      <td>2</td>\n",
       "      <td>185</td>\n",
       "      <td>24</td>\n",
       "      <td>171</td>\n",
       "      <td>45</td>\n",
       "      <td>151</td>\n",
       "      <td>100</td>\n",
       "      <td>...</td>\n",
       "      <td>0</td>\n",
       "      <td>0</td>\n",
       "      <td>0</td>\n",
       "      <td>0</td>\n",
       "      <td>1</td>\n",
       "      <td>0</td>\n",
       "      <td>1</td>\n",
       "      <td>0</td>\n",
       "      <td>0</td>\n",
       "      <td>1</td>\n",
       "    </tr>\n",
       "    <tr>\n",
       "      <th>2</th>\n",
       "      <td>20220108</td>\n",
       "      <td>4</td>\n",
       "      <td>41344</td>\n",
       "      <td>3</td>\n",
       "      <td>186</td>\n",
       "      <td>0</td>\n",
       "      <td>55</td>\n",
       "      <td>41</td>\n",
       "      <td>185</td>\n",
       "      <td>100</td>\n",
       "      <td>...</td>\n",
       "      <td>0</td>\n",
       "      <td>0</td>\n",
       "      <td>0</td>\n",
       "      <td>0</td>\n",
       "      <td>1</td>\n",
       "      <td>0</td>\n",
       "      <td>1</td>\n",
       "      <td>0</td>\n",
       "      <td>0</td>\n",
       "      <td>1</td>\n",
       "    </tr>\n",
       "    <tr>\n",
       "      <th>3</th>\n",
       "      <td>20220108</td>\n",
       "      <td>4</td>\n",
       "      <td>41344</td>\n",
       "      <td>4</td>\n",
       "      <td>202</td>\n",
       "      <td>12</td>\n",
       "      <td>42</td>\n",
       "      <td>94</td>\n",
       "      <td>186</td>\n",
       "      <td>100</td>\n",
       "      <td>...</td>\n",
       "      <td>0</td>\n",
       "      <td>0</td>\n",
       "      <td>0</td>\n",
       "      <td>0</td>\n",
       "      <td>1</td>\n",
       "      <td>0</td>\n",
       "      <td>1</td>\n",
       "      <td>0</td>\n",
       "      <td>0</td>\n",
       "      <td>1</td>\n",
       "    </tr>\n",
       "    <tr>\n",
       "      <th>4</th>\n",
       "      <td>20220108</td>\n",
       "      <td>4</td>\n",
       "      <td>41344</td>\n",
       "      <td>5</td>\n",
       "      <td>242</td>\n",
       "      <td>21</td>\n",
       "      <td>98</td>\n",
       "      <td>86</td>\n",
       "      <td>202</td>\n",
       "      <td>100</td>\n",
       "      <td>...</td>\n",
       "      <td>0</td>\n",
       "      <td>0</td>\n",
       "      <td>0</td>\n",
       "      <td>0</td>\n",
       "      <td>1</td>\n",
       "      <td>0</td>\n",
       "      <td>1</td>\n",
       "      <td>0</td>\n",
       "      <td>0</td>\n",
       "      <td>1</td>\n",
       "    </tr>\n",
       "  </tbody>\n",
       "</table>\n",
       "<p>5 rows × 27 columns</p>\n",
       "</div>"
      ],
      "text/plain": [
       "   Calendar_date  route_id  bus_id  stop_sequence  arrival_delay  dwell_time  \\\n",
       "0       20220108         4   41344              1            151           0   \n",
       "1       20220108         4   41344              2            185          24   \n",
       "2       20220108         4   41344              3            186           0   \n",
       "3       20220108         4   41344              4            202          12   \n",
       "4       20220108         4   41344              5            242          21   \n",
       "\n",
       "   travel_time_for_previous_section  scheduled_travel_time  \\\n",
       "0                                 0                    120   \n",
       "1                               171                     45   \n",
       "2                                55                     41   \n",
       "3                                42                     94   \n",
       "4                                98                     86   \n",
       "\n",
       "   upstream_stop_delay  origin_delay  ...  factor(weather)Rain  \\\n",
       "0                  100           100  ...                    0   \n",
       "1                  151           100  ...                    0   \n",
       "2                  185           100  ...                    0   \n",
       "3                  186           100  ...                    0   \n",
       "4                  202           100  ...                    0   \n",
       "\n",
       "   factor(weather)Snow  factor(temperature)Cold  \\\n",
       "0                    0                        0   \n",
       "1                    0                        0   \n",
       "2                    0                        0   \n",
       "3                    0                        0   \n",
       "4                    0                        0   \n",
       "\n",
       "   factor(temperature)Extra_cold  factor(temperature)Normal  \\\n",
       "0                              0                          1   \n",
       "1                              0                          1   \n",
       "2                              0                          1   \n",
       "3                              0                          1   \n",
       "4                              0                          1   \n",
       "\n",
       "   factor(day_of_week)weekday  factor(day_of_week)weekend  \\\n",
       "0                           0                           1   \n",
       "1                           0                           1   \n",
       "2                           0                           1   \n",
       "3                           0                           1   \n",
       "4                           0                           1   \n",
       "\n",
       "   factor(time_of_day)Afternoon_peak  factor(time_of_day)Morning_peak  \\\n",
       "0                                  0                                0   \n",
       "1                                  0                                0   \n",
       "2                                  0                                0   \n",
       "3                                  0                                0   \n",
       "4                                  0                                0   \n",
       "\n",
       "   factor(time_of_day)Off-peak  \n",
       "0                            1  \n",
       "1                            1  \n",
       "2                            1  \n",
       "3                            1  \n",
       "4                            1  \n",
       "\n",
       "[5 rows x 27 columns]"
      ]
     },
     "execution_count": 14,
     "metadata": {},
     "output_type": "execute_result"
    }
   ],
   "source": [
    "df.head()"
   ]
  },
  {
   "cell_type": "code",
   "execution_count": 15,
   "metadata": {
    "id": "V4SJnnshHImF"
   },
   "outputs": [
    {
     "data": {
      "text/plain": [
       "(<Figure size 900x122.4 with 2 Axes>,\n",
       " array([<AxesSubplot:ylabel='2022'>], dtype=object))"
      ]
     },
     "execution_count": 15,
     "metadata": {},
     "output_type": "execute_result"
    },
    {
     "data": {
      "image/png": "[encoded data removed]",
      "text/plain": [
       "<Figure size 900x122.4 with 2 Axes>"
      ]
     },
     "metadata": {},
     "output_type": "display_data"
    }
   ],
   "source": [
    "# Convert 'Date' column to pandas datetime format\n",
    "df['Date'] = pd.to_datetime(df['Calendar_date'], format='%Y%m%d')\n",
    "\n",
    "# Set the 'Date' column as the index\n",
    "df.set_index('Date', inplace=True)\n",
    "\n",
    "# Plot using calplot\n",
    "calplot.calplot(df['factor(temperature)Cold'], cmap='Blues', edgecolor='lightgray', suptitle=\"Cold Days\", linewidth=1)"
   ]
  },
  {
   "cell_type": "code",
   "execution_count": 16,
   "metadata": {
    "id": "qv94t8tpLpaP"
   },
   "outputs": [
    {
     "data": {
      "text/plain": [
       "(<Figure size 900x122.4 with 2 Axes>,\n",
       " array([<AxesSubplot:ylabel='2022'>], dtype=object))"
      ]
     },
     "execution_count": 16,
     "metadata": {},
     "output_type": "execute_result"
    },
    {
     "data": {
      "image/png": "[encoded data removed]",
      "text/plain": [
       "<Figure size 900x122.4 with 2 Axes>"
      ]
     },
     "metadata": {},
     "output_type": "display_data"
    }
   ],
   "source": [
    "# Plot using calplot\n",
    "calplot.calplot(df['arrival_delay'], cmap='Reds', edgecolor='lightgray', suptitle=\"Delay\", linewidth=1)"
   ]
  },
  {
   "cell_type": "markdown",
   "metadata": {
    "id": "CXtRUZh4TJwZ"
   },
   "source": [
    "#**Create a base line model (Mean)**\n",
    "    Using the whole dataset and its features"
   ]
  },
  {
   "cell_type": "code",
   "execution_count": 17,
   "metadata": {
    "id": "1TyoMGWEKobU"
   },
   "outputs": [
    {
     "name": "stdout",
     "output_type": "stream",
     "text": [
      "Mean Squared Error (MSE): 37596.94219419411\n",
      "Mean Absolute Error (MAE): 138.98420152332488\n",
      "R^2 Score: 0.0\n"
     ]
    }
   ],
   "source": [
    "# Assuming df is your DataFrame\n",
    "# 1. Calculate the mean of the actual delays\n",
    "mean_delay = df['arrival_delay'].mean()\n",
    "\n",
    "# 2. Create a new column with the mean delay as prediction\n",
    "df['predicted_delay'] = mean_delay\n",
    "\n",
    "# 3. Calculate MSE\n",
    "mse = mean_squared_error(df['arrival_delay'], df['predicted_delay'])\n",
    "print(f\"Mean Squared Error (MSE): {mse}\")\n",
    "\n",
    "# Calculate other metrics if required:\n",
    "# Mean Absolute Error (MAE)\n",
    "mae = mean_absolute_error(df['arrival_delay'], df['predicted_delay'])\n",
    "print(f\"Mean Absolute Error (MAE): {mae}\")\n",
    "\n",
    "# R^2 Score (not very meaningful in this context, but can be used)\n",
    "r2 = r2_score(df['arrival_delay'], df['predicted_delay'])\n",
    "print(f\"R^2 Score: {r2}\")\n",
    "\n",
    "# COMMENT FOR REPORT\n",
    "# Since r^2 = 1- ssres / sstot\n",
    "# ssres is actual - pred -> since predis mean denominator and numerator is the same\n",
    "# sstot is actual - mean\n"
   ]
  },
  {
   "cell_type": "markdown",
   "metadata": {
    "id": "LioMkba6-DCV"
   },
   "source": [
    "### Feature engineering"
   ]
  },
  {
   "cell_type": "code",
   "execution_count": 18,
   "metadata": {
    "id": "YJ6zrYgp-GyM"
   },
   "outputs": [],
   "source": [
    "df['mean_bus_delay'] = df.groupby('bus_id')['arrival_delay'].transform('mean')"
   ]
  },
  {
   "cell_type": "markdown",
   "metadata": {
    "id": "M4HhSr2DdN2W"
   },
   "source": [
    "### Regression"
   ]
  },
  {
   "cell_type": "code",
   "execution_count": 19,
   "metadata": {
    "id": "eXoinvqedQdn"
   },
   "outputs": [
    {
     "name": "stdout",
     "output_type": "stream",
     "text": [
      "Number of best features:  26\n",
      "Best features:  Index(['Calendar_date', 'bus_id', 'stop_sequence', 'dwell_time',\n",
      "       'travel_time_for_previous_section', 'scheduled_travel_time',\n",
      "       'upstream_stop_delay', 'origin_delay', 'previous_bus_delay',\n",
      "       'previous_trip_travel_time', 'traffic_condition', 'recurrent_delay',\n",
      "       'factor(weather)Light_Rain', 'factor(weather)Light_Snow',\n",
      "       'factor(weather)Normal', 'factor(weather)Rain', 'factor(weather)Snow',\n",
      "       'factor(temperature)Cold', 'factor(temperature)Extra_cold',\n",
      "       'factor(temperature)Normal', 'factor(day_of_week)weekday',\n",
      "       'factor(day_of_week)weekend', 'factor(time_of_day)Afternoon_peak',\n",
      "       'factor(time_of_day)Morning_peak', 'factor(time_of_day)Off-peak',\n",
      "       'mean_bus_delay'],\n",
      "      dtype='object')\n"
     ]
    }
   ],
   "source": [
    "# Split the data into training and test sets (30% held out for testing)\n",
    "X = df.drop('arrival_delay', axis=1)\n",
    "y = df['arrival_delay']\n",
    "\n",
    "X_train, X_test, y_train, y_test = train_test_split(X, y, test_size=0.3, random_state=0)\n",
    "\n",
    "# Define Ridge regression model\n",
    "ridge = Ridge(alpha=1.0)  # Change alpha as needed\n",
    "\n",
    "model = LinearRegression()\n",
    "\n",
    "# Recursive feature elimination with cross-validation\n",
    "selector = RFECV(estimator=ridge, step=1, cv=5)\n",
    "selector = selector.fit(X_train, y_train)\n",
    "\n",
    "\n",
    "# Select the important features based on RFECV\n",
    "X_train_selected = selector.transform(X_train)\n",
    "\n",
    "print(\"Number of best features: \", selector.n_features_)\n",
    "print(\"Best features: \", X_train.columns[selector.support_])\n"
   ]
  },
  {
   "cell_type": "code",
   "execution_count": 20,
   "metadata": {
    "id": "S6iIiFgedcES"
   },
   "outputs": [
    {
     "name": "stdout",
     "output_type": "stream",
     "text": [
      "Mean Squared Error (MSE): 395.7775536569332\n",
      "R-squared (R2 ): 0.9894968789153651\n",
      "Adjusted R-squared: 0.9894950802377319\n"
     ]
    }
   ],
   "source": [
    "\n",
    "ridge.fit(X_train, y_train)\n",
    "predictions = ridge.predict(X_test)\n",
    "\n",
    "mse = mean_squared_error(y_test, predictions)\n",
    "r2 = r2_score(y_test, predictions)\n",
    "\n",
    "# Calculate adjusted R^2\n",
    "n = len(y_test)\n",
    "k = X_test.shape[1]\n",
    "adjusted_r2 = 1 - (1 - r2) * (n - 1) / (n - k - 1)\n",
    "\n",
    "print(f'Mean Squared Error (MSE): {mse}')\n",
    "print(f'R-squared (R2 ): {r2}')\n",
    "print(f'Adjusted R-squared: {adjusted_r2}')\n"
   ]
  },
  {
   "cell_type": "markdown",
   "metadata": {
    "id": "NLcy1uoDBwoU"
   },
   "source": [
    "### Decision Tree Regresson"
   ]
  },
  {
   "cell_type": "code",
   "execution_count": 21,
   "metadata": {
    "id": "uaXVjMs2B113"
   },
   "outputs": [
    {
     "name": "stdout",
     "output_type": "stream",
     "text": [
      "Mean Squared Error: 825.325626333845\n",
      "R^2 Score: 0.9780975578136234\n"
     ]
    }
   ],
   "source": [
    "regressor = DecisionTreeRegressor(random_state=42)\n",
    "regressor.fit(X_train, y_train)\n",
    "y_pred = regressor.predict(X_test)\n",
    "\n",
    "mse = mean_squared_error(y_test, y_pred)\n",
    "print(f\"Mean Squared Error: {mse}\")\n",
    "\n",
    "r2 = r2_score(y_test, y_pred)\n",
    "print(f\"R^2 Score: {r2}\")\n"
   ]
  },
  {
   "cell_type": "markdown",
   "metadata": {
    "id": "na2cyLGFJpnU"
   },
   "source": [
    "### Split weekend & weekday"
   ]
  },
  {
   "cell_type": "code",
   "execution_count": 22,
   "metadata": {
    "id": "1ULSDqOJJtB5"
   },
   "outputs": [],
   "source": [
    "# # Splitting the DataFrame into weekend and weekday DataFrames\n",
    "# # For weekend\n",
    "# df_weekend = df[df['factor(day_of_week)weekend'] == 1].copy()\n",
    "# df_weekend.drop(columns=['factor(day_of_week)weekend', 'factor(day_of_week)weekday'], inplace=True)\n",
    "# # For weekday\n",
    "# df_weekday = df[df['factor(day_of_week)weekday'] == 1].copy()\n",
    "# df_weekday.drop(columns=['factor(day_of_week)weekend', 'factor(day_of_week)weekday'], inplace=True)"
   ]
  },
  {
   "cell_type": "markdown",
   "metadata": {
    "id": "YCATWKw7gEty"
   },
   "source": [
    "# **Model 1: Weekday Model**\n",
    "    Using only data during weekdays and specified particular variables"
   ]
  },
  {
   "cell_type": "code",
   "execution_count": 23,
   "metadata": {
    "id": "4QMuyMgUgc1_"
   },
   "outputs": [
    {
     "ename": "KeyError",
     "evalue": "'day_of_week'",
     "output_type": "error",
     "traceback": [
      "\u001b[0;31m---------------------------------------------------------------------------\u001b[0m",
      "\u001b[0;31mKeyError\u001b[0m                                  Traceback (most recent call last)",
      "File \u001b[0;32m~/opt/anaconda3/lib/python3.9/site-packages/pandas/core/indexes/base.py:3621\u001b[0m, in \u001b[0;36mIndex.get_loc\u001b[0;34m(self, key, method, tolerance)\u001b[0m\n\u001b[1;32m   3620\u001b[0m \u001b[38;5;28;01mtry\u001b[39;00m:\n\u001b[0;32m-> 3621\u001b[0m     \u001b[38;5;28;01mreturn\u001b[39;00m \u001b[38;5;28;43mself\u001b[39;49m\u001b[38;5;241;43m.\u001b[39;49m\u001b[43m_engine\u001b[49m\u001b[38;5;241;43m.\u001b[39;49m\u001b[43mget_loc\u001b[49m\u001b[43m(\u001b[49m\u001b[43mcasted_key\u001b[49m\u001b[43m)\u001b[49m\n\u001b[1;32m   3622\u001b[0m \u001b[38;5;28;01mexcept\u001b[39;00m \u001b[38;5;167;01mKeyError\u001b[39;00m \u001b[38;5;28;01mas\u001b[39;00m err:\n",
      "File \u001b[0;32m~/opt/anaconda3/lib/python3.9/site-packages/pandas/_libs/index.pyx:136\u001b[0m, in \u001b[0;36mpandas._libs.index.IndexEngine.get_loc\u001b[0;34m()\u001b[0m\n",
      "File \u001b[0;32m~/opt/anaconda3/lib/python3.9/site-packages/pandas/_libs/index.pyx:163\u001b[0m, in \u001b[0;36mpandas._libs.index.IndexEngine.get_loc\u001b[0;34m()\u001b[0m\n",
      "File \u001b[0;32mpandas/_libs/hashtable_class_helper.pxi:5198\u001b[0m, in \u001b[0;36mpandas._libs.hashtable.PyObjectHashTable.get_item\u001b[0;34m()\u001b[0m\n",
      "File \u001b[0;32mpandas/_libs/hashtable_class_helper.pxi:5206\u001b[0m, in \u001b[0;36mpandas._libs.hashtable.PyObjectHashTable.get_item\u001b[0;34m()\u001b[0m\n",
      "\u001b[0;31mKeyError\u001b[0m: 'day_of_week'",
      "\nThe above exception was the direct cause of the following exception:\n",
      "\u001b[0;31mKeyError\u001b[0m                                  Traceback (most recent call last)",
      "Input \u001b[0;32mIn [23]\u001b[0m, in \u001b[0;36m<cell line: 3>\u001b[0;34m()\u001b[0m\n\u001b[1;32m      1\u001b[0m \u001b[38;5;66;03m# Extract only 'Weekdays' from day_of_week to train\u001b[39;00m\n\u001b[1;32m      2\u001b[0m \u001b[38;5;66;03m# Filter the data\u001b[39;00m\n\u001b[0;32m----> 3\u001b[0m df_weekday \u001b[38;5;241m=\u001b[39m df[\u001b[43mdf\u001b[49m\u001b[43m[\u001b[49m\u001b[38;5;124;43m'\u001b[39;49m\u001b[38;5;124;43mday_of_week\u001b[39;49m\u001b[38;5;124;43m'\u001b[39;49m\u001b[43m]\u001b[49m \u001b[38;5;241m==\u001b[39m \u001b[38;5;124m'\u001b[39m\u001b[38;5;124mweekday\u001b[39m\u001b[38;5;124m'\u001b[39m]\n",
      "File \u001b[0;32m~/opt/anaconda3/lib/python3.9/site-packages/pandas/core/frame.py:3505\u001b[0m, in \u001b[0;36mDataFrame.__getitem__\u001b[0;34m(self, key)\u001b[0m\n\u001b[1;32m   3503\u001b[0m \u001b[38;5;28;01mif\u001b[39;00m \u001b[38;5;28mself\u001b[39m\u001b[38;5;241m.\u001b[39mcolumns\u001b[38;5;241m.\u001b[39mnlevels \u001b[38;5;241m>\u001b[39m \u001b[38;5;241m1\u001b[39m:\n\u001b[1;32m   3504\u001b[0m     \u001b[38;5;28;01mreturn\u001b[39;00m \u001b[38;5;28mself\u001b[39m\u001b[38;5;241m.\u001b[39m_getitem_multilevel(key)\n\u001b[0;32m-> 3505\u001b[0m indexer \u001b[38;5;241m=\u001b[39m \u001b[38;5;28;43mself\u001b[39;49m\u001b[38;5;241;43m.\u001b[39;49m\u001b[43mcolumns\u001b[49m\u001b[38;5;241;43m.\u001b[39;49m\u001b[43mget_loc\u001b[49m\u001b[43m(\u001b[49m\u001b[43mkey\u001b[49m\u001b[43m)\u001b[49m\n\u001b[1;32m   3506\u001b[0m \u001b[38;5;28;01mif\u001b[39;00m is_integer(indexer):\n\u001b[1;32m   3507\u001b[0m     indexer \u001b[38;5;241m=\u001b[39m [indexer]\n",
      "File \u001b[0;32m~/opt/anaconda3/lib/python3.9/site-packages/pandas/core/indexes/base.py:3623\u001b[0m, in \u001b[0;36mIndex.get_loc\u001b[0;34m(self, key, method, tolerance)\u001b[0m\n\u001b[1;32m   3621\u001b[0m     \u001b[38;5;28;01mreturn\u001b[39;00m \u001b[38;5;28mself\u001b[39m\u001b[38;5;241m.\u001b[39m_engine\u001b[38;5;241m.\u001b[39mget_loc(casted_key)\n\u001b[1;32m   3622\u001b[0m \u001b[38;5;28;01mexcept\u001b[39;00m \u001b[38;5;167;01mKeyError\u001b[39;00m \u001b[38;5;28;01mas\u001b[39;00m err:\n\u001b[0;32m-> 3623\u001b[0m     \u001b[38;5;28;01mraise\u001b[39;00m \u001b[38;5;167;01mKeyError\u001b[39;00m(key) \u001b[38;5;28;01mfrom\u001b[39;00m \u001b[38;5;21;01merr\u001b[39;00m\n\u001b[1;32m   3624\u001b[0m \u001b[38;5;28;01mexcept\u001b[39;00m \u001b[38;5;167;01mTypeError\u001b[39;00m:\n\u001b[1;32m   3625\u001b[0m     \u001b[38;5;66;03m# If we have a listlike key, _check_indexing_error will raise\u001b[39;00m\n\u001b[1;32m   3626\u001b[0m     \u001b[38;5;66;03m#  InvalidIndexError. Otherwise we fall through and re-raise\u001b[39;00m\n\u001b[1;32m   3627\u001b[0m     \u001b[38;5;66;03m#  the TypeError.\u001b[39;00m\n\u001b[1;32m   3628\u001b[0m     \u001b[38;5;28mself\u001b[39m\u001b[38;5;241m.\u001b[39m_check_indexing_error(key)\n",
      "\u001b[0;31mKeyError\u001b[0m: 'day_of_week'"
     ]
    }
   ],
   "source": [
    "# Extract only 'Weekdays' from day_of_week to train\n",
    "# Filter the data\n",
    "df_weekday = df[df['day_of_week'] == 'weekday']"
   ]
  },
  {
   "cell_type": "code",
   "execution_count": null,
   "metadata": {
    "id": "GzHKGrmegVU_"
   },
   "outputs": [],
   "source": []
  },
  {
   "cell_type": "markdown",
   "metadata": {
    "id": "gM-p4qingZeK"
   },
   "source": [
    "# **Model 2: Weekend Model**\n",
    "    Using only data during weekend and specified particular variables"
   ]
  }
 ],
 "metadata": {
  "colab": {
   "provenance": []
  },
  "kernelspec": {
   "display_name": "Python 3 (ipykernel)",
   "language": "python",
   "name": "python3"
  },
  "language_info": {
   "codemirror_mode": {
    "name": "ipython",
    "version": 3
   },
   "file_extension": ".py",
   "mimetype": "text/x-python",
   "name": "python",
   "nbconvert_exporter": "python",
   "pygments_lexer": "ipython3",
   "version": "3.9.12"
  }
 },
 "nbformat": 4,
 "nbformat_minor": 1
}
