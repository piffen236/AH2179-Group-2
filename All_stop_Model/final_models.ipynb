{
 "cells": [
  {
   "cell_type": "code",
   "execution_count": 1,
   "id": "76714239",
   "metadata": {},
   "outputs": [
    {
     "name": "stderr",
     "output_type": "stream",
     "text": [
      "/Users/jesperhelen/opt/anaconda3/lib/python3.9/site-packages/scipy/__init__.py:146: UserWarning: A NumPy version >=1.16.5 and <1.23.0 is required for this version of SciPy (detected version 1.26.0\n",
      "  warnings.warn(f\"A NumPy version >={np_minversion} and <{np_maxversion}\"\n"
     ]
    }
   ],
   "source": [
    "import pandas as pd\n",
    "\n",
    "#Plot\n",
    "import numpy as np\n",
    "import matplotlib.pyplot as plt\n",
    "import matplotlib.colors as mcolors\n",
    "import seaborn as sns\n",
    "import calendar \n",
    "import calplot # actually used\n",
    "\n",
    "# Score model\n",
    "from sklearn.metrics import mean_squared_error, mean_absolute_error, r2_score\n",
    "\n",
    "# Model\n",
    "from sklearn.model_selection import train_test_split, cross_val_score,GridSearchCV\n",
    "from sklearn.linear_model import Ridge, LinearRegression\n",
    "from sklearn.feature_selection import RFECV\n",
    "from sklearn.preprocessing import StandardScaler\n",
    "from sklearn.tree import DecisionTreeRegressor\n",
    "from sklearn.ensemble import RandomForestRegressor, GradientBoostingRegressor\n",
    "\n",
    "from xgboost import XGBRegressor\n",
    "from scipy import stats\n",
    "\n"
   ]
  },
  {
   "cell_type": "code",
   "execution_count": null,
   "id": "28b2a247",
   "metadata": {},
   "outputs": [],
   "source": []
  },
  {
   "cell_type": "markdown",
   "id": "6d24e4b9",
   "metadata": {},
   "source": [
    "# Base Line model"
   ]
  },
  {
   "cell_type": "code",
   "execution_count": 2,
   "id": "5d199796",
   "metadata": {},
   "outputs": [],
   "source": [
    "url = \"https://raw.githubusercontent.com/zhenliangma/Applied-AI-in-Transportation/main/ProjectAssignmentData/Dataset-PT.csv\"\n",
    "df = pd.read_csv(url,header=1)"
   ]
  },
  {
   "cell_type": "markdown",
   "id": "5e3b7437",
   "metadata": {},
   "source": [
    "##  Mean"
   ]
  },
  {
   "cell_type": "code",
   "execution_count": 3,
   "id": "815f87df",
   "metadata": {},
   "outputs": [
    {
     "name": "stdout",
     "output_type": "stream",
     "text": [
      "Mean Squared Error (MSE): 37596.94219419411\n",
      "Mean Absolute Error (MAE): 138.98420152332488\n",
      "R^2 Score: 0.0\n"
     ]
    }
   ],
   "source": [
    "\n",
    "# Assuming df is your DataFrame\n",
    "# 1. Calculate the mean of the actual delays\n",
    "mean_delay = df['arrival_delay'].mean()\n",
    "\n",
    "# 2. Create a new column with the mean delay as prediction\n",
    "df['predicted_delay'] = mean_delay\n",
    "\n",
    "# 3. Calculate MSE\n",
    "mse = mean_squared_error(df['arrival_delay'], df['predicted_delay'])\n",
    "print(f\"Mean Squared Error (MSE): {mse}\")\n",
    "\n",
    "# Calculate other metrics if required:\n",
    "# Mean Absolute Error (MAE)\n",
    "mae = mean_absolute_error(df['arrival_delay'], df['predicted_delay'])\n",
    "print(f\"Mean Absolute Error (MAE): {mae}\")\n",
    "\n",
    "# R^2 Score (not very meaningful in this context, but can be used)\n",
    "r2 = r2_score(df['arrival_delay'], df['predicted_delay'])\n",
    "print(f\"R^2 Score: {r2}\")\n",
    "df = df.drop(columns='predicted_delay')\n",
    "# COMMENT FOR REPORT\n",
    "# Since r^2 = 1- ssres / sstot\n",
    "# ssres is actual - pred -> since predis mean denominator and numerator is the same\n",
    "# sstot is actual - mean"
   ]
  },
  {
   "cell_type": "markdown",
   "id": "98a01703",
   "metadata": {},
   "source": [
    "# Dataframe setup"
   ]
  },
  {
   "cell_type": "code",
   "execution_count": 4,
   "id": "d1e304c4",
   "metadata": {},
   "outputs": [
    {
     "name": "stdout",
     "output_type": "stream",
     "text": [
      "Number of outliers removed: 228\n",
      "Size of the original DataFrame: 544875\n"
     ]
    }
   ],
   "source": [
    "# Read the data\n",
    "url = \"https://raw.githubusercontent.com/zhenliangma/Applied-AI-in-Transportation/main/ProjectAssignmentData/Dataset-PT.csv\"\n",
    "df = pd.read_csv(url, header=1)\n",
    "#df = df.drop(columns=['weather', 'temperature', 'day_of_week', 'time_of_day'])\n",
    "# Calculate z-scores for the 'arrival_delay' column\n",
    "z_scores = stats.zscore(df['arrival_delay'])\n",
    "\n",
    "# Get boolean array indicating the location of outliers\n",
    "outliers = (z_scores > 7) | (z_scores < -7)\n",
    "\n",
    "# Count the number of outliers\n",
    "num_outliers = outliers.sum()\n",
    "\n",
    "# Print the number of outliers\n",
    "print(f\"Number of outliers removed: {num_outliers}\")\n",
    "\n",
    "# Remove the outliers\n",
    "df = df[~outliers]\n",
    "\n",
    "# Verify the new size of the DataFrame\n",
    "print(f\"Size of the original DataFrame: {len(df)}\")\n",
    "#print(f\"Size of the DataFrame after removing outliers: {len(df_no_outliers)}\")\n",
    "selected_values = [1, 5, 8, 12, 14, 16, 19, 20, 21, 23]\n",
    "df = df[df['stop_sequence'].isin(selected_values)]"
   ]
  },
  {
   "cell_type": "markdown",
   "id": "71c08729",
   "metadata": {},
   "source": [
    "# Only Daytype Model"
   ]
  },
  {
   "cell_type": "code",
   "execution_count": 5,
   "id": "90ab1e5e",
   "metadata": {},
   "outputs": [
    {
     "name": "stderr",
     "output_type": "stream",
     "text": [
      "2023-10-16 12:04:12.008011: I tensorflow/core/platform/cpu_feature_guard.cc:182] This TensorFlow binary is optimized to use available CPU instructions in performance-critical operations.\n",
      "To enable the following instructions: AVX2 FMA, in other operations, rebuild TensorFlow with the appropriate compiler flags.\n"
     ]
    },
    {
     "name": "stdout",
     "output_type": "stream",
     "text": [
      "964/964 [==============================] - 2s 2ms/step\n",
      "298/298 [==============================] - 1s 2ms/step\n",
      "  day_type best_model         MSE        MAE       R^2\n",
      "0  weekday         LR  456.139671  14.528941  0.985040\n",
      "1  weekend         LR  320.485326  12.528997  0.993448\n"
     ]
    }
   ],
   "source": [
    "from sklearn.linear_model import LinearRegression\n",
    "from sklearn.metrics import mean_squared_error, mean_absolute_error\n",
    "from sklearn.model_selection import train_test_split, KFold\n",
    "from sklearn.feature_selection import RFECV\n",
    "from tensorflow.keras.models import Sequential\n",
    "from tensorflow.keras.layers import Dense, Dropout\n",
    "from tensorflow.keras.optimizers import Adam\n",
    "from tensorflow.keras.callbacks import EarlyStopping\n",
    "import pandas as pd\n",
    "\n",
    "def train_and_evaluate(df):\n",
    "    # Split the dataset\n",
    "    df_train, df_test = train_test_split(df, test_size=0.2, random_state=42)\n",
    "\n",
    "    # Results placeholder\n",
    "    results = {\n",
    "        'day_type': [],\n",
    "        'best_model': [],\n",
    "        'MSE': [],\n",
    "        'MAE': [],\n",
    "        'R^2': []  \n",
    "    }\n",
    "\n",
    "    # Function to train and evaluate Linear Regression with RFECV\n",
    "    def train_lr_model(df_train_subset):\n",
    "        x_train = df_train_subset.drop(['arrival_delay', 'day_of_week', 'time_of_day', \"weather\", \"temperature\"], axis=1)\n",
    "        y_train = df_train_subset['arrival_delay']\n",
    "\n",
    "        model = LinearRegression()\n",
    "        selector = RFECV(estimator=model, step=1, cv=KFold(5))\n",
    "        selector = selector.fit(x_train, y_train)\n",
    "\n",
    "        model.fit(x_train.iloc[:, selector.support_], y_train)\n",
    "        \n",
    "        return model, selector\n",
    "\n",
    "    # Function to train Neural Network\n",
    "    def train_nn_model(df_train_subset):\n",
    "        x_train = df_train_subset.drop(['arrival_delay', 'day_of_week', 'time_of_day', \"weather\", \"temperature\"], axis=1)\n",
    "        y_train = df_train_subset['arrival_delay']\n",
    "\n",
    "        model_nn = Sequential([\n",
    "            Dense(32, activation='relu', input_dim=x_train.shape[1]),\n",
    "            Dropout(0.001),\n",
    "            Dense(64, activation='relu'),\n",
    "            Dense(1)\n",
    "        ])\n",
    "        model_nn.compile(optimizer=Adam(learning_rate=0.001), loss='mean_squared_error')\n",
    "        early_stopping = EarlyStopping(monitor='val_loss', patience=10, restore_best_weights=True)\n",
    "        model_nn.fit(x_train, y_train, validation_split=0.2, epochs=100, batch_size=32, callbacks=[early_stopping], verbose=0)\n",
    "        \n",
    "        return model_nn\n",
    "\n",
    "    for day_type in ['weekday', 'weekend']:\n",
    "        df_train_subset = df_train[df_train['day_of_week'] == day_type]\n",
    "        df_test_subset = df_test[df_test['day_of_week'] == day_type]\n",
    "\n",
    "        # Train and evaluate Linear Regression model\n",
    "        model_lr, selector = train_lr_model(df_train_subset)\n",
    "        x_test = df_test_subset.drop(['arrival_delay', 'day_of_week', 'time_of_day', \"weather\", \"temperature\"], axis=1).iloc[:, selector.support_]\n",
    "        y_pred_lr = model_lr.predict(x_test)\n",
    "        mse_lr = mean_squared_error(df_test_subset['arrival_delay'], y_pred_lr)\n",
    "        mae_lr = mean_absolute_error(df_test_subset['arrival_delay'], y_pred_lr)\n",
    "        r2_lr = r2_score(df_test_subset['arrival_delay'], y_pred_lr)\n",
    "        # Train and evaluate Neural Network\n",
    "        model_nn = train_nn_model(df_train_subset)\n",
    "        y_pred_nn = model_nn.predict(df_test_subset.drop(['arrival_delay', 'day_of_week', 'time_of_day', \"weather\", \"temperature\"], axis=1)).flatten()\n",
    "        mse_nn = mean_squared_error(df_test_subset['arrival_delay'], y_pred_nn)\n",
    "        mae_nn = mean_absolute_error(df_test_subset['arrival_delay'], y_pred_nn)\n",
    "        r2_nn = r2_score(df_test_subset['arrival_delay'], y_pred_nn)\n",
    "\n",
    "        # Choose the best model based on MAE\n",
    "        if mae_nn < mae_lr:\n",
    "            best_model = \"NN\"\n",
    "            best_mse = mse_nn\n",
    "            best_mae = mae_nn\n",
    "            best_r2 = r2_nn\n",
    "        else:\n",
    "            best_model = \"LR\"\n",
    "            best_mse = mse_lr\n",
    "            best_mae = mae_lr\n",
    "            best_r2 = r2_lr\n",
    "\n",
    "        results['day_type'].append(day_type)\n",
    "        results['best_model'].append(best_model)\n",
    "        results['MSE'].append(best_mse)\n",
    "        results['MAE'].append(best_mae)\n",
    "        results['R^2'].append(best_r2)\n",
    "    return pd.DataFrame(results)\n",
    "\n",
    "results = train_and_evaluate(df)\n",
    "print(results)\n"
   ]
  },
  {
   "cell_type": "markdown",
   "id": "16a884bc",
   "metadata": {},
   "source": [
    "# stop and daytime model (LR)"
   ]
  },
  {
   "cell_type": "code",
   "execution_count": 11,
   "id": "e9fdf58d",
   "metadata": {},
   "outputs": [],
   "source": [
    "def train_evaluate_lr_model(df, n_folds=5):\n",
    "    df_train, df_test = train_test_split(df, test_size=0.2, random_state=42)\n",
    "\n",
    "    results = {\n",
    "        'stop_sequence': [],\n",
    "        'day_type': [],\n",
    "        'R^2': [],\n",
    "        'MAE': []\n",
    "    }\n",
    "\n",
    "    for stop_seq in df['stop_sequence'].unique():\n",
    "        for day_type in ['weekday', 'weekend']:\n",
    "            print(f\"Processing stop_sequence {stop_seq} for {day_type}...\")\n",
    "            \n",
    "            df_train_subset = df_train[(df_train['stop_sequence'] == stop_seq) & (df_train['day_of_week'] == day_type)]\n",
    "\n",
    "            drop_columns = ['arrival_delay', 'day_of_week', 'time_of_day', \"weather\", \"temperature\"]\n",
    "            x_train = df_train_subset.drop(columns=drop_columns, errors='ignore').astype('float32')\n",
    "            y_train = df_train_subset['arrival_delay'].astype('float32')\n",
    "\n",
    "            r2_scores_lr = []\n",
    "            maes_lr = []\n",
    "\n",
    "            # K-fold CV\n",
    "            kf = KFold(n_splits=n_folds)\n",
    "            for fold, (train_index, val_index) in enumerate(kf.split(x_train)):\n",
    "                print(f\"Running Fold {fold + 1}...\")\n",
    "\n",
    "                x_train_fold, x_val_fold = x_train.iloc[train_index], x_train.iloc[val_index]\n",
    "                y_train_fold, y_val_fold = y_train.iloc[train_index], y_train.iloc[val_index]\n",
    "\n",
    "                # Train and evaluate LR\n",
    "                print(\"Training Linear Regression...\")\n",
    "                model_lr = LinearRegression().fit(x_train_fold, y_train_fold)\n",
    "                y_pred_lr = model_lr.predict(x_val_fold)\n",
    "                r2_scores_lr.append(r2_score(y_val_fold, y_pred_lr))\n",
    "                maes_lr.append(mean_absolute_error(y_val_fold, y_pred_lr))\n",
    "\n",
    "            # Save LR model\n",
    "            best_r2 = np.mean(r2_scores_lr)\n",
    "            best_mae = np.mean(maes_lr)\n",
    "            if not os.path.exists(\"lr_models\"):\n",
    "                os.makedirs(\"lr_models\")\n",
    "            joblib.dump(model_lr, os.path.join(\"lr_models\", f'lr_model_{stop_seq}_{day_type}.pkl'))\n",
    "\n",
    "            results['stop_sequence'].append(stop_seq)\n",
    "            results['day_type'].append(day_type)\n",
    "            results['R^2'].append(best_r2)\n",
    "            results['MAE'].append(best_mae)\n",
    "\n",
    "    return pd.DataFrame(results)\n",
    "\n",
    "def predict_with_lr_model(df):\n",
    "    all_groups = []\n",
    "\n",
    "    grouped = df.groupby(['stop_sequence', 'day_of_week'])\n",
    "    for (stop_seq, day_type), group in grouped:\n",
    "        lr_model_path = os.path.join(\"lr_models\", f'lr_model_{stop_seq}_{day_type}.pkl')\n",
    "\n",
    "        X = group.drop(columns=['arrival_delay', 'day_of_week', 'time_of_day', \"weather\", \"temperature\"], errors='ignore').astype('float32')\n",
    "        \n",
    "        if os.path.exists(lr_model_path):\n",
    "            model = joblib.load(lr_model_path)\n",
    "            group['predicted_delay'] = model.predict(X)\n",
    "        else:\n",
    "            raise ValueError(f\"No saved model found for stop_sequence: {stop_seq} and day_type: {day_type}\")\n",
    "\n",
    "        all_groups.append(group)\n",
    "\n",
    "    result_df = pd.concat(all_groups)\n",
    "    return result_df\n"
   ]
  },
  {
   "cell_type": "code",
   "execution_count": 7,
   "id": "d4ff8dc0",
   "metadata": {},
   "outputs": [
    {
     "name": "stdout",
     "output_type": "stream",
     "text": [
      "Processing stop_sequence 1 for weekday...\n",
      "Running Fold 1...\n",
      "Training Linear Regression...\n",
      "Running Fold 2...\n",
      "Training Linear Regression...\n",
      "Running Fold 3...\n",
      "Training Linear Regression...\n",
      "Running Fold 4...\n",
      "Training Linear Regression...\n",
      "Running Fold 5...\n",
      "Training Linear Regression...\n",
      "Processing stop_sequence 1 for weekend...\n",
      "Running Fold 1...\n",
      "Training Linear Regression...\n",
      "Running Fold 2...\n",
      "Training Linear Regression...\n",
      "Running Fold 3...\n",
      "Training Linear Regression...\n",
      "Running Fold 4...\n",
      "Training Linear Regression...\n",
      "Running Fold 5...\n",
      "Training Linear Regression...\n",
      "Processing stop_sequence 5 for weekday...\n",
      "Running Fold 1...\n",
      "Training Linear Regression...\n",
      "Running Fold 2...\n",
      "Training Linear Regression...\n",
      "Running Fold 3...\n",
      "Training Linear Regression...\n",
      "Running Fold 4...\n",
      "Training Linear Regression...\n",
      "Running Fold 5...\n",
      "Training Linear Regression...\n",
      "Processing stop_sequence 5 for weekend...\n",
      "Running Fold 1...\n",
      "Training Linear Regression...\n",
      "Running Fold 2...\n",
      "Training Linear Regression...\n",
      "Running Fold 3...\n",
      "Training Linear Regression...\n",
      "Running Fold 4...\n",
      "Training Linear Regression...\n",
      "Running Fold 5...\n",
      "Training Linear Regression...\n",
      "Processing stop_sequence 8 for weekday...\n",
      "Running Fold 1...\n",
      "Training Linear Regression...\n",
      "Running Fold 2...\n",
      "Training Linear Regression...\n",
      "Running Fold 3...\n",
      "Training Linear Regression...\n",
      "Running Fold 4...\n",
      "Training Linear Regression...\n",
      "Running Fold 5...\n",
      "Training Linear Regression...\n",
      "Processing stop_sequence 8 for weekend...\n",
      "Running Fold 1...\n",
      "Training Linear Regression...\n",
      "Running Fold 2...\n",
      "Training Linear Regression...\n",
      "Running Fold 3...\n",
      "Training Linear Regression...\n",
      "Running Fold 4...\n",
      "Training Linear Regression...\n",
      "Running Fold 5...\n",
      "Training Linear Regression...\n",
      "Processing stop_sequence 12 for weekday...\n",
      "Running Fold 1...\n",
      "Training Linear Regression...\n",
      "Running Fold 2...\n",
      "Training Linear Regression...\n",
      "Running Fold 3...\n",
      "Training Linear Regression...\n",
      "Running Fold 4...\n",
      "Training Linear Regression...\n",
      "Running Fold 5...\n",
      "Training Linear Regression...\n",
      "Processing stop_sequence 12 for weekend...\n",
      "Running Fold 1...\n",
      "Training Linear Regression...\n",
      "Running Fold 2...\n",
      "Training Linear Regression...\n",
      "Running Fold 3...\n",
      "Training Linear Regression...\n",
      "Running Fold 4...\n",
      "Training Linear Regression...\n",
      "Running Fold 5...\n",
      "Training Linear Regression...\n",
      "Processing stop_sequence 14 for weekday...\n",
      "Running Fold 1...\n",
      "Training Linear Regression...\n",
      "Running Fold 2...\n",
      "Training Linear Regression...\n",
      "Running Fold 3...\n",
      "Training Linear Regression...\n",
      "Running Fold 4...\n",
      "Training Linear Regression...\n",
      "Running Fold 5...\n",
      "Training Linear Regression...\n",
      "Processing stop_sequence 14 for weekend...\n",
      "Running Fold 1...\n",
      "Training Linear Regression...\n",
      "Running Fold 2...\n",
      "Training Linear Regression...\n",
      "Running Fold 3...\n",
      "Training Linear Regression...\n",
      "Running Fold 4...\n",
      "Training Linear Regression...\n",
      "Running Fold 5...\n",
      "Training Linear Regression...\n",
      "Processing stop_sequence 16 for weekday...\n",
      "Running Fold 1...\n",
      "Training Linear Regression...\n",
      "Running Fold 2...\n",
      "Training Linear Regression...\n",
      "Running Fold 3...\n",
      "Training Linear Regression...\n",
      "Running Fold 4...\n",
      "Training Linear Regression...\n",
      "Running Fold 5...\n",
      "Training Linear Regression...\n",
      "Processing stop_sequence 16 for weekend...\n",
      "Running Fold 1...\n",
      "Training Linear Regression...\n",
      "Running Fold 2...\n",
      "Training Linear Regression...\n",
      "Running Fold 3...\n",
      "Training Linear Regression...\n",
      "Running Fold 4...\n",
      "Training Linear Regression...\n",
      "Running Fold 5...\n",
      "Training Linear Regression...\n",
      "Processing stop_sequence 19 for weekday...\n",
      "Running Fold 1...\n",
      "Training Linear Regression...\n",
      "Running Fold 2...\n",
      "Training Linear Regression...\n",
      "Running Fold 3...\n",
      "Training Linear Regression...\n",
      "Running Fold 4...\n",
      "Training Linear Regression...\n",
      "Running Fold 5...\n",
      "Training Linear Regression...\n",
      "Processing stop_sequence 19 for weekend...\n",
      "Running Fold 1...\n",
      "Training Linear Regression...\n",
      "Running Fold 2...\n",
      "Training Linear Regression...\n",
      "Running Fold 3...\n",
      "Training Linear Regression...\n",
      "Running Fold 4...\n",
      "Training Linear Regression...\n",
      "Running Fold 5...\n",
      "Training Linear Regression...\n",
      "Processing stop_sequence 20 for weekday...\n",
      "Running Fold 1...\n",
      "Training Linear Regression...\n",
      "Running Fold 2...\n",
      "Training Linear Regression...\n",
      "Running Fold 3...\n",
      "Training Linear Regression...\n",
      "Running Fold 4...\n",
      "Training Linear Regression...\n",
      "Running Fold 5...\n",
      "Training Linear Regression...\n",
      "Processing stop_sequence 20 for weekend...\n",
      "Running Fold 1...\n",
      "Training Linear Regression...\n",
      "Running Fold 2...\n",
      "Training Linear Regression...\n",
      "Running Fold 3...\n",
      "Training Linear Regression...\n",
      "Running Fold 4...\n",
      "Training Linear Regression...\n",
      "Running Fold 5...\n",
      "Training Linear Regression...\n",
      "Processing stop_sequence 21 for weekday...\n",
      "Running Fold 1...\n",
      "Training Linear Regression...\n",
      "Running Fold 2...\n",
      "Training Linear Regression...\n",
      "Running Fold 3...\n",
      "Training Linear Regression...\n",
      "Running Fold 4...\n",
      "Training Linear Regression...\n",
      "Running Fold 5...\n",
      "Training Linear Regression...\n",
      "Processing stop_sequence 21 for weekend...\n",
      "Running Fold 1...\n",
      "Training Linear Regression...\n",
      "Running Fold 2...\n",
      "Training Linear Regression...\n",
      "Running Fold 3...\n",
      "Training Linear Regression...\n",
      "Running Fold 4...\n",
      "Training Linear Regression...\n",
      "Running Fold 5...\n",
      "Training Linear Regression...\n",
      "Processing stop_sequence 23 for weekday...\n",
      "Running Fold 1...\n",
      "Training Linear Regression...\n",
      "Running Fold 2...\n",
      "Training Linear Regression...\n",
      "Running Fold 3...\n",
      "Training Linear Regression...\n",
      "Running Fold 4...\n",
      "Training Linear Regression...\n",
      "Running Fold 5...\n",
      "Training Linear Regression...\n",
      "Processing stop_sequence 23 for weekend...\n",
      "Running Fold 1...\n",
      "Training Linear Regression...\n",
      "Running Fold 2...\n",
      "Training Linear Regression...\n",
      "Running Fold 3...\n",
      "Training Linear Regression...\n",
      "Running Fold 4...\n",
      "Training Linear Regression...\n",
      "Running Fold 5...\n",
      "Training Linear Regression...\n",
      "    stop_sequence day_type       R^2        MAE\n",
      "0               1  weekday  0.901500  28.657461\n",
      "1               1  weekend  0.954708  26.877117\n",
      "2               5  weekday  0.978039  14.556799\n",
      "3               5  weekend  0.992317  11.362348\n",
      "4               8  weekday  0.977223  16.327120\n",
      "5               8  weekend  0.992643  12.742428\n",
      "6              12  weekday  0.990556  12.264804\n",
      "7              12  weekend  0.996017  10.344904\n",
      "8              14  weekday  0.986968  14.913721\n",
      "9              14  weekend  0.991163  16.099089\n",
      "10             16  weekday  0.976282  20.490108\n",
      "11             16  weekend  0.992051  14.914332\n",
      "12             19  weekday  0.995348   7.979192\n",
      "13             19  weekend  0.997971   6.948582\n",
      "14             20  weekday  0.995091   9.291316\n",
      "15             20  weekend  0.997607   8.142180\n",
      "16             21  weekday  0.992263  13.007906\n",
      "17             21  weekend  0.996292  11.072220\n",
      "18             23  weekday  0.998413   5.364159\n",
      "19             23  weekend  0.999163   4.743814\n"
     ]
    }
   ],
   "source": [
    "results_lr = train_evaluate_lr_model(df)\n",
    "print(results_lr)"
   ]
  },
  {
   "cell_type": "code",
   "execution_count": 12,
   "id": "5aad2915",
   "metadata": {},
   "outputs": [
    {
     "name": "stdout",
     "output_type": "stream",
     "text": [
      "R^2: 0.988263\n",
      "MAE: 13.800117\n"
     ]
    }
   ],
   "source": [
    "pred = predict_with_lr_model(df)\n",
    "pred.head()\n",
    "# Extracting the actual and predicted values from the DataFrame\n",
    "actual_values = pred[\"arrival_delay\"].values\n",
    "predicted_values = pred[\"predicted_delay\"].values\n",
    "\n",
    "# Computing R^2\n",
    "r2 = r2_score(actual_values, predicted_values)\n",
    "\n",
    "# Computing MAE\n",
    "mae = mean_absolute_error(actual_values, predicted_values)\n",
    "\n",
    "print(f\"R^2: {r2:f}\")\n",
    "print(f\"MAE: {mae:f}\")\n",
    "\n"
   ]
  },
  {
   "cell_type": "markdown",
   "id": "fba125be",
   "metadata": {},
   "source": [
    "# Stop and Daytime (NN)"
   ]
  },
  {
   "cell_type": "code",
   "execution_count": 13,
   "id": "51a874fd",
   "metadata": {},
   "outputs": [],
   "source": [
    "def train_evaluate_nn_model(df, n_folds=5):\n",
    "    df_train, df_test = train_test_split(df, test_size=0.2, random_state=42)\n",
    "\n",
    "    results = {\n",
    "        'stop_sequence': [],\n",
    "        'day_type': [],\n",
    "        'R^2': [],\n",
    "        'MAE': []\n",
    "    }\n",
    "\n",
    "    for stop_seq in df['stop_sequence'].unique():\n",
    "        for day_type in ['weekday', 'weekend']:\n",
    "            print(f\"Processing stop_sequence {stop_seq} for {day_type}...\")\n",
    "            \n",
    "            df_train_subset = df_train[(df_train['stop_sequence'] == stop_seq) & (df_train['day_of_week'] == day_type)]\n",
    "\n",
    "            drop_columns = ['arrival_delay', 'day_of_week', 'time_of_day', \"weather\", \"temperature\"]\n",
    "            x_train = df_train_subset.drop(columns=drop_columns, errors='ignore').astype('float32')\n",
    "            y_train = df_train_subset['arrival_delay'].astype('float32')\n",
    "\n",
    "            r2_scores_nn = []\n",
    "            maes_nn = []\n",
    "\n",
    "            # K-fold CV\n",
    "            kf = KFold(n_splits=n_folds)\n",
    "            for fold, (train_index, val_index) in enumerate(kf.split(x_train)):\n",
    "                print(f\"Running Fold {fold + 1}...\")\n",
    "\n",
    "                x_train_fold, x_val_fold = x_train.iloc[train_index], x_train.iloc[val_index]\n",
    "                y_train_fold, y_val_fold = y_train.iloc[train_index], y_train.iloc[val_index]\n",
    "\n",
    "                # Normalize the data for NN\n",
    "                scaler = StandardScaler()\n",
    "                x_train_normalized = scaler.fit_transform(x_train_fold)\n",
    "                x_val_normalized = scaler.transform(x_val_fold)\n",
    "                \n",
    "                # Save the scaler\n",
    "                if not os.path.exists(\"nn_scalers\"):\n",
    "                    os.makedirs(\"nn_scalers\")\n",
    "                joblib.dump(scaler, os.path.join(\"nn_scalers\", f'scaler_{stop_seq}_{day_type}.pkl'))\n",
    "\n",
    "                # Train and evaluate NN\n",
    "                print(\"Training Neural Network...\")\n",
    "                model_nn = Sequential([\n",
    "                    Dense(64, activation='relu', input_dim=x_train_normalized.shape[1]),\n",
    "                    Dense(32, activation='relu'),\n",
    "                    Dense(16, activation='relu'),\n",
    "                    Dense(1)\n",
    "                ])\n",
    "                model_nn.compile(optimizer=Adam(learning_rate=0.001), loss='mean_squared_error')\n",
    "                early_stopping = EarlyStopping(monitor='val_loss', patience=10, restore_best_weights=True)\n",
    "                model_nn.fit(x_train_normalized, y_train_fold, validation_data=(x_val_normalized, y_val_fold), epochs=100, batch_size=16, callbacks=[early_stopping], verbose=0)\n",
    "                y_pred_nn = model_nn.predict(x_val_normalized).flatten()\n",
    "                r2_scores_nn.append(r2_score(y_val_fold, y_pred_nn))\n",
    "                maes_nn.append(mean_absolute_error(y_val_fold, y_pred_nn))\n",
    "\n",
    "                # Save NN model\n",
    "                best_r2 = np.mean(r2_scores_nn)\n",
    "                best_mae = np.mean(maes_nn)\n",
    "                if not os.path.exists(\"nn_models\"):\n",
    "                    os.makedirs(\"nn_models\")\n",
    "                model_nn.save(os.path.join(\"nn_models\", f'nn_model_{stop_seq}_{day_type}.h5'))\n",
    "\n",
    "            results['stop_sequence'].append(stop_seq)\n",
    "            results['day_type'].append(day_type)\n",
    "            results['R^2'].append(best_r2)\n",
    "            results['MAE'].append(best_mae)\n",
    "\n",
    "    return pd.DataFrame(results)\n",
    "\n",
    "def predict_with_nn_model(df):\n",
    "    all_groups = []\n",
    "\n",
    "    grouped = df.groupby(['stop_sequence', 'day_of_week'])\n",
    "    for (stop_seq, day_type), group in grouped:\n",
    "        nn_model_path = os.path.join(\"nn_models\", f'nn_model_{stop_seq}_{day_type}.h5')\n",
    "        scaler_path = os.path.join(\"nn_scalers\", f'scaler_{stop_seq}_{day_type}.pkl')\n",
    "\n",
    "        X = group.drop(columns=['arrival_delay', 'day_of_week', 'time_of_day', \"weather\", \"temperature\"], errors='ignore').astype('float32')\n",
    "        \n",
    "        if os.path.exists(nn_model_path):\n",
    "            model = load_model(nn_model_path)\n",
    "            # Load the scaler and normalize the data for NN\n",
    "            scaler = joblib.load(scaler_path)\n",
    "            X_normalized = scaler.transform(X)\n",
    "            group['predicted_delay'] = model.predict(X_normalized).flatten()\n",
    "        else:\n",
    "            raise ValueError(f\"No saved model found for stop_sequence: {stop_seq} and day_type: {day_type}\")\n",
    "\n",
    "        all_groups.append(group)\n",
    "\n",
    "    result_df = pd.concat(all_groups)\n",
    "    return result_df\n"
   ]
  },
  {
   "cell_type": "markdown",
   "id": "f1b6172e",
   "metadata": {},
   "source": [
    "### Creating Model"
   ]
  },
  {
   "cell_type": "code",
   "execution_count": 14,
   "id": "73215be0",
   "metadata": {},
   "outputs": [
    {
     "name": "stdout",
     "output_type": "stream",
     "text": [
      "Processing stop_sequence 1 for weekday...\n",
      "Running Fold 1...\n",
      "Training Neural Network...\n",
      "78/78 [==============================] - 0s 2ms/step\n",
      "Running Fold 2...\n",
      "Training Neural Network...\n"
     ]
    },
    {
     "name": "stderr",
     "output_type": "stream",
     "text": [
      "/Users/jesperhelen/opt/anaconda3/lib/python3.9/site-packages/keras/src/engine/training.py:3079: UserWarning: You are saving your model as an HDF5 file via `model.save()`. This file format is considered legacy. We recommend using instead the native Keras format, e.g. `model.save('my_model.keras')`.\n",
      "  saving_api.save_model(\n"
     ]
    },
    {
     "name": "stdout",
     "output_type": "stream",
     "text": [
      "78/78 [==============================] - 0s 2ms/step\n",
      "Running Fold 3...\n",
      "Training Neural Network...\n"
     ]
    },
    {
     "name": "stderr",
     "output_type": "stream",
     "text": [
      "/Users/jesperhelen/opt/anaconda3/lib/python3.9/site-packages/keras/src/engine/training.py:3079: UserWarning: You are saving your model as an HDF5 file via `model.save()`. This file format is considered legacy. We recommend using instead the native Keras format, e.g. `model.save('my_model.keras')`.\n",
      "  saving_api.save_model(\n"
     ]
    },
    {
     "name": "stdout",
     "output_type": "stream",
     "text": [
      "78/78 [==============================] - 0s 2ms/step\n",
      "Running Fold 4...\n",
      "Training Neural Network...\n"
     ]
    },
    {
     "name": "stderr",
     "output_type": "stream",
     "text": [
      "/Users/jesperhelen/opt/anaconda3/lib/python3.9/site-packages/keras/src/engine/training.py:3079: UserWarning: You are saving your model as an HDF5 file via `model.save()`. This file format is considered legacy. We recommend using instead the native Keras format, e.g. `model.save('my_model.keras')`.\n",
      "  saving_api.save_model(\n"
     ]
    },
    {
     "ename": "KeyboardInterrupt",
     "evalue": "",
     "output_type": "error",
     "traceback": [
      "\u001b[0;31m---------------------------------------------------------------------------\u001b[0m",
      "\u001b[0;31mKeyboardInterrupt\u001b[0m                         Traceback (most recent call last)",
      "\u001b[0;32m/var/folders/vv/61p1g2195ln_91592fly3yk40000gn/T/ipykernel_40811/2211342672.py\u001b[0m in \u001b[0;36m<module>\u001b[0;34m\u001b[0m\n\u001b[0;32m----> 1\u001b[0;31m \u001b[0mresults_df_day\u001b[0m \u001b[0;34m=\u001b[0m \u001b[0mtrain_evaluate_nn_model\u001b[0m\u001b[0;34m(\u001b[0m\u001b[0mdf\u001b[0m\u001b[0;34m)\u001b[0m\u001b[0;34m\u001b[0m\u001b[0;34m\u001b[0m\u001b[0m\n\u001b[0m\u001b[1;32m      2\u001b[0m \u001b[0mprint\u001b[0m\u001b[0;34m(\u001b[0m\u001b[0mresults_df_day\u001b[0m\u001b[0;34m)\u001b[0m\u001b[0;34m\u001b[0m\u001b[0;34m\u001b[0m\u001b[0m\n",
      "\u001b[0;32m/var/folders/vv/61p1g2195ln_91592fly3yk40000gn/T/ipykernel_40811/2374565059.py\u001b[0m in \u001b[0;36mtrain_evaluate_nn_model\u001b[0;34m(df, n_folds)\u001b[0m\n\u001b[1;32m     50\u001b[0m                 \u001b[0mmodel_nn\u001b[0m\u001b[0;34m.\u001b[0m\u001b[0mcompile\u001b[0m\u001b[0;34m(\u001b[0m\u001b[0moptimizer\u001b[0m\u001b[0;34m=\u001b[0m\u001b[0mAdam\u001b[0m\u001b[0;34m(\u001b[0m\u001b[0mlearning_rate\u001b[0m\u001b[0;34m=\u001b[0m\u001b[0;36m0.001\u001b[0m\u001b[0;34m)\u001b[0m\u001b[0;34m,\u001b[0m \u001b[0mloss\u001b[0m\u001b[0;34m=\u001b[0m\u001b[0;34m'mean_squared_error'\u001b[0m\u001b[0;34m)\u001b[0m\u001b[0;34m\u001b[0m\u001b[0;34m\u001b[0m\u001b[0m\n\u001b[1;32m     51\u001b[0m                 \u001b[0mearly_stopping\u001b[0m \u001b[0;34m=\u001b[0m \u001b[0mEarlyStopping\u001b[0m\u001b[0;34m(\u001b[0m\u001b[0mmonitor\u001b[0m\u001b[0;34m=\u001b[0m\u001b[0;34m'val_loss'\u001b[0m\u001b[0;34m,\u001b[0m \u001b[0mpatience\u001b[0m\u001b[0;34m=\u001b[0m\u001b[0;36m10\u001b[0m\u001b[0;34m,\u001b[0m \u001b[0mrestore_best_weights\u001b[0m\u001b[0;34m=\u001b[0m\u001b[0;32mTrue\u001b[0m\u001b[0;34m)\u001b[0m\u001b[0;34m\u001b[0m\u001b[0;34m\u001b[0m\u001b[0m\n\u001b[0;32m---> 52\u001b[0;31m                 \u001b[0mmodel_nn\u001b[0m\u001b[0;34m.\u001b[0m\u001b[0mfit\u001b[0m\u001b[0;34m(\u001b[0m\u001b[0mx_train_normalized\u001b[0m\u001b[0;34m,\u001b[0m \u001b[0my_train_fold\u001b[0m\u001b[0;34m,\u001b[0m \u001b[0mvalidation_data\u001b[0m\u001b[0;34m=\u001b[0m\u001b[0;34m(\u001b[0m\u001b[0mx_val_normalized\u001b[0m\u001b[0;34m,\u001b[0m \u001b[0my_val_fold\u001b[0m\u001b[0;34m)\u001b[0m\u001b[0;34m,\u001b[0m \u001b[0mepochs\u001b[0m\u001b[0;34m=\u001b[0m\u001b[0;36m100\u001b[0m\u001b[0;34m,\u001b[0m \u001b[0mbatch_size\u001b[0m\u001b[0;34m=\u001b[0m\u001b[0;36m16\u001b[0m\u001b[0;34m,\u001b[0m \u001b[0mcallbacks\u001b[0m\u001b[0;34m=\u001b[0m\u001b[0;34m[\u001b[0m\u001b[0mearly_stopping\u001b[0m\u001b[0;34m]\u001b[0m\u001b[0;34m,\u001b[0m \u001b[0mverbose\u001b[0m\u001b[0;34m=\u001b[0m\u001b[0;36m0\u001b[0m\u001b[0;34m)\u001b[0m\u001b[0;34m\u001b[0m\u001b[0;34m\u001b[0m\u001b[0m\n\u001b[0m\u001b[1;32m     53\u001b[0m                 \u001b[0my_pred_nn\u001b[0m \u001b[0;34m=\u001b[0m \u001b[0mmodel_nn\u001b[0m\u001b[0;34m.\u001b[0m\u001b[0mpredict\u001b[0m\u001b[0;34m(\u001b[0m\u001b[0mx_val_normalized\u001b[0m\u001b[0;34m)\u001b[0m\u001b[0;34m.\u001b[0m\u001b[0mflatten\u001b[0m\u001b[0;34m(\u001b[0m\u001b[0;34m)\u001b[0m\u001b[0;34m\u001b[0m\u001b[0;34m\u001b[0m\u001b[0m\n\u001b[1;32m     54\u001b[0m                 \u001b[0mr2_scores_nn\u001b[0m\u001b[0;34m.\u001b[0m\u001b[0mappend\u001b[0m\u001b[0;34m(\u001b[0m\u001b[0mr2_score\u001b[0m\u001b[0;34m(\u001b[0m\u001b[0my_val_fold\u001b[0m\u001b[0;34m,\u001b[0m \u001b[0my_pred_nn\u001b[0m\u001b[0;34m)\u001b[0m\u001b[0;34m)\u001b[0m\u001b[0;34m\u001b[0m\u001b[0;34m\u001b[0m\u001b[0m\n",
      "\u001b[0;32m~/opt/anaconda3/lib/python3.9/site-packages/keras/src/utils/traceback_utils.py\u001b[0m in \u001b[0;36merror_handler\u001b[0;34m(*args, **kwargs)\u001b[0m\n\u001b[1;32m     63\u001b[0m         \u001b[0mfiltered_tb\u001b[0m \u001b[0;34m=\u001b[0m \u001b[0;32mNone\u001b[0m\u001b[0;34m\u001b[0m\u001b[0;34m\u001b[0m\u001b[0m\n\u001b[1;32m     64\u001b[0m         \u001b[0;32mtry\u001b[0m\u001b[0;34m:\u001b[0m\u001b[0;34m\u001b[0m\u001b[0;34m\u001b[0m\u001b[0m\n\u001b[0;32m---> 65\u001b[0;31m             \u001b[0;32mreturn\u001b[0m \u001b[0mfn\u001b[0m\u001b[0;34m(\u001b[0m\u001b[0;34m*\u001b[0m\u001b[0margs\u001b[0m\u001b[0;34m,\u001b[0m \u001b[0;34m**\u001b[0m\u001b[0mkwargs\u001b[0m\u001b[0;34m)\u001b[0m\u001b[0;34m\u001b[0m\u001b[0;34m\u001b[0m\u001b[0m\n\u001b[0m\u001b[1;32m     66\u001b[0m         \u001b[0;32mexcept\u001b[0m \u001b[0mException\u001b[0m \u001b[0;32mas\u001b[0m \u001b[0me\u001b[0m\u001b[0;34m:\u001b[0m\u001b[0;34m\u001b[0m\u001b[0;34m\u001b[0m\u001b[0m\n\u001b[1;32m     67\u001b[0m             \u001b[0mfiltered_tb\u001b[0m \u001b[0;34m=\u001b[0m \u001b[0m_process_traceback_frames\u001b[0m\u001b[0;34m(\u001b[0m\u001b[0me\u001b[0m\u001b[0;34m.\u001b[0m\u001b[0m__traceback__\u001b[0m\u001b[0;34m)\u001b[0m\u001b[0;34m\u001b[0m\u001b[0;34m\u001b[0m\u001b[0m\n",
      "\u001b[0;32m~/opt/anaconda3/lib/python3.9/site-packages/keras/src/engine/training.py\u001b[0m in \u001b[0;36mfit\u001b[0;34m(self, x, y, batch_size, epochs, verbose, callbacks, validation_split, validation_data, shuffle, class_weight, sample_weight, initial_epoch, steps_per_epoch, validation_steps, validation_batch_size, validation_freq, max_queue_size, workers, use_multiprocessing)\u001b[0m\n\u001b[1;32m   1781\u001b[0m                         ):\n\u001b[1;32m   1782\u001b[0m                             \u001b[0mcallbacks\u001b[0m\u001b[0;34m.\u001b[0m\u001b[0mon_train_batch_begin\u001b[0m\u001b[0;34m(\u001b[0m\u001b[0mstep\u001b[0m\u001b[0;34m)\u001b[0m\u001b[0;34m\u001b[0m\u001b[0;34m\u001b[0m\u001b[0m\n\u001b[0;32m-> 1783\u001b[0;31m                             \u001b[0mtmp_logs\u001b[0m \u001b[0;34m=\u001b[0m \u001b[0mself\u001b[0m\u001b[0;34m.\u001b[0m\u001b[0mtrain_function\u001b[0m\u001b[0;34m(\u001b[0m\u001b[0miterator\u001b[0m\u001b[0;34m)\u001b[0m\u001b[0;34m\u001b[0m\u001b[0;34m\u001b[0m\u001b[0m\n\u001b[0m\u001b[1;32m   1784\u001b[0m                             \u001b[0;32mif\u001b[0m \u001b[0mdata_handler\u001b[0m\u001b[0;34m.\u001b[0m\u001b[0mshould_sync\u001b[0m\u001b[0;34m:\u001b[0m\u001b[0;34m\u001b[0m\u001b[0;34m\u001b[0m\u001b[0m\n\u001b[1;32m   1785\u001b[0m                                 \u001b[0mcontext\u001b[0m\u001b[0;34m.\u001b[0m\u001b[0masync_wait\u001b[0m\u001b[0;34m(\u001b[0m\u001b[0;34m)\u001b[0m\u001b[0;34m\u001b[0m\u001b[0;34m\u001b[0m\u001b[0m\n",
      "\u001b[0;32m~/opt/anaconda3/lib/python3.9/site-packages/tensorflow/python/util/traceback_utils.py\u001b[0m in \u001b[0;36merror_handler\u001b[0;34m(*args, **kwargs)\u001b[0m\n\u001b[1;32m    148\u001b[0m     \u001b[0mfiltered_tb\u001b[0m \u001b[0;34m=\u001b[0m \u001b[0;32mNone\u001b[0m\u001b[0;34m\u001b[0m\u001b[0;34m\u001b[0m\u001b[0m\n\u001b[1;32m    149\u001b[0m     \u001b[0;32mtry\u001b[0m\u001b[0;34m:\u001b[0m\u001b[0;34m\u001b[0m\u001b[0;34m\u001b[0m\u001b[0m\n\u001b[0;32m--> 150\u001b[0;31m       \u001b[0;32mreturn\u001b[0m \u001b[0mfn\u001b[0m\u001b[0;34m(\u001b[0m\u001b[0;34m*\u001b[0m\u001b[0margs\u001b[0m\u001b[0;34m,\u001b[0m \u001b[0;34m**\u001b[0m\u001b[0mkwargs\u001b[0m\u001b[0;34m)\u001b[0m\u001b[0;34m\u001b[0m\u001b[0;34m\u001b[0m\u001b[0m\n\u001b[0m\u001b[1;32m    151\u001b[0m     \u001b[0;32mexcept\u001b[0m \u001b[0mException\u001b[0m \u001b[0;32mas\u001b[0m \u001b[0me\u001b[0m\u001b[0;34m:\u001b[0m\u001b[0;34m\u001b[0m\u001b[0;34m\u001b[0m\u001b[0m\n\u001b[1;32m    152\u001b[0m       \u001b[0mfiltered_tb\u001b[0m \u001b[0;34m=\u001b[0m \u001b[0m_process_traceback_frames\u001b[0m\u001b[0;34m(\u001b[0m\u001b[0me\u001b[0m\u001b[0;34m.\u001b[0m\u001b[0m__traceback__\u001b[0m\u001b[0;34m)\u001b[0m\u001b[0;34m\u001b[0m\u001b[0;34m\u001b[0m\u001b[0m\n",
      "\u001b[0;32m~/opt/anaconda3/lib/python3.9/site-packages/tensorflow/python/eager/polymorphic_function/polymorphic_function.py\u001b[0m in \u001b[0;36m__call__\u001b[0;34m(self, *args, **kwds)\u001b[0m\n\u001b[1;32m    829\u001b[0m \u001b[0;34m\u001b[0m\u001b[0m\n\u001b[1;32m    830\u001b[0m       \u001b[0;32mwith\u001b[0m \u001b[0mOptionalXlaContext\u001b[0m\u001b[0;34m(\u001b[0m\u001b[0mself\u001b[0m\u001b[0;34m.\u001b[0m\u001b[0m_jit_compile\u001b[0m\u001b[0;34m)\u001b[0m\u001b[0;34m:\u001b[0m\u001b[0;34m\u001b[0m\u001b[0;34m\u001b[0m\u001b[0m\n\u001b[0;32m--> 831\u001b[0;31m         \u001b[0mresult\u001b[0m \u001b[0;34m=\u001b[0m \u001b[0mself\u001b[0m\u001b[0;34m.\u001b[0m\u001b[0m_call\u001b[0m\u001b[0;34m(\u001b[0m\u001b[0;34m*\u001b[0m\u001b[0margs\u001b[0m\u001b[0;34m,\u001b[0m \u001b[0;34m**\u001b[0m\u001b[0mkwds\u001b[0m\u001b[0;34m)\u001b[0m\u001b[0;34m\u001b[0m\u001b[0;34m\u001b[0m\u001b[0m\n\u001b[0m\u001b[1;32m    832\u001b[0m \u001b[0;34m\u001b[0m\u001b[0m\n\u001b[1;32m    833\u001b[0m       \u001b[0mnew_tracing_count\u001b[0m \u001b[0;34m=\u001b[0m \u001b[0mself\u001b[0m\u001b[0;34m.\u001b[0m\u001b[0mexperimental_get_tracing_count\u001b[0m\u001b[0;34m(\u001b[0m\u001b[0;34m)\u001b[0m\u001b[0;34m\u001b[0m\u001b[0;34m\u001b[0m\u001b[0m\n",
      "\u001b[0;32m~/opt/anaconda3/lib/python3.9/site-packages/tensorflow/python/eager/polymorphic_function/polymorphic_function.py\u001b[0m in \u001b[0;36m_call\u001b[0;34m(self, *args, **kwds)\u001b[0m\n\u001b[1;32m    865\u001b[0m       \u001b[0;31m# In this case we have created variables on the first call, so we run the\u001b[0m\u001b[0;34m\u001b[0m\u001b[0;34m\u001b[0m\u001b[0m\n\u001b[1;32m    866\u001b[0m       \u001b[0;31m# defunned version which is guaranteed to never create variables.\u001b[0m\u001b[0;34m\u001b[0m\u001b[0;34m\u001b[0m\u001b[0m\n\u001b[0;32m--> 867\u001b[0;31m       return tracing_compilation.call_function(\n\u001b[0m\u001b[1;32m    868\u001b[0m           \u001b[0margs\u001b[0m\u001b[0;34m,\u001b[0m \u001b[0mkwds\u001b[0m\u001b[0;34m,\u001b[0m \u001b[0mself\u001b[0m\u001b[0;34m.\u001b[0m\u001b[0m_no_variable_creation_config\u001b[0m\u001b[0;34m\u001b[0m\u001b[0;34m\u001b[0m\u001b[0m\n\u001b[1;32m    869\u001b[0m       )\n",
      "\u001b[0;32m~/opt/anaconda3/lib/python3.9/site-packages/tensorflow/python/eager/polymorphic_function/tracing_compilation.py\u001b[0m in \u001b[0;36mcall_function\u001b[0;34m(args, kwargs, tracing_options)\u001b[0m\n\u001b[1;32m    136\u001b[0m   \u001b[0;31m# Bind it ourselves to skip unnecessary canonicalization of default call.\u001b[0m\u001b[0;34m\u001b[0m\u001b[0;34m\u001b[0m\u001b[0m\n\u001b[1;32m    137\u001b[0m   \u001b[0mbound_args\u001b[0m \u001b[0;34m=\u001b[0m \u001b[0mfunction\u001b[0m\u001b[0;34m.\u001b[0m\u001b[0mfunction_type\u001b[0m\u001b[0;34m.\u001b[0m\u001b[0mbind\u001b[0m\u001b[0;34m(\u001b[0m\u001b[0;34m*\u001b[0m\u001b[0margs\u001b[0m\u001b[0;34m,\u001b[0m \u001b[0;34m**\u001b[0m\u001b[0mkwargs\u001b[0m\u001b[0;34m)\u001b[0m\u001b[0;34m\u001b[0m\u001b[0;34m\u001b[0m\u001b[0m\n\u001b[0;32m--> 138\u001b[0;31m   \u001b[0mflat_inputs\u001b[0m \u001b[0;34m=\u001b[0m \u001b[0mfunction\u001b[0m\u001b[0;34m.\u001b[0m\u001b[0mfunction_type\u001b[0m\u001b[0;34m.\u001b[0m\u001b[0munpack_inputs\u001b[0m\u001b[0;34m(\u001b[0m\u001b[0mbound_args\u001b[0m\u001b[0;34m)\u001b[0m\u001b[0;34m\u001b[0m\u001b[0;34m\u001b[0m\u001b[0m\n\u001b[0m\u001b[1;32m    139\u001b[0m   return function._call_flat(  # pylint: disable=protected-access\n\u001b[1;32m    140\u001b[0m       \u001b[0mflat_inputs\u001b[0m\u001b[0;34m,\u001b[0m \u001b[0mcaptured_inputs\u001b[0m\u001b[0;34m=\u001b[0m\u001b[0mfunction\u001b[0m\u001b[0;34m.\u001b[0m\u001b[0mcaptured_inputs\u001b[0m\u001b[0;34m\u001b[0m\u001b[0;34m\u001b[0m\u001b[0m\n",
      "\u001b[0;32m~/opt/anaconda3/lib/python3.9/site-packages/tensorflow/core/function/polymorphism/function_type.py\u001b[0m in \u001b[0;36munpack_inputs\u001b[0;34m(self, bound_parameters)\u001b[0m\n\u001b[1;32m    387\u001b[0m     \u001b[0mdealiased_inputs\u001b[0m \u001b[0;34m=\u001b[0m \u001b[0;34m[\u001b[0m\u001b[0;34m]\u001b[0m\u001b[0;34m\u001b[0m\u001b[0;34m\u001b[0m\u001b[0m\n\u001b[1;32m    388\u001b[0m     \u001b[0mids_used\u001b[0m \u001b[0;34m=\u001b[0m \u001b[0mset\u001b[0m\u001b[0;34m(\u001b[0m\u001b[0;34m)\u001b[0m\u001b[0;34m\u001b[0m\u001b[0;34m\u001b[0m\u001b[0m\n\u001b[0;32m--> 389\u001b[0;31m     \u001b[0;32mfor\u001b[0m \u001b[0mtensor\u001b[0m\u001b[0;34m,\u001b[0m \u001b[0minput_type\u001b[0m \u001b[0;32min\u001b[0m \u001b[0mzip\u001b[0m\u001b[0;34m(\u001b[0m\u001b[0mflat\u001b[0m\u001b[0;34m,\u001b[0m \u001b[0mself\u001b[0m\u001b[0;34m.\u001b[0m\u001b[0mflat_inputs\u001b[0m\u001b[0;34m)\u001b[0m\u001b[0;34m:\u001b[0m\u001b[0;34m\u001b[0m\u001b[0;34m\u001b[0m\u001b[0m\n\u001b[0m\u001b[1;32m    390\u001b[0m       \u001b[0malias_id\u001b[0m \u001b[0;34m=\u001b[0m \u001b[0minput_type\u001b[0m\u001b[0;34m.\u001b[0m\u001b[0m_alias_id\u001b[0m\u001b[0;34m(\u001b[0m\u001b[0;34m)\u001b[0m  \u001b[0;31m# pylint: disable=protected-access\u001b[0m\u001b[0;34m\u001b[0m\u001b[0;34m\u001b[0m\u001b[0m\n\u001b[1;32m    391\u001b[0m       \u001b[0;32mif\u001b[0m \u001b[0malias_id\u001b[0m \u001b[0;32mis\u001b[0m \u001b[0;32mNone\u001b[0m \u001b[0;32mor\u001b[0m \u001b[0malias_id\u001b[0m \u001b[0;32mnot\u001b[0m \u001b[0;32min\u001b[0m \u001b[0mids_used\u001b[0m\u001b[0;34m:\u001b[0m\u001b[0;34m\u001b[0m\u001b[0;34m\u001b[0m\u001b[0m\n",
      "\u001b[0;31mKeyboardInterrupt\u001b[0m: "
     ]
    }
   ],
   "source": [
    "results_df_day = train_evaluate_nn_model(df)\n",
    "print(results_df_day)"
   ]
  },
  {
   "cell_type": "markdown",
   "id": "a860c88f",
   "metadata": {},
   "source": [
    "### USING the trained model"
   ]
  },
  {
   "cell_type": "code",
   "execution_count": null,
   "id": "9948097d",
   "metadata": {},
   "outputs": [],
   "source": [
    "pred = predict_with_nn_model(df)\n",
    "pred.head()\n",
    "# Extracting the actual and predicted values from the DataFrame\n",
    "actual_values = pred[\"arrival_delay\"].values\n",
    "predicted_values = pred[\"predicted_delay\"].values\n",
    "\n",
    "# Computing R^2\n",
    "r2 = r2_score(actual_values, predicted_values)\n",
    "\n",
    "# Computing MAE\n",
    "mae = mean_absolute_error(actual_values, predicted_values)\n",
    "\n",
    "print(f\"R^2: {r2}\")\n",
    "print(f\"MAE: {mae}\")\n",
    "\n"
   ]
  },
  {
   "cell_type": "code",
   "execution_count": null,
   "id": "5602b97a",
   "metadata": {},
   "outputs": [],
   "source": [
    "results_df = train_and_evaluate_best_models(df)\n",
    "print(results_df)"
   ]
  },
  {
   "cell_type": "markdown",
   "id": "e2a3e1a1",
   "metadata": {},
   "source": [
    "# NN vs LR"
   ]
  },
  {
   "cell_type": "code",
   "execution_count": 15,
   "id": "40b04243",
   "metadata": {},
   "outputs": [
    {
     "name": "stdout",
     "output_type": "stream",
     "text": [
      "Processing stop_sequence 1 for weekday...\n",
      "Running Fold 1...\n",
      "Training Linear Regression...\n",
      "Running Fold 2...\n",
      "Training Linear Regression...\n",
      "Running Fold 3...\n",
      "Training Linear Regression...\n",
      "Running Fold 4...\n",
      "Training Linear Regression...\n",
      "Running Fold 5...\n",
      "Training Linear Regression...\n",
      "Processing stop_sequence 1 for weekend...\n",
      "Running Fold 1...\n",
      "Training Linear Regression...\n",
      "Running Fold 2...\n",
      "Training Linear Regression...\n",
      "Running Fold 3...\n",
      "Training Linear Regression...\n",
      "Running Fold 4...\n",
      "Training Linear Regression...\n",
      "Running Fold 5...\n",
      "Training Linear Regression...\n",
      "Processing stop_sequence 5 for weekday...\n",
      "Running Fold 1...\n",
      "Training Linear Regression...\n",
      "Running Fold 2...\n",
      "Training Linear Regression...\n",
      "Running Fold 3...\n",
      "Training Linear Regression...\n",
      "Running Fold 4...\n",
      "Training Linear Regression...\n",
      "Running Fold 5...\n",
      "Training Linear Regression...\n",
      "Processing stop_sequence 5 for weekend...\n",
      "Running Fold 1...\n",
      "Training Linear Regression...\n",
      "Running Fold 2...\n",
      "Training Linear Regression...\n",
      "Running Fold 3...\n",
      "Training Linear Regression...\n",
      "Running Fold 4...\n",
      "Training Linear Regression...\n",
      "Running Fold 5...\n",
      "Training Linear Regression...\n",
      "Processing stop_sequence 8 for weekday...\n",
      "Running Fold 1...\n",
      "Training Linear Regression...\n",
      "Running Fold 2...\n",
      "Training Linear Regression...\n",
      "Running Fold 3...\n",
      "Training Linear Regression...\n",
      "Running Fold 4...\n",
      "Training Linear Regression...\n",
      "Running Fold 5...\n",
      "Training Linear Regression...\n",
      "Processing stop_sequence 8 for weekend...\n",
      "Running Fold 1...\n",
      "Training Linear Regression...\n",
      "Running Fold 2...\n",
      "Training Linear Regression...\n",
      "Running Fold 3...\n",
      "Training Linear Regression...\n",
      "Running Fold 4...\n",
      "Training Linear Regression...\n",
      "Running Fold 5...\n",
      "Training Linear Regression...\n",
      "Processing stop_sequence 12 for weekday...\n",
      "Running Fold 1...\n",
      "Training Linear Regression...\n",
      "Running Fold 2...\n",
      "Training Linear Regression...\n",
      "Running Fold 3...\n",
      "Training Linear Regression...\n",
      "Running Fold 4...\n",
      "Training Linear Regression...\n",
      "Running Fold 5...\n",
      "Training Linear Regression...\n",
      "Processing stop_sequence 12 for weekend...\n",
      "Running Fold 1...\n",
      "Training Linear Regression...\n",
      "Running Fold 2...\n",
      "Training Linear Regression...\n",
      "Running Fold 3...\n",
      "Training Linear Regression...\n",
      "Running Fold 4...\n",
      "Training Linear Regression...\n",
      "Running Fold 5...\n",
      "Training Linear Regression...\n",
      "Processing stop_sequence 14 for weekday...\n",
      "Running Fold 1...\n",
      "Training Linear Regression...\n",
      "Running Fold 2...\n",
      "Training Linear Regression...\n",
      "Running Fold 3...\n",
      "Training Linear Regression...\n",
      "Running Fold 4...\n",
      "Training Linear Regression...\n",
      "Running Fold 5...\n",
      "Training Linear Regression...\n",
      "Processing stop_sequence 14 for weekend...\n",
      "Running Fold 1...\n",
      "Training Linear Regression...\n",
      "Running Fold 2...\n",
      "Training Linear Regression...\n",
      "Running Fold 3...\n",
      "Training Linear Regression...\n",
      "Running Fold 4...\n",
      "Training Linear Regression...\n",
      "Running Fold 5...\n",
      "Training Linear Regression...\n",
      "Processing stop_sequence 16 for weekday...\n",
      "Running Fold 1...\n",
      "Training Linear Regression...\n",
      "Running Fold 2...\n",
      "Training Linear Regression...\n",
      "Running Fold 3...\n",
      "Training Linear Regression...\n",
      "Running Fold 4...\n",
      "Training Linear Regression...\n",
      "Running Fold 5...\n",
      "Training Linear Regression...\n",
      "Processing stop_sequence 16 for weekend...\n",
      "Running Fold 1...\n",
      "Training Linear Regression...\n",
      "Running Fold 2...\n",
      "Training Linear Regression...\n",
      "Running Fold 3...\n",
      "Training Linear Regression...\n",
      "Running Fold 4...\n",
      "Training Linear Regression...\n",
      "Running Fold 5...\n",
      "Training Linear Regression...\n",
      "Processing stop_sequence 19 for weekday...\n",
      "Running Fold 1...\n",
      "Training Linear Regression...\n",
      "Running Fold 2...\n",
      "Training Linear Regression...\n",
      "Running Fold 3...\n",
      "Training Linear Regression...\n",
      "Running Fold 4...\n",
      "Training Linear Regression...\n",
      "Running Fold 5...\n",
      "Training Linear Regression...\n",
      "Processing stop_sequence 19 for weekend...\n",
      "Running Fold 1...\n",
      "Training Linear Regression...\n",
      "Running Fold 2...\n",
      "Training Linear Regression...\n",
      "Running Fold 3...\n",
      "Training Linear Regression...\n",
      "Running Fold 4...\n",
      "Training Linear Regression...\n",
      "Running Fold 5...\n",
      "Training Linear Regression...\n",
      "Processing stop_sequence 20 for weekday...\n",
      "Running Fold 1...\n",
      "Training Linear Regression...\n",
      "Running Fold 2...\n",
      "Training Linear Regression...\n",
      "Running Fold 3...\n",
      "Training Linear Regression...\n",
      "Running Fold 4...\n",
      "Training Linear Regression...\n",
      "Running Fold 5...\n",
      "Training Linear Regression...\n",
      "Processing stop_sequence 20 for weekend...\n",
      "Running Fold 1...\n",
      "Training Linear Regression...\n",
      "Running Fold 2...\n",
      "Training Linear Regression...\n",
      "Running Fold 3...\n",
      "Training Linear Regression...\n",
      "Running Fold 4...\n",
      "Training Linear Regression...\n",
      "Running Fold 5...\n",
      "Training Linear Regression...\n",
      "Processing stop_sequence 21 for weekday...\n",
      "Running Fold 1...\n",
      "Training Linear Regression...\n",
      "Running Fold 2...\n",
      "Training Linear Regression...\n",
      "Running Fold 3...\n",
      "Training Linear Regression...\n",
      "Running Fold 4...\n",
      "Training Linear Regression...\n",
      "Running Fold 5...\n",
      "Training Linear Regression...\n",
      "Processing stop_sequence 21 for weekend...\n",
      "Running Fold 1...\n",
      "Training Linear Regression...\n",
      "Running Fold 2...\n",
      "Training Linear Regression...\n",
      "Running Fold 3...\n",
      "Training Linear Regression...\n",
      "Running Fold 4...\n",
      "Training Linear Regression...\n",
      "Running Fold 5...\n",
      "Training Linear Regression...\n",
      "Processing stop_sequence 23 for weekday...\n",
      "Running Fold 1...\n",
      "Training Linear Regression...\n",
      "Running Fold 2...\n",
      "Training Linear Regression...\n",
      "Running Fold 3...\n",
      "Training Linear Regression...\n",
      "Running Fold 4...\n",
      "Training Linear Regression...\n",
      "Running Fold 5...\n",
      "Training Linear Regression...\n",
      "Processing stop_sequence 23 for weekend...\n",
      "Running Fold 1...\n",
      "Training Linear Regression...\n",
      "Running Fold 2...\n",
      "Training Linear Regression...\n",
      "Running Fold 3...\n",
      "Training Linear Regression...\n",
      "Running Fold 4...\n",
      "Training Linear Regression...\n",
      "Running Fold 5...\n",
      "Training Linear Regression...\n",
      "Processing stop_sequence 1 for weekday...\n",
      "Running Fold 1...\n",
      "Training Neural Network...\n",
      "78/78 [==============================] - 0s 2ms/step\n",
      "Running Fold 2...\n",
      "Training Neural Network...\n"
     ]
    },
    {
     "name": "stderr",
     "output_type": "stream",
     "text": [
      "/Users/jesperhelen/opt/anaconda3/lib/python3.9/site-packages/keras/src/engine/training.py:3079: UserWarning: You are saving your model as an HDF5 file via `model.save()`. This file format is considered legacy. We recommend using instead the native Keras format, e.g. `model.save('my_model.keras')`.\n",
      "  saving_api.save_model(\n"
     ]
    },
    {
     "name": "stdout",
     "output_type": "stream",
     "text": [
      "78/78 [==============================] - 0s 2ms/step\n",
      "Running Fold 3...\n",
      "Training Neural Network...\n"
     ]
    },
    {
     "name": "stderr",
     "output_type": "stream",
     "text": [
      "/Users/jesperhelen/opt/anaconda3/lib/python3.9/site-packages/keras/src/engine/training.py:3079: UserWarning: You are saving your model as an HDF5 file via `model.save()`. This file format is considered legacy. We recommend using instead the native Keras format, e.g. `model.save('my_model.keras')`.\n",
      "  saving_api.save_model(\n"
     ]
    },
    {
     "name": "stdout",
     "output_type": "stream",
     "text": [
      "78/78 [==============================] - 0s 2ms/step\n",
      "Running Fold 4...\n",
      "Training Neural Network...\n"
     ]
    },
    {
     "name": "stderr",
     "output_type": "stream",
     "text": [
      "/Users/jesperhelen/opt/anaconda3/lib/python3.9/site-packages/keras/src/engine/training.py:3079: UserWarning: You are saving your model as an HDF5 file via `model.save()`. This file format is considered legacy. We recommend using instead the native Keras format, e.g. `model.save('my_model.keras')`.\n",
      "  saving_api.save_model(\n"
     ]
    },
    {
     "name": "stdout",
     "output_type": "stream",
     "text": [
      "78/78 [==============================] - 0s 2ms/step\n",
      "Running Fold 5...\n",
      "Training Neural Network...\n"
     ]
    },
    {
     "name": "stderr",
     "output_type": "stream",
     "text": [
      "/Users/jesperhelen/opt/anaconda3/lib/python3.9/site-packages/keras/src/engine/training.py:3079: UserWarning: You are saving your model as an HDF5 file via `model.save()`. This file format is considered legacy. We recommend using instead the native Keras format, e.g. `model.save('my_model.keras')`.\n",
      "  saving_api.save_model(\n"
     ]
    },
    {
     "name": "stdout",
     "output_type": "stream",
     "text": [
      "78/78 [==============================] - 0s 2ms/step\n",
      "Processing stop_sequence 1 for weekend...\n",
      "Running Fold 1...\n",
      "Training Neural Network...\n"
     ]
    },
    {
     "name": "stderr",
     "output_type": "stream",
     "text": [
      "/Users/jesperhelen/opt/anaconda3/lib/python3.9/site-packages/keras/src/engine/training.py:3079: UserWarning: You are saving your model as an HDF5 file via `model.save()`. This file format is considered legacy. We recommend using instead the native Keras format, e.g. `model.save('my_model.keras')`.\n",
      "  saving_api.save_model(\n"
     ]
    },
    {
     "name": "stdout",
     "output_type": "stream",
     "text": [
      "24/24 [==============================] - 0s 2ms/step\n",
      "Running Fold 2...\n",
      "Training Neural Network...\n"
     ]
    },
    {
     "name": "stderr",
     "output_type": "stream",
     "text": [
      "/Users/jesperhelen/opt/anaconda3/lib/python3.9/site-packages/keras/src/engine/training.py:3079: UserWarning: You are saving your model as an HDF5 file via `model.save()`. This file format is considered legacy. We recommend using instead the native Keras format, e.g. `model.save('my_model.keras')`.\n",
      "  saving_api.save_model(\n"
     ]
    },
    {
     "name": "stdout",
     "output_type": "stream",
     "text": [
      "24/24 [==============================] - 0s 2ms/step\n",
      "Running Fold 3...\n",
      "Training Neural Network...\n"
     ]
    },
    {
     "name": "stderr",
     "output_type": "stream",
     "text": [
      "/Users/jesperhelen/opt/anaconda3/lib/python3.9/site-packages/keras/src/engine/training.py:3079: UserWarning: You are saving your model as an HDF5 file via `model.save()`. This file format is considered legacy. We recommend using instead the native Keras format, e.g. `model.save('my_model.keras')`.\n",
      "  saving_api.save_model(\n"
     ]
    },
    {
     "name": "stdout",
     "output_type": "stream",
     "text": [
      "24/24 [==============================] - 0s 2ms/step\n",
      "Running Fold 4...\n",
      "Training Neural Network...\n"
     ]
    },
    {
     "name": "stderr",
     "output_type": "stream",
     "text": [
      "/Users/jesperhelen/opt/anaconda3/lib/python3.9/site-packages/keras/src/engine/training.py:3079: UserWarning: You are saving your model as an HDF5 file via `model.save()`. This file format is considered legacy. We recommend using instead the native Keras format, e.g. `model.save('my_model.keras')`.\n",
      "  saving_api.save_model(\n"
     ]
    },
    {
     "name": "stdout",
     "output_type": "stream",
     "text": [
      "24/24 [==============================] - 0s 2ms/step\n",
      "Running Fold 5...\n",
      "Training Neural Network...\n"
     ]
    },
    {
     "name": "stderr",
     "output_type": "stream",
     "text": [
      "/Users/jesperhelen/opt/anaconda3/lib/python3.9/site-packages/keras/src/engine/training.py:3079: UserWarning: You are saving your model as an HDF5 file via `model.save()`. This file format is considered legacy. We recommend using instead the native Keras format, e.g. `model.save('my_model.keras')`.\n",
      "  saving_api.save_model(\n"
     ]
    },
    {
     "name": "stdout",
     "output_type": "stream",
     "text": [
      "24/24 [==============================] - 0s 2ms/step\n",
      "Processing stop_sequence 5 for weekday...\n",
      "Running Fold 1...\n",
      "Training Neural Network...\n"
     ]
    },
    {
     "name": "stderr",
     "output_type": "stream",
     "text": [
      "/Users/jesperhelen/opt/anaconda3/lib/python3.9/site-packages/keras/src/engine/training.py:3079: UserWarning: You are saving your model as an HDF5 file via `model.save()`. This file format is considered legacy. We recommend using instead the native Keras format, e.g. `model.save('my_model.keras')`.\n",
      "  saving_api.save_model(\n"
     ]
    },
    {
     "name": "stdout",
     "output_type": "stream",
     "text": [
      "78/78 [==============================] - 0s 2ms/step\n",
      "Running Fold 2...\n",
      "Training Neural Network...\n"
     ]
    },
    {
     "name": "stderr",
     "output_type": "stream",
     "text": [
      "/Users/jesperhelen/opt/anaconda3/lib/python3.9/site-packages/keras/src/engine/training.py:3079: UserWarning: You are saving your model as an HDF5 file via `model.save()`. This file format is considered legacy. We recommend using instead the native Keras format, e.g. `model.save('my_model.keras')`.\n",
      "  saving_api.save_model(\n"
     ]
    },
    {
     "name": "stdout",
     "output_type": "stream",
     "text": [
      "78/78 [==============================] - 0s 2ms/step\n",
      "Running Fold 3...\n",
      "Training Neural Network...\n"
     ]
    },
    {
     "name": "stderr",
     "output_type": "stream",
     "text": [
      "/Users/jesperhelen/opt/anaconda3/lib/python3.9/site-packages/keras/src/engine/training.py:3079: UserWarning: You are saving your model as an HDF5 file via `model.save()`. This file format is considered legacy. We recommend using instead the native Keras format, e.g. `model.save('my_model.keras')`.\n",
      "  saving_api.save_model(\n"
     ]
    },
    {
     "name": "stdout",
     "output_type": "stream",
     "text": [
      "78/78 [==============================] - 0s 2ms/step\n",
      "Running Fold 4...\n",
      "Training Neural Network...\n"
     ]
    },
    {
     "name": "stderr",
     "output_type": "stream",
     "text": [
      "/Users/jesperhelen/opt/anaconda3/lib/python3.9/site-packages/keras/src/engine/training.py:3079: UserWarning: You are saving your model as an HDF5 file via `model.save()`. This file format is considered legacy. We recommend using instead the native Keras format, e.g. `model.save('my_model.keras')`.\n",
      "  saving_api.save_model(\n"
     ]
    },
    {
     "name": "stdout",
     "output_type": "stream",
     "text": [
      "78/78 [==============================] - 0s 2ms/step\n",
      "Running Fold 5...\n",
      "Training Neural Network...\n"
     ]
    },
    {
     "name": "stderr",
     "output_type": "stream",
     "text": [
      "/Users/jesperhelen/opt/anaconda3/lib/python3.9/site-packages/keras/src/engine/training.py:3079: UserWarning: You are saving your model as an HDF5 file via `model.save()`. This file format is considered legacy. We recommend using instead the native Keras format, e.g. `model.save('my_model.keras')`.\n",
      "  saving_api.save_model(\n"
     ]
    },
    {
     "name": "stdout",
     "output_type": "stream",
     "text": [
      "78/78 [==============================] - 0s 2ms/step\n",
      "Processing stop_sequence 5 for weekend...\n",
      "Running Fold 1...\n",
      "Training Neural Network...\n"
     ]
    },
    {
     "name": "stderr",
     "output_type": "stream",
     "text": [
      "/Users/jesperhelen/opt/anaconda3/lib/python3.9/site-packages/keras/src/engine/training.py:3079: UserWarning: You are saving your model as an HDF5 file via `model.save()`. This file format is considered legacy. We recommend using instead the native Keras format, e.g. `model.save('my_model.keras')`.\n",
      "  saving_api.save_model(\n"
     ]
    },
    {
     "name": "stdout",
     "output_type": "stream",
     "text": [
      "24/24 [==============================] - 0s 2ms/step\n",
      "Running Fold 2...\n",
      "Training Neural Network...\n"
     ]
    },
    {
     "name": "stderr",
     "output_type": "stream",
     "text": [
      "/Users/jesperhelen/opt/anaconda3/lib/python3.9/site-packages/keras/src/engine/training.py:3079: UserWarning: You are saving your model as an HDF5 file via `model.save()`. This file format is considered legacy. We recommend using instead the native Keras format, e.g. `model.save('my_model.keras')`.\n",
      "  saving_api.save_model(\n"
     ]
    },
    {
     "name": "stdout",
     "output_type": "stream",
     "text": [
      "24/24 [==============================] - 0s 3ms/step\n",
      "Running Fold 3...\n",
      "Training Neural Network...\n"
     ]
    },
    {
     "name": "stderr",
     "output_type": "stream",
     "text": [
      "/Users/jesperhelen/opt/anaconda3/lib/python3.9/site-packages/keras/src/engine/training.py:3079: UserWarning: You are saving your model as an HDF5 file via `model.save()`. This file format is considered legacy. We recommend using instead the native Keras format, e.g. `model.save('my_model.keras')`.\n",
      "  saving_api.save_model(\n"
     ]
    },
    {
     "name": "stdout",
     "output_type": "stream",
     "text": [
      "24/24 [==============================] - 0s 2ms/step\n",
      "Running Fold 4...\n",
      "Training Neural Network...\n"
     ]
    },
    {
     "name": "stderr",
     "output_type": "stream",
     "text": [
      "/Users/jesperhelen/opt/anaconda3/lib/python3.9/site-packages/keras/src/engine/training.py:3079: UserWarning: You are saving your model as an HDF5 file via `model.save()`. This file format is considered legacy. We recommend using instead the native Keras format, e.g. `model.save('my_model.keras')`.\n",
      "  saving_api.save_model(\n"
     ]
    },
    {
     "name": "stdout",
     "output_type": "stream",
     "text": [
      "24/24 [==============================] - 0s 2ms/step\n",
      "Running Fold 5...\n",
      "Training Neural Network...\n"
     ]
    },
    {
     "name": "stderr",
     "output_type": "stream",
     "text": [
      "/Users/jesperhelen/opt/anaconda3/lib/python3.9/site-packages/keras/src/engine/training.py:3079: UserWarning: You are saving your model as an HDF5 file via `model.save()`. This file format is considered legacy. We recommend using instead the native Keras format, e.g. `model.save('my_model.keras')`.\n",
      "  saving_api.save_model(\n"
     ]
    },
    {
     "name": "stdout",
     "output_type": "stream",
     "text": [
      "24/24 [==============================] - 0s 3ms/step\n",
      "Processing stop_sequence 8 for weekday...\n",
      "Running Fold 1...\n",
      "Training Neural Network...\n"
     ]
    },
    {
     "name": "stderr",
     "output_type": "stream",
     "text": [
      "/Users/jesperhelen/opt/anaconda3/lib/python3.9/site-packages/keras/src/engine/training.py:3079: UserWarning: You are saving your model as an HDF5 file via `model.save()`. This file format is considered legacy. We recommend using instead the native Keras format, e.g. `model.save('my_model.keras')`.\n",
      "  saving_api.save_model(\n"
     ]
    },
    {
     "name": "stdout",
     "output_type": "stream",
     "text": [
      "78/78 [==============================] - 0s 3ms/step\n",
      "Running Fold 2...\n",
      "Training Neural Network...\n"
     ]
    },
    {
     "name": "stderr",
     "output_type": "stream",
     "text": [
      "/Users/jesperhelen/opt/anaconda3/lib/python3.9/site-packages/keras/src/engine/training.py:3079: UserWarning: You are saving your model as an HDF5 file via `model.save()`. This file format is considered legacy. We recommend using instead the native Keras format, e.g. `model.save('my_model.keras')`.\n",
      "  saving_api.save_model(\n"
     ]
    },
    {
     "name": "stdout",
     "output_type": "stream",
     "text": [
      "78/78 [==============================] - 0s 2ms/step\n",
      "Running Fold 3...\n",
      "Training Neural Network...\n"
     ]
    },
    {
     "name": "stderr",
     "output_type": "stream",
     "text": [
      "/Users/jesperhelen/opt/anaconda3/lib/python3.9/site-packages/keras/src/engine/training.py:3079: UserWarning: You are saving your model as an HDF5 file via `model.save()`. This file format is considered legacy. We recommend using instead the native Keras format, e.g. `model.save('my_model.keras')`.\n",
      "  saving_api.save_model(\n"
     ]
    },
    {
     "name": "stdout",
     "output_type": "stream",
     "text": [
      "78/78 [==============================] - 0s 2ms/step\n",
      "Running Fold 4...\n",
      "Training Neural Network...\n"
     ]
    },
    {
     "name": "stderr",
     "output_type": "stream",
     "text": [
      "/Users/jesperhelen/opt/anaconda3/lib/python3.9/site-packages/keras/src/engine/training.py:3079: UserWarning: You are saving your model as an HDF5 file via `model.save()`. This file format is considered legacy. We recommend using instead the native Keras format, e.g. `model.save('my_model.keras')`.\n",
      "  saving_api.save_model(\n"
     ]
    },
    {
     "name": "stdout",
     "output_type": "stream",
     "text": [
      "78/78 [==============================] - 0s 2ms/step\n",
      "Running Fold 5...\n",
      "Training Neural Network...\n"
     ]
    },
    {
     "name": "stderr",
     "output_type": "stream",
     "text": [
      "/Users/jesperhelen/opt/anaconda3/lib/python3.9/site-packages/keras/src/engine/training.py:3079: UserWarning: You are saving your model as an HDF5 file via `model.save()`. This file format is considered legacy. We recommend using instead the native Keras format, e.g. `model.save('my_model.keras')`.\n",
      "  saving_api.save_model(\n"
     ]
    },
    {
     "name": "stdout",
     "output_type": "stream",
     "text": [
      "78/78 [==============================] - 0s 2ms/step\n",
      "Processing stop_sequence 8 for weekend...\n",
      "Running Fold 1...\n",
      "Training Neural Network...\n"
     ]
    },
    {
     "name": "stderr",
     "output_type": "stream",
     "text": [
      "/Users/jesperhelen/opt/anaconda3/lib/python3.9/site-packages/keras/src/engine/training.py:3079: UserWarning: You are saving your model as an HDF5 file via `model.save()`. This file format is considered legacy. We recommend using instead the native Keras format, e.g. `model.save('my_model.keras')`.\n",
      "  saving_api.save_model(\n"
     ]
    },
    {
     "name": "stdout",
     "output_type": "stream",
     "text": [
      "24/24 [==============================] - 0s 2ms/step\n",
      "Running Fold 2...\n",
      "Training Neural Network...\n"
     ]
    },
    {
     "name": "stderr",
     "output_type": "stream",
     "text": [
      "/Users/jesperhelen/opt/anaconda3/lib/python3.9/site-packages/keras/src/engine/training.py:3079: UserWarning: You are saving your model as an HDF5 file via `model.save()`. This file format is considered legacy. We recommend using instead the native Keras format, e.g. `model.save('my_model.keras')`.\n",
      "  saving_api.save_model(\n"
     ]
    },
    {
     "name": "stdout",
     "output_type": "stream",
     "text": [
      "24/24 [==============================] - 0s 2ms/step\n",
      "Running Fold 3...\n",
      "Training Neural Network...\n"
     ]
    },
    {
     "name": "stderr",
     "output_type": "stream",
     "text": [
      "/Users/jesperhelen/opt/anaconda3/lib/python3.9/site-packages/keras/src/engine/training.py:3079: UserWarning: You are saving your model as an HDF5 file via `model.save()`. This file format is considered legacy. We recommend using instead the native Keras format, e.g. `model.save('my_model.keras')`.\n",
      "  saving_api.save_model(\n"
     ]
    },
    {
     "name": "stdout",
     "output_type": "stream",
     "text": [
      "24/24 [==============================] - 0s 2ms/step\n",
      "Running Fold 4...\n",
      "Training Neural Network...\n"
     ]
    },
    {
     "name": "stderr",
     "output_type": "stream",
     "text": [
      "/Users/jesperhelen/opt/anaconda3/lib/python3.9/site-packages/keras/src/engine/training.py:3079: UserWarning: You are saving your model as an HDF5 file via `model.save()`. This file format is considered legacy. We recommend using instead the native Keras format, e.g. `model.save('my_model.keras')`.\n",
      "  saving_api.save_model(\n"
     ]
    },
    {
     "name": "stdout",
     "output_type": "stream",
     "text": [
      "24/24 [==============================] - 0s 2ms/step\n",
      "Running Fold 5...\n",
      "Training Neural Network...\n"
     ]
    },
    {
     "name": "stderr",
     "output_type": "stream",
     "text": [
      "/Users/jesperhelen/opt/anaconda3/lib/python3.9/site-packages/keras/src/engine/training.py:3079: UserWarning: You are saving your model as an HDF5 file via `model.save()`. This file format is considered legacy. We recommend using instead the native Keras format, e.g. `model.save('my_model.keras')`.\n",
      "  saving_api.save_model(\n"
     ]
    },
    {
     "name": "stdout",
     "output_type": "stream",
     "text": [
      "24/24 [==============================] - 0s 2ms/step\n",
      "Processing stop_sequence 12 for weekday...\n",
      "Running Fold 1...\n",
      "Training Neural Network...\n"
     ]
    },
    {
     "name": "stderr",
     "output_type": "stream",
     "text": [
      "/Users/jesperhelen/opt/anaconda3/lib/python3.9/site-packages/keras/src/engine/training.py:3079: UserWarning: You are saving your model as an HDF5 file via `model.save()`. This file format is considered legacy. We recommend using instead the native Keras format, e.g. `model.save('my_model.keras')`.\n",
      "  saving_api.save_model(\n"
     ]
    },
    {
     "name": "stdout",
     "output_type": "stream",
     "text": [
      "78/78 [==============================] - 0s 2ms/step\n",
      "Running Fold 2...\n",
      "Training Neural Network...\n"
     ]
    },
    {
     "name": "stderr",
     "output_type": "stream",
     "text": [
      "/Users/jesperhelen/opt/anaconda3/lib/python3.9/site-packages/keras/src/engine/training.py:3079: UserWarning: You are saving your model as an HDF5 file via `model.save()`. This file format is considered legacy. We recommend using instead the native Keras format, e.g. `model.save('my_model.keras')`.\n",
      "  saving_api.save_model(\n"
     ]
    },
    {
     "name": "stdout",
     "output_type": "stream",
     "text": [
      "78/78 [==============================] - 0s 2ms/step\n",
      "Running Fold 3...\n",
      "Training Neural Network...\n"
     ]
    },
    {
     "name": "stderr",
     "output_type": "stream",
     "text": [
      "/Users/jesperhelen/opt/anaconda3/lib/python3.9/site-packages/keras/src/engine/training.py:3079: UserWarning: You are saving your model as an HDF5 file via `model.save()`. This file format is considered legacy. We recommend using instead the native Keras format, e.g. `model.save('my_model.keras')`.\n",
      "  saving_api.save_model(\n"
     ]
    },
    {
     "name": "stdout",
     "output_type": "stream",
     "text": [
      "78/78 [==============================] - 0s 2ms/step\n",
      "Running Fold 4...\n",
      "Training Neural Network...\n"
     ]
    },
    {
     "name": "stderr",
     "output_type": "stream",
     "text": [
      "/Users/jesperhelen/opt/anaconda3/lib/python3.9/site-packages/keras/src/engine/training.py:3079: UserWarning: You are saving your model as an HDF5 file via `model.save()`. This file format is considered legacy. We recommend using instead the native Keras format, e.g. `model.save('my_model.keras')`.\n",
      "  saving_api.save_model(\n"
     ]
    },
    {
     "name": "stdout",
     "output_type": "stream",
     "text": [
      "78/78 [==============================] - 0s 3ms/step\n",
      "Running Fold 5...\n",
      "Training Neural Network...\n"
     ]
    },
    {
     "name": "stderr",
     "output_type": "stream",
     "text": [
      "/Users/jesperhelen/opt/anaconda3/lib/python3.9/site-packages/keras/src/engine/training.py:3079: UserWarning: You are saving your model as an HDF5 file via `model.save()`. This file format is considered legacy. We recommend using instead the native Keras format, e.g. `model.save('my_model.keras')`.\n",
      "  saving_api.save_model(\n"
     ]
    },
    {
     "name": "stdout",
     "output_type": "stream",
     "text": [
      "78/78 [==============================] - 0s 3ms/step\n",
      "Processing stop_sequence 12 for weekend...\n",
      "Running Fold 1...\n",
      "Training Neural Network...\n"
     ]
    },
    {
     "name": "stderr",
     "output_type": "stream",
     "text": [
      "/Users/jesperhelen/opt/anaconda3/lib/python3.9/site-packages/keras/src/engine/training.py:3079: UserWarning: You are saving your model as an HDF5 file via `model.save()`. This file format is considered legacy. We recommend using instead the native Keras format, e.g. `model.save('my_model.keras')`.\n",
      "  saving_api.save_model(\n"
     ]
    },
    {
     "name": "stdout",
     "output_type": "stream",
     "text": [
      "24/24 [==============================] - 0s 2ms/step\n",
      "Running Fold 2...\n",
      "Training Neural Network...\n"
     ]
    },
    {
     "name": "stderr",
     "output_type": "stream",
     "text": [
      "/Users/jesperhelen/opt/anaconda3/lib/python3.9/site-packages/keras/src/engine/training.py:3079: UserWarning: You are saving your model as an HDF5 file via `model.save()`. This file format is considered legacy. We recommend using instead the native Keras format, e.g. `model.save('my_model.keras')`.\n",
      "  saving_api.save_model(\n"
     ]
    },
    {
     "name": "stdout",
     "output_type": "stream",
     "text": [
      "24/24 [==============================] - 0s 2ms/step\n",
      "Running Fold 3...\n",
      "Training Neural Network...\n"
     ]
    },
    {
     "name": "stderr",
     "output_type": "stream",
     "text": [
      "/Users/jesperhelen/opt/anaconda3/lib/python3.9/site-packages/keras/src/engine/training.py:3079: UserWarning: You are saving your model as an HDF5 file via `model.save()`. This file format is considered legacy. We recommend using instead the native Keras format, e.g. `model.save('my_model.keras')`.\n",
      "  saving_api.save_model(\n"
     ]
    },
    {
     "name": "stdout",
     "output_type": "stream",
     "text": [
      "24/24 [==============================] - 0s 2ms/step\n",
      "Running Fold 4...\n",
      "Training Neural Network...\n"
     ]
    },
    {
     "name": "stderr",
     "output_type": "stream",
     "text": [
      "/Users/jesperhelen/opt/anaconda3/lib/python3.9/site-packages/keras/src/engine/training.py:3079: UserWarning: You are saving your model as an HDF5 file via `model.save()`. This file format is considered legacy. We recommend using instead the native Keras format, e.g. `model.save('my_model.keras')`.\n",
      "  saving_api.save_model(\n"
     ]
    },
    {
     "name": "stdout",
     "output_type": "stream",
     "text": [
      "24/24 [==============================] - 0s 2ms/step\n",
      "Running Fold 5...\n",
      "Training Neural Network...\n"
     ]
    },
    {
     "name": "stderr",
     "output_type": "stream",
     "text": [
      "/Users/jesperhelen/opt/anaconda3/lib/python3.9/site-packages/keras/src/engine/training.py:3079: UserWarning: You are saving your model as an HDF5 file via `model.save()`. This file format is considered legacy. We recommend using instead the native Keras format, e.g. `model.save('my_model.keras')`.\n",
      "  saving_api.save_model(\n"
     ]
    },
    {
     "name": "stdout",
     "output_type": "stream",
     "text": [
      "24/24 [==============================] - 0s 2ms/step\n",
      "Processing stop_sequence 14 for weekday...\n",
      "Running Fold 1...\n",
      "Training Neural Network...\n"
     ]
    },
    {
     "name": "stderr",
     "output_type": "stream",
     "text": [
      "/Users/jesperhelen/opt/anaconda3/lib/python3.9/site-packages/keras/src/engine/training.py:3079: UserWarning: You are saving your model as an HDF5 file via `model.save()`. This file format is considered legacy. We recommend using instead the native Keras format, e.g. `model.save('my_model.keras')`.\n",
      "  saving_api.save_model(\n"
     ]
    },
    {
     "name": "stdout",
     "output_type": "stream",
     "text": [
      "78/78 [==============================] - 0s 2ms/step\n",
      "Running Fold 2...\n",
      "Training Neural Network...\n"
     ]
    },
    {
     "name": "stderr",
     "output_type": "stream",
     "text": [
      "/Users/jesperhelen/opt/anaconda3/lib/python3.9/site-packages/keras/src/engine/training.py:3079: UserWarning: You are saving your model as an HDF5 file via `model.save()`. This file format is considered legacy. We recommend using instead the native Keras format, e.g. `model.save('my_model.keras')`.\n",
      "  saving_api.save_model(\n"
     ]
    },
    {
     "name": "stdout",
     "output_type": "stream",
     "text": [
      "78/78 [==============================] - 0s 3ms/step\n",
      "Running Fold 3...\n",
      "Training Neural Network...\n"
     ]
    },
    {
     "name": "stderr",
     "output_type": "stream",
     "text": [
      "/Users/jesperhelen/opt/anaconda3/lib/python3.9/site-packages/keras/src/engine/training.py:3079: UserWarning: You are saving your model as an HDF5 file via `model.save()`. This file format is considered legacy. We recommend using instead the native Keras format, e.g. `model.save('my_model.keras')`.\n",
      "  saving_api.save_model(\n"
     ]
    },
    {
     "name": "stdout",
     "output_type": "stream",
     "text": [
      "78/78 [==============================] - 0s 2ms/step\n",
      "Running Fold 4...\n",
      "Training Neural Network...\n"
     ]
    },
    {
     "name": "stderr",
     "output_type": "stream",
     "text": [
      "/Users/jesperhelen/opt/anaconda3/lib/python3.9/site-packages/keras/src/engine/training.py:3079: UserWarning: You are saving your model as an HDF5 file via `model.save()`. This file format is considered legacy. We recommend using instead the native Keras format, e.g. `model.save('my_model.keras')`.\n",
      "  saving_api.save_model(\n"
     ]
    },
    {
     "name": "stdout",
     "output_type": "stream",
     "text": [
      "78/78 [==============================] - 0s 2ms/step\n",
      "Running Fold 5...\n",
      "Training Neural Network...\n"
     ]
    },
    {
     "name": "stderr",
     "output_type": "stream",
     "text": [
      "/Users/jesperhelen/opt/anaconda3/lib/python3.9/site-packages/keras/src/engine/training.py:3079: UserWarning: You are saving your model as an HDF5 file via `model.save()`. This file format is considered legacy. We recommend using instead the native Keras format, e.g. `model.save('my_model.keras')`.\n",
      "  saving_api.save_model(\n"
     ]
    },
    {
     "name": "stdout",
     "output_type": "stream",
     "text": [
      "78/78 [==============================] - 0s 2ms/step\n",
      "Processing stop_sequence 14 for weekend...\n",
      "Running Fold 1...\n",
      "Training Neural Network...\n"
     ]
    },
    {
     "name": "stderr",
     "output_type": "stream",
     "text": [
      "/Users/jesperhelen/opt/anaconda3/lib/python3.9/site-packages/keras/src/engine/training.py:3079: UserWarning: You are saving your model as an HDF5 file via `model.save()`. This file format is considered legacy. We recommend using instead the native Keras format, e.g. `model.save('my_model.keras')`.\n",
      "  saving_api.save_model(\n"
     ]
    },
    {
     "name": "stdout",
     "output_type": "stream",
     "text": [
      "24/24 [==============================] - 0s 3ms/step\n",
      "Running Fold 2...\n",
      "Training Neural Network...\n"
     ]
    },
    {
     "name": "stderr",
     "output_type": "stream",
     "text": [
      "/Users/jesperhelen/opt/anaconda3/lib/python3.9/site-packages/keras/src/engine/training.py:3079: UserWarning: You are saving your model as an HDF5 file via `model.save()`. This file format is considered legacy. We recommend using instead the native Keras format, e.g. `model.save('my_model.keras')`.\n",
      "  saving_api.save_model(\n"
     ]
    },
    {
     "name": "stdout",
     "output_type": "stream",
     "text": [
      "24/24 [==============================] - 0s 3ms/step\n",
      "Running Fold 3...\n",
      "Training Neural Network...\n"
     ]
    },
    {
     "name": "stderr",
     "output_type": "stream",
     "text": [
      "/Users/jesperhelen/opt/anaconda3/lib/python3.9/site-packages/keras/src/engine/training.py:3079: UserWarning: You are saving your model as an HDF5 file via `model.save()`. This file format is considered legacy. We recommend using instead the native Keras format, e.g. `model.save('my_model.keras')`.\n",
      "  saving_api.save_model(\n"
     ]
    },
    {
     "name": "stdout",
     "output_type": "stream",
     "text": [
      "24/24 [==============================] - 0s 2ms/step\n",
      "Running Fold 4...\n",
      "Training Neural Network...\n"
     ]
    },
    {
     "name": "stderr",
     "output_type": "stream",
     "text": [
      "/Users/jesperhelen/opt/anaconda3/lib/python3.9/site-packages/keras/src/engine/training.py:3079: UserWarning: You are saving your model as an HDF5 file via `model.save()`. This file format is considered legacy. We recommend using instead the native Keras format, e.g. `model.save('my_model.keras')`.\n",
      "  saving_api.save_model(\n"
     ]
    },
    {
     "name": "stdout",
     "output_type": "stream",
     "text": [
      "24/24 [==============================] - 0s 1ms/step\n",
      "Running Fold 5...\n",
      "Training Neural Network...\n"
     ]
    },
    {
     "name": "stderr",
     "output_type": "stream",
     "text": [
      "/Users/jesperhelen/opt/anaconda3/lib/python3.9/site-packages/keras/src/engine/training.py:3079: UserWarning: You are saving your model as an HDF5 file via `model.save()`. This file format is considered legacy. We recommend using instead the native Keras format, e.g. `model.save('my_model.keras')`.\n",
      "  saving_api.save_model(\n"
     ]
    },
    {
     "name": "stdout",
     "output_type": "stream",
     "text": [
      "24/24 [==============================] - 0s 1ms/step\n",
      "Processing stop_sequence 16 for weekday...\n",
      "Running Fold 1...\n",
      "Training Neural Network...\n"
     ]
    },
    {
     "name": "stderr",
     "output_type": "stream",
     "text": [
      "/Users/jesperhelen/opt/anaconda3/lib/python3.9/site-packages/keras/src/engine/training.py:3079: UserWarning: You are saving your model as an HDF5 file via `model.save()`. This file format is considered legacy. We recommend using instead the native Keras format, e.g. `model.save('my_model.keras')`.\n",
      "  saving_api.save_model(\n"
     ]
    },
    {
     "name": "stdout",
     "output_type": "stream",
     "text": [
      "78/78 [==============================] - 0s 2ms/step\n",
      "Running Fold 2...\n",
      "Training Neural Network...\n"
     ]
    },
    {
     "name": "stderr",
     "output_type": "stream",
     "text": [
      "/Users/jesperhelen/opt/anaconda3/lib/python3.9/site-packages/keras/src/engine/training.py:3079: UserWarning: You are saving your model as an HDF5 file via `model.save()`. This file format is considered legacy. We recommend using instead the native Keras format, e.g. `model.save('my_model.keras')`.\n",
      "  saving_api.save_model(\n"
     ]
    },
    {
     "name": "stdout",
     "output_type": "stream",
     "text": [
      "78/78 [==============================] - 0s 2ms/step\n",
      "Running Fold 3...\n",
      "Training Neural Network...\n"
     ]
    },
    {
     "name": "stderr",
     "output_type": "stream",
     "text": [
      "/Users/jesperhelen/opt/anaconda3/lib/python3.9/site-packages/keras/src/engine/training.py:3079: UserWarning: You are saving your model as an HDF5 file via `model.save()`. This file format is considered legacy. We recommend using instead the native Keras format, e.g. `model.save('my_model.keras')`.\n",
      "  saving_api.save_model(\n"
     ]
    },
    {
     "name": "stdout",
     "output_type": "stream",
     "text": [
      "78/78 [==============================] - 0s 2ms/step\n",
      "Running Fold 4...\n",
      "Training Neural Network...\n"
     ]
    },
    {
     "name": "stderr",
     "output_type": "stream",
     "text": [
      "/Users/jesperhelen/opt/anaconda3/lib/python3.9/site-packages/keras/src/engine/training.py:3079: UserWarning: You are saving your model as an HDF5 file via `model.save()`. This file format is considered legacy. We recommend using instead the native Keras format, e.g. `model.save('my_model.keras')`.\n",
      "  saving_api.save_model(\n"
     ]
    },
    {
     "name": "stdout",
     "output_type": "stream",
     "text": [
      "78/78 [==============================] - 0s 2ms/step\n",
      "Running Fold 5...\n",
      "Training Neural Network...\n"
     ]
    },
    {
     "name": "stderr",
     "output_type": "stream",
     "text": [
      "/Users/jesperhelen/opt/anaconda3/lib/python3.9/site-packages/keras/src/engine/training.py:3079: UserWarning: You are saving your model as an HDF5 file via `model.save()`. This file format is considered legacy. We recommend using instead the native Keras format, e.g. `model.save('my_model.keras')`.\n",
      "  saving_api.save_model(\n"
     ]
    },
    {
     "name": "stdout",
     "output_type": "stream",
     "text": [
      "78/78 [==============================] - 0s 3ms/step\n",
      "Processing stop_sequence 16 for weekend...\n",
      "Running Fold 1...\n",
      "Training Neural Network...\n"
     ]
    },
    {
     "name": "stderr",
     "output_type": "stream",
     "text": [
      "/Users/jesperhelen/opt/anaconda3/lib/python3.9/site-packages/keras/src/engine/training.py:3079: UserWarning: You are saving your model as an HDF5 file via `model.save()`. This file format is considered legacy. We recommend using instead the native Keras format, e.g. `model.save('my_model.keras')`.\n",
      "  saving_api.save_model(\n"
     ]
    },
    {
     "name": "stdout",
     "output_type": "stream",
     "text": [
      "24/24 [==============================] - 0s 2ms/step\n",
      "Running Fold 2...\n",
      "Training Neural Network...\n"
     ]
    },
    {
     "name": "stderr",
     "output_type": "stream",
     "text": [
      "/Users/jesperhelen/opt/anaconda3/lib/python3.9/site-packages/keras/src/engine/training.py:3079: UserWarning: You are saving your model as an HDF5 file via `model.save()`. This file format is considered legacy. We recommend using instead the native Keras format, e.g. `model.save('my_model.keras')`.\n",
      "  saving_api.save_model(\n"
     ]
    },
    {
     "name": "stdout",
     "output_type": "stream",
     "text": [
      "24/24 [==============================] - 0s 2ms/step\n",
      "Running Fold 3...\n",
      "Training Neural Network...\n"
     ]
    },
    {
     "name": "stderr",
     "output_type": "stream",
     "text": [
      "/Users/jesperhelen/opt/anaconda3/lib/python3.9/site-packages/keras/src/engine/training.py:3079: UserWarning: You are saving your model as an HDF5 file via `model.save()`. This file format is considered legacy. We recommend using instead the native Keras format, e.g. `model.save('my_model.keras')`.\n",
      "  saving_api.save_model(\n"
     ]
    },
    {
     "name": "stdout",
     "output_type": "stream",
     "text": [
      "24/24 [==============================] - 0s 2ms/step\n",
      "Running Fold 4...\n",
      "Training Neural Network...\n"
     ]
    },
    {
     "name": "stderr",
     "output_type": "stream",
     "text": [
      "/Users/jesperhelen/opt/anaconda3/lib/python3.9/site-packages/keras/src/engine/training.py:3079: UserWarning: You are saving your model as an HDF5 file via `model.save()`. This file format is considered legacy. We recommend using instead the native Keras format, e.g. `model.save('my_model.keras')`.\n",
      "  saving_api.save_model(\n"
     ]
    },
    {
     "name": "stdout",
     "output_type": "stream",
     "text": [
      "24/24 [==============================] - 0s 2ms/step\n",
      "Running Fold 5...\n",
      "Training Neural Network...\n"
     ]
    },
    {
     "name": "stderr",
     "output_type": "stream",
     "text": [
      "/Users/jesperhelen/opt/anaconda3/lib/python3.9/site-packages/keras/src/engine/training.py:3079: UserWarning: You are saving your model as an HDF5 file via `model.save()`. This file format is considered legacy. We recommend using instead the native Keras format, e.g. `model.save('my_model.keras')`.\n",
      "  saving_api.save_model(\n"
     ]
    },
    {
     "name": "stdout",
     "output_type": "stream",
     "text": [
      "24/24 [==============================] - 0s 2ms/step\n",
      "Processing stop_sequence 19 for weekday...\n",
      "Running Fold 1...\n",
      "Training Neural Network...\n"
     ]
    },
    {
     "name": "stderr",
     "output_type": "stream",
     "text": [
      "/Users/jesperhelen/opt/anaconda3/lib/python3.9/site-packages/keras/src/engine/training.py:3079: UserWarning: You are saving your model as an HDF5 file via `model.save()`. This file format is considered legacy. We recommend using instead the native Keras format, e.g. `model.save('my_model.keras')`.\n",
      "  saving_api.save_model(\n"
     ]
    },
    {
     "name": "stdout",
     "output_type": "stream",
     "text": [
      "78/78 [==============================] - 0s 3ms/step\n",
      "Running Fold 2...\n",
      "Training Neural Network...\n"
     ]
    },
    {
     "name": "stderr",
     "output_type": "stream",
     "text": [
      "/Users/jesperhelen/opt/anaconda3/lib/python3.9/site-packages/keras/src/engine/training.py:3079: UserWarning: You are saving your model as an HDF5 file via `model.save()`. This file format is considered legacy. We recommend using instead the native Keras format, e.g. `model.save('my_model.keras')`.\n",
      "  saving_api.save_model(\n"
     ]
    },
    {
     "name": "stdout",
     "output_type": "stream",
     "text": [
      "78/78 [==============================] - 0s 2ms/step\n",
      "Running Fold 3...\n",
      "Training Neural Network...\n"
     ]
    },
    {
     "name": "stderr",
     "output_type": "stream",
     "text": [
      "/Users/jesperhelen/opt/anaconda3/lib/python3.9/site-packages/keras/src/engine/training.py:3079: UserWarning: You are saving your model as an HDF5 file via `model.save()`. This file format is considered legacy. We recommend using instead the native Keras format, e.g. `model.save('my_model.keras')`.\n",
      "  saving_api.save_model(\n"
     ]
    },
    {
     "name": "stdout",
     "output_type": "stream",
     "text": [
      "78/78 [==============================] - 0s 2ms/step\n",
      "Running Fold 4...\n",
      "Training Neural Network...\n"
     ]
    },
    {
     "name": "stderr",
     "output_type": "stream",
     "text": [
      "/Users/jesperhelen/opt/anaconda3/lib/python3.9/site-packages/keras/src/engine/training.py:3079: UserWarning: You are saving your model as an HDF5 file via `model.save()`. This file format is considered legacy. We recommend using instead the native Keras format, e.g. `model.save('my_model.keras')`.\n",
      "  saving_api.save_model(\n"
     ]
    },
    {
     "name": "stdout",
     "output_type": "stream",
     "text": [
      "78/78 [==============================] - 0s 2ms/step\n",
      "Running Fold 5...\n",
      "Training Neural Network...\n"
     ]
    },
    {
     "name": "stderr",
     "output_type": "stream",
     "text": [
      "/Users/jesperhelen/opt/anaconda3/lib/python3.9/site-packages/keras/src/engine/training.py:3079: UserWarning: You are saving your model as an HDF5 file via `model.save()`. This file format is considered legacy. We recommend using instead the native Keras format, e.g. `model.save('my_model.keras')`.\n",
      "  saving_api.save_model(\n"
     ]
    },
    {
     "name": "stdout",
     "output_type": "stream",
     "text": [
      "78/78 [==============================] - 0s 3ms/step\n",
      "Processing stop_sequence 19 for weekend...\n",
      "Running Fold 1...\n",
      "Training Neural Network...\n"
     ]
    },
    {
     "name": "stderr",
     "output_type": "stream",
     "text": [
      "/Users/jesperhelen/opt/anaconda3/lib/python3.9/site-packages/keras/src/engine/training.py:3079: UserWarning: You are saving your model as an HDF5 file via `model.save()`. This file format is considered legacy. We recommend using instead the native Keras format, e.g. `model.save('my_model.keras')`.\n",
      "  saving_api.save_model(\n"
     ]
    },
    {
     "name": "stdout",
     "output_type": "stream",
     "text": [
      "24/24 [==============================] - 0s 2ms/step\n",
      "Running Fold 2...\n",
      "Training Neural Network...\n"
     ]
    },
    {
     "name": "stderr",
     "output_type": "stream",
     "text": [
      "/Users/jesperhelen/opt/anaconda3/lib/python3.9/site-packages/keras/src/engine/training.py:3079: UserWarning: You are saving your model as an HDF5 file via `model.save()`. This file format is considered legacy. We recommend using instead the native Keras format, e.g. `model.save('my_model.keras')`.\n",
      "  saving_api.save_model(\n"
     ]
    },
    {
     "name": "stdout",
     "output_type": "stream",
     "text": [
      "24/24 [==============================] - 0s 3ms/step\n",
      "Running Fold 3...\n",
      "Training Neural Network...\n"
     ]
    },
    {
     "name": "stderr",
     "output_type": "stream",
     "text": [
      "/Users/jesperhelen/opt/anaconda3/lib/python3.9/site-packages/keras/src/engine/training.py:3079: UserWarning: You are saving your model as an HDF5 file via `model.save()`. This file format is considered legacy. We recommend using instead the native Keras format, e.g. `model.save('my_model.keras')`.\n",
      "  saving_api.save_model(\n"
     ]
    },
    {
     "name": "stdout",
     "output_type": "stream",
     "text": [
      "24/24 [==============================] - 0s 2ms/step\n",
      "Running Fold 4...\n",
      "Training Neural Network...\n"
     ]
    },
    {
     "name": "stderr",
     "output_type": "stream",
     "text": [
      "/Users/jesperhelen/opt/anaconda3/lib/python3.9/site-packages/keras/src/engine/training.py:3079: UserWarning: You are saving your model as an HDF5 file via `model.save()`. This file format is considered legacy. We recommend using instead the native Keras format, e.g. `model.save('my_model.keras')`.\n",
      "  saving_api.save_model(\n"
     ]
    },
    {
     "name": "stdout",
     "output_type": "stream",
     "text": [
      "24/24 [==============================] - 0s 3ms/step\n",
      "Running Fold 5...\n",
      "Training Neural Network...\n"
     ]
    },
    {
     "name": "stderr",
     "output_type": "stream",
     "text": [
      "/Users/jesperhelen/opt/anaconda3/lib/python3.9/site-packages/keras/src/engine/training.py:3079: UserWarning: You are saving your model as an HDF5 file via `model.save()`. This file format is considered legacy. We recommend using instead the native Keras format, e.g. `model.save('my_model.keras')`.\n",
      "  saving_api.save_model(\n"
     ]
    },
    {
     "name": "stdout",
     "output_type": "stream",
     "text": [
      "24/24 [==============================] - 0s 2ms/step\n",
      "Processing stop_sequence 20 for weekday...\n",
      "Running Fold 1...\n",
      "Training Neural Network...\n"
     ]
    },
    {
     "name": "stderr",
     "output_type": "stream",
     "text": [
      "/Users/jesperhelen/opt/anaconda3/lib/python3.9/site-packages/keras/src/engine/training.py:3079: UserWarning: You are saving your model as an HDF5 file via `model.save()`. This file format is considered legacy. We recommend using instead the native Keras format, e.g. `model.save('my_model.keras')`.\n",
      "  saving_api.save_model(\n"
     ]
    },
    {
     "name": "stdout",
     "output_type": "stream",
     "text": [
      "78/78 [==============================] - 0s 2ms/step\n",
      "Running Fold 2...\n",
      "Training Neural Network...\n"
     ]
    },
    {
     "name": "stderr",
     "output_type": "stream",
     "text": [
      "/Users/jesperhelen/opt/anaconda3/lib/python3.9/site-packages/keras/src/engine/training.py:3079: UserWarning: You are saving your model as an HDF5 file via `model.save()`. This file format is considered legacy. We recommend using instead the native Keras format, e.g. `model.save('my_model.keras')`.\n",
      "  saving_api.save_model(\n"
     ]
    },
    {
     "name": "stdout",
     "output_type": "stream",
     "text": [
      "78/78 [==============================] - 0s 2ms/step\n",
      "Running Fold 3...\n",
      "Training Neural Network...\n"
     ]
    },
    {
     "name": "stderr",
     "output_type": "stream",
     "text": [
      "/Users/jesperhelen/opt/anaconda3/lib/python3.9/site-packages/keras/src/engine/training.py:3079: UserWarning: You are saving your model as an HDF5 file via `model.save()`. This file format is considered legacy. We recommend using instead the native Keras format, e.g. `model.save('my_model.keras')`.\n",
      "  saving_api.save_model(\n"
     ]
    },
    {
     "name": "stdout",
     "output_type": "stream",
     "text": [
      "78/78 [==============================] - 0s 2ms/step\n",
      "Running Fold 4...\n",
      "Training Neural Network...\n"
     ]
    },
    {
     "name": "stderr",
     "output_type": "stream",
     "text": [
      "/Users/jesperhelen/opt/anaconda3/lib/python3.9/site-packages/keras/src/engine/training.py:3079: UserWarning: You are saving your model as an HDF5 file via `model.save()`. This file format is considered legacy. We recommend using instead the native Keras format, e.g. `model.save('my_model.keras')`.\n",
      "  saving_api.save_model(\n"
     ]
    },
    {
     "name": "stdout",
     "output_type": "stream",
     "text": [
      "78/78 [==============================] - 0s 2ms/step\n",
      "Running Fold 5...\n",
      "Training Neural Network...\n"
     ]
    },
    {
     "name": "stderr",
     "output_type": "stream",
     "text": [
      "/Users/jesperhelen/opt/anaconda3/lib/python3.9/site-packages/keras/src/engine/training.py:3079: UserWarning: You are saving your model as an HDF5 file via `model.save()`. This file format is considered legacy. We recommend using instead the native Keras format, e.g. `model.save('my_model.keras')`.\n",
      "  saving_api.save_model(\n"
     ]
    },
    {
     "name": "stdout",
     "output_type": "stream",
     "text": [
      "78/78 [==============================] - 0s 2ms/step\n",
      "Processing stop_sequence 20 for weekend...\n",
      "Running Fold 1...\n",
      "Training Neural Network...\n"
     ]
    },
    {
     "name": "stderr",
     "output_type": "stream",
     "text": [
      "/Users/jesperhelen/opt/anaconda3/lib/python3.9/site-packages/keras/src/engine/training.py:3079: UserWarning: You are saving your model as an HDF5 file via `model.save()`. This file format is considered legacy. We recommend using instead the native Keras format, e.g. `model.save('my_model.keras')`.\n",
      "  saving_api.save_model(\n"
     ]
    },
    {
     "name": "stdout",
     "output_type": "stream",
     "text": [
      "24/24 [==============================] - 0s 4ms/step\n",
      "Running Fold 2...\n",
      "Training Neural Network...\n"
     ]
    },
    {
     "name": "stderr",
     "output_type": "stream",
     "text": [
      "/Users/jesperhelen/opt/anaconda3/lib/python3.9/site-packages/keras/src/engine/training.py:3079: UserWarning: You are saving your model as an HDF5 file via `model.save()`. This file format is considered legacy. We recommend using instead the native Keras format, e.g. `model.save('my_model.keras')`.\n",
      "  saving_api.save_model(\n"
     ]
    },
    {
     "name": "stdout",
     "output_type": "stream",
     "text": [
      "24/24 [==============================] - 0s 2ms/step\n",
      "Running Fold 3...\n",
      "Training Neural Network...\n"
     ]
    },
    {
     "name": "stderr",
     "output_type": "stream",
     "text": [
      "/Users/jesperhelen/opt/anaconda3/lib/python3.9/site-packages/keras/src/engine/training.py:3079: UserWarning: You are saving your model as an HDF5 file via `model.save()`. This file format is considered legacy. We recommend using instead the native Keras format, e.g. `model.save('my_model.keras')`.\n",
      "  saving_api.save_model(\n"
     ]
    },
    {
     "name": "stdout",
     "output_type": "stream",
     "text": [
      "24/24 [==============================] - 0s 2ms/step\n",
      "Running Fold 4...\n",
      "Training Neural Network...\n"
     ]
    },
    {
     "name": "stderr",
     "output_type": "stream",
     "text": [
      "/Users/jesperhelen/opt/anaconda3/lib/python3.9/site-packages/keras/src/engine/training.py:3079: UserWarning: You are saving your model as an HDF5 file via `model.save()`. This file format is considered legacy. We recommend using instead the native Keras format, e.g. `model.save('my_model.keras')`.\n",
      "  saving_api.save_model(\n"
     ]
    },
    {
     "name": "stdout",
     "output_type": "stream",
     "text": [
      "24/24 [==============================] - 0s 2ms/step\n",
      "Running Fold 5...\n",
      "Training Neural Network...\n"
     ]
    },
    {
     "name": "stderr",
     "output_type": "stream",
     "text": [
      "/Users/jesperhelen/opt/anaconda3/lib/python3.9/site-packages/keras/src/engine/training.py:3079: UserWarning: You are saving your model as an HDF5 file via `model.save()`. This file format is considered legacy. We recommend using instead the native Keras format, e.g. `model.save('my_model.keras')`.\n",
      "  saving_api.save_model(\n"
     ]
    },
    {
     "name": "stdout",
     "output_type": "stream",
     "text": [
      "24/24 [==============================] - 0s 2ms/step\n",
      "Processing stop_sequence 21 for weekday...\n",
      "Running Fold 1...\n",
      "Training Neural Network...\n"
     ]
    },
    {
     "name": "stderr",
     "output_type": "stream",
     "text": [
      "/Users/jesperhelen/opt/anaconda3/lib/python3.9/site-packages/keras/src/engine/training.py:3079: UserWarning: You are saving your model as an HDF5 file via `model.save()`. This file format is considered legacy. We recommend using instead the native Keras format, e.g. `model.save('my_model.keras')`.\n",
      "  saving_api.save_model(\n"
     ]
    },
    {
     "name": "stdout",
     "output_type": "stream",
     "text": [
      "77/77 [==============================] - 0s 2ms/step\n",
      "Running Fold 2...\n",
      "Training Neural Network...\n"
     ]
    },
    {
     "name": "stderr",
     "output_type": "stream",
     "text": [
      "/Users/jesperhelen/opt/anaconda3/lib/python3.9/site-packages/keras/src/engine/training.py:3079: UserWarning: You are saving your model as an HDF5 file via `model.save()`. This file format is considered legacy. We recommend using instead the native Keras format, e.g. `model.save('my_model.keras')`.\n",
      "  saving_api.save_model(\n"
     ]
    },
    {
     "name": "stdout",
     "output_type": "stream",
     "text": [
      "77/77 [==============================] - 1s 5ms/step\n",
      "Running Fold 3...\n",
      "Training Neural Network...\n"
     ]
    },
    {
     "name": "stderr",
     "output_type": "stream",
     "text": [
      "/Users/jesperhelen/opt/anaconda3/lib/python3.9/site-packages/keras/src/engine/training.py:3079: UserWarning: You are saving your model as an HDF5 file via `model.save()`. This file format is considered legacy. We recommend using instead the native Keras format, e.g. `model.save('my_model.keras')`.\n",
      "  saving_api.save_model(\n"
     ]
    },
    {
     "name": "stdout",
     "output_type": "stream",
     "text": [
      "77/77 [==============================] - 0s 2ms/step\n",
      "Running Fold 4...\n",
      "Training Neural Network...\n"
     ]
    },
    {
     "name": "stderr",
     "output_type": "stream",
     "text": [
      "/Users/jesperhelen/opt/anaconda3/lib/python3.9/site-packages/keras/src/engine/training.py:3079: UserWarning: You are saving your model as an HDF5 file via `model.save()`. This file format is considered legacy. We recommend using instead the native Keras format, e.g. `model.save('my_model.keras')`.\n",
      "  saving_api.save_model(\n"
     ]
    },
    {
     "name": "stdout",
     "output_type": "stream",
     "text": [
      "77/77 [==============================] - 0s 2ms/step\n",
      "Running Fold 5...\n",
      "Training Neural Network...\n"
     ]
    },
    {
     "name": "stderr",
     "output_type": "stream",
     "text": [
      "/Users/jesperhelen/opt/anaconda3/lib/python3.9/site-packages/keras/src/engine/training.py:3079: UserWarning: You are saving your model as an HDF5 file via `model.save()`. This file format is considered legacy. We recommend using instead the native Keras format, e.g. `model.save('my_model.keras')`.\n",
      "  saving_api.save_model(\n"
     ]
    },
    {
     "name": "stdout",
     "output_type": "stream",
     "text": [
      "77/77 [==============================] - 0s 1ms/step\n",
      "Processing stop_sequence 21 for weekend...\n",
      "Running Fold 1...\n",
      "Training Neural Network...\n"
     ]
    },
    {
     "name": "stderr",
     "output_type": "stream",
     "text": [
      "/Users/jesperhelen/opt/anaconda3/lib/python3.9/site-packages/keras/src/engine/training.py:3079: UserWarning: You are saving your model as an HDF5 file via `model.save()`. This file format is considered legacy. We recommend using instead the native Keras format, e.g. `model.save('my_model.keras')`.\n",
      "  saving_api.save_model(\n"
     ]
    },
    {
     "name": "stdout",
     "output_type": "stream",
     "text": [
      "24/24 [==============================] - 0s 3ms/step\n",
      "Running Fold 2...\n",
      "Training Neural Network...\n"
     ]
    },
    {
     "name": "stderr",
     "output_type": "stream",
     "text": [
      "/Users/jesperhelen/opt/anaconda3/lib/python3.9/site-packages/keras/src/engine/training.py:3079: UserWarning: You are saving your model as an HDF5 file via `model.save()`. This file format is considered legacy. We recommend using instead the native Keras format, e.g. `model.save('my_model.keras')`.\n",
      "  saving_api.save_model(\n"
     ]
    },
    {
     "name": "stdout",
     "output_type": "stream",
     "text": [
      "24/24 [==============================] - 0s 2ms/step\n",
      "Running Fold 3...\n",
      "Training Neural Network...\n"
     ]
    },
    {
     "name": "stderr",
     "output_type": "stream",
     "text": [
      "/Users/jesperhelen/opt/anaconda3/lib/python3.9/site-packages/keras/src/engine/training.py:3079: UserWarning: You are saving your model as an HDF5 file via `model.save()`. This file format is considered legacy. We recommend using instead the native Keras format, e.g. `model.save('my_model.keras')`.\n",
      "  saving_api.save_model(\n"
     ]
    },
    {
     "name": "stdout",
     "output_type": "stream",
     "text": [
      "24/24 [==============================] - 0s 2ms/step\n",
      "Running Fold 4...\n",
      "Training Neural Network...\n"
     ]
    },
    {
     "name": "stderr",
     "output_type": "stream",
     "text": [
      "/Users/jesperhelen/opt/anaconda3/lib/python3.9/site-packages/keras/src/engine/training.py:3079: UserWarning: You are saving your model as an HDF5 file via `model.save()`. This file format is considered legacy. We recommend using instead the native Keras format, e.g. `model.save('my_model.keras')`.\n",
      "  saving_api.save_model(\n"
     ]
    },
    {
     "name": "stdout",
     "output_type": "stream",
     "text": [
      "24/24 [==============================] - 0s 2ms/step\n",
      "Running Fold 5...\n",
      "Training Neural Network...\n"
     ]
    },
    {
     "name": "stderr",
     "output_type": "stream",
     "text": [
      "/Users/jesperhelen/opt/anaconda3/lib/python3.9/site-packages/keras/src/engine/training.py:3079: UserWarning: You are saving your model as an HDF5 file via `model.save()`. This file format is considered legacy. We recommend using instead the native Keras format, e.g. `model.save('my_model.keras')`.\n",
      "  saving_api.save_model(\n"
     ]
    },
    {
     "name": "stdout",
     "output_type": "stream",
     "text": [
      "24/24 [==============================] - 0s 2ms/step\n",
      "Processing stop_sequence 23 for weekday...\n",
      "Running Fold 1...\n",
      "Training Neural Network...\n"
     ]
    },
    {
     "name": "stderr",
     "output_type": "stream",
     "text": [
      "/Users/jesperhelen/opt/anaconda3/lib/python3.9/site-packages/keras/src/engine/training.py:3079: UserWarning: You are saving your model as an HDF5 file via `model.save()`. This file format is considered legacy. We recommend using instead the native Keras format, e.g. `model.save('my_model.keras')`.\n",
      "  saving_api.save_model(\n"
     ]
    },
    {
     "name": "stdout",
     "output_type": "stream",
     "text": [
      "78/78 [==============================] - 0s 2ms/step\n",
      "Running Fold 2...\n",
      "Training Neural Network...\n"
     ]
    },
    {
     "name": "stderr",
     "output_type": "stream",
     "text": [
      "/Users/jesperhelen/opt/anaconda3/lib/python3.9/site-packages/keras/src/engine/training.py:3079: UserWarning: You are saving your model as an HDF5 file via `model.save()`. This file format is considered legacy. We recommend using instead the native Keras format, e.g. `model.save('my_model.keras')`.\n",
      "  saving_api.save_model(\n"
     ]
    },
    {
     "name": "stdout",
     "output_type": "stream",
     "text": [
      "78/78 [==============================] - 0s 3ms/step\n",
      "Running Fold 3...\n",
      "Training Neural Network...\n"
     ]
    },
    {
     "name": "stderr",
     "output_type": "stream",
     "text": [
      "/Users/jesperhelen/opt/anaconda3/lib/python3.9/site-packages/keras/src/engine/training.py:3079: UserWarning: You are saving your model as an HDF5 file via `model.save()`. This file format is considered legacy. We recommend using instead the native Keras format, e.g. `model.save('my_model.keras')`.\n",
      "  saving_api.save_model(\n"
     ]
    },
    {
     "name": "stdout",
     "output_type": "stream",
     "text": [
      "78/78 [==============================] - 0s 3ms/step\n",
      "Running Fold 4...\n",
      "Training Neural Network...\n"
     ]
    },
    {
     "name": "stderr",
     "output_type": "stream",
     "text": [
      "/Users/jesperhelen/opt/anaconda3/lib/python3.9/site-packages/keras/src/engine/training.py:3079: UserWarning: You are saving your model as an HDF5 file via `model.save()`. This file format is considered legacy. We recommend using instead the native Keras format, e.g. `model.save('my_model.keras')`.\n",
      "  saving_api.save_model(\n"
     ]
    },
    {
     "name": "stdout",
     "output_type": "stream",
     "text": [
      "78/78 [==============================] - 0s 2ms/step\n",
      "Running Fold 5...\n",
      "Training Neural Network...\n"
     ]
    },
    {
     "name": "stderr",
     "output_type": "stream",
     "text": [
      "/Users/jesperhelen/opt/anaconda3/lib/python3.9/site-packages/keras/src/engine/training.py:3079: UserWarning: You are saving your model as an HDF5 file via `model.save()`. This file format is considered legacy. We recommend using instead the native Keras format, e.g. `model.save('my_model.keras')`.\n",
      "  saving_api.save_model(\n"
     ]
    },
    {
     "name": "stdout",
     "output_type": "stream",
     "text": [
      "78/78 [==============================] - 0s 2ms/step\n",
      "Processing stop_sequence 23 for weekend...\n",
      "Running Fold 1...\n",
      "Training Neural Network...\n"
     ]
    },
    {
     "name": "stderr",
     "output_type": "stream",
     "text": [
      "/Users/jesperhelen/opt/anaconda3/lib/python3.9/site-packages/keras/src/engine/training.py:3079: UserWarning: You are saving your model as an HDF5 file via `model.save()`. This file format is considered legacy. We recommend using instead the native Keras format, e.g. `model.save('my_model.keras')`.\n",
      "  saving_api.save_model(\n"
     ]
    },
    {
     "name": "stdout",
     "output_type": "stream",
     "text": [
      "24/24 [==============================] - 0s 2ms/step\n",
      "Running Fold 2...\n",
      "Training Neural Network...\n"
     ]
    },
    {
     "name": "stderr",
     "output_type": "stream",
     "text": [
      "/Users/jesperhelen/opt/anaconda3/lib/python3.9/site-packages/keras/src/engine/training.py:3079: UserWarning: You are saving your model as an HDF5 file via `model.save()`. This file format is considered legacy. We recommend using instead the native Keras format, e.g. `model.save('my_model.keras')`.\n",
      "  saving_api.save_model(\n"
     ]
    },
    {
     "name": "stdout",
     "output_type": "stream",
     "text": [
      "24/24 [==============================] - 0s 2ms/step\n",
      "Running Fold 3...\n",
      "Training Neural Network...\n"
     ]
    },
    {
     "name": "stderr",
     "output_type": "stream",
     "text": [
      "/Users/jesperhelen/opt/anaconda3/lib/python3.9/site-packages/keras/src/engine/training.py:3079: UserWarning: You are saving your model as an HDF5 file via `model.save()`. This file format is considered legacy. We recommend using instead the native Keras format, e.g. `model.save('my_model.keras')`.\n",
      "  saving_api.save_model(\n"
     ]
    },
    {
     "name": "stdout",
     "output_type": "stream",
     "text": [
      "24/24 [==============================] - 0s 2ms/step\n",
      "Running Fold 4...\n",
      "Training Neural Network...\n"
     ]
    },
    {
     "name": "stderr",
     "output_type": "stream",
     "text": [
      "/Users/jesperhelen/opt/anaconda3/lib/python3.9/site-packages/keras/src/engine/training.py:3079: UserWarning: You are saving your model as an HDF5 file via `model.save()`. This file format is considered legacy. We recommend using instead the native Keras format, e.g. `model.save('my_model.keras')`.\n",
      "  saving_api.save_model(\n"
     ]
    },
    {
     "name": "stdout",
     "output_type": "stream",
     "text": [
      "24/24 [==============================] - 0s 2ms/step\n",
      "Running Fold 5...\n",
      "Training Neural Network...\n"
     ]
    },
    {
     "name": "stderr",
     "output_type": "stream",
     "text": [
      "/Users/jesperhelen/opt/anaconda3/lib/python3.9/site-packages/keras/src/engine/training.py:3079: UserWarning: You are saving your model as an HDF5 file via `model.save()`. This file format is considered legacy. We recommend using instead the native Keras format, e.g. `model.save('my_model.keras')`.\n",
      "  saving_api.save_model(\n"
     ]
    },
    {
     "name": "stdout",
     "output_type": "stream",
     "text": [
      "24/24 [==============================] - 0s 2ms/step\n"
     ]
    },
    {
     "name": "stderr",
     "output_type": "stream",
     "text": [
      "/Users/jesperhelen/opt/anaconda3/lib/python3.9/site-packages/keras/src/engine/training.py:3079: UserWarning: You are saving your model as an HDF5 file via `model.save()`. This file format is considered legacy. We recommend using instead the native Keras format, e.g. `model.save('my_model.keras')`.\n",
      "  saving_api.save_model(\n"
     ]
    }
   ],
   "source": [
    "def select_best_model(df):\n",
    "    lr_results = train_evaluate_lr_model(df)\n",
    "    nn_results = train_evaluate_nn_model(df)\n",
    "\n",
    "    best_model_results = pd.DataFrame(columns=['stop_sequence', 'day_type', 'best_model'])\n",
    "\n",
    "    for stop_seq in df['stop_sequence'].unique():\n",
    "        for day_type in ['weekday', 'weekend']:\n",
    "            lr_mae = lr_results[(lr_results['stop_sequence'] == stop_seq) & (lr_results['day_type'] == day_type)]['MAE'].values[0]\n",
    "            nn_mae = nn_results[(nn_results['stop_sequence'] == stop_seq) & (nn_results['day_type'] == day_type)]['MAE'].values[0]\n",
    "\n",
    "            if lr_mae < nn_mae:\n",
    "                best_model = 'LR'\n",
    "            else:\n",
    "                best_model = 'NN'\n",
    "\n",
    "            best_model_results = pd.concat([best_model_results, pd.DataFrame({'stop_sequence': [stop_seq], 'day_type': [day_type], 'best_model': [best_model]})], ignore_index=True)\n",
    "\n",
    "    return best_model_results\n",
    "best_models=select_best_model(df)"
   ]
  },
  {
   "cell_type": "code",
   "execution_count": 16,
   "id": "2bf8679f",
   "metadata": {},
   "outputs": [
    {
     "name": "stdout",
     "output_type": "stream",
     "text": [
      "   stop_sequence day_type best_model\n",
      "0              1  weekday         NN\n",
      "1              1  weekend         LR\n",
      "2              5  weekday         LR\n",
      "3              5  weekend         LR\n",
      "4              8  weekday         LR\n",
      "5              8  weekend         LR\n",
      "6             12  weekday         LR\n",
      "7             12  weekend         LR\n",
      "8             14  weekday         LR\n",
      "9             14  weekend         LR\n",
      "10            16  weekday         LR\n",
      "11            16  weekend         LR\n",
      "12            19  weekday         LR\n",
      "13            19  weekend         LR\n",
      "14            20  weekday         NN\n",
      "15            20  weekend         LR\n",
      "16            21  weekday         LR\n",
      "17            21  weekend         LR\n",
      "18            23  weekday         LR\n",
      "19            23  weekend         LR\n"
     ]
    }
   ],
   "source": [
    "print(best_models)"
   ]
  },
  {
   "cell_type": "code",
   "execution_count": 17,
   "id": "2ed3f2db",
   "metadata": {},
   "outputs": [
    {
     "name": "stdout",
     "output_type": "stream",
     "text": [
      "484/484 [==============================] - 1s 3ms/step\n"
     ]
    },
    {
     "name": "stderr",
     "output_type": "stream",
     "text": [
      "/var/folders/vv/61p1g2195ln_91592fly3yk40000gn/T/ipykernel_40811/820116638.py:30: SettingWithCopyWarning: \n",
      "A value is trying to be set on a copy of a slice from a DataFrame.\n",
      "Try using .loc[row_indexer,col_indexer] = value instead\n",
      "\n",
      "See the caveats in the documentation: https://pandas.pydata.org/pandas-docs/stable/user_guide/indexing.html#returning-a-view-versus-a-copy\n",
      "  df_subset['predicted_delay'] = model.predict(X_normalized).flatten()\n",
      "/var/folders/vv/61p1g2195ln_91592fly3yk40000gn/T/ipykernel_40811/820116638.py:16: SettingWithCopyWarning: \n",
      "A value is trying to be set on a copy of a slice from a DataFrame.\n",
      "Try using .loc[row_indexer,col_indexer] = value instead\n",
      "\n",
      "See the caveats in the documentation: https://pandas.pydata.org/pandas-docs/stable/user_guide/indexing.html#returning-a-view-versus-a-copy\n",
      "  df_subset['predicted_delay'] = model.predict(X)\n",
      "/var/folders/vv/61p1g2195ln_91592fly3yk40000gn/T/ipykernel_40811/820116638.py:16: SettingWithCopyWarning: \n",
      "A value is trying to be set on a copy of a slice from a DataFrame.\n",
      "Try using .loc[row_indexer,col_indexer] = value instead\n",
      "\n",
      "See the caveats in the documentation: https://pandas.pydata.org/pandas-docs/stable/user_guide/indexing.html#returning-a-view-versus-a-copy\n",
      "  df_subset['predicted_delay'] = model.predict(X)\n",
      "/var/folders/vv/61p1g2195ln_91592fly3yk40000gn/T/ipykernel_40811/820116638.py:16: SettingWithCopyWarning: \n",
      "A value is trying to be set on a copy of a slice from a DataFrame.\n",
      "Try using .loc[row_indexer,col_indexer] = value instead\n",
      "\n",
      "See the caveats in the documentation: https://pandas.pydata.org/pandas-docs/stable/user_guide/indexing.html#returning-a-view-versus-a-copy\n",
      "  df_subset['predicted_delay'] = model.predict(X)\n",
      "/var/folders/vv/61p1g2195ln_91592fly3yk40000gn/T/ipykernel_40811/820116638.py:16: SettingWithCopyWarning: \n",
      "A value is trying to be set on a copy of a slice from a DataFrame.\n",
      "Try using .loc[row_indexer,col_indexer] = value instead\n",
      "\n",
      "See the caveats in the documentation: https://pandas.pydata.org/pandas-docs/stable/user_guide/indexing.html#returning-a-view-versus-a-copy\n",
      "  df_subset['predicted_delay'] = model.predict(X)\n",
      "/var/folders/vv/61p1g2195ln_91592fly3yk40000gn/T/ipykernel_40811/820116638.py:16: SettingWithCopyWarning: \n",
      "A value is trying to be set on a copy of a slice from a DataFrame.\n",
      "Try using .loc[row_indexer,col_indexer] = value instead\n",
      "\n",
      "See the caveats in the documentation: https://pandas.pydata.org/pandas-docs/stable/user_guide/indexing.html#returning-a-view-versus-a-copy\n",
      "  df_subset['predicted_delay'] = model.predict(X)\n",
      "/var/folders/vv/61p1g2195ln_91592fly3yk40000gn/T/ipykernel_40811/820116638.py:16: SettingWithCopyWarning: \n",
      "A value is trying to be set on a copy of a slice from a DataFrame.\n",
      "Try using .loc[row_indexer,col_indexer] = value instead\n",
      "\n",
      "See the caveats in the documentation: https://pandas.pydata.org/pandas-docs/stable/user_guide/indexing.html#returning-a-view-versus-a-copy\n",
      "  df_subset['predicted_delay'] = model.predict(X)\n",
      "/var/folders/vv/61p1g2195ln_91592fly3yk40000gn/T/ipykernel_40811/820116638.py:16: SettingWithCopyWarning: \n",
      "A value is trying to be set on a copy of a slice from a DataFrame.\n",
      "Try using .loc[row_indexer,col_indexer] = value instead\n",
      "\n",
      "See the caveats in the documentation: https://pandas.pydata.org/pandas-docs/stable/user_guide/indexing.html#returning-a-view-versus-a-copy\n",
      "  df_subset['predicted_delay'] = model.predict(X)\n",
      "/var/folders/vv/61p1g2195ln_91592fly3yk40000gn/T/ipykernel_40811/820116638.py:16: SettingWithCopyWarning: \n",
      "A value is trying to be set on a copy of a slice from a DataFrame.\n",
      "Try using .loc[row_indexer,col_indexer] = value instead\n",
      "\n",
      "See the caveats in the documentation: https://pandas.pydata.org/pandas-docs/stable/user_guide/indexing.html#returning-a-view-versus-a-copy\n",
      "  df_subset['predicted_delay'] = model.predict(X)\n",
      "/var/folders/vv/61p1g2195ln_91592fly3yk40000gn/T/ipykernel_40811/820116638.py:16: SettingWithCopyWarning: \n",
      "A value is trying to be set on a copy of a slice from a DataFrame.\n",
      "Try using .loc[row_indexer,col_indexer] = value instead\n",
      "\n",
      "See the caveats in the documentation: https://pandas.pydata.org/pandas-docs/stable/user_guide/indexing.html#returning-a-view-versus-a-copy\n",
      "  df_subset['predicted_delay'] = model.predict(X)\n",
      "/var/folders/vv/61p1g2195ln_91592fly3yk40000gn/T/ipykernel_40811/820116638.py:16: SettingWithCopyWarning: \n",
      "A value is trying to be set on a copy of a slice from a DataFrame.\n",
      "Try using .loc[row_indexer,col_indexer] = value instead\n",
      "\n",
      "See the caveats in the documentation: https://pandas.pydata.org/pandas-docs/stable/user_guide/indexing.html#returning-a-view-versus-a-copy\n",
      "  df_subset['predicted_delay'] = model.predict(X)\n",
      "/var/folders/vv/61p1g2195ln_91592fly3yk40000gn/T/ipykernel_40811/820116638.py:16: SettingWithCopyWarning: \n",
      "A value is trying to be set on a copy of a slice from a DataFrame.\n",
      "Try using .loc[row_indexer,col_indexer] = value instead\n",
      "\n",
      "See the caveats in the documentation: https://pandas.pydata.org/pandas-docs/stable/user_guide/indexing.html#returning-a-view-versus-a-copy\n",
      "  df_subset['predicted_delay'] = model.predict(X)\n",
      "/var/folders/vv/61p1g2195ln_91592fly3yk40000gn/T/ipykernel_40811/820116638.py:16: SettingWithCopyWarning: \n",
      "A value is trying to be set on a copy of a slice from a DataFrame.\n",
      "Try using .loc[row_indexer,col_indexer] = value instead\n",
      "\n",
      "See the caveats in the documentation: https://pandas.pydata.org/pandas-docs/stable/user_guide/indexing.html#returning-a-view-versus-a-copy\n",
      "  df_subset['predicted_delay'] = model.predict(X)\n",
      "/var/folders/vv/61p1g2195ln_91592fly3yk40000gn/T/ipykernel_40811/820116638.py:16: SettingWithCopyWarning: \n",
      "A value is trying to be set on a copy of a slice from a DataFrame.\n",
      "Try using .loc[row_indexer,col_indexer] = value instead\n",
      "\n",
      "See the caveats in the documentation: https://pandas.pydata.org/pandas-docs/stable/user_guide/indexing.html#returning-a-view-versus-a-copy\n",
      "  df_subset['predicted_delay'] = model.predict(X)\n"
     ]
    },
    {
     "name": "stdout",
     "output_type": "stream",
     "text": [
      "484/484 [==============================] - 1s 2ms/step\n"
     ]
    },
    {
     "name": "stderr",
     "output_type": "stream",
     "text": [
      "/var/folders/vv/61p1g2195ln_91592fly3yk40000gn/T/ipykernel_40811/820116638.py:30: SettingWithCopyWarning: \n",
      "A value is trying to be set on a copy of a slice from a DataFrame.\n",
      "Try using .loc[row_indexer,col_indexer] = value instead\n",
      "\n",
      "See the caveats in the documentation: https://pandas.pydata.org/pandas-docs/stable/user_guide/indexing.html#returning-a-view-versus-a-copy\n",
      "  df_subset['predicted_delay'] = model.predict(X_normalized).flatten()\n",
      "/var/folders/vv/61p1g2195ln_91592fly3yk40000gn/T/ipykernel_40811/820116638.py:16: SettingWithCopyWarning: \n",
      "A value is trying to be set on a copy of a slice from a DataFrame.\n",
      "Try using .loc[row_indexer,col_indexer] = value instead\n",
      "\n",
      "See the caveats in the documentation: https://pandas.pydata.org/pandas-docs/stable/user_guide/indexing.html#returning-a-view-versus-a-copy\n",
      "  df_subset['predicted_delay'] = model.predict(X)\n",
      "/var/folders/vv/61p1g2195ln_91592fly3yk40000gn/T/ipykernel_40811/820116638.py:16: SettingWithCopyWarning: \n",
      "A value is trying to be set on a copy of a slice from a DataFrame.\n",
      "Try using .loc[row_indexer,col_indexer] = value instead\n",
      "\n",
      "See the caveats in the documentation: https://pandas.pydata.org/pandas-docs/stable/user_guide/indexing.html#returning-a-view-versus-a-copy\n",
      "  df_subset['predicted_delay'] = model.predict(X)\n",
      "/var/folders/vv/61p1g2195ln_91592fly3yk40000gn/T/ipykernel_40811/820116638.py:16: SettingWithCopyWarning: \n",
      "A value is trying to be set on a copy of a slice from a DataFrame.\n",
      "Try using .loc[row_indexer,col_indexer] = value instead\n",
      "\n",
      "See the caveats in the documentation: https://pandas.pydata.org/pandas-docs/stable/user_guide/indexing.html#returning-a-view-versus-a-copy\n",
      "  df_subset['predicted_delay'] = model.predict(X)\n",
      "/var/folders/vv/61p1g2195ln_91592fly3yk40000gn/T/ipykernel_40811/820116638.py:16: SettingWithCopyWarning: \n",
      "A value is trying to be set on a copy of a slice from a DataFrame.\n",
      "Try using .loc[row_indexer,col_indexer] = value instead\n",
      "\n",
      "See the caveats in the documentation: https://pandas.pydata.org/pandas-docs/stable/user_guide/indexing.html#returning-a-view-versus-a-copy\n",
      "  df_subset['predicted_delay'] = model.predict(X)\n",
      "/var/folders/vv/61p1g2195ln_91592fly3yk40000gn/T/ipykernel_40811/820116638.py:16: SettingWithCopyWarning: \n",
      "A value is trying to be set on a copy of a slice from a DataFrame.\n",
      "Try using .loc[row_indexer,col_indexer] = value instead\n",
      "\n",
      "See the caveats in the documentation: https://pandas.pydata.org/pandas-docs/stable/user_guide/indexing.html#returning-a-view-versus-a-copy\n",
      "  df_subset['predicted_delay'] = model.predict(X)\n"
     ]
    },
    {
     "name": "stdout",
     "output_type": "stream",
     "text": [
      "        Calendar_date  route_id  bus_id  stop_sequence  arrival_delay  \\\n",
      "3186         20220110         4   44410              1             49   \n",
      "3213         20220110         4   41370              1             65   \n",
      "3240         20220110         4   41353              1             23   \n",
      "3267         20220110         4   44413              1             72   \n",
      "3294         20220110         4   45544              1            182   \n",
      "...               ...       ...     ...            ...            ...   \n",
      "540643       20220626         4   44418             23            237   \n",
      "540670       20220626         4   44064             23            105   \n",
      "540697       20220626         4   44059             23             20   \n",
      "540724       20220626         4   41359             23            123   \n",
      "540751       20220626         4   41345             23            164   \n",
      "\n",
      "        dwell_time  travel_time_for_previous_section  scheduled_travel_time  \\\n",
      "3186             0                                 0                    120   \n",
      "3213             0                                 0                    120   \n",
      "3240             0                                 0                    120   \n",
      "3267             0                                 0                    120   \n",
      "3294             0                                 0                    120   \n",
      "...            ...                               ...                    ...   \n",
      "540643          19                                47                     50   \n",
      "540670          11                                35                     44   \n",
      "540697           0                                50                     44   \n",
      "540724           0                                51                     44   \n",
      "540751           0                                45                     44   \n",
      "\n",
      "        upstream_stop_delay  origin_delay  ...  factor(weather)Snow  \\\n",
      "3186                      8             8  ...                    0   \n",
      "3213                     47            47  ...                    0   \n",
      "3240                     19            19  ...                    0   \n",
      "3267                     39            39  ...                    0   \n",
      "3294                    144           144  ...                    0   \n",
      "...                     ...           ...  ...                  ...   \n",
      "540643                  221           181  ...                    0   \n",
      "540670                  101            17  ...                    0   \n",
      "540697                   24            17  ...                    0   \n",
      "540724                  136            39  ...                    0   \n",
      "540751                  173            31  ...                    0   \n",
      "\n",
      "        factor(temperature)Cold  factor(temperature)Extra_cold  \\\n",
      "3186                          1                              0   \n",
      "3213                          1                              0   \n",
      "3240                          1                              0   \n",
      "3267                          1                              0   \n",
      "3294                          1                              0   \n",
      "...                         ...                            ...   \n",
      "540643                        0                              0   \n",
      "540670                        0                              0   \n",
      "540697                        0                              0   \n",
      "540724                        0                              0   \n",
      "540751                        0                              0   \n",
      "\n",
      "        factor(temperature)Normal factor(day_of_week)weekday  \\\n",
      "3186                            0                          1   \n",
      "3213                            0                          1   \n",
      "3240                            0                          1   \n",
      "3267                            0                          1   \n",
      "3294                            0                          1   \n",
      "...                           ...                        ...   \n",
      "540643                          1                          0   \n",
      "540670                          1                          0   \n",
      "540697                          1                          0   \n",
      "540724                          1                          0   \n",
      "540751                          1                          0   \n",
      "\n",
      "       factor(day_of_week)weekend factor(time_of_day)Afternoon_peak  \\\n",
      "3186                            0                                 0   \n",
      "3213                            0                                 0   \n",
      "3240                            0                                 0   \n",
      "3267                            0                                 0   \n",
      "3294                            0                                 0   \n",
      "...                           ...                               ...   \n",
      "540643                          1                                 0   \n",
      "540670                          1                                 0   \n",
      "540697                          1                                 0   \n",
      "540724                          1                                 0   \n",
      "540751                          1                                 0   \n",
      "\n",
      "       factor(time_of_day)Morning_peak  factor(time_of_day)Off-peak  \\\n",
      "3186                                 1                            0   \n",
      "3213                                 1                            0   \n",
      "3240                                 1                            0   \n",
      "3267                                 1                            0   \n",
      "3294                                 1                            0   \n",
      "...                                ...                          ...   \n",
      "540643                               0                            1   \n",
      "540670                               0                            1   \n",
      "540697                               0                            1   \n",
      "540724                               0                            1   \n",
      "540751                               0                            1   \n",
      "\n",
      "        predicted_delay  \n",
      "3186          55.063339  \n",
      "3213          96.875443  \n",
      "3240          68.378502  \n",
      "3267          87.150787  \n",
      "3294         185.695190  \n",
      "...                 ...  \n",
      "540643       225.097918  \n",
      "540670       101.368598  \n",
      "540697        12.462677  \n",
      "540724       124.848985  \n",
      "540751       161.524212  \n",
      "\n",
      "[201801 rows x 32 columns]\n"
     ]
    }
   ],
   "source": [
    "def predict_with_best_models(df, best_model_results):\n",
    "    all_groups = []\n",
    "\n",
    "    for _, row in best_model_results.iterrows():\n",
    "        stop_seq = row['stop_sequence']\n",
    "        day_type = row['day_type']\n",
    "        best_model = row['best_model']\n",
    "\n",
    "        if best_model == 'LR':\n",
    "            lr_model_path = os.path.join(\"lr_models\", f'lr_model_{stop_seq}_{day_type}.pkl')\n",
    "\n",
    "            if os.path.exists(lr_model_path):\n",
    "                model = joblib.load(lr_model_path)\n",
    "                X = df[(df['stop_sequence'] == stop_seq) & (df['day_of_week'] == day_type)].drop(columns=['arrival_delay', 'day_of_week', 'time_of_day', \"weather\", \"temperature\"], errors='ignore')\n",
    "                df_subset = df[(df['stop_sequence'] == stop_seq) & (df['day_of_week'] == day_type)]\n",
    "                df_subset['predicted_delay'] = model.predict(X)\n",
    "            else:\n",
    "                raise ValueError(f\"No saved LR model found for stop_sequence: {stop_seq} and day_type: {day_type}\")\n",
    "\n",
    "        else:\n",
    "            nn_model_path = os.path.join(\"nn_models\", f'nn_model_{stop_seq}_{day_type}.h5')\n",
    "            scaler_path = os.path.join(\"nn_scalers\", f'scaler_{stop_seq}_{day_type}.pkl')\n",
    "\n",
    "            if os.path.exists(nn_model_path):\n",
    "                model = load_model(nn_model_path)\n",
    "                scaler = joblib.load(scaler_path)\n",
    "                X = df[(df['stop_sequence'] == stop_seq) & (df['day_of_week'] == day_type)].drop(columns=['arrival_delay', 'day_of_week', 'time_of_day', \"weather\", \"temperature\"], errors='ignore').astype('float32')\n",
    "                X_normalized = scaler.transform(X)\n",
    "                df_subset = df[(df['stop_sequence'] == stop_seq) & (df['day_of_week'] == day_type)]\n",
    "                df_subset['predicted_delay'] = model.predict(X_normalized).flatten()\n",
    "            else:\n",
    "                raise ValueError(f\"No saved NN model found for stop_sequence: {stop_seq} and day_type: {day_type}\")\n",
    "\n",
    "        all_groups.append(df_subset)\n",
    "\n",
    "    result_df = pd.concat(all_groups)\n",
    "    return result_df\n",
    "\n",
    "\n",
    "predicted_df = predict_with_best_models(df, best_models)\n",
    "print(predicted_df)\n"
   ]
  },
  {
   "cell_type": "code",
   "execution_count": 18,
   "id": "75507bdc",
   "metadata": {},
   "outputs": [
    {
     "name": "stdout",
     "output_type": "stream",
     "text": [
      "R^2: 0.9886239872274566\n",
      "MAE: 13.680423029650349\n"
     ]
    }
   ],
   "source": [
    "predicted_df.head()\n",
    "# Extracting the actual and predicted values from the DataFrame\n",
    "actual_values = predicted_df[\"arrival_delay\"].values\n",
    "predicted_values = predicted_df[\"predicted_delay\"].values\n",
    "\n",
    "# Computing R^2\n",
    "r2 = r2_score(actual_values, predicted_values)\n",
    "\n",
    "# Computing MAE\n",
    "mae = mean_absolute_error(actual_values, predicted_values)\n",
    "\n",
    "print(f\"R^2: {r2}\")\n",
    "print(f\"MAE: {mae}\")\n",
    "\n"
   ]
  },
  {
   "cell_type": "code",
   "execution_count": 19,
   "id": "a3ea3120",
   "metadata": {},
   "outputs": [
    {
     "data": {
      "image/png": "[encoded data removed]",
      "text/plain": [
       "<Figure size 1080x648 with 1 Axes>"
      ]
     },
     "metadata": {
      "needs_background": "light"
     },
     "output_type": "display_data"
    }
   ],
   "source": [
    "import matplotlib.pyplot as plt\n",
    "\n",
    "# Values\n",
    "actual_values = predicted_df[\"arrival_delay\"].values\n",
    "predicted_values = predicted_df[\"predicted_delay\"].values\n",
    "stop_sequences = predicted_df[\"stop_sequence\"].values\n",
    "\n",
    "# Unique stop sequences and their corresponding colors using a colormap\n",
    "unique_sequences = np.unique(stop_sequences)\n",
    "colors = plt.cm.jet(np.linspace(0, 1, len(unique_sequences)))\n",
    "\n",
    "# Create a dictionary mapping each stop sequence to a color\n",
    "seq_to_color = dict(zip(unique_sequences, colors))\n",
    "\n",
    "# Extract corresponding colors for our data\n",
    "color_values = [seq_to_color[seq] for seq in stop_sequences]\n",
    "\n",
    "# Plotting\n",
    "plt.figure(figsize=(15, 9))\n",
    "scatter = plt.scatter(actual_values, predicted_values, c=color_values, alpha=0.2)\n",
    "plt.xlabel('Actual Delays')\n",
    "plt.ylabel('Predicted Delays')\n",
    "plt.title('Actual vs Predicted Delays based on Stop Sequence')\n",
    "plt.grid(True, which='both', linestyle='--', linewidth=0.5)\n",
    "plt.tight_layout()\n",
    "\n",
    "# Creating a legend\n",
    "legend_labels = [plt.Line2D([0], [0], marker='o', color='w', markerfacecolor=seq_to_color[seq], markersize=10) for seq in unique_sequences]\n",
    "plt.legend(legend_labels, unique_sequences, title=\"Stop Sequence\")\n",
    "\n",
    "max_val = max(max(actual_values), max(predicted_values))\n",
    "min_val = min(min(actual_values), min(predicted_values))\n",
    "plt.plot([min_val, max_val], [min_val, max_val], 'r-')\n",
    "\n",
    "plt.show()\n"
   ]
  }
 ],
 "metadata": {
  "kernelspec": {
   "display_name": "Python 3 (ipykernel)",
   "language": "python",
   "name": "python3"
  },
  "language_info": {
   "codemirror_mode": {
    "name": "ipython",
    "version": 3
   },
   "file_extension": ".py",
   "mimetype": "text/x-python",
   "name": "python",
   "nbconvert_exporter": "python",
   "pygments_lexer": "ipython3",
   "version": "3.9.7"
  }
 },
 "nbformat": 4,
 "nbformat_minor": 5
}
