{
  "cells": [
    {
      "cell_type": "code",
      "execution_count": null,
      "id": "28b2a247",
      "metadata": {
        "colab": {
          "base_uri": "https://localhost:8080/"
        },
        "id": "28b2a247",
        "outputId": "cf250fbb-3b8e-4a53-86b8-3fbf46d6b0a7"
      },
      "outputs": [
        {
          "output_type": "stream",
          "name": "stdout",
          "text": [
            "Requirement already satisfied: calplot in /usr/local/lib/python3.10/dist-packages (0.1.7.5)\n",
            "Requirement already satisfied: matplotlib in /usr/local/lib/python3.10/dist-packages (from calplot) (3.7.1)\n",
            "Requirement already satisfied: numpy in /usr/local/lib/python3.10/dist-packages (from calplot) (1.23.5)\n",
            "Requirement already satisfied: pandas>=1 in /usr/local/lib/python3.10/dist-packages (from calplot) (1.5.3)\n",
            "Requirement already satisfied: python-dateutil>=2.8.1 in /usr/local/lib/python3.10/dist-packages (from pandas>=1->calplot) (2.8.2)\n",
            "Requirement already satisfied: pytz>=2020.1 in /usr/local/lib/python3.10/dist-packages (from pandas>=1->calplot) (2023.3.post1)\n",
            "Requirement already satisfied: contourpy>=1.0.1 in /usr/local/lib/python3.10/dist-packages (from matplotlib->calplot) (1.1.1)\n",
            "Requirement already satisfied: cycler>=0.10 in /usr/local/lib/python3.10/dist-packages (from matplotlib->calplot) (0.12.1)\n",
            "Requirement already satisfied: fonttools>=4.22.0 in /usr/local/lib/python3.10/dist-packages (from matplotlib->calplot) (4.43.1)\n",
            "Requirement already satisfied: kiwisolver>=1.0.1 in /usr/local/lib/python3.10/dist-packages (from matplotlib->calplot) (1.4.5)\n",
            "Requirement already satisfied: packaging>=20.0 in /usr/local/lib/python3.10/dist-packages (from matplotlib->calplot) (23.2)\n",
            "Requirement already satisfied: pillow>=6.2.0 in /usr/local/lib/python3.10/dist-packages (from matplotlib->calplot) (9.4.0)\n",
            "Requirement already satisfied: pyparsing>=2.3.1 in /usr/local/lib/python3.10/dist-packages (from matplotlib->calplot) (3.1.1)\n",
            "Requirement already satisfied: six>=1.5 in /usr/local/lib/python3.10/dist-packages (from python-dateutil>=2.8.1->pandas>=1->calplot) (1.16.0)\n"
          ]
        }
      ],
      "source": [
        "!pip install calplot"
      ]
    },
    {
      "cell_type": "code",
      "execution_count": null,
      "id": "76714239",
      "metadata": {
        "id": "76714239"
      },
      "outputs": [],
      "source": [
        "import pandas as pd\n",
        "\n",
        "#Plot\n",
        "import numpy as np\n",
        "import matplotlib.pyplot as plt\n",
        "import matplotlib.colors as mcolors\n",
        "import seaborn as sns\n",
        "import calendar\n",
        "import calplot # actually used\n",
        "\n",
        "# Score model\n",
        "from sklearn.metrics import mean_squared_error, mean_absolute_error, r2_score\n",
        "\n",
        "# Model\n",
        "from sklearn.model_selection import train_test_split, cross_val_score,GridSearchCV\n",
        "from sklearn.linear_model import Ridge, LinearRegression\n",
        "from sklearn.feature_selection import RFECV\n",
        "from sklearn.preprocessing import StandardScaler\n",
        "from scipy import stats\n",
        "import os\n",
        "import joblib\n",
        "\n"
      ]
    },
    {
      "cell_type": "markdown",
      "id": "6d24e4b9",
      "metadata": {
        "id": "6d24e4b9"
      },
      "source": [
        "# Base Line model"
      ]
    },
    {
      "cell_type": "code",
      "execution_count": null,
      "id": "5d199796",
      "metadata": {
        "id": "5d199796"
      },
      "outputs": [],
      "source": [
        "url = \"https://raw.githubusercontent.com/zhenliangma/Applied-AI-in-Transportation/main/ProjectAssignmentData/Dataset-PT.csv\"\n",
        "df = pd.read_csv(url,header=1)"
      ]
    },
    {
      "cell_type": "markdown",
      "id": "5e3b7437",
      "metadata": {
        "id": "5e3b7437"
      },
      "source": [
        "##  Mean"
      ]
    },
    {
      "cell_type": "code",
      "execution_count": null,
      "id": "815f87df",
      "metadata": {
        "colab": {
          "base_uri": "https://localhost:8080/"
        },
        "id": "815f87df",
        "outputId": "dc7fea88-f898-4436-950b-259762ef8c50"
      },
      "outputs": [
        {
          "output_type": "stream",
          "name": "stdout",
          "text": [
            "Mean Squared Error (MSE): 37596.94219419411\n",
            "Mean Absolute Error (MAE): 138.98420152332488\n",
            "R^2 Score: 0.0\n"
          ]
        }
      ],
      "source": [
        "# 1. Calculate the mean of the actual delays\n",
        "mean_delay = df['arrival_delay'].mean()\n",
        "\n",
        "# 2. Create a new column with the mean delay as prediction\n",
        "df['predicted_delay'] = mean_delay\n",
        "\n",
        "# 3. Calculate MSE\n",
        "mse = mean_squared_error(df['arrival_delay'], df['predicted_delay'])\n",
        "print(f\"Mean Squared Error (MSE): {mse}\")\n",
        "\n",
        "# Mean Absolute Error (MAE)\n",
        "mae = mean_absolute_error(df['arrival_delay'], df['predicted_delay'])\n",
        "print(f\"Mean Absolute Error (MAE): {mae}\")\n",
        "\n",
        "# R^2 Score\n",
        "r2 = r2_score(df['arrival_delay'], df['predicted_delay'])\n",
        "print(f\"R^2 Score: {r2}\")\n",
        "df = df.drop(columns='predicted_delay')"
      ]
    },
    {
      "cell_type": "markdown",
      "id": "98a01703",
      "metadata": {
        "id": "98a01703"
      },
      "source": [
        "# Dataframe setup"
      ]
    },
    {
      "cell_type": "code",
      "execution_count": null,
      "id": "d1e304c4",
      "metadata": {
        "colab": {
          "base_uri": "https://localhost:8080/"
        },
        "id": "d1e304c4",
        "outputId": "1ee18f18-cc4c-4b4d-843f-80926be5d32a"
      },
      "outputs": [
        {
          "output_type": "stream",
          "name": "stdout",
          "text": [
            "Number of outliers removed: 228\n",
            "Size of the original DataFrame: 544875\n"
          ]
        }
      ],
      "source": [
        "# Read the data\n",
        "url = \"https://raw.githubusercontent.com/zhenliangma/Applied-AI-in-Transportation/main/ProjectAssignmentData/Dataset-PT.csv\"\n",
        "df = pd.read_csv(url, header=1)\n",
        "\n",
        "# Calculate z-scores for the 'arrival_delay' column\n",
        "z_scores = stats.zscore(df['arrival_delay'])\n",
        "\n",
        "# Get boolean array indicating the location of outliers\n",
        "outliers = (z_scores > 7) | (z_scores < -7)\n",
        "\n",
        "# Count the number of outliers\n",
        "num_outliers = outliers.sum()\n",
        "\n",
        "# Print the number of outliers\n",
        "print(f\"Number of outliers removed: {num_outliers}\")\n",
        "\n",
        "# Remove the outliers\n",
        "df = df[~outliers]\n",
        "\n",
        "# Verify the new size of the DataFrame\n",
        "print(f\"Size of the original DataFrame: {len(df)}\")\n",
        "\n",
        "#print(f\"Size of the DataFrame after removing outliers: {len(df_no_outliers)}\")\n",
        "selected_values = [1, 5, 8, 12, 14, 16, 20, 21, 23]\n",
        "df = df[df['stop_sequence'].isin(selected_values)]"
      ]
    },
    {
      "cell_type": "markdown",
      "id": "71c08729",
      "metadata": {
        "id": "71c08729"
      },
      "source": [
        "# Only Daytype Model"
      ]
    },
    {
      "cell_type": "code",
      "source": [
        "!pip install tensorflow"
      ],
      "metadata": {
        "colab": {
          "base_uri": "https://localhost:8080/"
        },
        "id": "xNqZtTAhlKO_",
        "outputId": "e4355412-7ee8-44e0-807b-0df76e75c7ad"
      },
      "id": "xNqZtTAhlKO_",
      "execution_count": null,
      "outputs": [
        {
          "output_type": "stream",
          "name": "stdout",
          "text": [
            "Requirement already satisfied: tensorflow in /usr/local/lib/python3.10/dist-packages (2.13.0)\n",
            "Requirement already satisfied: absl-py>=1.0.0 in /usr/local/lib/python3.10/dist-packages (from tensorflow) (1.4.0)\n",
            "Requirement already satisfied: astunparse>=1.6.0 in /usr/local/lib/python3.10/dist-packages (from tensorflow) (1.6.3)\n",
            "Requirement already satisfied: flatbuffers>=23.1.21 in /usr/local/lib/python3.10/dist-packages (from tensorflow) (23.5.26)\n",
            "Requirement already satisfied: gast<=0.4.0,>=0.2.1 in /usr/local/lib/python3.10/dist-packages (from tensorflow) (0.4.0)\n",
            "Requirement already satisfied: google-pasta>=0.1.1 in /usr/local/lib/python3.10/dist-packages (from tensorflow) (0.2.0)\n",
            "Requirement already satisfied: grpcio<2.0,>=1.24.3 in /usr/local/lib/python3.10/dist-packages (from tensorflow) (1.59.0)\n",
            "Requirement already satisfied: h5py>=2.9.0 in /usr/local/lib/python3.10/dist-packages (from tensorflow) (3.9.0)\n",
            "Requirement already satisfied: keras<2.14,>=2.13.1 in /usr/local/lib/python3.10/dist-packages (from tensorflow) (2.13.1)\n",
            "Requirement already satisfied: libclang>=13.0.0 in /usr/local/lib/python3.10/dist-packages (from tensorflow) (16.0.6)\n",
            "Requirement already satisfied: numpy<=1.24.3,>=1.22 in /usr/local/lib/python3.10/dist-packages (from tensorflow) (1.23.5)\n",
            "Requirement already satisfied: opt-einsum>=2.3.2 in /usr/local/lib/python3.10/dist-packages (from tensorflow) (3.3.0)\n",
            "Requirement already satisfied: packaging in /usr/local/lib/python3.10/dist-packages (from tensorflow) (23.2)\n",
            "Requirement already satisfied: protobuf!=4.21.0,!=4.21.1,!=4.21.2,!=4.21.3,!=4.21.4,!=4.21.5,<5.0.0dev,>=3.20.3 in /usr/local/lib/python3.10/dist-packages (from tensorflow) (3.20.3)\n",
            "Requirement already satisfied: setuptools in /usr/local/lib/python3.10/dist-packages (from tensorflow) (67.7.2)\n",
            "Requirement already satisfied: six>=1.12.0 in /usr/local/lib/python3.10/dist-packages (from tensorflow) (1.16.0)\n",
            "Requirement already satisfied: tensorboard<2.14,>=2.13 in /usr/local/lib/python3.10/dist-packages (from tensorflow) (2.13.0)\n",
            "Requirement already satisfied: tensorflow-estimator<2.14,>=2.13.0 in /usr/local/lib/python3.10/dist-packages (from tensorflow) (2.13.0)\n",
            "Requirement already satisfied: termcolor>=1.1.0 in /usr/local/lib/python3.10/dist-packages (from tensorflow) (2.3.0)\n",
            "Requirement already satisfied: typing-extensions<4.6.0,>=3.6.6 in /usr/local/lib/python3.10/dist-packages (from tensorflow) (4.5.0)\n",
            "Requirement already satisfied: wrapt>=1.11.0 in /usr/local/lib/python3.10/dist-packages (from tensorflow) (1.15.0)\n",
            "Requirement already satisfied: tensorflow-io-gcs-filesystem>=0.23.1 in /usr/local/lib/python3.10/dist-packages (from tensorflow) (0.34.0)\n",
            "Requirement already satisfied: wheel<1.0,>=0.23.0 in /usr/local/lib/python3.10/dist-packages (from astunparse>=1.6.0->tensorflow) (0.41.2)\n",
            "Requirement already satisfied: google-auth<3,>=1.6.3 in /usr/local/lib/python3.10/dist-packages (from tensorboard<2.14,>=2.13->tensorflow) (2.17.3)\n",
            "Requirement already satisfied: google-auth-oauthlib<1.1,>=0.5 in /usr/local/lib/python3.10/dist-packages (from tensorboard<2.14,>=2.13->tensorflow) (1.0.0)\n",
            "Requirement already satisfied: markdown>=2.6.8 in /usr/local/lib/python3.10/dist-packages (from tensorboard<2.14,>=2.13->tensorflow) (3.5)\n",
            "Requirement already satisfied: requests<3,>=2.21.0 in /usr/local/lib/python3.10/dist-packages (from tensorboard<2.14,>=2.13->tensorflow) (2.31.0)\n",
            "Requirement already satisfied: tensorboard-data-server<0.8.0,>=0.7.0 in /usr/local/lib/python3.10/dist-packages (from tensorboard<2.14,>=2.13->tensorflow) (0.7.1)\n",
            "Requirement already satisfied: werkzeug>=1.0.1 in /usr/local/lib/python3.10/dist-packages (from tensorboard<2.14,>=2.13->tensorflow) (3.0.0)\n",
            "Requirement already satisfied: cachetools<6.0,>=2.0.0 in /usr/local/lib/python3.10/dist-packages (from google-auth<3,>=1.6.3->tensorboard<2.14,>=2.13->tensorflow) (5.3.1)\n",
            "Requirement already satisfied: pyasn1-modules>=0.2.1 in /usr/local/lib/python3.10/dist-packages (from google-auth<3,>=1.6.3->tensorboard<2.14,>=2.13->tensorflow) (0.3.0)\n",
            "Requirement already satisfied: rsa<5,>=3.1.4 in /usr/local/lib/python3.10/dist-packages (from google-auth<3,>=1.6.3->tensorboard<2.14,>=2.13->tensorflow) (4.9)\n",
            "Requirement already satisfied: requests-oauthlib>=0.7.0 in /usr/local/lib/python3.10/dist-packages (from google-auth-oauthlib<1.1,>=0.5->tensorboard<2.14,>=2.13->tensorflow) (1.3.1)\n",
            "Requirement already satisfied: charset-normalizer<4,>=2 in /usr/local/lib/python3.10/dist-packages (from requests<3,>=2.21.0->tensorboard<2.14,>=2.13->tensorflow) (3.3.0)\n",
            "Requirement already satisfied: idna<4,>=2.5 in /usr/local/lib/python3.10/dist-packages (from requests<3,>=2.21.0->tensorboard<2.14,>=2.13->tensorflow) (3.4)\n",
            "Requirement already satisfied: urllib3<3,>=1.21.1 in /usr/local/lib/python3.10/dist-packages (from requests<3,>=2.21.0->tensorboard<2.14,>=2.13->tensorflow) (2.0.6)\n",
            "Requirement already satisfied: certifi>=2017.4.17 in /usr/local/lib/python3.10/dist-packages (from requests<3,>=2.21.0->tensorboard<2.14,>=2.13->tensorflow) (2023.7.22)\n",
            "Requirement already satisfied: MarkupSafe>=2.1.1 in /usr/local/lib/python3.10/dist-packages (from werkzeug>=1.0.1->tensorboard<2.14,>=2.13->tensorflow) (2.1.3)\n",
            "Requirement already satisfied: pyasn1<0.6.0,>=0.4.6 in /usr/local/lib/python3.10/dist-packages (from pyasn1-modules>=0.2.1->google-auth<3,>=1.6.3->tensorboard<2.14,>=2.13->tensorflow) (0.5.0)\n",
            "Requirement already satisfied: oauthlib>=3.0.0 in /usr/local/lib/python3.10/dist-packages (from requests-oauthlib>=0.7.0->google-auth-oauthlib<1.1,>=0.5->tensorboard<2.14,>=2.13->tensorflow) (3.2.2)\n"
          ]
        }
      ]
    },
    {
      "cell_type": "code",
      "execution_count": null,
      "id": "90ab1e5e",
      "metadata": {
        "colab": {
          "base_uri": "https://localhost:8080/"
        },
        "id": "90ab1e5e",
        "outputId": "62eb1d3a-82cc-4aa5-9790-2b382e520cb7"
      },
      "outputs": [
        {
          "output_type": "stream",
          "name": "stdout",
          "text": [
            "872/872 [==============================] - 2s 2ms/step\n",
            "265/265 [==============================] - 1s 2ms/step\n",
            "  day_type best_model         MSE        MAE       R^2\n",
            "0  weekday         LR  513.303700  15.374378  0.982860\n",
            "1  weekend         LR  379.049487  13.220977  0.991665\n"
          ]
        }
      ],
      "source": [
        "from sklearn.linear_model import LinearRegression\n",
        "from sklearn.metrics import mean_squared_error, mean_absolute_error\n",
        "from sklearn.model_selection import train_test_split, KFold\n",
        "from sklearn.feature_selection import RFECV\n",
        "from tensorflow.keras.models import Sequential\n",
        "from tensorflow.keras.layers import Dense, Dropout\n",
        "from tensorflow.keras.optimizers import Adam\n",
        "from tensorflow.keras.callbacks import EarlyStopping\n",
        "from tensorflow.keras.models import load_model\n",
        "import pandas as pd\n",
        "\n",
        "def train_and_evaluate(df):\n",
        "    # Split the dataset\n",
        "    df_train, df_test = train_test_split(df, test_size=0.2, random_state=42)\n",
        "\n",
        "    # Results placeholder\n",
        "    results = {\n",
        "        'day_type': [],\n",
        "        'best_model': [],\n",
        "        'MSE': [],\n",
        "        'MAE': [],\n",
        "        'R^2': []\n",
        "    }\n",
        "\n",
        "    # Function to train and evaluate Linear Regression with RFECV\n",
        "    def train_lr_model(df_train_subset):\n",
        "        x_train = df_train_subset.drop(['arrival_delay', 'day_of_week', 'time_of_day', \"weather\", \"temperature\"], axis=1)\n",
        "        y_train = df_train_subset['arrival_delay']\n",
        "\n",
        "        model = LinearRegression()\n",
        "        selector = RFECV(estimator=model, step=1, cv=KFold(5))\n",
        "        selector = selector.fit(x_train, y_train)\n",
        "\n",
        "        model.fit(x_train.iloc[:, selector.support_], y_train)\n",
        "\n",
        "        return model, selector\n",
        "\n",
        "    # Function to train Neural Network\n",
        "    def train_nn_model(df_train_subset):\n",
        "        x_train = df_train_subset.drop(['arrival_delay', 'day_of_week', 'time_of_day', \"weather\", \"temperature\"], axis=1)\n",
        "        y_train = df_train_subset['arrival_delay']\n",
        "\n",
        "        model_nn = Sequential([\n",
        "            Dense(32, activation='relu', input_dim=x_train.shape[1]),\n",
        "            Dropout(0.001),\n",
        "            Dense(64, activation='relu'),\n",
        "            Dense(1)\n",
        "        ])\n",
        "        model_nn.compile(optimizer=Adam(learning_rate=0.001), loss='mean_squared_error')\n",
        "        early_stopping = EarlyStopping(monitor='val_loss', patience=10, restore_best_weights=True)\n",
        "        model_nn.fit(x_train, y_train, validation_split=0.2, epochs=100, batch_size=32, callbacks=[early_stopping], verbose=0)\n",
        "\n",
        "        return model_nn\n",
        "\n",
        "    for day_type in ['weekday', 'weekend']:\n",
        "        df_train_subset = df_train[df_train['day_of_week'] == day_type]\n",
        "        df_test_subset = df_test[df_test['day_of_week'] == day_type]\n",
        "\n",
        "        # Train and evaluate Linear Regression model\n",
        "        model_lr, selector = train_lr_model(df_train_subset)\n",
        "        x_test = df_test_subset.drop(['arrival_delay', 'day_of_week', 'time_of_day', \"weather\", \"temperature\"], axis=1).iloc[:, selector.support_]\n",
        "        y_pred_lr = model_lr.predict(x_test)\n",
        "        mse_lr = mean_squared_error(df_test_subset['arrival_delay'], y_pred_lr)\n",
        "        mae_lr = mean_absolute_error(df_test_subset['arrival_delay'], y_pred_lr)\n",
        "        r2_lr = r2_score(df_test_subset['arrival_delay'], y_pred_lr)\n",
        "        # Train and evaluate Neural Network\n",
        "        model_nn = train_nn_model(df_train_subset)\n",
        "        y_pred_nn = model_nn.predict(df_test_subset.drop(['arrival_delay', 'day_of_week', 'time_of_day', \"weather\", \"temperature\"], axis=1)).flatten()\n",
        "        mse_nn = mean_squared_error(df_test_subset['arrival_delay'], y_pred_nn)\n",
        "        mae_nn = mean_absolute_error(df_test_subset['arrival_delay'], y_pred_nn)\n",
        "        r2_nn = r2_score(df_test_subset['arrival_delay'], y_pred_nn)\n",
        "\n",
        "        # Choose the best model based on MAE\n",
        "        if mae_nn < mae_lr:\n",
        "            best_model = \"NN\"\n",
        "            best_mse = mse_nn\n",
        "            best_mae = mae_nn\n",
        "            best_r2 = r2_nn\n",
        "        else:\n",
        "            best_model = \"LR\"\n",
        "            best_mse = mse_lr\n",
        "            best_mae = mae_lr\n",
        "            best_r2 = r2_lr\n",
        "\n",
        "        results['day_type'].append(day_type)\n",
        "        results['best_model'].append(best_model)\n",
        "        results['MSE'].append(best_mse)\n",
        "        results['MAE'].append(best_mae)\n",
        "        results['R^2'].append(best_r2)\n",
        "    return pd.DataFrame(results)\n",
        "\n",
        "results = train_and_evaluate(df)\n",
        "print(results)\n"
      ]
    },
    {
      "cell_type": "markdown",
      "id": "16a884bc",
      "metadata": {
        "id": "16a884bc"
      },
      "source": [
        "# stop and daytime model (LR)"
      ]
    },
    {
      "cell_type": "code",
      "execution_count": null,
      "id": "e9fdf58d",
      "metadata": {
        "id": "e9fdf58d"
      },
      "outputs": [],
      "source": [
        "def train_evaluate_lr_model(df, n_folds=5):\n",
        "    df_train, df_test = train_test_split(df, test_size=0.2, random_state=42)\n",
        "\n",
        "    results = {\n",
        "        'stop_sequence': [],\n",
        "        'day_type': [],\n",
        "        'R^2': [],\n",
        "        'MAE': []\n",
        "    }\n",
        "\n",
        "    for stop_seq in df['stop_sequence'].unique():\n",
        "        for day_type in ['weekday', 'weekend']:\n",
        "            print(f\"Processing stop_sequence {stop_seq} for {day_type}...\")\n",
        "\n",
        "            df_train_subset = df_train[(df_train['stop_sequence'] == stop_seq) & (df_train['day_of_week'] == day_type)]\n",
        "\n",
        "            drop_columns = ['arrival_delay', 'day_of_week', 'time_of_day', \"weather\", \"temperature\"]\n",
        "            x_train = df_train_subset.drop(columns=drop_columns, errors='ignore').astype('float32')\n",
        "            y_train = df_train_subset['arrival_delay'].astype('float32')\n",
        "\n",
        "            r2_scores_lr = []\n",
        "            maes_lr = []\n",
        "\n",
        "            # K-fold CV\n",
        "            kf = KFold(n_splits=n_folds)\n",
        "            for fold, (train_index, val_index) in enumerate(kf.split(x_train)):\n",
        "                print(f\"Running Fold {fold + 1}...\")\n",
        "\n",
        "                x_train_fold, x_val_fold = x_train.iloc[train_index], x_train.iloc[val_index]\n",
        "                y_train_fold, y_val_fold = y_train.iloc[train_index], y_train.iloc[val_index]\n",
        "\n",
        "                # Train and evaluate LR\n",
        "                print(\"Training Linear Regression...\")\n",
        "                model_lr = LinearRegression().fit(x_train_fold, y_train_fold)\n",
        "                y_pred_lr = model_lr.predict(x_val_fold)\n",
        "                r2_scores_lr.append(r2_score(y_val_fold, y_pred_lr))\n",
        "                maes_lr.append(mean_absolute_error(y_val_fold, y_pred_lr))\n",
        "\n",
        "            # Save LR model\n",
        "            best_r2 = np.mean(r2_scores_lr)\n",
        "            best_mae = np.mean(maes_lr)\n",
        "            if not os.path.exists(\"lr_models\"):\n",
        "                os.makedirs(\"lr_models\")\n",
        "            joblib.dump(model_lr, os.path.join(\"lr_models\", f'lr_model_{stop_seq}_{day_type}.pkl'))\n",
        "\n",
        "            results['stop_sequence'].append(stop_seq)\n",
        "            results['day_type'].append(day_type)\n",
        "            results['R^2'].append(best_r2)\n",
        "            results['MAE'].append(best_mae)\n",
        "\n",
        "    return pd.DataFrame(results)\n",
        "\n",
        "def predict_with_lr_model(df):\n",
        "    all_groups = []\n",
        "\n",
        "    grouped = df.groupby(['stop_sequence', 'day_of_week'])\n",
        "    for (stop_seq, day_type), group in grouped:\n",
        "        lr_model_path = os.path.join(\"lr_models\", f'lr_model_{stop_seq}_{day_type}.pkl')\n",
        "\n",
        "        X = group.drop(columns=['arrival_delay', 'day_of_week', 'time_of_day', \"weather\", \"temperature\"], errors='ignore').astype('float32')\n",
        "\n",
        "        if os.path.exists(lr_model_path):\n",
        "            model = joblib.load(lr_model_path)\n",
        "            group['predicted_delay'] = model.predict(X)\n",
        "        else:\n",
        "            raise ValueError(f\"No saved model found for stop_sequence: {stop_seq} and day_type: {day_type}\")\n",
        "\n",
        "        all_groups.append(group)\n",
        "\n",
        "    result_df = pd.concat(all_groups)\n",
        "    return result_df\n"
      ]
    },
    {
      "cell_type": "code",
      "execution_count": null,
      "id": "d4ff8dc0",
      "metadata": {
        "colab": {
          "base_uri": "https://localhost:8080/"
        },
        "id": "d4ff8dc0",
        "outputId": "99742673-8049-4c8e-c277-ce85263a273a"
      },
      "outputs": [
        {
          "output_type": "stream",
          "name": "stdout",
          "text": [
            "Processing stop_sequence 1 for weekday...\n",
            "Running Fold 1...\n",
            "Training Linear Regression...\n",
            "Running Fold 2...\n",
            "Training Linear Regression...\n",
            "Running Fold 3...\n",
            "Training Linear Regression...\n",
            "Running Fold 4...\n",
            "Training Linear Regression...\n",
            "Running Fold 5...\n",
            "Training Linear Regression...\n",
            "Processing stop_sequence 1 for weekend...\n",
            "Running Fold 1...\n",
            "Training Linear Regression...\n",
            "Running Fold 2...\n",
            "Training Linear Regression...\n",
            "Running Fold 3...\n",
            "Training Linear Regression...\n",
            "Running Fold 4...\n",
            "Training Linear Regression...\n",
            "Running Fold 5...\n",
            "Training Linear Regression...\n",
            "Processing stop_sequence 5 for weekday...\n",
            "Running Fold 1...\n",
            "Training Linear Regression...\n",
            "Running Fold 2...\n",
            "Training Linear Regression...\n",
            "Running Fold 3...\n",
            "Training Linear Regression...\n",
            "Running Fold 4...\n",
            "Training Linear Regression...\n",
            "Running Fold 5...\n",
            "Training Linear Regression...\n",
            "Processing stop_sequence 5 for weekend...\n",
            "Running Fold 1...\n",
            "Training Linear Regression...\n",
            "Running Fold 2...\n",
            "Training Linear Regression...\n",
            "Running Fold 3...\n",
            "Training Linear Regression...\n",
            "Running Fold 4...\n",
            "Training Linear Regression...\n",
            "Running Fold 5...\n",
            "Training Linear Regression...\n",
            "Processing stop_sequence 8 for weekday...\n",
            "Running Fold 1...\n",
            "Training Linear Regression...\n",
            "Running Fold 2...\n",
            "Training Linear Regression...\n",
            "Running Fold 3...\n",
            "Training Linear Regression...\n",
            "Running Fold 4...\n",
            "Training Linear Regression...\n",
            "Running Fold 5...\n",
            "Training Linear Regression...\n",
            "Processing stop_sequence 8 for weekend...\n",
            "Running Fold 1...\n",
            "Training Linear Regression...\n",
            "Running Fold 2...\n",
            "Training Linear Regression...\n",
            "Running Fold 3...\n",
            "Training Linear Regression...\n",
            "Running Fold 4...\n",
            "Training Linear Regression...\n",
            "Running Fold 5...\n",
            "Training Linear Regression...\n",
            "Processing stop_sequence 12 for weekday...\n",
            "Running Fold 1...\n",
            "Training Linear Regression...\n",
            "Running Fold 2...\n",
            "Training Linear Regression...\n",
            "Running Fold 3...\n",
            "Training Linear Regression...\n",
            "Running Fold 4...\n",
            "Training Linear Regression...\n",
            "Running Fold 5...\n",
            "Training Linear Regression...\n",
            "Processing stop_sequence 12 for weekend...\n",
            "Running Fold 1...\n",
            "Training Linear Regression...\n",
            "Running Fold 2...\n",
            "Training Linear Regression...\n",
            "Running Fold 3...\n",
            "Training Linear Regression...\n",
            "Running Fold 4...\n",
            "Training Linear Regression...\n",
            "Running Fold 5...\n",
            "Training Linear Regression...\n",
            "Processing stop_sequence 14 for weekday...\n",
            "Running Fold 1...\n",
            "Training Linear Regression...\n",
            "Running Fold 2...\n",
            "Training Linear Regression...\n",
            "Running Fold 3...\n",
            "Training Linear Regression...\n",
            "Running Fold 4...\n",
            "Training Linear Regression...\n",
            "Running Fold 5...\n",
            "Training Linear Regression...\n",
            "Processing stop_sequence 14 for weekend...\n",
            "Running Fold 1...\n",
            "Training Linear Regression...\n",
            "Running Fold 2...\n",
            "Training Linear Regression...\n",
            "Running Fold 3...\n",
            "Training Linear Regression...\n",
            "Running Fold 4...\n",
            "Training Linear Regression...\n",
            "Running Fold 5...\n",
            "Training Linear Regression...\n",
            "Processing stop_sequence 16 for weekday...\n",
            "Running Fold 1...\n",
            "Training Linear Regression...\n",
            "Running Fold 2...\n",
            "Training Linear Regression...\n",
            "Running Fold 3...\n",
            "Training Linear Regression...\n",
            "Running Fold 4...\n",
            "Training Linear Regression...\n",
            "Running Fold 5...\n",
            "Training Linear Regression...\n",
            "Processing stop_sequence 16 for weekend...\n",
            "Running Fold 1...\n",
            "Training Linear Regression...\n",
            "Running Fold 2...\n",
            "Training Linear Regression...\n",
            "Running Fold 3...\n",
            "Training Linear Regression...\n",
            "Running Fold 4...\n",
            "Training Linear Regression...\n",
            "Running Fold 5...\n",
            "Training Linear Regression...\n",
            "Processing stop_sequence 20 for weekday...\n",
            "Running Fold 1...\n",
            "Training Linear Regression...\n",
            "Running Fold 2...\n",
            "Training Linear Regression...\n",
            "Running Fold 3...\n",
            "Training Linear Regression...\n",
            "Running Fold 4...\n",
            "Training Linear Regression...\n",
            "Running Fold 5...\n",
            "Training Linear Regression...\n",
            "Processing stop_sequence 20 for weekend...\n",
            "Running Fold 1...\n",
            "Training Linear Regression...\n",
            "Running Fold 2...\n",
            "Training Linear Regression...\n",
            "Running Fold 3...\n",
            "Training Linear Regression...\n",
            "Running Fold 4...\n",
            "Training Linear Regression...\n",
            "Running Fold 5...\n",
            "Training Linear Regression...\n",
            "Processing stop_sequence 21 for weekday...\n",
            "Running Fold 1...\n",
            "Training Linear Regression...\n",
            "Running Fold 2...\n",
            "Training Linear Regression...\n",
            "Running Fold 3...\n",
            "Training Linear Regression...\n",
            "Running Fold 4...\n",
            "Training Linear Regression...\n",
            "Running Fold 5...\n",
            "Training Linear Regression...\n",
            "Processing stop_sequence 21 for weekend...\n",
            "Running Fold 1...\n",
            "Training Linear Regression...\n",
            "Running Fold 2...\n",
            "Training Linear Regression...\n",
            "Running Fold 3...\n",
            "Training Linear Regression...\n",
            "Running Fold 4...\n",
            "Training Linear Regression...\n",
            "Running Fold 5...\n",
            "Training Linear Regression...\n",
            "Processing stop_sequence 23 for weekday...\n",
            "Running Fold 1...\n",
            "Training Linear Regression...\n",
            "Running Fold 2...\n",
            "Training Linear Regression...\n",
            "Running Fold 3...\n",
            "Training Linear Regression...\n",
            "Running Fold 4...\n",
            "Training Linear Regression...\n",
            "Running Fold 5...\n",
            "Training Linear Regression...\n",
            "Processing stop_sequence 23 for weekend...\n",
            "Running Fold 1...\n",
            "Training Linear Regression...\n",
            "Running Fold 2...\n",
            "Training Linear Regression...\n",
            "Running Fold 3...\n",
            "Training Linear Regression...\n",
            "Running Fold 4...\n",
            "Training Linear Regression...\n",
            "Running Fold 5...\n",
            "Training Linear Regression...\n",
            "    stop_sequence day_type       R^2        MAE\n",
            "0               1  weekday  0.903265  28.543955\n",
            "1               1  weekend  0.957834  26.976383\n",
            "2               5  weekday  0.978843  14.430784\n",
            "3               5  weekend  0.992201  11.513662\n",
            "4               8  weekday  0.976814  16.433828\n",
            "5               8  weekend  0.993001  12.595384\n",
            "6              12  weekday  0.990827  12.230779\n",
            "7              12  weekend  0.995984  10.441359\n",
            "8              14  weekday  0.987070  14.891592\n",
            "9              14  weekend  0.991013  16.142496\n",
            "10             16  weekday  0.975965  20.230495\n",
            "11             16  weekend  0.992142  14.804112\n",
            "12             20  weekday  0.995119   9.292524\n",
            "13             20  weekend  0.997613   8.067347\n",
            "14             21  weekday  0.992106  13.085406\n",
            "15             21  weekend  0.996419  10.909922\n",
            "16             23  weekday  0.998338   5.397521\n",
            "17             23  weekend  0.999158   4.748579\n"
          ]
        }
      ],
      "source": [
        "results_lr = train_evaluate_lr_model(df)\n",
        "print(results_lr)"
      ]
    },
    {
      "cell_type": "code",
      "execution_count": null,
      "id": "5aad2915",
      "metadata": {
        "colab": {
          "base_uri": "https://localhost:8080/"
        },
        "id": "5aad2915",
        "outputId": "f4a8e827-4140-4987-a637-cf2eac122264"
      },
      "outputs": [
        {
          "output_type": "stream",
          "name": "stdout",
          "text": [
            "R^2: 0.987005\n",
            "MAE: 14.475048\n"
          ]
        }
      ],
      "source": [
        "pred = predict_with_lr_model(df)\n",
        "pred.head()\n",
        "# Extracting the actual and predicted values from the DataFrame\n",
        "actual_values = pred[\"arrival_delay\"].values\n",
        "predicted_values = pred[\"predicted_delay\"].values\n",
        "\n",
        "# Computing R^2\n",
        "r2 = r2_score(actual_values, predicted_values)\n",
        "\n",
        "# Computing MAE\n",
        "mae = mean_absolute_error(actual_values, predicted_values)\n",
        "\n",
        "print(f\"R^2: {r2:f}\")\n",
        "print(f\"MAE: {mae:f}\")\n",
        "\n"
      ]
    },
    {
      "cell_type": "markdown",
      "id": "fba125be",
      "metadata": {
        "id": "fba125be"
      },
      "source": [
        "# Stop and Daytime (NN)"
      ]
    },
    {
      "cell_type": "code",
      "execution_count": null,
      "id": "51a874fd",
      "metadata": {
        "id": "51a874fd"
      },
      "outputs": [],
      "source": [
        "def train_evaluate_nn_model(df, n_folds=5):\n",
        "    df_train, df_test = train_test_split(df, test_size=0.2, random_state=42)\n",
        "\n",
        "    results = {\n",
        "        'stop_sequence': [],\n",
        "        'day_type': [],\n",
        "        'R^2': [],\n",
        "        'MAE': []\n",
        "    }\n",
        "\n",
        "    for stop_seq in df['stop_sequence'].unique():\n",
        "        for day_type in ['weekday', 'weekend']:\n",
        "            print(f\"Processing stop_sequence {stop_seq} for {day_type}...\")\n",
        "\n",
        "            df_train_subset = df_train[(df_train['stop_sequence'] == stop_seq) & (df_train['day_of_week'] == day_type)]\n",
        "\n",
        "            drop_columns = ['arrival_delay', 'day_of_week', 'time_of_day', \"weather\", \"temperature\"]\n",
        "            x_train = df_train_subset.drop(columns=drop_columns, errors='ignore').astype('float32')\n",
        "            y_train = df_train_subset['arrival_delay'].astype('float32')\n",
        "\n",
        "            r2_scores_nn = []\n",
        "            maes_nn = []\n",
        "\n",
        "            # K-fold CV\n",
        "            kf = KFold(n_splits=n_folds)\n",
        "            for fold, (train_index, val_index) in enumerate(kf.split(x_train)):\n",
        "                print(f\"Running Fold {fold + 1}...\")\n",
        "\n",
        "                x_train_fold, x_val_fold = x_train.iloc[train_index], x_train.iloc[val_index]\n",
        "                y_train_fold, y_val_fold = y_train.iloc[train_index], y_train.iloc[val_index]\n",
        "\n",
        "                # Normalize the data for NN\n",
        "                scaler = StandardScaler()\n",
        "                x_train_normalized = scaler.fit_transform(x_train_fold)\n",
        "                x_val_normalized = scaler.transform(x_val_fold)\n",
        "\n",
        "                # Save the scaler\n",
        "                if not os.path.exists(\"nn_scalers\"):\n",
        "                    os.makedirs(\"nn_scalers\")\n",
        "                joblib.dump(scaler, os.path.join(\"nn_scalers\", f'scaler_{stop_seq}_{day_type}.pkl'))\n",
        "\n",
        "                # Train and evaluate NN\n",
        "                print(\"Training Neural Network...\")\n",
        "                model_nn = Sequential([\n",
        "                    Dense(64, activation='relu', input_dim=x_train_normalized.shape[1]),\n",
        "                    Dense(32, activation='relu'),\n",
        "                    Dense(16, activation='relu'),\n",
        "                    Dense(1)\n",
        "                ])\n",
        "                model_nn.compile(optimizer=Adam(learning_rate=0.001), loss='mean_squared_error')\n",
        "                early_stopping = EarlyStopping(monitor='val_loss', patience=10, restore_best_weights=True)\n",
        "                model_nn.fit(x_train_normalized, y_train_fold, validation_data=(x_val_normalized, y_val_fold), epochs=100, batch_size=16, callbacks=[early_stopping], verbose=0)\n",
        "                y_pred_nn = model_nn.predict(x_val_normalized).flatten()\n",
        "                r2_scores_nn.append(r2_score(y_val_fold, y_pred_nn))\n",
        "                maes_nn.append(mean_absolute_error(y_val_fold, y_pred_nn))\n",
        "\n",
        "                # Save NN model\n",
        "                best_r2 = np.mean(r2_scores_nn)\n",
        "                best_mae = np.mean(maes_nn)\n",
        "                if not os.path.exists(\"nn_models\"):\n",
        "                    os.makedirs(\"nn_models\")\n",
        "                model_nn.save(os.path.join(\"nn_models\", f'nn_model_{stop_seq}_{day_type}.h5'))\n",
        "\n",
        "            results['stop_sequence'].append(stop_seq)\n",
        "            results['day_type'].append(day_type)\n",
        "            results['R^2'].append(best_r2)\n",
        "            results['MAE'].append(best_mae)\n",
        "\n",
        "    return pd.DataFrame(results)\n",
        "\n",
        "def predict_with_nn_model(df):\n",
        "    all_groups = []\n",
        "\n",
        "    grouped = df.groupby(['stop_sequence', 'day_of_week'])\n",
        "    for (stop_seq, day_type), group in grouped:\n",
        "        nn_model_path = os.path.join(\"nn_models\", f'nn_model_{stop_seq}_{day_type}.h5')\n",
        "        scaler_path = os.path.join(\"nn_scalers\", f'scaler_{stop_seq}_{day_type}.pkl')\n",
        "\n",
        "        X = group.drop(columns=['arrival_delay', 'day_of_week', 'time_of_day', \"weather\", \"temperature\"], errors='ignore').astype('float32')\n",
        "\n",
        "        if os.path.exists(nn_model_path):\n",
        "            model = load_model(nn_model_path)\n",
        "            # Load the scaler and normalize the data for NN\n",
        "            scaler = joblib.load(scaler_path)\n",
        "            X_normalized = scaler.transform(X)\n",
        "            group['predicted_delay'] = model.predict(X_normalized).flatten()\n",
        "        else:\n",
        "            raise ValueError(f\"No saved model found for stop_sequence: {stop_seq} and day_type: {day_type}\")\n",
        "\n",
        "        all_groups.append(group)\n",
        "\n",
        "    result_df = pd.concat(all_groups)\n",
        "    return result_df\n"
      ]
    },
    {
      "cell_type": "markdown",
      "id": "f1b6172e",
      "metadata": {
        "id": "f1b6172e"
      },
      "source": [
        "### Creating Model"
      ]
    },
    {
      "cell_type": "code",
      "execution_count": null,
      "id": "73215be0",
      "metadata": {
        "colab": {
          "base_uri": "https://localhost:8080/"
        },
        "id": "73215be0",
        "outputId": "21c41eea-8c48-41b8-d6e5-4825978acbbe"
      },
      "outputs": [
        {
          "metadata": {
            "tags": null
          },
          "name": "stdout",
          "output_type": "stream",
          "text": [
            "Processing stop_sequence 1 for weekday...\n",
            "Running Fold 1...\n",
            "Training Neural Network...\n",
            "78/78 [==============================] - 0s 1ms/step\n",
            "Running Fold 2...\n",
            "Training Neural Network...\n"
          ]
        },
        {
          "metadata": {
            "tags": null
          },
          "name": "stderr",
          "output_type": "stream",
          "text": [
            "/usr/local/lib/python3.10/dist-packages/keras/src/engine/training.py:3000: UserWarning: You are saving your model as an HDF5 file via `model.save()`. This file format is considered legacy. We recommend using instead the native Keras format, e.g. `model.save('my_model.keras')`.\n",
            "  saving_api.save_model(\n"
          ]
        },
        {
          "metadata": {
            "tags": null
          },
          "name": "stdout",
          "output_type": "stream",
          "text": [
            "78/78 [==============================] - 0s 1ms/step\n",
            "Running Fold 3...\n",
            "Training Neural Network...\n"
          ]
        },
        {
          "metadata": {
            "tags": null
          },
          "name": "stderr",
          "output_type": "stream",
          "text": [
            "/usr/local/lib/python3.10/dist-packages/keras/src/engine/training.py:3000: UserWarning: You are saving your model as an HDF5 file via `model.save()`. This file format is considered legacy. We recommend using instead the native Keras format, e.g. `model.save('my_model.keras')`.\n",
            "  saving_api.save_model(\n"
          ]
        },
        {
          "metadata": {
            "tags": null
          },
          "name": "stdout",
          "output_type": "stream",
          "text": [
            "78/78 [==============================] - 0s 2ms/step\n",
            "Running Fold 4...\n"
          ]
        },
        {
          "metadata": {
            "tags": null
          },
          "name": "stderr",
          "output_type": "stream",
          "text": [
            "/usr/local/lib/python3.10/dist-packages/keras/src/engine/training.py:3000: UserWarning: You are saving your model as an HDF5 file via `model.save()`. This file format is considered legacy. We recommend using instead the native Keras format, e.g. `model.save('my_model.keras')`.\n",
            "  saving_api.save_model(\n"
          ]
        },
        {
          "metadata": {
            "tags": null
          },
          "name": "stdout",
          "output_type": "stream",
          "text": [
            "Training Neural Network...\n",
            "78/78 [==============================] - 0s 1ms/step\n",
            "Running Fold 5...\n",
            "Training Neural Network...\n"
          ]
        },
        {
          "metadata": {
            "tags": null
          },
          "name": "stderr",
          "output_type": "stream",
          "text": [
            "/usr/local/lib/python3.10/dist-packages/keras/src/engine/training.py:3000: UserWarning: You are saving your model as an HDF5 file via `model.save()`. This file format is considered legacy. We recommend using instead the native Keras format, e.g. `model.save('my_model.keras')`.\n",
            "  saving_api.save_model(\n"
          ]
        },
        {
          "metadata": {
            "tags": null
          },
          "name": "stdout",
          "output_type": "stream",
          "text": [
            "78/78 [==============================] - 0s 2ms/step\n",
            "Processing stop_sequence 1 for weekend...\n",
            "Running Fold 1...\n"
          ]
        },
        {
          "metadata": {
            "tags": null
          },
          "name": "stderr",
          "output_type": "stream",
          "text": [
            "/usr/local/lib/python3.10/dist-packages/keras/src/engine/training.py:3000: UserWarning: You are saving your model as an HDF5 file via `model.save()`. This file format is considered legacy. We recommend using instead the native Keras format, e.g. `model.save('my_model.keras')`.\n",
            "  saving_api.save_model(\n"
          ]
        },
        {
          "metadata": {
            "tags": null
          },
          "name": "stdout",
          "output_type": "stream",
          "text": [
            "Training Neural Network...\n",
            "24/24 [==============================] - 0s 1ms/step\n",
            "Running Fold 2...\n",
            "Training Neural Network...\n"
          ]
        },
        {
          "metadata": {
            "tags": null
          },
          "name": "stderr",
          "output_type": "stream",
          "text": [
            "/usr/local/lib/python3.10/dist-packages/keras/src/engine/training.py:3000: UserWarning: You are saving your model as an HDF5 file via `model.save()`. This file format is considered legacy. We recommend using instead the native Keras format, e.g. `model.save('my_model.keras')`.\n",
            "  saving_api.save_model(\n"
          ]
        },
        {
          "metadata": {
            "tags": null
          },
          "name": "stdout",
          "output_type": "stream",
          "text": [
            "24/24 [==============================] - 0s 1ms/step\n",
            "Running Fold 3...\n",
            "Training Neural Network...\n"
          ]
        },
        {
          "metadata": {
            "tags": null
          },
          "name": "stderr",
          "output_type": "stream",
          "text": [
            "/usr/local/lib/python3.10/dist-packages/keras/src/engine/training.py:3000: UserWarning: You are saving your model as an HDF5 file via `model.save()`. This file format is considered legacy. We recommend using instead the native Keras format, e.g. `model.save('my_model.keras')`.\n",
            "  saving_api.save_model(\n"
          ]
        },
        {
          "metadata": {
            "tags": null
          },
          "name": "stdout",
          "output_type": "stream",
          "text": [
            "24/24 [==============================] - 0s 1ms/step\n",
            "Running Fold 4...\n",
            "Training Neural Network...\n"
          ]
        },
        {
          "metadata": {
            "tags": null
          },
          "name": "stderr",
          "output_type": "stream",
          "text": [
            "/usr/local/lib/python3.10/dist-packages/keras/src/engine/training.py:3000: UserWarning: You are saving your model as an HDF5 file via `model.save()`. This file format is considered legacy. We recommend using instead the native Keras format, e.g. `model.save('my_model.keras')`.\n",
            "  saving_api.save_model(\n"
          ]
        },
        {
          "metadata": {
            "tags": null
          },
          "name": "stdout",
          "output_type": "stream",
          "text": [
            "24/24 [==============================] - 0s 2ms/step\n",
            "Running Fold 5...\n",
            "Training Neural Network...\n"
          ]
        },
        {
          "metadata": {
            "tags": null
          },
          "name": "stderr",
          "output_type": "stream",
          "text": [
            "/usr/local/lib/python3.10/dist-packages/keras/src/engine/training.py:3000: UserWarning: You are saving your model as an HDF5 file via `model.save()`. This file format is considered legacy. We recommend using instead the native Keras format, e.g. `model.save('my_model.keras')`.\n",
            "  saving_api.save_model(\n"
          ]
        },
        {
          "metadata": {
            "tags": null
          },
          "name": "stdout",
          "output_type": "stream",
          "text": [
            "24/24 [==============================] - 0s 2ms/step\n",
            "Processing stop_sequence 5 for weekday...\n",
            "Running Fold 1...\n",
            "Training Neural Network...\n"
          ]
        },
        {
          "metadata": {
            "tags": null
          },
          "name": "stderr",
          "output_type": "stream",
          "text": [
            "/usr/local/lib/python3.10/dist-packages/keras/src/engine/training.py:3000: UserWarning: You are saving your model as an HDF5 file via `model.save()`. This file format is considered legacy. We recommend using instead the native Keras format, e.g. `model.save('my_model.keras')`.\n",
            "  saving_api.save_model(\n"
          ]
        },
        {
          "metadata": {
            "tags": null
          },
          "name": "stdout",
          "output_type": "stream",
          "text": [
            "78/78 [==============================] - 0s 2ms/step\n"
          ]
        },
        {
          "metadata": {
            "tags": null
          },
          "name": "stderr",
          "output_type": "stream",
          "text": [
            "/usr/local/lib/python3.10/dist-packages/keras/src/engine/training.py:3000: UserWarning: You are saving your model as an HDF5 file via `model.save()`. This file format is considered legacy. We recommend using instead the native Keras format, e.g. `model.save('my_model.keras')`.\n",
            "  saving_api.save_model(\n"
          ]
        },
        {
          "metadata": {
            "tags": null
          },
          "name": "stdout",
          "output_type": "stream",
          "text": [
            "Running Fold 2...\n",
            "Training Neural Network...\n",
            "78/78 [==============================] - 0s 1ms/step\n",
            "Running Fold 3...\n",
            "Training Neural Network...\n"
          ]
        },
        {
          "metadata": {
            "tags": null
          },
          "name": "stderr",
          "output_type": "stream",
          "text": [
            "/usr/local/lib/python3.10/dist-packages/keras/src/engine/training.py:3000: UserWarning: You are saving your model as an HDF5 file via `model.save()`. This file format is considered legacy. We recommend using instead the native Keras format, e.g. `model.save('my_model.keras')`.\n",
            "  saving_api.save_model(\n"
          ]
        },
        {
          "metadata": {
            "tags": null
          },
          "name": "stdout",
          "output_type": "stream",
          "text": [
            "78/78 [==============================] - 0s 1ms/step\n"
          ]
        },
        {
          "metadata": {
            "tags": null
          },
          "name": "stderr",
          "output_type": "stream",
          "text": [
            "/usr/local/lib/python3.10/dist-packages/keras/src/engine/training.py:3000: UserWarning: You are saving your model as an HDF5 file via `model.save()`. This file format is considered legacy. We recommend using instead the native Keras format, e.g. `model.save('my_model.keras')`.\n",
            "  saving_api.save_model(\n"
          ]
        },
        {
          "metadata": {
            "tags": null
          },
          "name": "stdout",
          "output_type": "stream",
          "text": [
            "Running Fold 4...\n",
            "Training Neural Network...\n",
            "78/78 [==============================] - 0s 1ms/step\n",
            "Running Fold 5...\n",
            "Training Neural Network...\n"
          ]
        },
        {
          "metadata": {
            "tags": null
          },
          "name": "stderr",
          "output_type": "stream",
          "text": [
            "/usr/local/lib/python3.10/dist-packages/keras/src/engine/training.py:3000: UserWarning: You are saving your model as an HDF5 file via `model.save()`. This file format is considered legacy. We recommend using instead the native Keras format, e.g. `model.save('my_model.keras')`.\n",
            "  saving_api.save_model(\n"
          ]
        },
        {
          "metadata": {
            "tags": null
          },
          "name": "stdout",
          "output_type": "stream",
          "text": [
            "78/78 [==============================] - 0s 1ms/step\n",
            "Processing stop_sequence 5 for weekend...\n",
            "Running Fold 1...\n",
            "Training Neural Network...\n"
          ]
        },
        {
          "metadata": {
            "tags": null
          },
          "name": "stderr",
          "output_type": "stream",
          "text": [
            "/usr/local/lib/python3.10/dist-packages/keras/src/engine/training.py:3000: UserWarning: You are saving your model as an HDF5 file via `model.save()`. This file format is considered legacy. We recommend using instead the native Keras format, e.g. `model.save('my_model.keras')`.\n",
            "  saving_api.save_model(\n"
          ]
        },
        {
          "metadata": {
            "tags": null
          },
          "name": "stdout",
          "output_type": "stream",
          "text": [
            "24/24 [==============================] - 0s 3ms/step\n",
            "Running Fold 2...\n",
            "Training Neural Network...\n"
          ]
        },
        {
          "metadata": {
            "tags": null
          },
          "name": "stderr",
          "output_type": "stream",
          "text": [
            "/usr/local/lib/python3.10/dist-packages/keras/src/engine/training.py:3000: UserWarning: You are saving your model as an HDF5 file via `model.save()`. This file format is considered legacy. We recommend using instead the native Keras format, e.g. `model.save('my_model.keras')`.\n",
            "  saving_api.save_model(\n"
          ]
        },
        {
          "metadata": {
            "tags": null
          },
          "name": "stdout",
          "output_type": "stream",
          "text": [
            "24/24 [==============================] - 0s 2ms/step\n",
            "Running Fold 3...\n",
            "Training Neural Network...\n"
          ]
        },
        {
          "metadata": {
            "tags": null
          },
          "name": "stderr",
          "output_type": "stream",
          "text": [
            "/usr/local/lib/python3.10/dist-packages/keras/src/engine/training.py:3000: UserWarning: You are saving your model as an HDF5 file via `model.save()`. This file format is considered legacy. We recommend using instead the native Keras format, e.g. `model.save('my_model.keras')`.\n",
            "  saving_api.save_model(\n"
          ]
        },
        {
          "metadata": {
            "tags": null
          },
          "name": "stdout",
          "output_type": "stream",
          "text": [
            "24/24 [==============================] - 0s 2ms/step\n",
            "Running Fold 4...\n",
            "Training Neural Network...\n"
          ]
        },
        {
          "metadata": {
            "tags": null
          },
          "name": "stderr",
          "output_type": "stream",
          "text": [
            "/usr/local/lib/python3.10/dist-packages/keras/src/engine/training.py:3000: UserWarning: You are saving your model as an HDF5 file via `model.save()`. This file format is considered legacy. We recommend using instead the native Keras format, e.g. `model.save('my_model.keras')`.\n",
            "  saving_api.save_model(\n"
          ]
        },
        {
          "metadata": {
            "tags": null
          },
          "name": "stdout",
          "output_type": "stream",
          "text": [
            "24/24 [==============================] - 0s 1ms/step\n",
            "Running Fold 5...\n",
            "Training Neural Network...\n"
          ]
        },
        {
          "metadata": {
            "tags": null
          },
          "name": "stderr",
          "output_type": "stream",
          "text": [
            "/usr/local/lib/python3.10/dist-packages/keras/src/engine/training.py:3000: UserWarning: You are saving your model as an HDF5 file via `model.save()`. This file format is considered legacy. We recommend using instead the native Keras format, e.g. `model.save('my_model.keras')`.\n",
            "  saving_api.save_model(\n"
          ]
        },
        {
          "metadata": {
            "tags": null
          },
          "name": "stdout",
          "output_type": "stream",
          "text": [
            "24/24 [==============================] - 0s 2ms/step\n",
            "Processing stop_sequence 8 for weekday...\n",
            "Running Fold 1...\n",
            "Training Neural Network...\n"
          ]
        },
        {
          "metadata": {
            "tags": null
          },
          "name": "stderr",
          "output_type": "stream",
          "text": [
            "/usr/local/lib/python3.10/dist-packages/keras/src/engine/training.py:3000: UserWarning: You are saving your model as an HDF5 file via `model.save()`. This file format is considered legacy. We recommend using instead the native Keras format, e.g. `model.save('my_model.keras')`.\n",
            "  saving_api.save_model(\n"
          ]
        },
        {
          "metadata": {
            "tags": null
          },
          "name": "stdout",
          "output_type": "stream",
          "text": [
            "78/78 [==============================] - 0s 2ms/step\n",
            "Running Fold 2...\n",
            "Training Neural Network...\n"
          ]
        },
        {
          "metadata": {
            "tags": null
          },
          "name": "stderr",
          "output_type": "stream",
          "text": [
            "/usr/local/lib/python3.10/dist-packages/keras/src/engine/training.py:3000: UserWarning: You are saving your model as an HDF5 file via `model.save()`. This file format is considered legacy. We recommend using instead the native Keras format, e.g. `model.save('my_model.keras')`.\n",
            "  saving_api.save_model(\n"
          ]
        },
        {
          "metadata": {
            "tags": null
          },
          "name": "stdout",
          "output_type": "stream",
          "text": [
            "78/78 [==============================] - 0s 2ms/step\n",
            "Running Fold 3...\n",
            "Training Neural Network...\n"
          ]
        },
        {
          "metadata": {
            "tags": null
          },
          "name": "stderr",
          "output_type": "stream",
          "text": [
            "/usr/local/lib/python3.10/dist-packages/keras/src/engine/training.py:3000: UserWarning: You are saving your model as an HDF5 file via `model.save()`. This file format is considered legacy. We recommend using instead the native Keras format, e.g. `model.save('my_model.keras')`.\n",
            "  saving_api.save_model(\n"
          ]
        },
        {
          "metadata": {
            "tags": null
          },
          "name": "stdout",
          "output_type": "stream",
          "text": [
            "78/78 [==============================] - 0s 2ms/step\n",
            "Running Fold 4...\n",
            "Training Neural Network...\n"
          ]
        },
        {
          "metadata": {
            "tags": null
          },
          "name": "stderr",
          "output_type": "stream",
          "text": [
            "/usr/local/lib/python3.10/dist-packages/keras/src/engine/training.py:3000: UserWarning: You are saving your model as an HDF5 file via `model.save()`. This file format is considered legacy. We recommend using instead the native Keras format, e.g. `model.save('my_model.keras')`.\n",
            "  saving_api.save_model(\n"
          ]
        },
        {
          "metadata": {
            "tags": null
          },
          "name": "stdout",
          "output_type": "stream",
          "text": [
            "78/78 [==============================] - 0s 2ms/step\n",
            "Running Fold 5...\n"
          ]
        },
        {
          "metadata": {
            "tags": null
          },
          "name": "stderr",
          "output_type": "stream",
          "text": [
            "/usr/local/lib/python3.10/dist-packages/keras/src/engine/training.py:3000: UserWarning: You are saving your model as an HDF5 file via `model.save()`. This file format is considered legacy. We recommend using instead the native Keras format, e.g. `model.save('my_model.keras')`.\n",
            "  saving_api.save_model(\n"
          ]
        },
        {
          "metadata": {
            "tags": null
          },
          "name": "stdout",
          "output_type": "stream",
          "text": [
            "Training Neural Network...\n",
            "78/78 [==============================] - 0s 2ms/step\n"
          ]
        },
        {
          "metadata": {
            "tags": null
          },
          "name": "stderr",
          "output_type": "stream",
          "text": [
            "/usr/local/lib/python3.10/dist-packages/keras/src/engine/training.py:3000: UserWarning: You are saving your model as an HDF5 file via `model.save()`. This file format is considered legacy. We recommend using instead the native Keras format, e.g. `model.save('my_model.keras')`.\n",
            "  saving_api.save_model(\n"
          ]
        },
        {
          "metadata": {
            "tags": null
          },
          "name": "stdout",
          "output_type": "stream",
          "text": [
            "Processing stop_sequence 8 for weekend...\n",
            "Running Fold 1...\n",
            "Training Neural Network...\n",
            "24/24 [==============================] - 0s 1ms/step\n",
            "Running Fold 2...\n",
            "Training Neural Network...\n"
          ]
        },
        {
          "metadata": {
            "tags": null
          },
          "name": "stderr",
          "output_type": "stream",
          "text": [
            "/usr/local/lib/python3.10/dist-packages/keras/src/engine/training.py:3000: UserWarning: You are saving your model as an HDF5 file via `model.save()`. This file format is considered legacy. We recommend using instead the native Keras format, e.g. `model.save('my_model.keras')`.\n",
            "  saving_api.save_model(\n"
          ]
        },
        {
          "metadata": {
            "tags": null
          },
          "name": "stdout",
          "output_type": "stream",
          "text": [
            "24/24 [==============================] - 0s 2ms/step\n",
            "Running Fold 3...\n",
            "Training Neural Network...\n"
          ]
        },
        {
          "metadata": {
            "tags": null
          },
          "name": "stderr",
          "output_type": "stream",
          "text": [
            "/usr/local/lib/python3.10/dist-packages/keras/src/engine/training.py:3000: UserWarning: You are saving your model as an HDF5 file via `model.save()`. This file format is considered legacy. We recommend using instead the native Keras format, e.g. `model.save('my_model.keras')`.\n",
            "  saving_api.save_model(\n"
          ]
        },
        {
          "metadata": {
            "tags": null
          },
          "name": "stdout",
          "output_type": "stream",
          "text": [
            "24/24 [==============================] - 0s 2ms/step\n",
            "Running Fold 4...\n",
            "Training Neural Network...\n"
          ]
        },
        {
          "metadata": {
            "tags": null
          },
          "name": "stderr",
          "output_type": "stream",
          "text": [
            "/usr/local/lib/python3.10/dist-packages/keras/src/engine/training.py:3000: UserWarning: You are saving your model as an HDF5 file via `model.save()`. This file format is considered legacy. We recommend using instead the native Keras format, e.g. `model.save('my_model.keras')`.\n",
            "  saving_api.save_model(\n"
          ]
        },
        {
          "metadata": {
            "tags": null
          },
          "name": "stdout",
          "output_type": "stream",
          "text": [
            "24/24 [==============================] - 0s 1ms/step\n",
            "Running Fold 5...\n",
            "Training Neural Network...\n"
          ]
        },
        {
          "metadata": {
            "tags": null
          },
          "name": "stderr",
          "output_type": "stream",
          "text": [
            "/usr/local/lib/python3.10/dist-packages/keras/src/engine/training.py:3000: UserWarning: You are saving your model as an HDF5 file via `model.save()`. This file format is considered legacy. We recommend using instead the native Keras format, e.g. `model.save('my_model.keras')`.\n",
            "  saving_api.save_model(\n"
          ]
        },
        {
          "metadata": {
            "tags": null
          },
          "name": "stdout",
          "output_type": "stream",
          "text": [
            "24/24 [==============================] - 0s 2ms/step\n",
            "Processing stop_sequence 12 for weekday...\n",
            "Running Fold 1...\n",
            "Training Neural Network...\n"
          ]
        },
        {
          "metadata": {
            "tags": null
          },
          "name": "stderr",
          "output_type": "stream",
          "text": [
            "/usr/local/lib/python3.10/dist-packages/keras/src/engine/training.py:3000: UserWarning: You are saving your model as an HDF5 file via `model.save()`. This file format is considered legacy. We recommend using instead the native Keras format, e.g. `model.save('my_model.keras')`.\n",
            "  saving_api.save_model(\n"
          ]
        },
        {
          "metadata": {
            "tags": null
          },
          "name": "stdout",
          "output_type": "stream",
          "text": [
            "78/78 [==============================] - 0s 1ms/step\n",
            "Running Fold 2...\n",
            "Training Neural Network...\n"
          ]
        },
        {
          "metadata": {
            "tags": null
          },
          "name": "stderr",
          "output_type": "stream",
          "text": [
            "/usr/local/lib/python3.10/dist-packages/keras/src/engine/training.py:3000: UserWarning: You are saving your model as an HDF5 file via `model.save()`. This file format is considered legacy. We recommend using instead the native Keras format, e.g. `model.save('my_model.keras')`.\n",
            "  saving_api.save_model(\n"
          ]
        },
        {
          "metadata": {
            "tags": null
          },
          "name": "stdout",
          "output_type": "stream",
          "text": [
            "78/78 [==============================] - 0s 2ms/step\n",
            "Running Fold 3...\n",
            "Training Neural Network...\n"
          ]
        },
        {
          "metadata": {
            "tags": null
          },
          "name": "stderr",
          "output_type": "stream",
          "text": [
            "/usr/local/lib/python3.10/dist-packages/keras/src/engine/training.py:3000: UserWarning: You are saving your model as an HDF5 file via `model.save()`. This file format is considered legacy. We recommend using instead the native Keras format, e.g. `model.save('my_model.keras')`.\n",
            "  saving_api.save_model(\n"
          ]
        },
        {
          "metadata": {
            "tags": null
          },
          "name": "stdout",
          "output_type": "stream",
          "text": [
            "78/78 [==============================] - 0s 1ms/step\n"
          ]
        },
        {
          "metadata": {
            "tags": null
          },
          "name": "stderr",
          "output_type": "stream",
          "text": [
            "/usr/local/lib/python3.10/dist-packages/keras/src/engine/training.py:3000: UserWarning: You are saving your model as an HDF5 file via `model.save()`. This file format is considered legacy. We recommend using instead the native Keras format, e.g. `model.save('my_model.keras')`.\n",
            "  saving_api.save_model(\n"
          ]
        },
        {
          "metadata": {
            "tags": null
          },
          "name": "stdout",
          "output_type": "stream",
          "text": [
            "Running Fold 4...\n",
            "Training Neural Network...\n",
            "78/78 [==============================] - 0s 1ms/step\n"
          ]
        },
        {
          "metadata": {
            "tags": null
          },
          "name": "stderr",
          "output_type": "stream",
          "text": [
            "/usr/local/lib/python3.10/dist-packages/keras/src/engine/training.py:3000: UserWarning: You are saving your model as an HDF5 file via `model.save()`. This file format is considered legacy. We recommend using instead the native Keras format, e.g. `model.save('my_model.keras')`.\n",
            "  saving_api.save_model(\n"
          ]
        },
        {
          "metadata": {
            "tags": null
          },
          "name": "stdout",
          "output_type": "stream",
          "text": [
            "Running Fold 5...\n",
            "Training Neural Network...\n",
            "78/78 [==============================] - 0s 2ms/step\n",
            "Processing stop_sequence 12 for weekend...\n"
          ]
        },
        {
          "metadata": {
            "tags": null
          },
          "name": "stderr",
          "output_type": "stream",
          "text": [
            "/usr/local/lib/python3.10/dist-packages/keras/src/engine/training.py:3000: UserWarning: You are saving your model as an HDF5 file via `model.save()`. This file format is considered legacy. We recommend using instead the native Keras format, e.g. `model.save('my_model.keras')`.\n",
            "  saving_api.save_model(\n"
          ]
        },
        {
          "metadata": {
            "tags": null
          },
          "name": "stdout",
          "output_type": "stream",
          "text": [
            "Running Fold 1...\n",
            "Training Neural Network...\n",
            "24/24 [==============================] - 0s 2ms/step\n",
            "Running Fold 2...\n",
            "Training Neural Network...\n"
          ]
        },
        {
          "metadata": {
            "tags": null
          },
          "name": "stderr",
          "output_type": "stream",
          "text": [
            "/usr/local/lib/python3.10/dist-packages/keras/src/engine/training.py:3000: UserWarning: You are saving your model as an HDF5 file via `model.save()`. This file format is considered legacy. We recommend using instead the native Keras format, e.g. `model.save('my_model.keras')`.\n",
            "  saving_api.save_model(\n"
          ]
        },
        {
          "metadata": {
            "tags": null
          },
          "name": "stdout",
          "output_type": "stream",
          "text": [
            "24/24 [==============================] - 0s 1ms/step\n",
            "Running Fold 3...\n",
            "Training Neural Network...\n"
          ]
        },
        {
          "metadata": {
            "tags": null
          },
          "name": "stderr",
          "output_type": "stream",
          "text": [
            "/usr/local/lib/python3.10/dist-packages/keras/src/engine/training.py:3000: UserWarning: You are saving your model as an HDF5 file via `model.save()`. This file format is considered legacy. We recommend using instead the native Keras format, e.g. `model.save('my_model.keras')`.\n",
            "  saving_api.save_model(\n"
          ]
        },
        {
          "metadata": {
            "tags": null
          },
          "name": "stdout",
          "output_type": "stream",
          "text": [
            "24/24 [==============================] - 0s 2ms/step\n",
            "Running Fold 4...\n",
            "Training Neural Network...\n"
          ]
        },
        {
          "metadata": {
            "tags": null
          },
          "name": "stderr",
          "output_type": "stream",
          "text": [
            "/usr/local/lib/python3.10/dist-packages/keras/src/engine/training.py:3000: UserWarning: You are saving your model as an HDF5 file via `model.save()`. This file format is considered legacy. We recommend using instead the native Keras format, e.g. `model.save('my_model.keras')`.\n",
            "  saving_api.save_model(\n"
          ]
        },
        {
          "metadata": {
            "tags": null
          },
          "name": "stdout",
          "output_type": "stream",
          "text": [
            "24/24 [==============================] - 0s 2ms/step\n",
            "Running Fold 5...\n",
            "Training Neural Network...\n"
          ]
        },
        {
          "metadata": {
            "tags": null
          },
          "name": "stderr",
          "output_type": "stream",
          "text": [
            "/usr/local/lib/python3.10/dist-packages/keras/src/engine/training.py:3000: UserWarning: You are saving your model as an HDF5 file via `model.save()`. This file format is considered legacy. We recommend using instead the native Keras format, e.g. `model.save('my_model.keras')`.\n",
            "  saving_api.save_model(\n"
          ]
        },
        {
          "metadata": {
            "tags": null
          },
          "name": "stdout",
          "output_type": "stream",
          "text": [
            "24/24 [==============================] - 0s 1ms/step\n",
            "Processing stop_sequence 14 for weekday...\n",
            "Running Fold 1...\n",
            "Training Neural Network...\n"
          ]
        },
        {
          "metadata": {
            "tags": null
          },
          "name": "stderr",
          "output_type": "stream",
          "text": [
            "/usr/local/lib/python3.10/dist-packages/keras/src/engine/training.py:3000: UserWarning: You are saving your model as an HDF5 file via `model.save()`. This file format is considered legacy. We recommend using instead the native Keras format, e.g. `model.save('my_model.keras')`.\n",
            "  saving_api.save_model(\n"
          ]
        },
        {
          "metadata": {
            "tags": null
          },
          "name": "stdout",
          "output_type": "stream",
          "text": [
            "78/78 [==============================] - 0s 1ms/step\n"
          ]
        },
        {
          "metadata": {
            "tags": null
          },
          "name": "stderr",
          "output_type": "stream",
          "text": [
            "/usr/local/lib/python3.10/dist-packages/keras/src/engine/training.py:3000: UserWarning: You are saving your model as an HDF5 file via `model.save()`. This file format is considered legacy. We recommend using instead the native Keras format, e.g. `model.save('my_model.keras')`.\n",
            "  saving_api.save_model(\n"
          ]
        },
        {
          "metadata": {
            "tags": null
          },
          "name": "stdout",
          "output_type": "stream",
          "text": [
            "Running Fold 2...\n",
            "Training Neural Network...\n",
            "78/78 [==============================] - 0s 2ms/step\n",
            "Running Fold 3...\n",
            "Training Neural Network...\n"
          ]
        },
        {
          "metadata": {
            "tags": null
          },
          "name": "stderr",
          "output_type": "stream",
          "text": [
            "/usr/local/lib/python3.10/dist-packages/keras/src/engine/training.py:3000: UserWarning: You are saving your model as an HDF5 file via `model.save()`. This file format is considered legacy. We recommend using instead the native Keras format, e.g. `model.save('my_model.keras')`.\n",
            "  saving_api.save_model(\n"
          ]
        },
        {
          "metadata": {
            "tags": null
          },
          "name": "stdout",
          "output_type": "stream",
          "text": [
            "78/78 [==============================] - 0s 2ms/step\n"
          ]
        },
        {
          "metadata": {
            "tags": null
          },
          "name": "stderr",
          "output_type": "stream",
          "text": [
            "/usr/local/lib/python3.10/dist-packages/keras/src/engine/training.py:3000: UserWarning: You are saving your model as an HDF5 file via `model.save()`. This file format is considered legacy. We recommend using instead the native Keras format, e.g. `model.save('my_model.keras')`.\n",
            "  saving_api.save_model(\n"
          ]
        },
        {
          "metadata": {
            "tags": null
          },
          "name": "stdout",
          "output_type": "stream",
          "text": [
            "Running Fold 4...\n",
            "Training Neural Network...\n",
            "78/78 [==============================] - 0s 4ms/step\n"
          ]
        },
        {
          "metadata": {
            "tags": null
          },
          "name": "stderr",
          "output_type": "stream",
          "text": [
            "/usr/local/lib/python3.10/dist-packages/keras/src/engine/training.py:3000: UserWarning: You are saving your model as an HDF5 file via `model.save()`. This file format is considered legacy. We recommend using instead the native Keras format, e.g. `model.save('my_model.keras')`.\n",
            "  saving_api.save_model(\n"
          ]
        },
        {
          "metadata": {
            "tags": null
          },
          "name": "stdout",
          "output_type": "stream",
          "text": [
            "Running Fold 5...\n",
            "Training Neural Network...\n",
            "78/78 [==============================] - 0s 1ms/step\n",
            "Processing stop_sequence 14 for weekend...\n",
            "Running Fold 1...\n",
            "Training Neural Network...\n"
          ]
        },
        {
          "metadata": {
            "tags": null
          },
          "name": "stderr",
          "output_type": "stream",
          "text": [
            "/usr/local/lib/python3.10/dist-packages/keras/src/engine/training.py:3000: UserWarning: You are saving your model as an HDF5 file via `model.save()`. This file format is considered legacy. We recommend using instead the native Keras format, e.g. `model.save('my_model.keras')`.\n",
            "  saving_api.save_model(\n"
          ]
        },
        {
          "output_type": "stream",
          "name": "stdout",
          "text": [
            "24/24 [==============================] - 0s 2ms/step\n",
            "Running Fold 2...\n",
            "Training Neural Network...\n"
          ]
        },
        {
          "output_type": "stream",
          "name": "stderr",
          "text": [
            "/usr/local/lib/python3.10/dist-packages/keras/src/engine/training.py:3000: UserWarning: You are saving your model as an HDF5 file via `model.save()`. This file format is considered legacy. We recommend using instead the native Keras format, e.g. `model.save('my_model.keras')`.\n",
            "  saving_api.save_model(\n"
          ]
        },
        {
          "output_type": "stream",
          "name": "stdout",
          "text": [
            "24/24 [==============================] - 0s 2ms/step\n",
            "Running Fold 3...\n",
            "Training Neural Network...\n"
          ]
        },
        {
          "output_type": "stream",
          "name": "stderr",
          "text": [
            "/usr/local/lib/python3.10/dist-packages/keras/src/engine/training.py:3000: UserWarning: You are saving your model as an HDF5 file via `model.save()`. This file format is considered legacy. We recommend using instead the native Keras format, e.g. `model.save('my_model.keras')`.\n",
            "  saving_api.save_model(\n"
          ]
        },
        {
          "output_type": "stream",
          "name": "stdout",
          "text": [
            "24/24 [==============================] - 0s 2ms/step\n",
            "Running Fold 4...\n",
            "Training Neural Network...\n"
          ]
        },
        {
          "output_type": "stream",
          "name": "stderr",
          "text": [
            "/usr/local/lib/python3.10/dist-packages/keras/src/engine/training.py:3000: UserWarning: You are saving your model as an HDF5 file via `model.save()`. This file format is considered legacy. We recommend using instead the native Keras format, e.g. `model.save('my_model.keras')`.\n",
            "  saving_api.save_model(\n"
          ]
        },
        {
          "output_type": "stream",
          "name": "stdout",
          "text": [
            "24/24 [==============================] - 0s 2ms/step\n",
            "Running Fold 5...\n",
            "Training Neural Network...\n"
          ]
        },
        {
          "output_type": "stream",
          "name": "stderr",
          "text": [
            "/usr/local/lib/python3.10/dist-packages/keras/src/engine/training.py:3000: UserWarning: You are saving your model as an HDF5 file via `model.save()`. This file format is considered legacy. We recommend using instead the native Keras format, e.g. `model.save('my_model.keras')`.\n",
            "  saving_api.save_model(\n"
          ]
        },
        {
          "output_type": "stream",
          "name": "stdout",
          "text": [
            "24/24 [==============================] - 0s 2ms/step\n",
            "Processing stop_sequence 16 for weekday...\n",
            "Running Fold 1...\n",
            "Training Neural Network...\n"
          ]
        },
        {
          "output_type": "stream",
          "name": "stderr",
          "text": [
            "/usr/local/lib/python3.10/dist-packages/keras/src/engine/training.py:3000: UserWarning: You are saving your model as an HDF5 file via `model.save()`. This file format is considered legacy. We recommend using instead the native Keras format, e.g. `model.save('my_model.keras')`.\n",
            "  saving_api.save_model(\n"
          ]
        },
        {
          "output_type": "stream",
          "name": "stdout",
          "text": [
            "78/78 [==============================] - 0s 1ms/step\n"
          ]
        },
        {
          "output_type": "stream",
          "name": "stderr",
          "text": [
            "/usr/local/lib/python3.10/dist-packages/keras/src/engine/training.py:3000: UserWarning: You are saving your model as an HDF5 file via `model.save()`. This file format is considered legacy. We recommend using instead the native Keras format, e.g. `model.save('my_model.keras')`.\n",
            "  saving_api.save_model(\n"
          ]
        },
        {
          "output_type": "stream",
          "name": "stdout",
          "text": [
            "Running Fold 2...\n",
            "Training Neural Network...\n",
            "78/78 [==============================] - 0s 1ms/step\n",
            "Running Fold 3...\n",
            "Training Neural Network...\n"
          ]
        },
        {
          "output_type": "stream",
          "name": "stderr",
          "text": [
            "/usr/local/lib/python3.10/dist-packages/keras/src/engine/training.py:3000: UserWarning: You are saving your model as an HDF5 file via `model.save()`. This file format is considered legacy. We recommend using instead the native Keras format, e.g. `model.save('my_model.keras')`.\n",
            "  saving_api.save_model(\n"
          ]
        },
        {
          "output_type": "stream",
          "name": "stdout",
          "text": [
            "78/78 [==============================] - 0s 2ms/step\n",
            "Running Fold 4...\n",
            "Training Neural Network...\n"
          ]
        },
        {
          "output_type": "stream",
          "name": "stderr",
          "text": [
            "/usr/local/lib/python3.10/dist-packages/keras/src/engine/training.py:3000: UserWarning: You are saving your model as an HDF5 file via `model.save()`. This file format is considered legacy. We recommend using instead the native Keras format, e.g. `model.save('my_model.keras')`.\n",
            "  saving_api.save_model(\n"
          ]
        },
        {
          "output_type": "stream",
          "name": "stdout",
          "text": [
            "78/78 [==============================] - 0s 2ms/step\n",
            "Running Fold 5...\n"
          ]
        },
        {
          "output_type": "stream",
          "name": "stderr",
          "text": [
            "/usr/local/lib/python3.10/dist-packages/keras/src/engine/training.py:3000: UserWarning: You are saving your model as an HDF5 file via `model.save()`. This file format is considered legacy. We recommend using instead the native Keras format, e.g. `model.save('my_model.keras')`.\n",
            "  saving_api.save_model(\n"
          ]
        },
        {
          "output_type": "stream",
          "name": "stdout",
          "text": [
            "Training Neural Network...\n",
            "78/78 [==============================] - 0s 1ms/step\n",
            "Processing stop_sequence 16 for weekend...\n",
            "Running Fold 1...\n",
            "Training Neural Network...\n"
          ]
        },
        {
          "output_type": "stream",
          "name": "stderr",
          "text": [
            "/usr/local/lib/python3.10/dist-packages/keras/src/engine/training.py:3000: UserWarning: You are saving your model as an HDF5 file via `model.save()`. This file format is considered legacy. We recommend using instead the native Keras format, e.g. `model.save('my_model.keras')`.\n",
            "  saving_api.save_model(\n"
          ]
        },
        {
          "output_type": "stream",
          "name": "stdout",
          "text": [
            "24/24 [==============================] - 0s 2ms/step\n",
            "Running Fold 2...\n",
            "Training Neural Network...\n"
          ]
        },
        {
          "output_type": "stream",
          "name": "stderr",
          "text": [
            "/usr/local/lib/python3.10/dist-packages/keras/src/engine/training.py:3000: UserWarning: You are saving your model as an HDF5 file via `model.save()`. This file format is considered legacy. We recommend using instead the native Keras format, e.g. `model.save('my_model.keras')`.\n",
            "  saving_api.save_model(\n"
          ]
        },
        {
          "output_type": "stream",
          "name": "stdout",
          "text": [
            "24/24 [==============================] - 0s 2ms/step\n",
            "Running Fold 3...\n",
            "Training Neural Network...\n"
          ]
        },
        {
          "output_type": "stream",
          "name": "stderr",
          "text": [
            "/usr/local/lib/python3.10/dist-packages/keras/src/engine/training.py:3000: UserWarning: You are saving your model as an HDF5 file via `model.save()`. This file format is considered legacy. We recommend using instead the native Keras format, e.g. `model.save('my_model.keras')`.\n",
            "  saving_api.save_model(\n"
          ]
        },
        {
          "output_type": "stream",
          "name": "stdout",
          "text": [
            "24/24 [==============================] - 0s 1ms/step\n",
            "Running Fold 4...\n",
            "Training Neural Network...\n"
          ]
        },
        {
          "output_type": "stream",
          "name": "stderr",
          "text": [
            "/usr/local/lib/python3.10/dist-packages/keras/src/engine/training.py:3000: UserWarning: You are saving your model as an HDF5 file via `model.save()`. This file format is considered legacy. We recommend using instead the native Keras format, e.g. `model.save('my_model.keras')`.\n",
            "  saving_api.save_model(\n"
          ]
        },
        {
          "output_type": "stream",
          "name": "stdout",
          "text": [
            "24/24 [==============================] - 0s 1ms/step\n",
            "Running Fold 5...\n",
            "Training Neural Network...\n"
          ]
        },
        {
          "output_type": "stream",
          "name": "stderr",
          "text": [
            "/usr/local/lib/python3.10/dist-packages/keras/src/engine/training.py:3000: UserWarning: You are saving your model as an HDF5 file via `model.save()`. This file format is considered legacy. We recommend using instead the native Keras format, e.g. `model.save('my_model.keras')`.\n",
            "  saving_api.save_model(\n"
          ]
        },
        {
          "output_type": "stream",
          "name": "stdout",
          "text": [
            "24/24 [==============================] - 0s 1ms/step\n",
            "Processing stop_sequence 20 for weekday...\n",
            "Running Fold 1...\n",
            "Training Neural Network...\n"
          ]
        },
        {
          "output_type": "stream",
          "name": "stderr",
          "text": [
            "/usr/local/lib/python3.10/dist-packages/keras/src/engine/training.py:3000: UserWarning: You are saving your model as an HDF5 file via `model.save()`. This file format is considered legacy. We recommend using instead the native Keras format, e.g. `model.save('my_model.keras')`.\n",
            "  saving_api.save_model(\n"
          ]
        },
        {
          "output_type": "stream",
          "name": "stdout",
          "text": [
            "77/77 [==============================] - 0s 1ms/step\n"
          ]
        },
        {
          "output_type": "stream",
          "name": "stderr",
          "text": [
            "/usr/local/lib/python3.10/dist-packages/keras/src/engine/training.py:3000: UserWarning: You are saving your model as an HDF5 file via `model.save()`. This file format is considered legacy. We recommend using instead the native Keras format, e.g. `model.save('my_model.keras')`.\n",
            "  saving_api.save_model(\n"
          ]
        },
        {
          "output_type": "stream",
          "name": "stdout",
          "text": [
            "Running Fold 2...\n",
            "Training Neural Network...\n",
            "77/77 [==============================] - 0s 2ms/step\n",
            "Running Fold 3...\n",
            "Training Neural Network...\n"
          ]
        },
        {
          "output_type": "stream",
          "name": "stderr",
          "text": [
            "/usr/local/lib/python3.10/dist-packages/keras/src/engine/training.py:3000: UserWarning: You are saving your model as an HDF5 file via `model.save()`. This file format is considered legacy. We recommend using instead the native Keras format, e.g. `model.save('my_model.keras')`.\n",
            "  saving_api.save_model(\n"
          ]
        },
        {
          "output_type": "stream",
          "name": "stdout",
          "text": [
            "77/77 [==============================] - 0s 2ms/step\n",
            "Running Fold 4...\n",
            "Training Neural Network...\n"
          ]
        },
        {
          "output_type": "stream",
          "name": "stderr",
          "text": [
            "/usr/local/lib/python3.10/dist-packages/keras/src/engine/training.py:3000: UserWarning: You are saving your model as an HDF5 file via `model.save()`. This file format is considered legacy. We recommend using instead the native Keras format, e.g. `model.save('my_model.keras')`.\n",
            "  saving_api.save_model(\n"
          ]
        },
        {
          "output_type": "stream",
          "name": "stdout",
          "text": [
            "77/77 [==============================] - 0s 2ms/step\n",
            "Running Fold 5...\n"
          ]
        },
        {
          "output_type": "stream",
          "name": "stderr",
          "text": [
            "/usr/local/lib/python3.10/dist-packages/keras/src/engine/training.py:3000: UserWarning: You are saving your model as an HDF5 file via `model.save()`. This file format is considered legacy. We recommend using instead the native Keras format, e.g. `model.save('my_model.keras')`.\n",
            "  saving_api.save_model(\n"
          ]
        },
        {
          "output_type": "stream",
          "name": "stdout",
          "text": [
            "Training Neural Network...\n",
            "77/77 [==============================] - 0s 1ms/step\n",
            "Processing stop_sequence 20 for weekend...\n",
            "Running Fold 1...\n",
            "Training Neural Network...\n"
          ]
        },
        {
          "output_type": "stream",
          "name": "stderr",
          "text": [
            "/usr/local/lib/python3.10/dist-packages/keras/src/engine/training.py:3000: UserWarning: You are saving your model as an HDF5 file via `model.save()`. This file format is considered legacy. We recommend using instead the native Keras format, e.g. `model.save('my_model.keras')`.\n",
            "  saving_api.save_model(\n"
          ]
        },
        {
          "output_type": "stream",
          "name": "stdout",
          "text": [
            "24/24 [==============================] - 0s 1ms/step\n",
            "Running Fold 2...\n",
            "Training Neural Network...\n"
          ]
        },
        {
          "output_type": "stream",
          "name": "stderr",
          "text": [
            "/usr/local/lib/python3.10/dist-packages/keras/src/engine/training.py:3000: UserWarning: You are saving your model as an HDF5 file via `model.save()`. This file format is considered legacy. We recommend using instead the native Keras format, e.g. `model.save('my_model.keras')`.\n",
            "  saving_api.save_model(\n"
          ]
        },
        {
          "output_type": "stream",
          "name": "stdout",
          "text": [
            "24/24 [==============================] - 0s 2ms/step\n",
            "Running Fold 3...\n",
            "Training Neural Network...\n"
          ]
        },
        {
          "output_type": "stream",
          "name": "stderr",
          "text": [
            "/usr/local/lib/python3.10/dist-packages/keras/src/engine/training.py:3000: UserWarning: You are saving your model as an HDF5 file via `model.save()`. This file format is considered legacy. We recommend using instead the native Keras format, e.g. `model.save('my_model.keras')`.\n",
            "  saving_api.save_model(\n"
          ]
        },
        {
          "output_type": "stream",
          "name": "stdout",
          "text": [
            "24/24 [==============================] - 0s 2ms/step\n",
            "Running Fold 4...\n",
            "Training Neural Network...\n"
          ]
        },
        {
          "output_type": "stream",
          "name": "stderr",
          "text": [
            "/usr/local/lib/python3.10/dist-packages/keras/src/engine/training.py:3000: UserWarning: You are saving your model as an HDF5 file via `model.save()`. This file format is considered legacy. We recommend using instead the native Keras format, e.g. `model.save('my_model.keras')`.\n",
            "  saving_api.save_model(\n"
          ]
        },
        {
          "output_type": "stream",
          "name": "stdout",
          "text": [
            "24/24 [==============================] - 0s 2ms/step\n",
            "Running Fold 5...\n",
            "Training Neural Network...\n"
          ]
        },
        {
          "output_type": "stream",
          "name": "stderr",
          "text": [
            "/usr/local/lib/python3.10/dist-packages/keras/src/engine/training.py:3000: UserWarning: You are saving your model as an HDF5 file via `model.save()`. This file format is considered legacy. We recommend using instead the native Keras format, e.g. `model.save('my_model.keras')`.\n",
            "  saving_api.save_model(\n"
          ]
        },
        {
          "output_type": "stream",
          "name": "stdout",
          "text": [
            "24/24 [==============================] - 0s 1ms/step\n",
            "Processing stop_sequence 21 for weekday...\n",
            "Running Fold 1...\n",
            "Training Neural Network...\n"
          ]
        },
        {
          "output_type": "stream",
          "name": "stderr",
          "text": [
            "/usr/local/lib/python3.10/dist-packages/keras/src/engine/training.py:3000: UserWarning: You are saving your model as an HDF5 file via `model.save()`. This file format is considered legacy. We recommend using instead the native Keras format, e.g. `model.save('my_model.keras')`.\n",
            "  saving_api.save_model(\n"
          ]
        },
        {
          "output_type": "stream",
          "name": "stdout",
          "text": [
            "78/78 [==============================] - 0s 2ms/step\n",
            "Running Fold 2...\n",
            "Training Neural Network...\n"
          ]
        },
        {
          "output_type": "stream",
          "name": "stderr",
          "text": [
            "/usr/local/lib/python3.10/dist-packages/keras/src/engine/training.py:3000: UserWarning: You are saving your model as an HDF5 file via `model.save()`. This file format is considered legacy. We recommend using instead the native Keras format, e.g. `model.save('my_model.keras')`.\n",
            "  saving_api.save_model(\n"
          ]
        },
        {
          "output_type": "stream",
          "name": "stdout",
          "text": [
            "78/78 [==============================] - 0s 1ms/step\n"
          ]
        },
        {
          "output_type": "stream",
          "name": "stderr",
          "text": [
            "/usr/local/lib/python3.10/dist-packages/keras/src/engine/training.py:3000: UserWarning: You are saving your model as an HDF5 file via `model.save()`. This file format is considered legacy. We recommend using instead the native Keras format, e.g. `model.save('my_model.keras')`.\n",
            "  saving_api.save_model(\n"
          ]
        },
        {
          "output_type": "stream",
          "name": "stdout",
          "text": [
            "Running Fold 3...\n",
            "Training Neural Network...\n",
            "78/78 [==============================] - 0s 1ms/step\n"
          ]
        },
        {
          "output_type": "stream",
          "name": "stderr",
          "text": [
            "/usr/local/lib/python3.10/dist-packages/keras/src/engine/training.py:3000: UserWarning: You are saving your model as an HDF5 file via `model.save()`. This file format is considered legacy. We recommend using instead the native Keras format, e.g. `model.save('my_model.keras')`.\n",
            "  saving_api.save_model(\n"
          ]
        },
        {
          "output_type": "stream",
          "name": "stdout",
          "text": [
            "Running Fold 4...\n",
            "Training Neural Network...\n",
            "78/78 [==============================] - 0s 2ms/step\n",
            "Running Fold 5...\n",
            "Training Neural Network...\n"
          ]
        },
        {
          "output_type": "stream",
          "name": "stderr",
          "text": [
            "/usr/local/lib/python3.10/dist-packages/keras/src/engine/training.py:3000: UserWarning: You are saving your model as an HDF5 file via `model.save()`. This file format is considered legacy. We recommend using instead the native Keras format, e.g. `model.save('my_model.keras')`.\n",
            "  saving_api.save_model(\n"
          ]
        },
        {
          "output_type": "stream",
          "name": "stdout",
          "text": [
            "78/78 [==============================] - 0s 2ms/step\n",
            "Processing stop_sequence 21 for weekend...\n"
          ]
        },
        {
          "output_type": "stream",
          "name": "stderr",
          "text": [
            "/usr/local/lib/python3.10/dist-packages/keras/src/engine/training.py:3000: UserWarning: You are saving your model as an HDF5 file via `model.save()`. This file format is considered legacy. We recommend using instead the native Keras format, e.g. `model.save('my_model.keras')`.\n",
            "  saving_api.save_model(\n"
          ]
        },
        {
          "output_type": "stream",
          "name": "stdout",
          "text": [
            "Running Fold 1...\n",
            "Training Neural Network...\n",
            "24/24 [==============================] - 0s 3ms/step\n",
            "Running Fold 2...\n",
            "Training Neural Network...\n"
          ]
        },
        {
          "output_type": "stream",
          "name": "stderr",
          "text": [
            "/usr/local/lib/python3.10/dist-packages/keras/src/engine/training.py:3000: UserWarning: You are saving your model as an HDF5 file via `model.save()`. This file format is considered legacy. We recommend using instead the native Keras format, e.g. `model.save('my_model.keras')`.\n",
            "  saving_api.save_model(\n"
          ]
        },
        {
          "output_type": "stream",
          "name": "stdout",
          "text": [
            "24/24 [==============================] - 0s 1ms/step\n",
            "Running Fold 3...\n",
            "Training Neural Network...\n"
          ]
        },
        {
          "output_type": "stream",
          "name": "stderr",
          "text": [
            "/usr/local/lib/python3.10/dist-packages/keras/src/engine/training.py:3000: UserWarning: You are saving your model as an HDF5 file via `model.save()`. This file format is considered legacy. We recommend using instead the native Keras format, e.g. `model.save('my_model.keras')`.\n",
            "  saving_api.save_model(\n"
          ]
        },
        {
          "output_type": "stream",
          "name": "stdout",
          "text": [
            "24/24 [==============================] - 0s 2ms/step\n",
            "Running Fold 4...\n",
            "Training Neural Network...\n"
          ]
        },
        {
          "output_type": "stream",
          "name": "stderr",
          "text": [
            "/usr/local/lib/python3.10/dist-packages/keras/src/engine/training.py:3000: UserWarning: You are saving your model as an HDF5 file via `model.save()`. This file format is considered legacy. We recommend using instead the native Keras format, e.g. `model.save('my_model.keras')`.\n",
            "  saving_api.save_model(\n"
          ]
        },
        {
          "output_type": "stream",
          "name": "stdout",
          "text": [
            "24/24 [==============================] - 0s 2ms/step\n",
            "Running Fold 5...\n",
            "Training Neural Network...\n"
          ]
        },
        {
          "output_type": "stream",
          "name": "stderr",
          "text": [
            "/usr/local/lib/python3.10/dist-packages/keras/src/engine/training.py:3000: UserWarning: You are saving your model as an HDF5 file via `model.save()`. This file format is considered legacy. We recommend using instead the native Keras format, e.g. `model.save('my_model.keras')`.\n",
            "  saving_api.save_model(\n"
          ]
        },
        {
          "output_type": "stream",
          "name": "stdout",
          "text": [
            "24/24 [==============================] - 0s 2ms/step\n",
            "Processing stop_sequence 23 for weekday...\n",
            "Running Fold 1...\n",
            "Training Neural Network...\n"
          ]
        },
        {
          "output_type": "stream",
          "name": "stderr",
          "text": [
            "/usr/local/lib/python3.10/dist-packages/keras/src/engine/training.py:3000: UserWarning: You are saving your model as an HDF5 file via `model.save()`. This file format is considered legacy. We recommend using instead the native Keras format, e.g. `model.save('my_model.keras')`.\n",
            "  saving_api.save_model(\n"
          ]
        },
        {
          "output_type": "stream",
          "name": "stdout",
          "text": [
            "78/78 [==============================] - 0s 2ms/step\n",
            "Running Fold 2...\n",
            "Training Neural Network...\n"
          ]
        },
        {
          "output_type": "stream",
          "name": "stderr",
          "text": [
            "/usr/local/lib/python3.10/dist-packages/keras/src/engine/training.py:3000: UserWarning: You are saving your model as an HDF5 file via `model.save()`. This file format is considered legacy. We recommend using instead the native Keras format, e.g. `model.save('my_model.keras')`.\n",
            "  saving_api.save_model(\n"
          ]
        },
        {
          "output_type": "stream",
          "name": "stdout",
          "text": [
            "78/78 [==============================] - 0s 2ms/step\n",
            "Running Fold 3..."
          ]
        },
        {
          "output_type": "stream",
          "name": "stderr",
          "text": [
            "/usr/local/lib/python3.10/dist-packages/keras/src/engine/training.py:3000: UserWarning: You are saving your model as an HDF5 file via `model.save()`. This file format is considered legacy. We recommend using instead the native Keras format, e.g. `model.save('my_model.keras')`.\n",
            "  saving_api.save_model(\n"
          ]
        },
        {
          "output_type": "stream",
          "name": "stdout",
          "text": [
            "\n",
            "Training Neural Network...\n",
            "78/78 [==============================] - 0s 2ms/step\n",
            "Running Fold 4...\n",
            "Training Neural Network...\n"
          ]
        },
        {
          "output_type": "stream",
          "name": "stderr",
          "text": [
            "/usr/local/lib/python3.10/dist-packages/keras/src/engine/training.py:3000: UserWarning: You are saving your model as an HDF5 file via `model.save()`. This file format is considered legacy. We recommend using instead the native Keras format, e.g. `model.save('my_model.keras')`.\n",
            "  saving_api.save_model(\n"
          ]
        },
        {
          "output_type": "stream",
          "name": "stdout",
          "text": [
            "78/78 [==============================] - 0s 2ms/step\n",
            "Running Fold 5...\n",
            "Training Neural Network...\n"
          ]
        },
        {
          "output_type": "stream",
          "name": "stderr",
          "text": [
            "/usr/local/lib/python3.10/dist-packages/keras/src/engine/training.py:3000: UserWarning: You are saving your model as an HDF5 file via `model.save()`. This file format is considered legacy. We recommend using instead the native Keras format, e.g. `model.save('my_model.keras')`.\n",
            "  saving_api.save_model(\n"
          ]
        },
        {
          "output_type": "stream",
          "name": "stdout",
          "text": [
            "78/78 [==============================] - 0s 2ms/step\n",
            "Processing stop_sequence 23 for weekend...\n"
          ]
        },
        {
          "output_type": "stream",
          "name": "stderr",
          "text": [
            "/usr/local/lib/python3.10/dist-packages/keras/src/engine/training.py:3000: UserWarning: You are saving your model as an HDF5 file via `model.save()`. This file format is considered legacy. We recommend using instead the native Keras format, e.g. `model.save('my_model.keras')`.\n",
            "  saving_api.save_model(\n"
          ]
        },
        {
          "output_type": "stream",
          "name": "stdout",
          "text": [
            "Running Fold 1...\n",
            "Training Neural Network...\n",
            "24/24 [==============================] - 0s 2ms/step\n",
            "Running Fold 2...\n",
            "Training Neural Network...\n"
          ]
        },
        {
          "output_type": "stream",
          "name": "stderr",
          "text": [
            "/usr/local/lib/python3.10/dist-packages/keras/src/engine/training.py:3000: UserWarning: You are saving your model as an HDF5 file via `model.save()`. This file format is considered legacy. We recommend using instead the native Keras format, e.g. `model.save('my_model.keras')`.\n",
            "  saving_api.save_model(\n"
          ]
        },
        {
          "output_type": "stream",
          "name": "stdout",
          "text": [
            "24/24 [==============================] - 0s 2ms/step\n",
            "Running Fold 3...\n",
            "Training Neural Network...\n"
          ]
        },
        {
          "output_type": "stream",
          "name": "stderr",
          "text": [
            "/usr/local/lib/python3.10/dist-packages/keras/src/engine/training.py:3000: UserWarning: You are saving your model as an HDF5 file via `model.save()`. This file format is considered legacy. We recommend using instead the native Keras format, e.g. `model.save('my_model.keras')`.\n",
            "  saving_api.save_model(\n"
          ]
        },
        {
          "output_type": "stream",
          "name": "stdout",
          "text": [
            "24/24 [==============================] - 0s 2ms/step\n",
            "Running Fold 4...\n",
            "Training Neural Network...\n"
          ]
        },
        {
          "output_type": "stream",
          "name": "stderr",
          "text": [
            "/usr/local/lib/python3.10/dist-packages/keras/src/engine/training.py:3000: UserWarning: You are saving your model as an HDF5 file via `model.save()`. This file format is considered legacy. We recommend using instead the native Keras format, e.g. `model.save('my_model.keras')`.\n",
            "  saving_api.save_model(\n"
          ]
        },
        {
          "output_type": "stream",
          "name": "stdout",
          "text": [
            "24/24 [==============================] - 0s 2ms/step\n",
            "Running Fold 5...\n",
            "Training Neural Network...\n"
          ]
        },
        {
          "output_type": "stream",
          "name": "stderr",
          "text": [
            "/usr/local/lib/python3.10/dist-packages/keras/src/engine/training.py:3000: UserWarning: You are saving your model as an HDF5 file via `model.save()`. This file format is considered legacy. We recommend using instead the native Keras format, e.g. `model.save('my_model.keras')`.\n",
            "  saving_api.save_model(\n"
          ]
        },
        {
          "output_type": "stream",
          "name": "stdout",
          "text": [
            "24/24 [==============================] - 0s 3ms/step\n",
            "    stop_sequence day_type       R^2        MAE\n",
            "0               1  weekday  0.908070  27.802563\n",
            "1               1  weekend  0.957023  27.164562\n",
            "2               5  weekday  0.978156  14.814093\n",
            "3               5  weekend  0.990716  12.313260\n",
            "4               8  weekday  0.977652  16.314093\n",
            "5               8  weekend  0.991799  13.363214\n",
            "6              12  weekday  0.990009  12.623164\n",
            "7              12  weekend  0.995188  11.055906\n",
            "8              14  weekday  0.986305  15.173571\n",
            "9              14  weekend  0.989752  17.120426\n",
            "10             16  weekday  0.975077  20.388422\n",
            "11             16  weekend  0.990892  15.779259\n",
            "12             20  weekday  0.995016   9.259996\n",
            "13             20  weekend  0.997151   8.618689\n",
            "14             21  weekday  0.991404  13.527657\n",
            "15             21  weekend  0.995789  11.686241\n",
            "16             23  weekday  0.998020   5.956460\n",
            "17             23  weekend  0.997835   6.646360\n"
          ]
        },
        {
          "output_type": "stream",
          "name": "stderr",
          "text": [
            "/usr/local/lib/python3.10/dist-packages/keras/src/engine/training.py:3000: UserWarning: You are saving your model as an HDF5 file via `model.save()`. This file format is considered legacy. We recommend using instead the native Keras format, e.g. `model.save('my_model.keras')`.\n",
            "  saving_api.save_model(\n"
          ]
        }
      ],
      "source": [
        "results_df_day = train_evaluate_nn_model(df)\n",
        "print(results_df_day)"
      ]
    },
    {
      "cell_type": "markdown",
      "id": "a860c88f",
      "metadata": {
        "id": "a860c88f"
      },
      "source": [
        "### USING the trained model"
      ]
    },
    {
      "cell_type": "code",
      "execution_count": null,
      "id": "9948097d",
      "metadata": {
        "colab": {
          "base_uri": "https://localhost:8080/"
        },
        "id": "9948097d",
        "outputId": "6b92dde3-2956-41e5-ec9f-9df2537e5aa3"
      },
      "outputs": [
        {
          "output_type": "stream",
          "name": "stdout",
          "text": [
            "484/484 [==============================] - 1s 1ms/step\n",
            "147/147 [==============================] - 0s 1ms/step\n",
            "484/484 [==============================] - 1s 2ms/step\n",
            "147/147 [==============================] - 0s 1ms/step\n",
            "484/484 [==============================] - 1s 1ms/step\n",
            "147/147 [==============================] - 0s 1ms/step\n",
            "484/484 [==============================] - 1s 1ms/step\n",
            "147/147 [==============================] - 0s 1ms/step\n",
            "484/484 [==============================] - 1s 2ms/step\n",
            "147/147 [==============================] - 0s 2ms/step\n",
            "484/484 [==============================] - 1s 2ms/step\n",
            "147/147 [==============================] - 0s 1ms/step\n",
            "484/484 [==============================] - 1s 1ms/step\n",
            "147/147 [==============================] - 0s 1ms/step\n",
            "484/484 [==============================] - 1s 1ms/step\n",
            "147/147 [==============================] - 0s 1ms/step\n",
            "484/484 [==============================] - 1s 1ms/step\n",
            "147/147 [==============================] - 0s 1ms/step\n",
            "R^2: 0.9875687569971402\n",
            "MAE: 14.246439770858219\n"
          ]
        }
      ],
      "source": [
        "pred = predict_with_nn_model(df)\n",
        "pred.head()\n",
        "\n",
        "# Extracting the actual and predicted values from the DataFrame\n",
        "actual_values = pred[\"arrival_delay\"].values\n",
        "predicted_values = pred[\"predicted_delay\"].values\n",
        "\n",
        "# Computing R^2\n",
        "r2 = r2_score(actual_values, predicted_values)\n",
        "\n",
        "# Computing MAE\n",
        "mae = mean_absolute_error(actual_values, predicted_values)\n",
        "\n",
        "print(f\"R^2: {r2}\")\n",
        "print(f\"MAE: {mae}\")\n",
        "\n"
      ]
    },
    {
      "cell_type": "code",
      "execution_count": null,
      "id": "5602b97a",
      "metadata": {
        "id": "5602b97a"
      },
      "outputs": [],
      "source": [
        "results_df = train_and_evaluate_best_models(df)\n",
        "print(results_df)"
      ]
    },
    {
      "cell_type": "markdown",
      "id": "e2a3e1a1",
      "metadata": {
        "id": "e2a3e1a1"
      },
      "source": [
        "# NN vs LR"
      ]
    },
    {
      "cell_type": "code",
      "execution_count": null,
      "id": "40b04243",
      "metadata": {
        "colab": {
          "base_uri": "https://localhost:8080/"
        },
        "id": "40b04243",
        "outputId": "106e4d77-9720-485c-b15e-1621f161bece"
      },
      "outputs": [
        {
          "metadata": {
            "tags": null
          },
          "name": "stdout",
          "output_type": "stream",
          "text": [
            "Processing stop_sequence 1 for weekday...\n",
            "Running Fold 1...\n",
            "Training Linear Regression...\n",
            "Running Fold 2...\n",
            "Training Linear Regression...\n",
            "Running Fold 3...\n",
            "Training Linear Regression...\n",
            "Running Fold 4...\n",
            "Training Linear Regression...\n",
            "Running Fold 5...\n",
            "Training Linear Regression...\n",
            "Processing stop_sequence 1 for weekend...\n",
            "Running Fold 1...\n",
            "Training Linear Regression...\n",
            "Running Fold 2...\n",
            "Training Linear Regression...\n",
            "Running Fold 3...\n",
            "Training Linear Regression...\n",
            "Running Fold 4...\n",
            "Training Linear Regression...\n",
            "Running Fold 5...\n",
            "Training Linear Regression...\n",
            "Processing stop_sequence 5 for weekday...\n",
            "Running Fold 1...\n",
            "Training Linear Regression...\n",
            "Running Fold 2...\n",
            "Training Linear Regression...\n",
            "Running Fold 3...\n",
            "Training Linear Regression...\n",
            "Running Fold 4...\n",
            "Training Linear Regression...\n",
            "Running Fold 5...\n",
            "Training Linear Regression...\n",
            "Processing stop_sequence 5 for weekend...\n",
            "Running Fold 1...\n",
            "Training Linear Regression...\n",
            "Running Fold 2...\n",
            "Training Linear Regression...\n",
            "Running Fold 3...\n",
            "Training Linear Regression...\n",
            "Running Fold 4...\n",
            "Training Linear Regression...\n",
            "Running Fold 5...\n",
            "Training Linear Regression...\n",
            "Processing stop_sequence 8 for weekday...\n",
            "Running Fold 1...\n",
            "Training Linear Regression...\n",
            "Running Fold 2...\n",
            "Training Linear Regression...\n",
            "Running Fold 3...\n",
            "Training Linear Regression...\n",
            "Running Fold 4...\n",
            "Training Linear Regression...\n",
            "Running Fold 5...\n",
            "Training Linear Regression...\n",
            "Processing stop_sequence 8 for weekend...\n",
            "Running Fold 1...\n",
            "Training Linear Regression...\n",
            "Running Fold 2...\n",
            "Training Linear Regression...\n",
            "Running Fold 3...\n",
            "Training Linear Regression...\n",
            "Running Fold 4...\n",
            "Training Linear Regression...\n",
            "Running Fold 5...\n",
            "Training Linear Regression...\n",
            "Processing stop_sequence 12 for weekday...\n",
            "Running Fold 1...\n",
            "Training Linear Regression...\n",
            "Running Fold 2...\n",
            "Training Linear Regression...\n",
            "Running Fold 3...\n",
            "Training Linear Regression...\n",
            "Running Fold 4...\n",
            "Training Linear Regression...\n",
            "Running Fold 5...\n",
            "Training Linear Regression...\n",
            "Processing stop_sequence 12 for weekend...\n",
            "Running Fold 1...\n",
            "Training Linear Regression...\n",
            "Running Fold 2...\n",
            "Training Linear Regression...\n",
            "Running Fold 3...\n",
            "Training Linear Regression...\n",
            "Running Fold 4...\n",
            "Training Linear Regression...\n",
            "Running Fold 5...\n",
            "Training Linear Regression...\n",
            "Processing stop_sequence 14 for weekday...\n",
            "Running Fold 1...\n",
            "Training Linear Regression...\n",
            "Running Fold 2...\n",
            "Training Linear Regression...\n",
            "Running Fold 3...\n",
            "Training Linear Regression...\n",
            "Running Fold 4...\n",
            "Training Linear Regression...\n",
            "Running Fold 5...\n",
            "Training Linear Regression...\n",
            "Processing stop_sequence 14 for weekend...\n",
            "Running Fold 1...\n",
            "Training Linear Regression...\n",
            "Running Fold 2...\n",
            "Training Linear Regression...\n",
            "Running Fold 3...\n",
            "Training Linear Regression...\n",
            "Running Fold 4...\n",
            "Training Linear Regression...\n",
            "Running Fold 5...\n",
            "Training Linear Regression...\n",
            "Processing stop_sequence 16 for weekday...\n",
            "Running Fold 1...\n",
            "Training Linear Regression...\n",
            "Running Fold 2...\n",
            "Training Linear Regression...\n",
            "Running Fold 3...\n",
            "Training Linear Regression...\n",
            "Running Fold 4...\n",
            "Training Linear Regression...\n",
            "Running Fold 5...\n",
            "Training Linear Regression...\n",
            "Processing stop_sequence 16 for weekend...\n",
            "Running Fold 1...\n",
            "Training Linear Regression...\n",
            "Running Fold 2...\n",
            "Training Linear Regression...\n",
            "Running Fold 3...\n",
            "Training Linear Regression...\n",
            "Running Fold 4...\n",
            "Training Linear Regression...\n",
            "Running Fold 5...\n",
            "Training Linear Regression...\n",
            "Processing stop_sequence 20 for weekday...\n",
            "Running Fold 1...\n",
            "Training Linear Regression...\n",
            "Running Fold 2...\n",
            "Training Linear Regression...\n",
            "Running Fold 3...\n",
            "Training Linear Regression...\n",
            "Running Fold 4...\n",
            "Training Linear Regression...\n",
            "Running Fold 5...\n",
            "Training Linear Regression...\n",
            "Processing stop_sequence 20 for weekend...\n",
            "Running Fold 1...\n",
            "Training Linear Regression...\n",
            "Running Fold 2...\n",
            "Training Linear Regression...\n",
            "Running Fold 3...\n",
            "Training Linear Regression...\n",
            "Running Fold 4...\n",
            "Training Linear Regression...\n",
            "Running Fold 5...\n",
            "Training Linear Regression...\n",
            "Processing stop_sequence 21 for weekday...\n",
            "Running Fold 1...\n",
            "Training Linear Regression...\n",
            "Running Fold 2...\n",
            "Training Linear Regression...\n",
            "Running Fold 3...\n",
            "Training Linear Regression...\n",
            "Running Fold 4...\n",
            "Training Linear Regression...\n",
            "Running Fold 5...\n",
            "Training Linear Regression...\n",
            "Processing stop_sequence 21 for weekend...\n",
            "Running Fold 1...\n",
            "Training Linear Regression...\n",
            "Running Fold 2...\n",
            "Training Linear Regression...\n",
            "Running Fold 3...\n",
            "Training Linear Regression...\n",
            "Running Fold 4...\n",
            "Training Linear Regression...\n",
            "Running Fold 5...\n",
            "Training Linear Regression...\n",
            "Processing stop_sequence 23 for weekday...\n",
            "Running Fold 1...\n",
            "Training Linear Regression...\n",
            "Running Fold 2...\n",
            "Training Linear Regression...\n",
            "Running Fold 3...\n",
            "Training Linear Regression...\n",
            "Running Fold 4...\n",
            "Training Linear Regression...\n",
            "Running Fold 5...\n",
            "Training Linear Regression...\n",
            "Processing stop_sequence 23 for weekend...\n",
            "Running Fold 1...\n",
            "Training Linear Regression...\n",
            "Running Fold 2...\n",
            "Training Linear Regression...\n",
            "Running Fold 3...\n",
            "Training Linear Regression...\n",
            "Running Fold 4...\n",
            "Training Linear Regression...\n",
            "Running Fold 5...\n",
            "Training Linear Regression...\n",
            "Processing stop_sequence 1 for weekday...\n",
            "Running Fold 1...\n",
            "Training Neural Network...\n",
            "78/78 [==============================] - 0s 2ms/step\n",
            "Running Fold 2...\n",
            "Training Neural Network...\n"
          ]
        },
        {
          "metadata": {
            "tags": null
          },
          "name": "stderr",
          "output_type": "stream",
          "text": [
            "/usr/local/lib/python3.10/dist-packages/keras/src/engine/training.py:3000: UserWarning: You are saving your model as an HDF5 file via `model.save()`. This file format is considered legacy. We recommend using instead the native Keras format, e.g. `model.save('my_model.keras')`.\n",
            "  saving_api.save_model(\n"
          ]
        },
        {
          "metadata": {
            "tags": null
          },
          "name": "stdout",
          "output_type": "stream",
          "text": [
            "78/78 [==============================] - 0s 2ms/step\n",
            "Running Fold 3...\n",
            "Training Neural Network...\n"
          ]
        },
        {
          "metadata": {
            "tags": null
          },
          "name": "stderr",
          "output_type": "stream",
          "text": [
            "/usr/local/lib/python3.10/dist-packages/keras/src/engine/training.py:3000: UserWarning: You are saving your model as an HDF5 file via `model.save()`. This file format is considered legacy. We recommend using instead the native Keras format, e.g. `model.save('my_model.keras')`.\n",
            "  saving_api.save_model(\n"
          ]
        },
        {
          "metadata": {
            "tags": null
          },
          "name": "stdout",
          "output_type": "stream",
          "text": [
            "78/78 [==============================] - 0s 2ms/step\n",
            "Running Fold 4...\n",
            "Training Neural Network...\n"
          ]
        },
        {
          "metadata": {
            "tags": null
          },
          "name": "stderr",
          "output_type": "stream",
          "text": [
            "/usr/local/lib/python3.10/dist-packages/keras/src/engine/training.py:3000: UserWarning: You are saving your model as an HDF5 file via `model.save()`. This file format is considered legacy. We recommend using instead the native Keras format, e.g. `model.save('my_model.keras')`.\n",
            "  saving_api.save_model(\n"
          ]
        },
        {
          "metadata": {
            "tags": null
          },
          "name": "stdout",
          "output_type": "stream",
          "text": [
            "78/78 [==============================] - 0s 2ms/step\n",
            "Running Fold 5...\n",
            "Training Neural Network...\n"
          ]
        },
        {
          "metadata": {
            "tags": null
          },
          "name": "stderr",
          "output_type": "stream",
          "text": [
            "/usr/local/lib/python3.10/dist-packages/keras/src/engine/training.py:3000: UserWarning: You are saving your model as an HDF5 file via `model.save()`. This file format is considered legacy. We recommend using instead the native Keras format, e.g. `model.save('my_model.keras')`.\n",
            "  saving_api.save_model(\n"
          ]
        },
        {
          "metadata": {
            "tags": null
          },
          "name": "stdout",
          "output_type": "stream",
          "text": [
            "78/78 [==============================] - 0s 1ms/step\n",
            "Processing stop_sequence 1 for weekend...\n",
            "Running Fold 1...\n",
            "Training Neural Network...\n"
          ]
        },
        {
          "metadata": {
            "tags": null
          },
          "name": "stderr",
          "output_type": "stream",
          "text": [
            "/usr/local/lib/python3.10/dist-packages/keras/src/engine/training.py:3000: UserWarning: You are saving your model as an HDF5 file via `model.save()`. This file format is considered legacy. We recommend using instead the native Keras format, e.g. `model.save('my_model.keras')`.\n",
            "  saving_api.save_model(\n"
          ]
        },
        {
          "metadata": {
            "tags": null
          },
          "name": "stdout",
          "output_type": "stream",
          "text": [
            "24/24 [==============================] - 0s 2ms/step\n",
            "Running Fold 2...\n",
            "Training Neural Network...\n"
          ]
        },
        {
          "metadata": {
            "tags": null
          },
          "name": "stderr",
          "output_type": "stream",
          "text": [
            "/usr/local/lib/python3.10/dist-packages/keras/src/engine/training.py:3000: UserWarning: You are saving your model as an HDF5 file via `model.save()`. This file format is considered legacy. We recommend using instead the native Keras format, e.g. `model.save('my_model.keras')`.\n",
            "  saving_api.save_model(\n"
          ]
        },
        {
          "metadata": {
            "tags": null
          },
          "name": "stdout",
          "output_type": "stream",
          "text": [
            "24/24 [==============================] - 0s 1ms/step\n",
            "Running Fold 3...\n",
            "Training Neural Network...\n"
          ]
        },
        {
          "metadata": {
            "tags": null
          },
          "name": "stderr",
          "output_type": "stream",
          "text": [
            "/usr/local/lib/python3.10/dist-packages/keras/src/engine/training.py:3000: UserWarning: You are saving your model as an HDF5 file via `model.save()`. This file format is considered legacy. We recommend using instead the native Keras format, e.g. `model.save('my_model.keras')`.\n",
            "  saving_api.save_model(\n"
          ]
        },
        {
          "metadata": {
            "tags": null
          },
          "name": "stdout",
          "output_type": "stream",
          "text": [
            "24/24 [==============================] - 0s 2ms/step\n",
            "Running Fold 4...\n",
            "Training Neural Network...\n"
          ]
        },
        {
          "metadata": {
            "tags": null
          },
          "name": "stderr",
          "output_type": "stream",
          "text": [
            "/usr/local/lib/python3.10/dist-packages/keras/src/engine/training.py:3000: UserWarning: You are saving your model as an HDF5 file via `model.save()`. This file format is considered legacy. We recommend using instead the native Keras format, e.g. `model.save('my_model.keras')`.\n",
            "  saving_api.save_model(\n"
          ]
        },
        {
          "metadata": {
            "tags": null
          },
          "name": "stdout",
          "output_type": "stream",
          "text": [
            "24/24 [==============================] - 0s 2ms/step\n",
            "Running Fold 5...\n",
            "Training Neural Network...\n"
          ]
        },
        {
          "metadata": {
            "tags": null
          },
          "name": "stderr",
          "output_type": "stream",
          "text": [
            "/usr/local/lib/python3.10/dist-packages/keras/src/engine/training.py:3000: UserWarning: You are saving your model as an HDF5 file via `model.save()`. This file format is considered legacy. We recommend using instead the native Keras format, e.g. `model.save('my_model.keras')`.\n",
            "  saving_api.save_model(\n"
          ]
        },
        {
          "metadata": {
            "tags": null
          },
          "name": "stdout",
          "output_type": "stream",
          "text": [
            "24/24 [==============================] - 0s 2ms/step\n",
            "Processing stop_sequence 5 for weekday...\n",
            "Running Fold 1...\n",
            "Training Neural Network...\n"
          ]
        },
        {
          "metadata": {
            "tags": null
          },
          "name": "stderr",
          "output_type": "stream",
          "text": [
            "/usr/local/lib/python3.10/dist-packages/keras/src/engine/training.py:3000: UserWarning: You are saving your model as an HDF5 file via `model.save()`. This file format is considered legacy. We recommend using instead the native Keras format, e.g. `model.save('my_model.keras')`.\n",
            "  saving_api.save_model(\n"
          ]
        },
        {
          "metadata": {
            "tags": null
          },
          "name": "stdout",
          "output_type": "stream",
          "text": [
            "78/78 [==============================] - 0s 1ms/step\n",
            "Running Fold 2...\n",
            "Training Neural Network...\n"
          ]
        },
        {
          "metadata": {
            "tags": null
          },
          "name": "stderr",
          "output_type": "stream",
          "text": [
            "/usr/local/lib/python3.10/dist-packages/keras/src/engine/training.py:3000: UserWarning: You are saving your model as an HDF5 file via `model.save()`. This file format is considered legacy. We recommend using instead the native Keras format, e.g. `model.save('my_model.keras')`.\n",
            "  saving_api.save_model(\n"
          ]
        },
        {
          "metadata": {
            "tags": null
          },
          "name": "stdout",
          "output_type": "stream",
          "text": [
            "78/78 [==============================] - 0s 3ms/step\n",
            "Running Fold 3...\n",
            "Training Neural Network...\n"
          ]
        },
        {
          "metadata": {
            "tags": null
          },
          "name": "stderr",
          "output_type": "stream",
          "text": [
            "/usr/local/lib/python3.10/dist-packages/keras/src/engine/training.py:3000: UserWarning: You are saving your model as an HDF5 file via `model.save()`. This file format is considered legacy. We recommend using instead the native Keras format, e.g. `model.save('my_model.keras')`.\n",
            "  saving_api.save_model(\n"
          ]
        },
        {
          "metadata": {
            "tags": null
          },
          "name": "stdout",
          "output_type": "stream",
          "text": [
            "78/78 [==============================] - 0s 2ms/step\n",
            "Running Fold 4...\n",
            "Training Neural Network...\n"
          ]
        },
        {
          "metadata": {
            "tags": null
          },
          "name": "stderr",
          "output_type": "stream",
          "text": [
            "/usr/local/lib/python3.10/dist-packages/keras/src/engine/training.py:3000: UserWarning: You are saving your model as an HDF5 file via `model.save()`. This file format is considered legacy. We recommend using instead the native Keras format, e.g. `model.save('my_model.keras')`.\n",
            "  saving_api.save_model(\n"
          ]
        },
        {
          "metadata": {
            "tags": null
          },
          "name": "stdout",
          "output_type": "stream",
          "text": [
            "78/78 [==============================] - 0s 2ms/step\n",
            "Running Fold 5...\n"
          ]
        },
        {
          "metadata": {
            "tags": null
          },
          "name": "stderr",
          "output_type": "stream",
          "text": [
            "/usr/local/lib/python3.10/dist-packages/keras/src/engine/training.py:3000: UserWarning: You are saving your model as an HDF5 file via `model.save()`. This file format is considered legacy. We recommend using instead the native Keras format, e.g. `model.save('my_model.keras')`.\n",
            "  saving_api.save_model(\n"
          ]
        },
        {
          "metadata": {
            "tags": null
          },
          "name": "stdout",
          "output_type": "stream",
          "text": [
            "Training Neural Network...\n",
            "78/78 [==============================] - 0s 2ms/step\n"
          ]
        },
        {
          "metadata": {
            "tags": null
          },
          "name": "stderr",
          "output_type": "stream",
          "text": [
            "/usr/local/lib/python3.10/dist-packages/keras/src/engine/training.py:3000: UserWarning: You are saving your model as an HDF5 file via `model.save()`. This file format is considered legacy. We recommend using instead the native Keras format, e.g. `model.save('my_model.keras')`.\n",
            "  saving_api.save_model(\n"
          ]
        },
        {
          "metadata": {
            "tags": null
          },
          "name": "stdout",
          "output_type": "stream",
          "text": [
            "Processing stop_sequence 5 for weekend...\n",
            "Running Fold 1...\n",
            "Training Neural Network...\n",
            "24/24 [==============================] - 0s 2ms/step\n",
            "Running Fold 2...\n",
            "Training Neural Network...\n"
          ]
        },
        {
          "metadata": {
            "tags": null
          },
          "name": "stderr",
          "output_type": "stream",
          "text": [
            "/usr/local/lib/python3.10/dist-packages/keras/src/engine/training.py:3000: UserWarning: You are saving your model as an HDF5 file via `model.save()`. This file format is considered legacy. We recommend using instead the native Keras format, e.g. `model.save('my_model.keras')`.\n",
            "  saving_api.save_model(\n"
          ]
        },
        {
          "metadata": {
            "tags": null
          },
          "name": "stdout",
          "output_type": "stream",
          "text": [
            "24/24 [==============================] - 0s 2ms/step\n",
            "Running Fold 3...\n",
            "Training Neural Network...\n"
          ]
        },
        {
          "metadata": {
            "tags": null
          },
          "name": "stderr",
          "output_type": "stream",
          "text": [
            "/usr/local/lib/python3.10/dist-packages/keras/src/engine/training.py:3000: UserWarning: You are saving your model as an HDF5 file via `model.save()`. This file format is considered legacy. We recommend using instead the native Keras format, e.g. `model.save('my_model.keras')`.\n",
            "  saving_api.save_model(\n"
          ]
        },
        {
          "metadata": {
            "tags": null
          },
          "name": "stdout",
          "output_type": "stream",
          "text": [
            "24/24 [==============================] - 0s 1ms/step\n",
            "Running Fold 4...\n",
            "Training Neural Network...\n"
          ]
        },
        {
          "metadata": {
            "tags": null
          },
          "name": "stderr",
          "output_type": "stream",
          "text": [
            "/usr/local/lib/python3.10/dist-packages/keras/src/engine/training.py:3000: UserWarning: You are saving your model as an HDF5 file via `model.save()`. This file format is considered legacy. We recommend using instead the native Keras format, e.g. `model.save('my_model.keras')`.\n",
            "  saving_api.save_model(\n"
          ]
        },
        {
          "metadata": {
            "tags": null
          },
          "name": "stdout",
          "output_type": "stream",
          "text": [
            "24/24 [==============================] - 0s 2ms/step\n",
            "Running Fold 5...\n",
            "Training Neural Network...\n"
          ]
        },
        {
          "metadata": {
            "tags": null
          },
          "name": "stderr",
          "output_type": "stream",
          "text": [
            "/usr/local/lib/python3.10/dist-packages/keras/src/engine/training.py:3000: UserWarning: You are saving your model as an HDF5 file via `model.save()`. This file format is considered legacy. We recommend using instead the native Keras format, e.g. `model.save('my_model.keras')`.\n",
            "  saving_api.save_model(\n"
          ]
        },
        {
          "metadata": {
            "tags": null
          },
          "name": "stdout",
          "output_type": "stream",
          "text": [
            "24/24 [==============================] - 0s 1ms/step\n",
            "Processing stop_sequence 8 for weekday...\n",
            "Running Fold 1...\n",
            "Training Neural Network...\n"
          ]
        },
        {
          "metadata": {
            "tags": null
          },
          "name": "stderr",
          "output_type": "stream",
          "text": [
            "/usr/local/lib/python3.10/dist-packages/keras/src/engine/training.py:3000: UserWarning: You are saving your model as an HDF5 file via `model.save()`. This file format is considered legacy. We recommend using instead the native Keras format, e.g. `model.save('my_model.keras')`.\n",
            "  saving_api.save_model(\n"
          ]
        },
        {
          "metadata": {
            "tags": null
          },
          "name": "stdout",
          "output_type": "stream",
          "text": [
            "78/78 [==============================] - 0s 1ms/step\n",
            "Running Fold 2...\n",
            "Training Neural Network...\n"
          ]
        },
        {
          "metadata": {
            "tags": null
          },
          "name": "stderr",
          "output_type": "stream",
          "text": [
            "/usr/local/lib/python3.10/dist-packages/keras/src/engine/training.py:3000: UserWarning: You are saving your model as an HDF5 file via `model.save()`. This file format is considered legacy. We recommend using instead the native Keras format, e.g. `model.save('my_model.keras')`.\n",
            "  saving_api.save_model(\n"
          ]
        },
        {
          "metadata": {
            "tags": null
          },
          "name": "stdout",
          "output_type": "stream",
          "text": [
            "78/78 [==============================] - 0s 1ms/step\n",
            "Running Fold 3...\n",
            "Training Neural Network...\n"
          ]
        },
        {
          "metadata": {
            "tags": null
          },
          "name": "stderr",
          "output_type": "stream",
          "text": [
            "/usr/local/lib/python3.10/dist-packages/keras/src/engine/training.py:3000: UserWarning: You are saving your model as an HDF5 file via `model.save()`. This file format is considered legacy. We recommend using instead the native Keras format, e.g. `model.save('my_model.keras')`.\n",
            "  saving_api.save_model(\n"
          ]
        },
        {
          "metadata": {
            "tags": null
          },
          "name": "stdout",
          "output_type": "stream",
          "text": [
            "78/78 [==============================] - 0s 2ms/step\n",
            "Running Fold 4...\n",
            "Training Neural Network...\n"
          ]
        },
        {
          "metadata": {
            "tags": null
          },
          "name": "stderr",
          "output_type": "stream",
          "text": [
            "/usr/local/lib/python3.10/dist-packages/keras/src/engine/training.py:3000: UserWarning: You are saving your model as an HDF5 file via `model.save()`. This file format is considered legacy. We recommend using instead the native Keras format, e.g. `model.save('my_model.keras')`.\n",
            "  saving_api.save_model(\n"
          ]
        },
        {
          "output_type": "stream",
          "name": "stdout",
          "text": [
            "78/78 [==============================] - 0s 1ms/step\n",
            "Running Fold 5...\n",
            "Training Neural Network...\n"
          ]
        },
        {
          "output_type": "stream",
          "name": "stderr",
          "text": [
            "/usr/local/lib/python3.10/dist-packages/keras/src/engine/training.py:3000: UserWarning: You are saving your model as an HDF5 file via `model.save()`. This file format is considered legacy. We recommend using instead the native Keras format, e.g. `model.save('my_model.keras')`.\n",
            "  saving_api.save_model(\n"
          ]
        },
        {
          "output_type": "stream",
          "name": "stdout",
          "text": [
            "78/78 [==============================] - 0s 2ms/step\n",
            "Processing stop_sequence 8 for weekend...\n",
            "Running Fold 1...\n",
            "Training Neural Network...\n"
          ]
        },
        {
          "output_type": "stream",
          "name": "stderr",
          "text": [
            "/usr/local/lib/python3.10/dist-packages/keras/src/engine/training.py:3000: UserWarning: You are saving your model as an HDF5 file via `model.save()`. This file format is considered legacy. We recommend using instead the native Keras format, e.g. `model.save('my_model.keras')`.\n",
            "  saving_api.save_model(\n"
          ]
        },
        {
          "output_type": "stream",
          "name": "stdout",
          "text": [
            "24/24 [==============================] - 0s 2ms/step\n",
            "Running Fold 2...\n",
            "Training Neural Network...\n"
          ]
        },
        {
          "output_type": "stream",
          "name": "stderr",
          "text": [
            "/usr/local/lib/python3.10/dist-packages/keras/src/engine/training.py:3000: UserWarning: You are saving your model as an HDF5 file via `model.save()`. This file format is considered legacy. We recommend using instead the native Keras format, e.g. `model.save('my_model.keras')`.\n",
            "  saving_api.save_model(\n"
          ]
        },
        {
          "output_type": "stream",
          "name": "stdout",
          "text": [
            "24/24 [==============================] - 0s 2ms/step\n",
            "Running Fold 3...\n",
            "Training Neural Network...\n"
          ]
        },
        {
          "output_type": "stream",
          "name": "stderr",
          "text": [
            "/usr/local/lib/python3.10/dist-packages/keras/src/engine/training.py:3000: UserWarning: You are saving your model as an HDF5 file via `model.save()`. This file format is considered legacy. We recommend using instead the native Keras format, e.g. `model.save('my_model.keras')`.\n",
            "  saving_api.save_model(\n"
          ]
        },
        {
          "output_type": "stream",
          "name": "stdout",
          "text": [
            "24/24 [==============================] - 0s 2ms/step\n",
            "Running Fold 4...\n",
            "Training Neural Network...\n"
          ]
        },
        {
          "output_type": "stream",
          "name": "stderr",
          "text": [
            "/usr/local/lib/python3.10/dist-packages/keras/src/engine/training.py:3000: UserWarning: You are saving your model as an HDF5 file via `model.save()`. This file format is considered legacy. We recommend using instead the native Keras format, e.g. `model.save('my_model.keras')`.\n",
            "  saving_api.save_model(\n"
          ]
        },
        {
          "output_type": "stream",
          "name": "stdout",
          "text": [
            "24/24 [==============================] - 0s 1ms/step\n",
            "Running Fold 5...\n",
            "Training Neural Network...\n"
          ]
        },
        {
          "output_type": "stream",
          "name": "stderr",
          "text": [
            "/usr/local/lib/python3.10/dist-packages/keras/src/engine/training.py:3000: UserWarning: You are saving your model as an HDF5 file via `model.save()`. This file format is considered legacy. We recommend using instead the native Keras format, e.g. `model.save('my_model.keras')`.\n",
            "  saving_api.save_model(\n"
          ]
        },
        {
          "output_type": "stream",
          "name": "stdout",
          "text": [
            "24/24 [==============================] - 0s 2ms/step\n",
            "Processing stop_sequence 12 for weekday...\n",
            "Running Fold 1...\n",
            "Training Neural Network...\n"
          ]
        },
        {
          "output_type": "stream",
          "name": "stderr",
          "text": [
            "/usr/local/lib/python3.10/dist-packages/keras/src/engine/training.py:3000: UserWarning: You are saving your model as an HDF5 file via `model.save()`. This file format is considered legacy. We recommend using instead the native Keras format, e.g. `model.save('my_model.keras')`.\n",
            "  saving_api.save_model(\n"
          ]
        },
        {
          "output_type": "stream",
          "name": "stdout",
          "text": [
            "78/78 [==============================] - 0s 1ms/step\n",
            "Running Fold 2...\n",
            "Training Neural Network...\n"
          ]
        },
        {
          "output_type": "stream",
          "name": "stderr",
          "text": [
            "/usr/local/lib/python3.10/dist-packages/keras/src/engine/training.py:3000: UserWarning: You are saving your model as an HDF5 file via `model.save()`. This file format is considered legacy. We recommend using instead the native Keras format, e.g. `model.save('my_model.keras')`.\n",
            "  saving_api.save_model(\n"
          ]
        },
        {
          "output_type": "stream",
          "name": "stdout",
          "text": [
            "78/78 [==============================] - 0s 2ms/step\n",
            "Running Fold 3...\n",
            "Training Neural Network...\n"
          ]
        },
        {
          "output_type": "stream",
          "name": "stderr",
          "text": [
            "/usr/local/lib/python3.10/dist-packages/keras/src/engine/training.py:3000: UserWarning: You are saving your model as an HDF5 file via `model.save()`. This file format is considered legacy. We recommend using instead the native Keras format, e.g. `model.save('my_model.keras')`.\n",
            "  saving_api.save_model(\n"
          ]
        },
        {
          "output_type": "stream",
          "name": "stdout",
          "text": [
            "78/78 [==============================] - 0s 2ms/step\n",
            "Running Fold 4...\n",
            "Training Neural Network...\n"
          ]
        },
        {
          "output_type": "stream",
          "name": "stderr",
          "text": [
            "/usr/local/lib/python3.10/dist-packages/keras/src/engine/training.py:3000: UserWarning: You are saving your model as an HDF5 file via `model.save()`. This file format is considered legacy. We recommend using instead the native Keras format, e.g. `model.save('my_model.keras')`.\n",
            "  saving_api.save_model(\n"
          ]
        },
        {
          "output_type": "stream",
          "name": "stdout",
          "text": [
            "78/78 [==============================] - 0s 2ms/step\n",
            "Running Fold 5...\n",
            "Training Neural Network...\n"
          ]
        },
        {
          "output_type": "stream",
          "name": "stderr",
          "text": [
            "/usr/local/lib/python3.10/dist-packages/keras/src/engine/training.py:3000: UserWarning: You are saving your model as an HDF5 file via `model.save()`. This file format is considered legacy. We recommend using instead the native Keras format, e.g. `model.save('my_model.keras')`.\n",
            "  saving_api.save_model(\n"
          ]
        },
        {
          "output_type": "stream",
          "name": "stdout",
          "text": [
            "78/78 [==============================] - 0s 2ms/step\n",
            "Processing stop_sequence 12 for weekend...\n",
            "Running Fold 1...\n",
            "Training Neural Network...\n"
          ]
        },
        {
          "output_type": "stream",
          "name": "stderr",
          "text": [
            "/usr/local/lib/python3.10/dist-packages/keras/src/engine/training.py:3000: UserWarning: You are saving your model as an HDF5 file via `model.save()`. This file format is considered legacy. We recommend using instead the native Keras format, e.g. `model.save('my_model.keras')`.\n",
            "  saving_api.save_model(\n"
          ]
        },
        {
          "output_type": "stream",
          "name": "stdout",
          "text": [
            "24/24 [==============================] - 0s 2ms/step\n",
            "Running Fold 2...\n",
            "Training Neural Network...\n"
          ]
        },
        {
          "output_type": "stream",
          "name": "stderr",
          "text": [
            "/usr/local/lib/python3.10/dist-packages/keras/src/engine/training.py:3000: UserWarning: You are saving your model as an HDF5 file via `model.save()`. This file format is considered legacy. We recommend using instead the native Keras format, e.g. `model.save('my_model.keras')`.\n",
            "  saving_api.save_model(\n"
          ]
        },
        {
          "output_type": "stream",
          "name": "stdout",
          "text": [
            "24/24 [==============================] - 0s 1ms/step\n",
            "Running Fold 3...\n",
            "Training Neural Network...\n"
          ]
        },
        {
          "output_type": "stream",
          "name": "stderr",
          "text": [
            "/usr/local/lib/python3.10/dist-packages/keras/src/engine/training.py:3000: UserWarning: You are saving your model as an HDF5 file via `model.save()`. This file format is considered legacy. We recommend using instead the native Keras format, e.g. `model.save('my_model.keras')`.\n",
            "  saving_api.save_model(\n"
          ]
        },
        {
          "output_type": "stream",
          "name": "stdout",
          "text": [
            "24/24 [==============================] - 0s 2ms/step\n",
            "Running Fold 4...\n",
            "Training Neural Network...\n"
          ]
        },
        {
          "output_type": "stream",
          "name": "stderr",
          "text": [
            "/usr/local/lib/python3.10/dist-packages/keras/src/engine/training.py:3000: UserWarning: You are saving your model as an HDF5 file via `model.save()`. This file format is considered legacy. We recommend using instead the native Keras format, e.g. `model.save('my_model.keras')`.\n",
            "  saving_api.save_model(\n"
          ]
        },
        {
          "output_type": "stream",
          "name": "stdout",
          "text": [
            "24/24 [==============================] - 0s 2ms/step\n",
            "Running Fold 5...\n",
            "Training Neural Network...\n"
          ]
        },
        {
          "output_type": "stream",
          "name": "stderr",
          "text": [
            "/usr/local/lib/python3.10/dist-packages/keras/src/engine/training.py:3000: UserWarning: You are saving your model as an HDF5 file via `model.save()`. This file format is considered legacy. We recommend using instead the native Keras format, e.g. `model.save('my_model.keras')`.\n",
            "  saving_api.save_model(\n"
          ]
        },
        {
          "output_type": "stream",
          "name": "stdout",
          "text": [
            "24/24 [==============================] - 0s 2ms/step\n",
            "Processing stop_sequence 14 for weekday...\n",
            "Running Fold 1...\n",
            "Training Neural Network...\n"
          ]
        },
        {
          "output_type": "stream",
          "name": "stderr",
          "text": [
            "/usr/local/lib/python3.10/dist-packages/keras/src/engine/training.py:3000: UserWarning: You are saving your model as an HDF5 file via `model.save()`. This file format is considered legacy. We recommend using instead the native Keras format, e.g. `model.save('my_model.keras')`.\n",
            "  saving_api.save_model(\n"
          ]
        },
        {
          "output_type": "stream",
          "name": "stdout",
          "text": [
            "78/78 [==============================] - 0s 1ms/step\n",
            "Running Fold 2...\n",
            "Training Neural Network...\n"
          ]
        },
        {
          "output_type": "stream",
          "name": "stderr",
          "text": [
            "/usr/local/lib/python3.10/dist-packages/keras/src/engine/training.py:3000: UserWarning: You are saving your model as an HDF5 file via `model.save()`. This file format is considered legacy. We recommend using instead the native Keras format, e.g. `model.save('my_model.keras')`.\n",
            "  saving_api.save_model(\n"
          ]
        },
        {
          "output_type": "stream",
          "name": "stdout",
          "text": [
            "78/78 [==============================] - 0s 1ms/step\n",
            "Running Fold 3...\n",
            "Training Neural Network...\n"
          ]
        },
        {
          "output_type": "stream",
          "name": "stderr",
          "text": [
            "/usr/local/lib/python3.10/dist-packages/keras/src/engine/training.py:3000: UserWarning: You are saving your model as an HDF5 file via `model.save()`. This file format is considered legacy. We recommend using instead the native Keras format, e.g. `model.save('my_model.keras')`.\n",
            "  saving_api.save_model(\n"
          ]
        },
        {
          "output_type": "stream",
          "name": "stdout",
          "text": [
            "78/78 [==============================] - 0s 2ms/step\n",
            "Running Fold 4...\n",
            "Training Neural Network...\n"
          ]
        },
        {
          "output_type": "stream",
          "name": "stderr",
          "text": [
            "/usr/local/lib/python3.10/dist-packages/keras/src/engine/training.py:3000: UserWarning: You are saving your model as an HDF5 file via `model.save()`. This file format is considered legacy. We recommend using instead the native Keras format, e.g. `model.save('my_model.keras')`.\n",
            "  saving_api.save_model(\n"
          ]
        },
        {
          "output_type": "stream",
          "name": "stdout",
          "text": [
            "78/78 [==============================] - 0s 2ms/step\n"
          ]
        },
        {
          "output_type": "stream",
          "name": "stderr",
          "text": [
            "/usr/local/lib/python3.10/dist-packages/keras/src/engine/training.py:3000: UserWarning: You are saving your model as an HDF5 file via `model.save()`. This file format is considered legacy. We recommend using instead the native Keras format, e.g. `model.save('my_model.keras')`.\n",
            "  saving_api.save_model(\n"
          ]
        },
        {
          "output_type": "stream",
          "name": "stdout",
          "text": [
            "Running Fold 5...\n",
            "Training Neural Network...\n",
            "78/78 [==============================] - 0s 2ms/step\n"
          ]
        },
        {
          "output_type": "stream",
          "name": "stderr",
          "text": [
            "/usr/local/lib/python3.10/dist-packages/keras/src/engine/training.py:3000: UserWarning: You are saving your model as an HDF5 file via `model.save()`. This file format is considered legacy. We recommend using instead the native Keras format, e.g. `model.save('my_model.keras')`.\n",
            "  saving_api.save_model(\n"
          ]
        },
        {
          "output_type": "stream",
          "name": "stdout",
          "text": [
            "Processing stop_sequence 14 for weekend...\n",
            "Running Fold 1...\n",
            "Training Neural Network...\n",
            "24/24 [==============================] - 0s 2ms/step\n",
            "Running Fold 2...\n",
            "Training Neural Network...\n"
          ]
        },
        {
          "output_type": "stream",
          "name": "stderr",
          "text": [
            "/usr/local/lib/python3.10/dist-packages/keras/src/engine/training.py:3000: UserWarning: You are saving your model as an HDF5 file via `model.save()`. This file format is considered legacy. We recommend using instead the native Keras format, e.g. `model.save('my_model.keras')`.\n",
            "  saving_api.save_model(\n"
          ]
        },
        {
          "output_type": "stream",
          "name": "stdout",
          "text": [
            "24/24 [==============================] - 0s 3ms/step\n",
            "Running Fold 3...\n",
            "Training Neural Network...\n"
          ]
        },
        {
          "output_type": "stream",
          "name": "stderr",
          "text": [
            "/usr/local/lib/python3.10/dist-packages/keras/src/engine/training.py:3000: UserWarning: You are saving your model as an HDF5 file via `model.save()`. This file format is considered legacy. We recommend using instead the native Keras format, e.g. `model.save('my_model.keras')`.\n",
            "  saving_api.save_model(\n"
          ]
        },
        {
          "output_type": "stream",
          "name": "stdout",
          "text": [
            "24/24 [==============================] - 0s 2ms/step\n",
            "Running Fold 4...\n",
            "Training Neural Network...\n"
          ]
        },
        {
          "output_type": "stream",
          "name": "stderr",
          "text": [
            "/usr/local/lib/python3.10/dist-packages/keras/src/engine/training.py:3000: UserWarning: You are saving your model as an HDF5 file via `model.save()`. This file format is considered legacy. We recommend using instead the native Keras format, e.g. `model.save('my_model.keras')`.\n",
            "  saving_api.save_model(\n"
          ]
        },
        {
          "output_type": "stream",
          "name": "stdout",
          "text": [
            "24/24 [==============================] - 0s 2ms/step\n",
            "Running Fold 5...\n",
            "Training Neural Network...\n"
          ]
        },
        {
          "output_type": "stream",
          "name": "stderr",
          "text": [
            "/usr/local/lib/python3.10/dist-packages/keras/src/engine/training.py:3000: UserWarning: You are saving your model as an HDF5 file via `model.save()`. This file format is considered legacy. We recommend using instead the native Keras format, e.g. `model.save('my_model.keras')`.\n",
            "  saving_api.save_model(\n"
          ]
        },
        {
          "output_type": "stream",
          "name": "stdout",
          "text": [
            "24/24 [==============================] - 0s 2ms/step\n",
            "Processing stop_sequence 16 for weekday...\n",
            "Running Fold 1...\n",
            "Training Neural Network...\n"
          ]
        },
        {
          "output_type": "stream",
          "name": "stderr",
          "text": [
            "/usr/local/lib/python3.10/dist-packages/keras/src/engine/training.py:3000: UserWarning: You are saving your model as an HDF5 file via `model.save()`. This file format is considered legacy. We recommend using instead the native Keras format, e.g. `model.save('my_model.keras')`.\n",
            "  saving_api.save_model(\n"
          ]
        },
        {
          "output_type": "stream",
          "name": "stdout",
          "text": [
            "78/78 [==============================] - 0s 1ms/step\n",
            "Running Fold 2...\n",
            "Training Neural Network...\n"
          ]
        },
        {
          "output_type": "stream",
          "name": "stderr",
          "text": [
            "/usr/local/lib/python3.10/dist-packages/keras/src/engine/training.py:3000: UserWarning: You are saving your model as an HDF5 file via `model.save()`. This file format is considered legacy. We recommend using instead the native Keras format, e.g. `model.save('my_model.keras')`.\n",
            "  saving_api.save_model(\n"
          ]
        },
        {
          "output_type": "stream",
          "name": "stdout",
          "text": [
            "78/78 [==============================] - 0s 2ms/step\n",
            "Running Fold 3...\n",
            "Training Neural Network...\n"
          ]
        },
        {
          "output_type": "stream",
          "name": "stderr",
          "text": [
            "/usr/local/lib/python3.10/dist-packages/keras/src/engine/training.py:3000: UserWarning: You are saving your model as an HDF5 file via `model.save()`. This file format is considered legacy. We recommend using instead the native Keras format, e.g. `model.save('my_model.keras')`.\n",
            "  saving_api.save_model(\n"
          ]
        },
        {
          "output_type": "stream",
          "name": "stdout",
          "text": [
            "78/78 [==============================] - 0s 2ms/step\n",
            "Running Fold 4...\n",
            "Training Neural Network...\n"
          ]
        },
        {
          "output_type": "stream",
          "name": "stderr",
          "text": [
            "/usr/local/lib/python3.10/dist-packages/keras/src/engine/training.py:3000: UserWarning: You are saving your model as an HDF5 file via `model.save()`. This file format is considered legacy. We recommend using instead the native Keras format, e.g. `model.save('my_model.keras')`.\n",
            "  saving_api.save_model(\n"
          ]
        },
        {
          "output_type": "stream",
          "name": "stdout",
          "text": [
            "78/78 [==============================] - 0s 2ms/step\n",
            "Running Fold 5...\n",
            "Training Neural Network...\n"
          ]
        },
        {
          "output_type": "stream",
          "name": "stderr",
          "text": [
            "/usr/local/lib/python3.10/dist-packages/keras/src/engine/training.py:3000: UserWarning: You are saving your model as an HDF5 file via `model.save()`. This file format is considered legacy. We recommend using instead the native Keras format, e.g. `model.save('my_model.keras')`.\n",
            "  saving_api.save_model(\n"
          ]
        },
        {
          "output_type": "stream",
          "name": "stdout",
          "text": [
            "78/78 [==============================] - 0s 2ms/step\n",
            "Processing stop_sequence 16 for weekend...\n",
            "Running Fold 1...\n",
            "Training Neural Network...\n"
          ]
        },
        {
          "output_type": "stream",
          "name": "stderr",
          "text": [
            "/usr/local/lib/python3.10/dist-packages/keras/src/engine/training.py:3000: UserWarning: You are saving your model as an HDF5 file via `model.save()`. This file format is considered legacy. We recommend using instead the native Keras format, e.g. `model.save('my_model.keras')`.\n",
            "  saving_api.save_model(\n"
          ]
        },
        {
          "output_type": "stream",
          "name": "stdout",
          "text": [
            "24/24 [==============================] - 0s 2ms/step\n",
            "Running Fold 2...\n",
            "Training Neural Network...\n"
          ]
        },
        {
          "output_type": "stream",
          "name": "stderr",
          "text": [
            "/usr/local/lib/python3.10/dist-packages/keras/src/engine/training.py:3000: UserWarning: You are saving your model as an HDF5 file via `model.save()`. This file format is considered legacy. We recommend using instead the native Keras format, e.g. `model.save('my_model.keras')`.\n",
            "  saving_api.save_model(\n"
          ]
        },
        {
          "output_type": "stream",
          "name": "stdout",
          "text": [
            "24/24 [==============================] - 0s 2ms/step\n",
            "Running Fold 3...\n",
            "Training Neural Network...\n"
          ]
        },
        {
          "output_type": "stream",
          "name": "stderr",
          "text": [
            "/usr/local/lib/python3.10/dist-packages/keras/src/engine/training.py:3000: UserWarning: You are saving your model as an HDF5 file via `model.save()`. This file format is considered legacy. We recommend using instead the native Keras format, e.g. `model.save('my_model.keras')`.\n",
            "  saving_api.save_model(\n"
          ]
        },
        {
          "output_type": "stream",
          "name": "stdout",
          "text": [
            "24/24 [==============================] - 0s 2ms/step\n",
            "Running Fold 4...\n",
            "Training Neural Network...\n"
          ]
        },
        {
          "output_type": "stream",
          "name": "stderr",
          "text": [
            "/usr/local/lib/python3.10/dist-packages/keras/src/engine/training.py:3000: UserWarning: You are saving your model as an HDF5 file via `model.save()`. This file format is considered legacy. We recommend using instead the native Keras format, e.g. `model.save('my_model.keras')`.\n",
            "  saving_api.save_model(\n"
          ]
        },
        {
          "output_type": "stream",
          "name": "stdout",
          "text": [
            "24/24 [==============================] - 0s 1ms/step\n",
            "Running Fold 5...\n",
            "Training Neural Network...\n"
          ]
        },
        {
          "output_type": "stream",
          "name": "stderr",
          "text": [
            "/usr/local/lib/python3.10/dist-packages/keras/src/engine/training.py:3000: UserWarning: You are saving your model as an HDF5 file via `model.save()`. This file format is considered legacy. We recommend using instead the native Keras format, e.g. `model.save('my_model.keras')`.\n",
            "  saving_api.save_model(\n"
          ]
        },
        {
          "output_type": "stream",
          "name": "stdout",
          "text": [
            "24/24 [==============================] - 0s 2ms/step\n",
            "Processing stop_sequence 20 for weekday...\n",
            "Running Fold 1...\n",
            "Training Neural Network...\n"
          ]
        },
        {
          "output_type": "stream",
          "name": "stderr",
          "text": [
            "/usr/local/lib/python3.10/dist-packages/keras/src/engine/training.py:3000: UserWarning: You are saving your model as an HDF5 file via `model.save()`. This file format is considered legacy. We recommend using instead the native Keras format, e.g. `model.save('my_model.keras')`.\n",
            "  saving_api.save_model(\n"
          ]
        },
        {
          "output_type": "stream",
          "name": "stdout",
          "text": [
            "77/77 [==============================] - 0s 1ms/step\n",
            "Running Fold 2...\n",
            "Training Neural Network...\n"
          ]
        },
        {
          "output_type": "stream",
          "name": "stderr",
          "text": [
            "/usr/local/lib/python3.10/dist-packages/keras/src/engine/training.py:3000: UserWarning: You are saving your model as an HDF5 file via `model.save()`. This file format is considered legacy. We recommend using instead the native Keras format, e.g. `model.save('my_model.keras')`.\n",
            "  saving_api.save_model(\n"
          ]
        },
        {
          "output_type": "stream",
          "name": "stdout",
          "text": [
            "77/77 [==============================] - 0s 1ms/step\n",
            "Running Fold 3...\n",
            "Training Neural Network...\n"
          ]
        },
        {
          "output_type": "stream",
          "name": "stderr",
          "text": [
            "/usr/local/lib/python3.10/dist-packages/keras/src/engine/training.py:3000: UserWarning: You are saving your model as an HDF5 file via `model.save()`. This file format is considered legacy. We recommend using instead the native Keras format, e.g. `model.save('my_model.keras')`.\n",
            "  saving_api.save_model(\n"
          ]
        },
        {
          "output_type": "stream",
          "name": "stdout",
          "text": [
            "77/77 [==============================] - 0s 3ms/step\n",
            "Running Fold 4...\n",
            "Training Neural Network...\n"
          ]
        },
        {
          "output_type": "stream",
          "name": "stderr",
          "text": [
            "/usr/local/lib/python3.10/dist-packages/keras/src/engine/training.py:3000: UserWarning: You are saving your model as an HDF5 file via `model.save()`. This file format is considered legacy. We recommend using instead the native Keras format, e.g. `model.save('my_model.keras')`.\n",
            "  saving_api.save_model(\n"
          ]
        },
        {
          "output_type": "stream",
          "name": "stdout",
          "text": [
            "77/77 [==============================] - 0s 2ms/step\n",
            "Running Fold 5...\n"
          ]
        },
        {
          "output_type": "stream",
          "name": "stderr",
          "text": [
            "/usr/local/lib/python3.10/dist-packages/keras/src/engine/training.py:3000: UserWarning: You are saving your model as an HDF5 file via `model.save()`. This file format is considered legacy. We recommend using instead the native Keras format, e.g. `model.save('my_model.keras')`.\n",
            "  saving_api.save_model(\n"
          ]
        },
        {
          "output_type": "stream",
          "name": "stdout",
          "text": [
            "Training Neural Network...\n",
            "77/77 [==============================] - 0s 2ms/step\n",
            "Processing stop_sequence 20 for weekend...\n",
            "Running Fold 1...\n",
            "Training Neural Network...\n"
          ]
        },
        {
          "output_type": "stream",
          "name": "stderr",
          "text": [
            "/usr/local/lib/python3.10/dist-packages/keras/src/engine/training.py:3000: UserWarning: You are saving your model as an HDF5 file via `model.save()`. This file format is considered legacy. We recommend using instead the native Keras format, e.g. `model.save('my_model.keras')`.\n",
            "  saving_api.save_model(\n"
          ]
        },
        {
          "output_type": "stream",
          "name": "stdout",
          "text": [
            "24/24 [==============================] - 0s 2ms/step\n",
            "Running Fold 2...\n",
            "Training Neural Network...\n"
          ]
        },
        {
          "output_type": "stream",
          "name": "stderr",
          "text": [
            "/usr/local/lib/python3.10/dist-packages/keras/src/engine/training.py:3000: UserWarning: You are saving your model as an HDF5 file via `model.save()`. This file format is considered legacy. We recommend using instead the native Keras format, e.g. `model.save('my_model.keras')`.\n",
            "  saving_api.save_model(\n"
          ]
        },
        {
          "output_type": "stream",
          "name": "stdout",
          "text": [
            "24/24 [==============================] - 0s 1ms/step\n",
            "Running Fold 3...\n",
            "Training Neural Network...\n"
          ]
        },
        {
          "output_type": "stream",
          "name": "stderr",
          "text": [
            "/usr/local/lib/python3.10/dist-packages/keras/src/engine/training.py:3000: UserWarning: You are saving your model as an HDF5 file via `model.save()`. This file format is considered legacy. We recommend using instead the native Keras format, e.g. `model.save('my_model.keras')`.\n",
            "  saving_api.save_model(\n"
          ]
        },
        {
          "output_type": "stream",
          "name": "stdout",
          "text": [
            "24/24 [==============================] - 0s 1ms/step\n",
            "Running Fold 4...\n",
            "Training Neural Network...\n"
          ]
        },
        {
          "output_type": "stream",
          "name": "stderr",
          "text": [
            "/usr/local/lib/python3.10/dist-packages/keras/src/engine/training.py:3000: UserWarning: You are saving your model as an HDF5 file via `model.save()`. This file format is considered legacy. We recommend using instead the native Keras format, e.g. `model.save('my_model.keras')`.\n",
            "  saving_api.save_model(\n"
          ]
        },
        {
          "output_type": "stream",
          "name": "stdout",
          "text": [
            "24/24 [==============================] - 0s 2ms/step\n",
            "Running Fold 5...\n",
            "Training Neural Network...\n"
          ]
        },
        {
          "output_type": "stream",
          "name": "stderr",
          "text": [
            "/usr/local/lib/python3.10/dist-packages/keras/src/engine/training.py:3000: UserWarning: You are saving your model as an HDF5 file via `model.save()`. This file format is considered legacy. We recommend using instead the native Keras format, e.g. `model.save('my_model.keras')`.\n",
            "  saving_api.save_model(\n"
          ]
        },
        {
          "output_type": "stream",
          "name": "stdout",
          "text": [
            "24/24 [==============================] - 0s 2ms/step\n",
            "Processing stop_sequence 21 for weekday...\n",
            "Running Fold 1...\n",
            "Training Neural Network...\n"
          ]
        },
        {
          "output_type": "stream",
          "name": "stderr",
          "text": [
            "/usr/local/lib/python3.10/dist-packages/keras/src/engine/training.py:3000: UserWarning: You are saving your model as an HDF5 file via `model.save()`. This file format is considered legacy. We recommend using instead the native Keras format, e.g. `model.save('my_model.keras')`.\n",
            "  saving_api.save_model(\n"
          ]
        },
        {
          "output_type": "stream",
          "name": "stdout",
          "text": [
            "78/78 [==============================] - 0s 2ms/step\n",
            "Running Fold 2...\n",
            "Training Neural Network...\n"
          ]
        },
        {
          "output_type": "stream",
          "name": "stderr",
          "text": [
            "/usr/local/lib/python3.10/dist-packages/keras/src/engine/training.py:3000: UserWarning: You are saving your model as an HDF5 file via `model.save()`. This file format is considered legacy. We recommend using instead the native Keras format, e.g. `model.save('my_model.keras')`.\n",
            "  saving_api.save_model(\n"
          ]
        },
        {
          "output_type": "stream",
          "name": "stdout",
          "text": [
            "78/78 [==============================] - 0s 1ms/step\n"
          ]
        },
        {
          "output_type": "stream",
          "name": "stderr",
          "text": [
            "/usr/local/lib/python3.10/dist-packages/keras/src/engine/training.py:3000: UserWarning: You are saving your model as an HDF5 file via `model.save()`. This file format is considered legacy. We recommend using instead the native Keras format, e.g. `model.save('my_model.keras')`.\n",
            "  saving_api.save_model(\n"
          ]
        },
        {
          "output_type": "stream",
          "name": "stdout",
          "text": [
            "Running Fold 3...\n",
            "Training Neural Network...\n",
            "78/78 [==============================] - 0s 2ms/step\n",
            "Running Fold 4...\n",
            "Training Neural Network...\n"
          ]
        },
        {
          "output_type": "stream",
          "name": "stderr",
          "text": [
            "/usr/local/lib/python3.10/dist-packages/keras/src/engine/training.py:3000: UserWarning: You are saving your model as an HDF5 file via `model.save()`. This file format is considered legacy. We recommend using instead the native Keras format, e.g. `model.save('my_model.keras')`.\n",
            "  saving_api.save_model(\n"
          ]
        }
      ],
      "source": [
        "def select_best_model(df):\n",
        "    lr_results = train_evaluate_lr_model(df)\n",
        "    nn_results = train_evaluate_nn_model(df)\n",
        "\n",
        "    best_model_results = pd.DataFrame(columns=['stop_sequence', 'day_type', 'best_model'])\n",
        "\n",
        "    for stop_seq in df['stop_sequence'].unique():\n",
        "        for day_type in ['weekday', 'weekend']:\n",
        "            lr_mae = lr_results[(lr_results['stop_sequence'] == stop_seq) & (lr_results['day_type'] == day_type)]['MAE'].values[0]\n",
        "            nn_mae = nn_results[(nn_results['stop_sequence'] == stop_seq) & (nn_results['day_type'] == day_type)]['MAE'].values[0]\n",
        "\n",
        "            if lr_mae < nn_mae:\n",
        "                best_model = 'LR'\n",
        "            else:\n",
        "                best_model = 'NN'\n",
        "\n",
        "            best_model_results = pd.concat([best_model_results, pd.DataFrame({'stop_sequence': [stop_seq], 'day_type': [day_type], 'best_model': [best_model]})], ignore_index=True)\n",
        "\n",
        "    return best_model_results\n",
        "best_models=select_best_model(df)"
      ]
    },
    {
      "cell_type": "code",
      "execution_count": null,
      "id": "2bf8679f",
      "metadata": {
        "colab": {
          "base_uri": "https://localhost:8080/"
        },
        "id": "2bf8679f",
        "outputId": "67c8e2f7-756d-412d-bbba-e4be51bff170"
      },
      "outputs": [
        {
          "output_type": "stream",
          "name": "stdout",
          "text": [
            "   stop_sequence day_type best_model\n",
            "0              1  weekday         NN\n",
            "1              1  weekend         LR\n",
            "2              5  weekday         LR\n",
            "3              5  weekend         LR\n",
            "4              8  weekday         NN\n",
            "5              8  weekend         LR\n",
            "6             12  weekday         LR\n",
            "7             12  weekend         LR\n",
            "8             14  weekday         LR\n",
            "9             14  weekend         LR\n",
            "10            16  weekday         LR\n",
            "11            16  weekend         LR\n",
            "12            20  weekday         NN\n",
            "13            20  weekend         LR\n",
            "14            21  weekday         LR\n",
            "15            21  weekend         LR\n",
            "16            23  weekday         LR\n",
            "17            23  weekend         LR\n"
          ]
        }
      ],
      "source": [
        "print(best_models)"
      ]
    },
    {
      "cell_type": "code",
      "execution_count": null,
      "id": "2ed3f2db",
      "metadata": {
        "colab": {
          "base_uri": "https://localhost:8080/"
        },
        "id": "2ed3f2db",
        "outputId": "ff8ca099-e77b-4977-98a1-f7c06a1e11aa"
      },
      "outputs": [
        {
          "output_type": "stream",
          "name": "stdout",
          "text": [
            "484/484 [==============================] - 1s 3ms/step\n"
          ]
        },
        {
          "output_type": "stream",
          "name": "stderr",
          "text": [
            "<ipython-input-38-e601076606f0>:30: SettingWithCopyWarning: \n",
            "A value is trying to be set on a copy of a slice from a DataFrame.\n",
            "Try using .loc[row_indexer,col_indexer] = value instead\n",
            "\n",
            "See the caveats in the documentation: https://pandas.pydata.org/pandas-docs/stable/user_guide/indexing.html#returning-a-view-versus-a-copy\n",
            "  df_subset['predicted_delay'] = model.predict(X_normalized).flatten()\n",
            "<ipython-input-38-e601076606f0>:16: SettingWithCopyWarning: \n",
            "A value is trying to be set on a copy of a slice from a DataFrame.\n",
            "Try using .loc[row_indexer,col_indexer] = value instead\n",
            "\n",
            "See the caveats in the documentation: https://pandas.pydata.org/pandas-docs/stable/user_guide/indexing.html#returning-a-view-versus-a-copy\n",
            "  df_subset['predicted_delay'] = model.predict(X)\n",
            "<ipython-input-38-e601076606f0>:16: SettingWithCopyWarning: \n",
            "A value is trying to be set on a copy of a slice from a DataFrame.\n",
            "Try using .loc[row_indexer,col_indexer] = value instead\n",
            "\n",
            "See the caveats in the documentation: https://pandas.pydata.org/pandas-docs/stable/user_guide/indexing.html#returning-a-view-versus-a-copy\n",
            "  df_subset['predicted_delay'] = model.predict(X)\n",
            "<ipython-input-38-e601076606f0>:16: SettingWithCopyWarning: \n",
            "A value is trying to be set on a copy of a slice from a DataFrame.\n",
            "Try using .loc[row_indexer,col_indexer] = value instead\n",
            "\n",
            "See the caveats in the documentation: https://pandas.pydata.org/pandas-docs/stable/user_guide/indexing.html#returning-a-view-versus-a-copy\n",
            "  df_subset['predicted_delay'] = model.predict(X)\n"
          ]
        },
        {
          "output_type": "stream",
          "name": "stdout",
          "text": [
            "484/484 [==============================] - 1s 2ms/step\n"
          ]
        },
        {
          "output_type": "stream",
          "name": "stderr",
          "text": [
            "<ipython-input-38-e601076606f0>:30: SettingWithCopyWarning: \n",
            "A value is trying to be set on a copy of a slice from a DataFrame.\n",
            "Try using .loc[row_indexer,col_indexer] = value instead\n",
            "\n",
            "See the caveats in the documentation: https://pandas.pydata.org/pandas-docs/stable/user_guide/indexing.html#returning-a-view-versus-a-copy\n",
            "  df_subset['predicted_delay'] = model.predict(X_normalized).flatten()\n",
            "<ipython-input-38-e601076606f0>:16: SettingWithCopyWarning: \n",
            "A value is trying to be set on a copy of a slice from a DataFrame.\n",
            "Try using .loc[row_indexer,col_indexer] = value instead\n",
            "\n",
            "See the caveats in the documentation: https://pandas.pydata.org/pandas-docs/stable/user_guide/indexing.html#returning-a-view-versus-a-copy\n",
            "  df_subset['predicted_delay'] = model.predict(X)\n",
            "<ipython-input-38-e601076606f0>:16: SettingWithCopyWarning: \n",
            "A value is trying to be set on a copy of a slice from a DataFrame.\n",
            "Try using .loc[row_indexer,col_indexer] = value instead\n",
            "\n",
            "See the caveats in the documentation: https://pandas.pydata.org/pandas-docs/stable/user_guide/indexing.html#returning-a-view-versus-a-copy\n",
            "  df_subset['predicted_delay'] = model.predict(X)\n",
            "<ipython-input-38-e601076606f0>:16: SettingWithCopyWarning: \n",
            "A value is trying to be set on a copy of a slice from a DataFrame.\n",
            "Try using .loc[row_indexer,col_indexer] = value instead\n",
            "\n",
            "See the caveats in the documentation: https://pandas.pydata.org/pandas-docs/stable/user_guide/indexing.html#returning-a-view-versus-a-copy\n",
            "  df_subset['predicted_delay'] = model.predict(X)\n",
            "<ipython-input-38-e601076606f0>:16: SettingWithCopyWarning: \n",
            "A value is trying to be set on a copy of a slice from a DataFrame.\n",
            "Try using .loc[row_indexer,col_indexer] = value instead\n",
            "\n",
            "See the caveats in the documentation: https://pandas.pydata.org/pandas-docs/stable/user_guide/indexing.html#returning-a-view-versus-a-copy\n",
            "  df_subset['predicted_delay'] = model.predict(X)\n",
            "<ipython-input-38-e601076606f0>:16: SettingWithCopyWarning: \n",
            "A value is trying to be set on a copy of a slice from a DataFrame.\n",
            "Try using .loc[row_indexer,col_indexer] = value instead\n",
            "\n",
            "See the caveats in the documentation: https://pandas.pydata.org/pandas-docs/stable/user_guide/indexing.html#returning-a-view-versus-a-copy\n",
            "  df_subset['predicted_delay'] = model.predict(X)\n",
            "<ipython-input-38-e601076606f0>:16: SettingWithCopyWarning: \n",
            "A value is trying to be set on a copy of a slice from a DataFrame.\n",
            "Try using .loc[row_indexer,col_indexer] = value instead\n",
            "\n",
            "See the caveats in the documentation: https://pandas.pydata.org/pandas-docs/stable/user_guide/indexing.html#returning-a-view-versus-a-copy\n",
            "  df_subset['predicted_delay'] = model.predict(X)\n",
            "<ipython-input-38-e601076606f0>:16: SettingWithCopyWarning: \n",
            "A value is trying to be set on a copy of a slice from a DataFrame.\n",
            "Try using .loc[row_indexer,col_indexer] = value instead\n",
            "\n",
            "See the caveats in the documentation: https://pandas.pydata.org/pandas-docs/stable/user_guide/indexing.html#returning-a-view-versus-a-copy\n",
            "  df_subset['predicted_delay'] = model.predict(X)\n"
          ]
        },
        {
          "output_type": "stream",
          "name": "stdout",
          "text": [
            "484/484 [==============================] - 1s 2ms/step\n"
          ]
        },
        {
          "output_type": "stream",
          "name": "stderr",
          "text": [
            "<ipython-input-38-e601076606f0>:30: SettingWithCopyWarning: \n",
            "A value is trying to be set on a copy of a slice from a DataFrame.\n",
            "Try using .loc[row_indexer,col_indexer] = value instead\n",
            "\n",
            "See the caveats in the documentation: https://pandas.pydata.org/pandas-docs/stable/user_guide/indexing.html#returning-a-view-versus-a-copy\n",
            "  df_subset['predicted_delay'] = model.predict(X_normalized).flatten()\n",
            "<ipython-input-38-e601076606f0>:16: SettingWithCopyWarning: \n",
            "A value is trying to be set on a copy of a slice from a DataFrame.\n",
            "Try using .loc[row_indexer,col_indexer] = value instead\n",
            "\n",
            "See the caveats in the documentation: https://pandas.pydata.org/pandas-docs/stable/user_guide/indexing.html#returning-a-view-versus-a-copy\n",
            "  df_subset['predicted_delay'] = model.predict(X)\n",
            "<ipython-input-38-e601076606f0>:16: SettingWithCopyWarning: \n",
            "A value is trying to be set on a copy of a slice from a DataFrame.\n",
            "Try using .loc[row_indexer,col_indexer] = value instead\n",
            "\n",
            "See the caveats in the documentation: https://pandas.pydata.org/pandas-docs/stable/user_guide/indexing.html#returning-a-view-versus-a-copy\n",
            "  df_subset['predicted_delay'] = model.predict(X)\n",
            "<ipython-input-38-e601076606f0>:16: SettingWithCopyWarning: \n",
            "A value is trying to be set on a copy of a slice from a DataFrame.\n",
            "Try using .loc[row_indexer,col_indexer] = value instead\n",
            "\n",
            "See the caveats in the documentation: https://pandas.pydata.org/pandas-docs/stable/user_guide/indexing.html#returning-a-view-versus-a-copy\n",
            "  df_subset['predicted_delay'] = model.predict(X)\n"
          ]
        },
        {
          "output_type": "stream",
          "name": "stdout",
          "text": [
            "        Calendar_date  route_id  bus_id  stop_sequence  arrival_delay  \\\n",
            "3186         20220110         4   44410              1             49   \n",
            "3213         20220110         4   41370              1             65   \n",
            "3240         20220110         4   41353              1             23   \n",
            "3267         20220110         4   44413              1             72   \n",
            "3294         20220110         4   45544              1            182   \n",
            "...               ...       ...     ...            ...            ...   \n",
            "540643       20220626         4   44418             23            237   \n",
            "540670       20220626         4   44064             23            105   \n",
            "540697       20220626         4   44059             23             20   \n",
            "540724       20220626         4   41359             23            123   \n",
            "540751       20220626         4   41345             23            164   \n",
            "\n",
            "        dwell_time  travel_time_for_previous_section  scheduled_travel_time  \\\n",
            "3186             0                                 0                    120   \n",
            "3213             0                                 0                    120   \n",
            "3240             0                                 0                    120   \n",
            "3267             0                                 0                    120   \n",
            "3294             0                                 0                    120   \n",
            "...            ...                               ...                    ...   \n",
            "540643          19                                47                     50   \n",
            "540670          11                                35                     44   \n",
            "540697           0                                50                     44   \n",
            "540724           0                                51                     44   \n",
            "540751           0                                45                     44   \n",
            "\n",
            "        upstream_stop_delay  origin_delay  ...  factor(weather)Snow  \\\n",
            "3186                      8             8  ...                    0   \n",
            "3213                     47            47  ...                    0   \n",
            "3240                     19            19  ...                    0   \n",
            "3267                     39            39  ...                    0   \n",
            "3294                    144           144  ...                    0   \n",
            "...                     ...           ...  ...                  ...   \n",
            "540643                  221           181  ...                    0   \n",
            "540670                  101            17  ...                    0   \n",
            "540697                   24            17  ...                    0   \n",
            "540724                  136            39  ...                    0   \n",
            "540751                  173            31  ...                    0   \n",
            "\n",
            "        factor(temperature)Cold  factor(temperature)Extra_cold  \\\n",
            "3186                          1                              0   \n",
            "3213                          1                              0   \n",
            "3240                          1                              0   \n",
            "3267                          1                              0   \n",
            "3294                          1                              0   \n",
            "...                         ...                            ...   \n",
            "540643                        0                              0   \n",
            "540670                        0                              0   \n",
            "540697                        0                              0   \n",
            "540724                        0                              0   \n",
            "540751                        0                              0   \n",
            "\n",
            "        factor(temperature)Normal factor(day_of_week)weekday  \\\n",
            "3186                            0                          1   \n",
            "3213                            0                          1   \n",
            "3240                            0                          1   \n",
            "3267                            0                          1   \n",
            "3294                            0                          1   \n",
            "...                           ...                        ...   \n",
            "540643                          1                          0   \n",
            "540670                          1                          0   \n",
            "540697                          1                          0   \n",
            "540724                          1                          0   \n",
            "540751                          1                          0   \n",
            "\n",
            "       factor(day_of_week)weekend factor(time_of_day)Afternoon_peak  \\\n",
            "3186                            0                                 0   \n",
            "3213                            0                                 0   \n",
            "3240                            0                                 0   \n",
            "3267                            0                                 0   \n",
            "3294                            0                                 0   \n",
            "...                           ...                               ...   \n",
            "540643                          1                                 0   \n",
            "540670                          1                                 0   \n",
            "540697                          1                                 0   \n",
            "540724                          1                                 0   \n",
            "540751                          1                                 0   \n",
            "\n",
            "       factor(time_of_day)Morning_peak  factor(time_of_day)Off-peak  \\\n",
            "3186                                 1                            0   \n",
            "3213                                 1                            0   \n",
            "3240                                 1                            0   \n",
            "3267                                 1                            0   \n",
            "3294                                 1                            0   \n",
            "...                                ...                          ...   \n",
            "540643                               0                            1   \n",
            "540670                               0                            1   \n",
            "540697                               0                            1   \n",
            "540724                               0                            1   \n",
            "540751                               0                            1   \n",
            "\n",
            "        predicted_delay  \n",
            "3186          61.748722  \n",
            "3213         100.214844  \n",
            "3240          74.314072  \n",
            "3267          92.850632  \n",
            "3294         188.958694  \n",
            "...                 ...  \n",
            "540643       225.523336  \n",
            "540670       101.564987  \n",
            "540697        12.139086  \n",
            "540724       124.407665  \n",
            "540751       161.046872  \n",
            "\n",
            "[181626 rows x 32 columns]\n"
          ]
        },
        {
          "output_type": "stream",
          "name": "stderr",
          "text": [
            "<ipython-input-38-e601076606f0>:16: SettingWithCopyWarning: \n",
            "A value is trying to be set on a copy of a slice from a DataFrame.\n",
            "Try using .loc[row_indexer,col_indexer] = value instead\n",
            "\n",
            "See the caveats in the documentation: https://pandas.pydata.org/pandas-docs/stable/user_guide/indexing.html#returning-a-view-versus-a-copy\n",
            "  df_subset['predicted_delay'] = model.predict(X)\n",
            "<ipython-input-38-e601076606f0>:16: SettingWithCopyWarning: \n",
            "A value is trying to be set on a copy of a slice from a DataFrame.\n",
            "Try using .loc[row_indexer,col_indexer] = value instead\n",
            "\n",
            "See the caveats in the documentation: https://pandas.pydata.org/pandas-docs/stable/user_guide/indexing.html#returning-a-view-versus-a-copy\n",
            "  df_subset['predicted_delay'] = model.predict(X)\n"
          ]
        }
      ],
      "source": [
        "def predict_with_best_models(df, best_model_results):\n",
        "    all_groups = []\n",
        "\n",
        "    for _, row in best_model_results.iterrows():\n",
        "        stop_seq = row['stop_sequence']\n",
        "        day_type = row['day_type']\n",
        "        best_model = row['best_model']\n",
        "\n",
        "        if best_model == 'LR':\n",
        "            lr_model_path = os.path.join(\"lr_models\", f'lr_model_{stop_seq}_{day_type}.pkl')\n",
        "\n",
        "            if os.path.exists(lr_model_path):\n",
        "                model = joblib.load(lr_model_path)\n",
        "                X = df[(df['stop_sequence'] == stop_seq) & (df['day_of_week'] == day_type)].drop(columns=['arrival_delay', 'day_of_week', 'time_of_day', \"weather\", \"temperature\"], errors='ignore')\n",
        "                df_subset = df[(df['stop_sequence'] == stop_seq) & (df['day_of_week'] == day_type)]\n",
        "                df_subset['predicted_delay'] = model.predict(X)\n",
        "            else:\n",
        "                raise ValueError(f\"No saved LR model found for stop_sequence: {stop_seq} and day_type: {day_type}\")\n",
        "\n",
        "        else:\n",
        "            nn_model_path = os.path.join(\"nn_models\", f'nn_model_{stop_seq}_{day_type}.h5')\n",
        "            scaler_path = os.path.join(\"nn_scalers\", f'scaler_{stop_seq}_{day_type}.pkl')\n",
        "\n",
        "            if os.path.exists(nn_model_path):\n",
        "                model = load_model(nn_model_path)\n",
        "                scaler = joblib.load(scaler_path)\n",
        "                X = df[(df['stop_sequence'] == stop_seq) & (df['day_of_week'] == day_type)].drop(columns=['arrival_delay', 'day_of_week', 'time_of_day', \"weather\", \"temperature\"], errors='ignore').astype('float32')\n",
        "                X_normalized = scaler.transform(X)\n",
        "                df_subset = df[(df['stop_sequence'] == stop_seq) & (df['day_of_week'] == day_type)]\n",
        "                df_subset['predicted_delay'] = model.predict(X_normalized).flatten()\n",
        "            else:\n",
        "                raise ValueError(f\"No saved NN model found for stop_sequence: {stop_seq} and day_type: {day_type}\")\n",
        "\n",
        "        all_groups.append(df_subset)\n",
        "\n",
        "    result_df = pd.concat(all_groups)\n",
        "    return result_df\n",
        "\n",
        "\n",
        "predicted_df = predict_with_best_models(df, best_models)\n",
        "print(predicted_df)\n"
      ]
    },
    {
      "cell_type": "code",
      "execution_count": null,
      "id": "75507bdc",
      "metadata": {
        "colab": {
          "base_uri": "https://localhost:8080/"
        },
        "id": "75507bdc",
        "outputId": "d4f0bece-9a92-4a65-8adf-3ba66b5637fc"
      },
      "outputs": [
        {
          "output_type": "stream",
          "name": "stdout",
          "text": [
            "R^2: 0.9875341249308541\n",
            "MAE: 14.301670305048733\n"
          ]
        }
      ],
      "source": [
        "predicted_df.head()\n",
        "\n",
        "# Extracting the actual and predicted values from the DataFrame\n",
        "actual_values = predicted_df[\"arrival_delay\"].values\n",
        "predicted_values = predicted_df[\"predicted_delay\"].values\n",
        "\n",
        "# Computing R^2\n",
        "r2 = r2_score(actual_values, predicted_values)\n",
        "\n",
        "# Computing MAE\n",
        "mae = mean_absolute_error(actual_values, predicted_values)\n",
        "\n",
        "print(f\"R^2: {r2}\")\n",
        "print(f\"MAE: {mae}\")"
      ]
    },
    {
      "cell_type": "code",
      "execution_count": null,
      "id": "a3ea3120",
      "metadata": {
        "colab": {
          "base_uri": "https://localhost:8080/",
          "height": 619
        },
        "id": "a3ea3120",
        "outputId": "ff86ab7c-207e-4a23-f659-a8b5a10e320d"
      },
      "outputs": [
        {
          "output_type": "display_data",
          "data": {
            "text/plain": [
              "<Figure size 1500x900 with 1 Axes>"
            ],
            "image/png": "[encoded data removed]"
          },
          "metadata": {}
        }
      ],
      "source": [
        "import matplotlib.pyplot as plt\n",
        "\n",
        "# Values\n",
        "actual_values = predicted_df[\"arrival_delay\"].values\n",
        "predicted_values = predicted_df[\"predicted_delay\"].values\n",
        "stop_sequences = predicted_df[\"stop_sequence\"].values\n",
        "\n",
        "# Unique stop sequences and their corresponding colors using a colormap\n",
        "unique_sequences = np.unique(stop_sequences)\n",
        "colors = plt.cm.jet(np.linspace(0, 1, len(unique_sequences)))\n",
        "\n",
        "# Create a dictionary mapping each stop sequence to a color\n",
        "seq_to_color = dict(zip(unique_sequences, colors))\n",
        "\n",
        "# Extract corresponding colors for our data\n",
        "color_values = [seq_to_color[seq] for seq in stop_sequences]\n",
        "\n",
        "# Plotting\n",
        "plt.figure(figsize=(15, 9))\n",
        "scatter = plt.scatter(actual_values, predicted_values, c=color_values, alpha=0.2)\n",
        "plt.xlabel('Actual Delays')\n",
        "plt.ylabel('Predicted Delays')\n",
        "plt.title('Actual vs Predicted Delays based on Stop Sequence')\n",
        "plt.grid(True, which='both', linestyle='--', linewidth=0.5)\n",
        "plt.tight_layout()\n",
        "\n",
        "# Creating a legend\n",
        "legend_labels = [plt.Line2D([0], [0], marker='o', color='w', markerfacecolor=seq_to_color[seq], markersize=10) for seq in unique_sequences]\n",
        "plt.legend(legend_labels, unique_sequences, title=\"Stop Sequence\")\n",
        "\n",
        "max_val = max(max(actual_values), max(predicted_values))\n",
        "min_val = min(min(actual_values), min(predicted_values))\n",
        "plt.plot([min_val, max_val], [min_val, max_val], 'r-')\n",
        "\n",
        "plt.show()\n"
      ]
    }
  ],
  "metadata": {
    "kernelspec": {
      "display_name": "Python 3 (ipykernel)",
      "language": "python",
      "name": "python3"
    },
    "language_info": {
      "codemirror_mode": {
        "name": "ipython",
        "version": 3
      },
      "file_extension": ".py",
      "mimetype": "text/x-python",
      "name": "python",
      "nbconvert_exporter": "python",
      "pygments_lexer": "ipython3",
      "version": "3.9.7"
    },
    "colab": {
      "provenance": []
    }
  },
  "nbformat": 4,
  "nbformat_minor": 5
}